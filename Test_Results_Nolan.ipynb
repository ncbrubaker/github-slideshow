{
  "nbformat": 4,
  "nbformat_minor": 0,
  "metadata": {
    "colab": {
      "name": "Test_Results_Nolan.ipynb",
      "provenance": [],
      "collapsed_sections": [],
      "authorship_tag": "ABX9TyPegnoPQbQQ9S+OQqQrY1zJ",
      "include_colab_link": true
    },
    "kernelspec": {
      "name": "python3",
      "display_name": "Python 3"
    },
    "language_info": {
      "name": "python"
    }
  },
  "cells": [
    {
      "cell_type": "markdown",
      "metadata": {
        "id": "view-in-github",
        "colab_type": "text"
      },
      "source": [
        "<a href=\"https://colab.research.google.com/github/ncbrubaker/github-slideshow/blob/master/Test_Results_Nolan.ipynb\" target=\"_parent\"><img src=\"https://colab.research.google.com/assets/colab-badge.svg\" alt=\"Open In Colab\"/></a>"
      ]
    },
    {
      "cell_type": "markdown",
      "source": [
        "# Right Column #"
      ],
      "metadata": {
        "id": "qUPLW5edjz4Y"
      }
    },
    {
      "cell_type": "markdown",
      "source": [
        "## Bombus affinis vs Bombus bifarius ##\n"
      ],
      "metadata": {
        "id": "k6muAPopocfA"
      }
    },
    {
      "cell_type": "markdown",
      "source": [
        "\n",
        "[[682  58]\n",
        "\n",
        " [165 575]]\n",
        " \n",
        " shape=(2, 2), dtype=int32)\n",
        "              \n",
        "              precision    recall  f1-score   support\n",
        "\n",
        "         0.0       0.81      0.92      0.86       740\n",
        "         1.0       0.91      0.78      0.84       740\n",
        "\n",
        "    accuracy                           0.85      1480\n",
        "\n",
        "   macro avg       0.86      0.85      0.85      1480\n",
        "   \n",
        "weighted avg       0.86      0.85      0.85      1480\n",
        "\n",
        "time_saved : 1643279043.3600538"
      ],
      "metadata": {
        "id": "GHKN1B5po1vD"
      }
    },
    {
      "cell_type": "markdown",
      "source": [
        "## Bombus affinis vs Bombus bimaculatus ##"
      ],
      "metadata": {
        "id": "_C5mcG1f-vK5"
      }
    },
    {
      "cell_type": "markdown",
      "source": [
        "[[228 512]\n",
        "\n",
        " [218 522]]\n",
        " \n",
        " shape=(2, 2), dtype=int32)\n",
        "              \n",
        "              precision    recall  f1-score   support\n",
        "\n",
        "         0.0       0.51      0.31      0.38       740\n",
        "         1.0       0.50      0.71      0.59       740\n",
        "\n",
        "    accuracy                           0.51      1480\n",
        "   macro avg       0.51      0.51      0.49      1480\n",
        "weighted avg       0.51      0.51      0.49      1480\n",
        "\n",
        "time_saved : 1643363688.8370047\n"
      ],
      "metadata": {
        "id": "_lpjuHgcdhU7"
      }
    },
    {
      "cell_type": "markdown",
      "source": [
        "## Bombus affinis vs Bombus borealis ##"
      ],
      "metadata": {
        "id": "ZyBbvfJJ_LRv"
      }
    },
    {
      "cell_type": "markdown",
      "source": [
        "[[636 104]\n",
        "\n",
        " [202 538]]\n",
        " \n",
        " shape=(2, 2), dtype=int32)\n",
        " \n",
        "              precision    recall  f1-score   support\n",
        "\n",
        "         0.0       0.76      0.86      0.81       740\n",
        "         1.0       0.84      0.73      0.78       740\n",
        "\n",
        "    accuracy                           0.79      1480\n",
        "   macro avg       0.80      0.79      0.79      1480\n",
        "weighted avg       0.80      0.79      0.79      1480\n",
        "\n",
        "time_saved : 1643454003.076377"
      ],
      "metadata": {
        "id": "_5aWFESRtTom"
      }
    },
    {
      "cell_type": "markdown",
      "source": [
        "## Bombus affinis vs Bombus citrinus ##"
      ],
      "metadata": {
        "id": "B1vhCIMp-7wW"
      }
    },
    {
      "cell_type": "markdown",
      "source": [
        "[[230 346]\n",
        "\n",
        " [179 397]]\n",
        " \n",
        " shape=(2, 2), dtype=int32)\n",
        " \n",
        "              precision    recall  f1-score   support\n",
        "\n",
        "         0.0       0.56      0.40      0.47       576\n",
        "         1.0       0.53      0.69      0.60       576\n",
        "\n",
        "    accuracy                           0.54      1152\n",
        "   macro avg       0.55      0.54      0.53      1152\n",
        "weighted avg       0.55      0.54      0.53      1152\n",
        "\n",
        "time_saved : 1643438637.679892"
      ],
      "metadata": {
        "id": "GrUJYYMRtIhn"
      }
    },
    {
      "cell_type": "markdown",
      "source": [
        "## Bombus affinis vs Bombus centralis ##"
      ],
      "metadata": {
        "id": "ccgW_Xls_eD0"
      }
    },
    {
      "cell_type": "markdown",
      "source": [
        "[[660  40]\n",
        "\n",
        " [159 541]]\n",
        " \n",
        " shape=(2, 2), dtype=int32)\n",
        "              \n",
        "              precision    recall  f1-score   support\n",
        "\n",
        "         0.0       0.81      0.94      0.87       700\n",
        "         1.0       0.93      0.77      0.84       700\n",
        "\n",
        "    accuracy                           0.86      1400\n",
        "   macro avg       0.87      0.86      0.86      1400\n",
        "weighted avg       0.87      0.86      0.86      1400\n",
        "\n",
        "time_saved : 1643395479.7903736\n"
      ],
      "metadata": {
        "id": "SaHON70Od5vh"
      }
    },
    {
      "cell_type": "markdown",
      "source": [
        "## Bombus affinis vs Bombus flavidus ##"
      ],
      "metadata": {
        "id": "nnLHauq9_z_A"
      }
    },
    {
      "cell_type": "markdown",
      "source": [
        "[[320  96]\n",
        "\n",
        " [129 287]]\n",
        " \n",
        " shape=(2, 2), dtype=int32)\n",
        " \n",
        "              precision    recall  f1-score   support\n",
        "\n",
        "         0.0       0.71      0.77      0.74       416\n",
        "         1.0       0.75      0.69      0.72       416\n",
        "\n",
        "    accuracy                           0.73       832\n",
        "   macro avg       0.73      0.73      0.73       832\n",
        "weighted avg       0.73      0.73      0.73       832\n",
        "\n",
        "time_saved : 1643412979.7458477"
      ],
      "metadata": {
        "id": "0wUB1bbzsOBw"
      }
    },
    {
      "cell_type": "markdown",
      "source": [
        "## Bombus affinis vs Bombus flavifrons ##"
      ],
      "metadata": {
        "id": "ScyIe2dvAXk0"
      }
    },
    {
      "cell_type": "markdown",
      "source": [
        "[[656  84]\n",
        "\n",
        " [227 513]]\n",
        " \n",
        " shape=(2, 2), dtype=int32)\n",
        " \n",
        "              precision    recall  f1-score   support\n",
        "\n",
        "         0.0       0.74      0.89      0.81       740\n",
        "         1.0       0.86      0.69      0.77       740\n",
        "\n",
        "    accuracy                           0.79      1480\n",
        "   macro avg       0.80      0.79      0.79      1480\n",
        "weighted avg       0.80      0.79      0.79      1480\n",
        "\n",
        "time_saved : 1643414136.7685068"
      ],
      "metadata": {
        "id": "cNvQp8F_sd0c"
      }
    },
    {
      "cell_type": "markdown",
      "source": [
        "## Bombus affinis vs Bombus californicus ##"
      ],
      "metadata": {
        "id": "FGtsy14gAb3k"
      }
    },
    {
      "cell_type": "markdown",
      "source": [
        "[[596 144]\n",
        "\n",
        " [295 445]]\n",
        " \n",
        " shape=(2, 2), dtype=int32)\n",
        " \n",
        "              precision    recall  f1-score   support\n",
        "\n",
        "         0.0       0.67      0.81      0.73       740\n",
        "         1.0       0.76      0.60      0.67       740\n",
        "\n",
        "    accuracy                           0.70      1480\n",
        "   macro avg       0.71      0.70      0.70      1480\n",
        "weighted avg       0.71      0.70      0.70      1480\n",
        "\n",
        "time_saved : 1643465463.099939"
      ],
      "metadata": {
        "id": "xyMm9KKOtuIF"
      }
    },
    {
      "cell_type": "markdown",
      "source": [
        "## Bombus affinis vs Bombus griseocollis ##"
      ],
      "metadata": {
        "id": "OWFi-JKe_4lt"
      }
    },
    {
      "cell_type": "markdown",
      "source": [
        "[[170 570]\n",
        "\n",
        " [179 561]]\n",
        " \n",
        " shape=(2, 2), dtype=int32)\n",
        " \n",
        "              precision    recall  f1-score   support\n",
        "\n",
        "         0.0       0.49      0.23      0.31       740\n",
        "         1.0       0.50      0.76      0.60       740\n",
        "\n",
        "    accuracy                           0.49      1480\n",
        "   macro avg       0.49      0.49      0.46      1480\n",
        "weighted avg       0.49      0.49      0.46      1480\n",
        "\n",
        "time_saved : 1643465576.4054132"
      ],
      "metadata": {
        "id": "ZMeO0cnHtwEM"
      }
    },
    {
      "cell_type": "markdown",
      "source": [
        "## Bombus affinis vs Bombus impatiens ##"
      ],
      "metadata": {
        "id": "qGBvvBtPAFsl"
      }
    },
    {
      "cell_type": "markdown",
      "source": [
        "[[156 584]\n",
        "\n",
        " [144 596]]\n",
        " \n",
        " shape=(2, 2), dtype=int32)\n",
        " \n",
        "              precision    recall  f1-score   support\n",
        "\n",
        "         0.0       0.52      0.21      0.30       740\n",
        "         1.0       0.51      0.81      0.62       740\n",
        "\n",
        "    accuracy                           0.51      1480\n",
        "   macro avg       0.51      0.51      0.46      1480\n",
        "weighted avg       0.51      0.51      0.46      1480\n",
        "\n",
        "time_saved : 1643424974.8233218"
      ],
      "metadata": {
        "id": "EXDt-Un2sq1q"
      }
    },
    {
      "cell_type": "markdown",
      "source": [
        "## Bombus affinis vs Bombus insularis ##"
      ],
      "metadata": {
        "id": "mvpDi8v-AK6h"
      }
    },
    {
      "cell_type": "markdown",
      "source": [
        "[[402  92]\n",
        "\n",
        " [217 277]]\n",
        " \n",
        " shape=(2, 2), dtype=int32)\n",
        " \n",
        "              precision    recall  f1-score   support\n",
        "\n",
        "         0.0       0.65      0.81      0.72       494\n",
        "         1.0       0.75      0.56      0.64       494\n",
        "\n",
        "    accuracy                           0.69       988\n",
        "   macro avg       0.70      0.69      0.68       988\n",
        "weighted avg       0.70      0.69      0.68       988\n",
        "\n",
        "time_saved : 1643438508.018142"
      ],
      "metadata": {
        "id": "kSzUrsy-s2zN"
      }
    },
    {
      "cell_type": "markdown",
      "source": [
        "## Bombus affinis vs Bombus melanopygus ##"
      ],
      "metadata": {
        "id": "DyAefxC1uULN"
      }
    },
    {
      "cell_type": "markdown",
      "source": [
        "[[664  76]\n",
        "\n",
        " [217 523]]\n",
        " \n",
        " shape=(2, 2), dtype=int32)\n",
        " \n",
        "              precision    recall  f1-score   support\n",
        "\n",
        "         0.0       0.75      0.90      0.82       740\n",
        "         1.0       0.87      0.71      0.78       740\n",
        "\n",
        "    accuracy                           0.80      1480\n",
        "   macro avg       0.81      0.80      0.80      1480\n",
        "weighted avg       0.81      0.80      0.80      1480\n",
        "\n",
        "time_saved : 1643521338.5460365"
      ],
      "metadata": {
        "id": "9bm3Idmj7qet"
      }
    },
    {
      "cell_type": "markdown",
      "source": [
        "## Bombus affinis vs Bombus mixtus ##"
      ],
      "metadata": {
        "id": "wjq8agfUuYjH"
      }
    },
    {
      "cell_type": "markdown",
      "source": [
        "[[688  52]\n",
        "\n",
        " [146 594]]\n",
        " \n",
        " shape=(2, 2), dtype=int32)\n",
        " \n",
        "              precision    recall  f1-score   support\n",
        "\n",
        "         0.0       0.82      0.93      0.87       740\n",
        "         1.0       0.92      0.80      0.86       740\n",
        "\n",
        "    accuracy                           0.87      1480\n",
        "   macro avg       0.87      0.87      0.87      1480\n",
        "weighted avg       0.87      0.87      0.87      1480\n",
        "\n",
        "time_saved : 1643526580.34485"
      ],
      "metadata": {
        "id": "Ji1QErzx7yg2"
      }
    },
    {
      "cell_type": "markdown",
      "source": [
        "## Bombus affinis vs Bombus nevadensis ##"
      ],
      "metadata": {
        "id": "pK_5DhETubWQ"
      }
    },
    {
      "cell_type": "markdown",
      "source": [
        "[[616 124]\n",
        "\n",
        " [164 576]]\n",
        " \n",
        " shape=(2, 2), dtype=int32)\n",
        " \n",
        "              precision    recall  f1-score   support\n",
        "\n",
        "         0.0       0.79      0.83      0.81       740\n",
        "         1.0       0.82      0.78      0.80       740\n",
        "\n",
        "    accuracy                           0.81      1480\n",
        "   macro avg       0.81      0.81      0.81      1480\n",
        "weighted avg       0.81      0.81      0.81      1480\n",
        "\n",
        "time_saved : 1643550113.8700035"
      ],
      "metadata": {
        "id": "Vcd4QoZw7-9Z"
      }
    },
    {
      "cell_type": "markdown",
      "source": [
        "## Bombus affinis vs Bombus pensylvanicus ##"
      ],
      "metadata": {
        "id": "rw52QuAQufXA"
      }
    },
    {
      "cell_type": "markdown",
      "source": [
        "[[640 100]\n",
        "\n",
        " [145 595]]\n",
        " \n",
        " shape=(2, 2), dtype=int32)\n",
        "\n",
        "              precision    recall  f1-score   support\n",
        "\n",
        "         0.0       0.82      0.86      0.84       740\n",
        "         1.0       0.86      0.80      0.83       740\n",
        "\n",
        "    accuracy                           0.83      1480\n",
        "   macro avg       0.84      0.83      0.83      1480\n",
        "weighted avg       0.84      0.83      0.83      1480\n",
        "\n",
        "time_saved : 1643786951.8440948"
      ],
      "metadata": {
        "id": "U1AS6uR7iP_H"
      }
    },
    {
      "cell_type": "markdown",
      "source": [
        "## Bombus affinis vs Bombus perplexus ##"
      ],
      "metadata": {
        "id": "K4IR_ksruovh"
      }
    },
    {
      "cell_type": "markdown",
      "source": [
        "[[228 512]\n",
        "\n",
        " [201 539]]\n",
        " \n",
        " shape=(2, 2), dtype=int32)\n",
        " \n",
        "              precision    recall  f1-score   support\n",
        "\n",
        "         0.0       0.53      0.31      0.39       740\n",
        "         1.0       0.51      0.73      0.60       740\n",
        "\n",
        "    accuracy                           0.52      1480\n",
        "   macro avg       0.52      0.52      0.50      1480\n",
        "weighted avg       0.52      0.52      0.50      1480\n",
        "\n",
        "time_saved : 1643579463.9641628"
      ],
      "metadata": {
        "id": "u4-1Rs7o8LO6"
      }
    },
    {
      "cell_type": "markdown",
      "source": [
        "## Bombus affinis vs Bombus rufocinctus ##"
      ],
      "metadata": {
        "id": "WxrVi4qtuspa"
      }
    },
    {
      "cell_type": "markdown",
      "source": [
        "[[538 202]\n",
        "\n",
        " [321 419]]\n",
        " \n",
        " shape=(2, 2), dtype=int32)\n",
        " \n",
        "              precision    recall  f1-score   support\n",
        "\n",
        "         0.0       0.63      0.73      0.67       740\n",
        "         1.0       0.67      0.57      0.62       740\n",
        "\n",
        "    accuracy                           0.65      1480\n",
        "   macro avg       0.65      0.65      0.64      1480\n",
        "weighted avg       0.65      0.65      0.64      1480\n",
        "\n",
        "time_saved : 1643614847.4801285"
      ],
      "metadata": {
        "id": "smPQI3UZ8gKG"
      }
    },
    {
      "cell_type": "markdown",
      "source": [
        "## Bombus affinis vs Bombus huntii ##"
      ],
      "metadata": {
        "id": "pqSIaKdBuxAk"
      }
    },
    {
      "cell_type": "markdown",
      "source": [
        "[[686  54]\n",
        "\n",
        " [208 532]]\n",
        " \n",
        " shape=(2, 2), dtype=int32)\n",
        " \n",
        "              precision    recall  f1-score   support\n",
        "\n",
        "         0.0       0.77      0.93      0.84       740\n",
        "         1.0       0.91      0.72      0.80       740\n",
        "\n",
        "    accuracy                           0.82      1480\n",
        "   macro avg       0.84      0.82      0.82      1480\n",
        "weighted avg       0.84      0.82      0.82      1480\n",
        "\n",
        "time_saved : 1643646830.9093943"
      ],
      "metadata": {
        "id": "tbXchHEP8ppr"
      }
    },
    {
      "cell_type": "markdown",
      "source": [
        "## Bombus affinis vs Bombus ternarius ##"
      ],
      "metadata": {
        "id": "Ookmd8DQuzmr"
      }
    },
    {
      "cell_type": "markdown",
      "source": [
        "[[698  42]\n",
        "\n",
        " [253 487]]\n",
        " \n",
        " shape=(2, 2), dtype=int32)\n",
        "\n",
        "              precision    recall  f1-score   support\n",
        "\n",
        "         0.0       0.73      0.94      0.83       740\n",
        "         1.0       0.92      0.66      0.77       740\n",
        "\n",
        "    accuracy                           0.80      1480\n",
        "   macro avg       0.83      0.80      0.80      1480\n",
        "weighted avg       0.83      0.80      0.80      1480\n",
        "\n",
        "time_saved : 1643682094.5426586"
      ],
      "metadata": {
        "id": "EoGDK8rKhJVq"
      }
    },
    {
      "cell_type": "markdown",
      "source": [
        "## Bombus affinis vs Bombus terricola ##"
      ],
      "metadata": {
        "id": "Q7Yiaarlu2hw"
      }
    },
    {
      "cell_type": "markdown",
      "source": [
        "[[608 132]\n",
        "\n",
        " [198 542]]\n",
        " \n",
        " shape=(2, 2), dtype=int32)\n",
        "\n",
        "              precision    recall  f1-score   support\n",
        "\n",
        "         0.0       0.75      0.82      0.79       740\n",
        "         1.0       0.80      0.73      0.77       740\n",
        "\n",
        "    accuracy                           0.78      1480\n",
        "   macro avg       0.78      0.78      0.78      1480\n",
        "weighted avg       0.78      0.78      0.78      1480\n",
        "\n",
        "time_saved : 1643716775.360242"
      ],
      "metadata": {
        "id": "E4_dvy8Ahcgx"
      }
    },
    {
      "cell_type": "markdown",
      "source": [
        "## Bombus affinis vs Bombus vagans ##"
      ],
      "metadata": {
        "id": "aGFSJhUxu5KY"
      }
    },
    {
      "cell_type": "markdown",
      "source": [
        "[[260 480]\n",
        "\n",
        " [228 512]]\n",
        " \n",
        " shape=(2, 2), dtype=int32)\n",
        "\n",
        "              precision    recall  f1-score   support\n",
        "\n",
        "         0.0       0.53      0.35      0.42       740\n",
        "         1.0       0.52      0.69      0.59       740\n",
        "\n",
        "    accuracy                           0.52      1480\n",
        "   macro avg       0.52      0.52      0.51      1480\n",
        "weighted avg       0.52      0.52      0.51      1480\n",
        "\n",
        "time_saved : 1643751964.9655414"
      ],
      "metadata": {
        "id": "ZUbwVHS4iAF1"
      }
    },
    {
      "cell_type": "markdown",
      "source": [
        "## Bombus affinis vs Bombus vosnesenskii ##"
      ],
      "metadata": {
        "id": "SZzRpz3-mObf"
      }
    },
    {
      "cell_type": "markdown",
      "source": [
        "[[602 138]\n",
        "\n",
        " [224 516]]\n",
        " \n",
        " shape=(2, 2), dtype=int32)\n",
        " \n",
        "              precision    recall  f1-score   support\n",
        "\n",
        "         0.0       0.73      0.81      0.77       740\n",
        "         1.0       0.79      0.70      0.74       740\n",
        "\n",
        "    accuracy                           0.76      1480\n",
        "   macro avg       0.76      0.76      0.75      1480\n",
        "weighted avg       0.76      0.76      0.75      1480\n",
        "\n",
        "time_saved : 1643854724.4814346"
      ],
      "metadata": {
        "id": "VqGziDhAyHcc"
      }
    },
    {
      "cell_type": "markdown",
      "source": [
        "## Bombus affinis vs Bombus auricomus ##"
      ],
      "metadata": {
        "id": "SU7ug9iYmUrf"
      }
    },
    {
      "cell_type": "markdown",
      "source": [
        "[[662  78]\n",
        "\n",
        " [129 611]]\n",
        " \n",
        " shape=(2, 2), dtype=int32)\n",
        " \n",
        "              precision    recall  f1-score   support\n",
        "\n",
        "         0.0       0.84      0.89      0.86       740\n",
        "         1.0       0.89      0.83      0.86       740\n",
        "\n",
        "    accuracy                           0.86      1480\n",
        "   macro avg       0.86      0.86      0.86      1480\n",
        "weighted avg       0.86      0.86      0.86      1480\n",
        "\n",
        "time_saved : 1643851896.5095768"
      ],
      "metadata": {
        "id": "kXh7pqeLxOqn"
      }
    },
    {
      "cell_type": "markdown",
      "source": [
        "## Bombus bifarius vs Bombus bimaculatus ##"
      ],
      "metadata": {
        "id": "3yJjOQKzmbxp"
      }
    },
    {
      "cell_type": "markdown",
      "source": [
        "[[472  28]\n",
        "\n",
        " [105 395]]\n",
        " \n",
        " shape=(2, 2), dtype=int32)\n",
        " \n",
        "              precision    recall  f1-score   support\n",
        "\n",
        "         0.0       0.82      0.94      0.88       500\n",
        "         1.0       0.93      0.79      0.86       500\n",
        "\n",
        "    accuracy                           0.87      1000\n",
        "   macro avg       0.88      0.87      0.87      1000\n",
        "weighted avg       0.88      0.87      0.87      1000\n",
        "\n",
        "time_saved : 1643994295.2155664"
      ],
      "metadata": {
        "id": "YnxOKvCPLT3L"
      }
    },
    {
      "cell_type": "markdown",
      "source": [
        "## Bombus bifarius vs Bombus borealis ##"
      ],
      "metadata": {
        "id": "KNKIfFrUmpQk"
      }
    },
    {
      "cell_type": "markdown",
      "source": [
        "[[832  68]\n",
        "\n",
        " [247 653]]\n",
        " \n",
        " shape=(2, 2), dtype=int32)\n",
        " \n",
        "              precision    recall  f1-score   support\n",
        "\n",
        "         0.0       0.77      0.92      0.84       900\n",
        "         1.0       0.91      0.73      0.81       900\n",
        "\n",
        "    accuracy                           0.82      1800\n",
        "   macro avg       0.84      0.82      0.82      1800\n",
        "weighted avg       0.84      0.82      0.82      1800\n",
        "\n",
        "time_saved : 1643882692.536194"
      ],
      "metadata": {
        "id": "r5GsU-BmyxLO"
      }
    },
    {
      "cell_type": "markdown",
      "source": [
        "## Bombus bifarius vs Bombus citrinus ##"
      ],
      "metadata": {
        "id": "8AvquVRtmsw6"
      }
    },
    {
      "cell_type": "markdown",
      "source": [
        "[[492  84]\n",
        "\n",
        " [148 428]]\n",
        " \n",
        " shape=(2, 2), dtype=int32)\n",
        " \n",
        "              precision    recall  f1-score   support\n",
        "\n",
        "         0.0       0.77      0.85      0.81       576\n",
        "         1.0       0.84      0.74      0.79       576\n",
        "\n",
        "    accuracy                           0.80      1152\n",
        "   macro avg       0.80      0.80      0.80      1152\n",
        "weighted avg       0.80      0.80      0.80      1152\n",
        "\n",
        "time_saved : 1643883091.8704782"
      ],
      "metadata": {
        "id": "eCk0KhyKy-8_"
      }
    },
    {
      "cell_type": "markdown",
      "source": [
        "## Bombus bifarius vs Bombus centralis ##"
      ],
      "metadata": {
        "id": "5H4WLUlAmwtn"
      }
    },
    {
      "cell_type": "markdown",
      "source": [
        "[[260 440]\n",
        "\n",
        " [213 487]]\n",
        " \n",
        " shape=(2, 2), dtype=int32)\n",
        " \n",
        "              precision    recall  f1-score   support\n",
        "\n",
        "         0.0       0.55      0.37      0.44       700\n",
        "         1.0       0.53      0.70      0.60       700\n",
        "\n",
        "    accuracy                           0.53      1400\n",
        "   macro avg       0.54      0.53      0.52      1400\n",
        "weighted avg       0.54      0.53      0.52      1400\n",
        "\n",
        "time_saved : 1643881666.5279863"
      ],
      "metadata": {
        "id": "Zb_EaCeRyjij"
      }
    },
    {
      "cell_type": "markdown",
      "source": [
        "## Bombus bifarius vs Bombus flavidus ##"
      ],
      "metadata": {
        "id": "lealBsRkm05X"
      }
    },
    {
      "cell_type": "markdown",
      "source": [
        "[[172 244]\n",
        "\n",
        " [144 272]]\n",
        " \n",
        " shape=(2, 2), dtype=int32)\n",
        " \n",
        "              precision    recall  f1-score   support\n",
        "\n",
        "         0.0       0.54      0.41      0.47       416\n",
        "         1.0       0.53      0.65      0.58       416\n",
        "\n",
        "    accuracy                           0.53       832\n",
        "   macro avg       0.54      0.53      0.53       832\n",
        "weighted avg       0.54      0.53      0.53       832\n",
        "\n",
        "time_saved : 1643903472.8318114"
      ],
      "metadata": {
        "id": "o93CGx_WzUef"
      }
    },
    {
      "cell_type": "markdown",
      "source": [
        "## Bombus bifarius vs Bombus flavifrons ##"
      ],
      "metadata": {
        "id": "tNzPSEyPm7Wi"
      }
    },
    {
      "cell_type": "markdown",
      "source": [
        "[[149 351]\n",
        "\n",
        " [144 356]]\n",
        " \n",
        " shape=(2, 2), dtype=int32)\n",
        " \n",
        "              precision    recall  f1-score   support\n",
        "\n",
        "         0.0       0.51      0.30      0.38       500\n",
        "         1.0       0.50      0.71      0.59       500\n",
        "\n",
        "    accuracy                           0.51      1000\n",
        "   macro avg       0.51      0.51      0.48      1000\n",
        "weighted avg       0.51      0.51      0.48      1000\n",
        "\n",
        "time_saved : 1644060108.5631673"
      ],
      "metadata": {
        "id": "yobBCFDMuDQf"
      }
    },
    {
      "cell_type": "markdown",
      "source": [
        "## Bombus bifarius vs Bombus californicus ##"
      ],
      "metadata": {
        "id": "sbreJEITnBGA"
      }
    },
    {
      "cell_type": "markdown",
      "source": [
        "[[442  58]\n",
        "\n",
        " [117 383]]\n",
        " \n",
        " shape=(2, 2), dtype=int32)\n",
        " \n",
        "              precision    recall  f1-score   support\n",
        "\n",
        "         0.0       0.79      0.88      0.83       500\n",
        "         1.0       0.87      0.77      0.81       500\n",
        "\n",
        "    accuracy                           0.82      1000\n",
        "   macro avg       0.83      0.82      0.82      1000\n",
        "weighted avg       0.83      0.82      0.82      1000\n",
        "\n",
        "time_saved : 1644033032.1528587"
      ],
      "metadata": {
        "id": "L4nF0N8gqit5"
      }
    },
    {
      "cell_type": "markdown",
      "source": [
        "## Bombus bifarius vs Bombus griseocollis ##"
      ],
      "metadata": {
        "id": "iCercTYznFX2"
      }
    },
    {
      "cell_type": "markdown",
      "source": [
        "[[479  21]\n",
        "\n",
        " [141 359]]\n",
        " \n",
        " shape=(2, 2), dtype=int32)\n",
        " \n",
        "              precision    recall  f1-score   support\n",
        "\n",
        "         0.0       0.77      0.96      0.86       500\n",
        "         1.0       0.94      0.72      0.82       500\n",
        "\n",
        "    accuracy                           0.84      1000\n",
        "   macro avg       0.86      0.84      0.84      1000\n",
        "weighted avg       0.86      0.84      0.84      1000\n",
        "\n",
        "time_saved : 1644045616.7464955"
      ],
      "metadata": {
        "id": "yCiI5zkHttkZ"
      }
    },
    {
      "cell_type": "markdown",
      "source": [
        "## Bombus bifarius vs Bombus impatiens ##"
      ],
      "metadata": {
        "id": "HczZ-eIJ1Md-"
      }
    },
    {
      "cell_type": "markdown",
      "source": [
        "[[463  37]\n",
        "\n",
        " [ 87 413]]\n",
        " shape=(2, 2), dtype=int32)\n",
        " \n",
        "              precision    recall  f1-score   support\n",
        "\n",
        "         0.0       0.84      0.93      0.88       500\n",
        "         1.0       0.92      0.83      0.87       500\n",
        "\n",
        "    accuracy                           0.88      1000\n",
        "   macro avg       0.88      0.88      0.88      1000\n",
        "weighted avg       0.88      0.88      0.88      1000\n",
        "\n",
        "time_saved : 1644231801.9899921"
      ],
      "metadata": {
        "id": "aKOccg2h0-dM"
      }
    },
    {
      "cell_type": "markdown",
      "source": [
        "## Bombus bifarius vs Bombus insularis ##"
      ],
      "metadata": {
        "id": "oCS8TYvA1Pyv"
      }
    },
    {
      "cell_type": "markdown",
      "source": [
        "[[298 196]\n",
        "\n",
        " [219 275]]\n",
        " \n",
        " shape=(2, 2), dtype=int32)\n",
        " \n",
        "              precision    recall  f1-score   support\n",
        "\n",
        "         0.0       0.58      0.60      0.59       494\n",
        "         1.0       0.58      0.56      0.57       494\n",
        "\n",
        "    accuracy                           0.58       988\n",
        "   macro avg       0.58      0.58      0.58       988\n",
        "weighted avg       0.58      0.58      0.58       988\n",
        "\n",
        "time_saved : 1643966317.6683166"
      ],
      "metadata": {
        "id": "cCwJ8u-PLDoz"
      }
    },
    {
      "cell_type": "markdown",
      "source": [
        "## Bombus bifarius vs Bombus melanopygus ##"
      ],
      "metadata": {
        "id": "ppTXFUAj1WHN"
      }
    },
    {
      "cell_type": "markdown",
      "source": [
        "[[235 265]\n",
        "\n",
        " [158 342]]\n",
        " \n",
        " shape=(2, 2), dtype=int32)\n",
        " \n",
        "              precision    recall  f1-score   support\n",
        "\n",
        "         0.0       0.60      0.47      0.53       500\n",
        "         1.0       0.56      0.68      0.62       500\n",
        "\n",
        "    accuracy                           0.58      1000\n",
        "   macro avg       0.58      0.58      0.57      1000\n",
        "weighted avg       0.58      0.58      0.57      1000\n",
        "\n",
        "time_saved : 1644264540.3182316"
      ],
      "metadata": {
        "id": "c1SZLqic11ef"
      }
    },
    {
      "cell_type": "markdown",
      "source": [
        "## Bombus bifarius vs Bombus mixtus ##"
      ],
      "metadata": {
        "id": "i4hbHz4a1eQM"
      }
    },
    {
      "cell_type": "markdown",
      "source": [
        "[[ 82 418]\n",
        "\n",
        " [105 395]]\n",
        " \n",
        " shape=(2, 2), dtype=int32)\n",
        " \n",
        "              precision    recall  f1-score   support\n",
        "\n",
        "         0.0       0.44      0.16      0.24       500\n",
        "         1.0       0.49      0.79      0.60       500\n",
        "\n",
        "    accuracy                           0.48      1000\n",
        "   macro avg       0.46      0.48      0.42      1000\n",
        "weighted avg       0.46      0.48      0.42      1000\n",
        "\n",
        "time_saved : 1644261490.896626"
      ],
      "metadata": {
        "id": "9BibX2pQ1jIQ"
      }
    },
    {
      "cell_type": "markdown",
      "source": [
        "## Bombus bifarius vs Bombus nevadinsis ##"
      ],
      "metadata": {
        "id": "ZsqBRsOp1hjX"
      }
    },
    {
      "cell_type": "markdown",
      "source": [
        "[[764  26]\n",
        "\n",
        " [149 641]]\n",
        " \n",
        " shape=(2, 2), dtype=int32)\n",
        " \n",
        "              precision    recall  f1-score   support\n",
        "\n",
        "         0.0       0.84      0.97      0.90       790\n",
        "         1.0       0.96      0.81      0.88       790\n",
        "\n",
        "    accuracy                           0.89      1580\n",
        "   macro avg       0.90      0.89      0.89      1580\n",
        "weighted avg       0.90      0.89      0.89      1580\n",
        "\n",
        "time_saved : 1644022107.5035634"
      ],
      "metadata": {
        "id": "ygge7KibqM81"
      }
    },
    {
      "cell_type": "markdown",
      "source": [
        "## Bombus bifarius vs Bombus pensylvanicus ##"
      ],
      "metadata": {
        "id": "EUOjOU5m1ud3"
      }
    },
    {
      "cell_type": "markdown",
      "source": [
        "[[482  18]\n",
        "\n",
        " [103 397]]\n",
        " \n",
        " shape=(2, 2), dtype=int32)\n",
        " \n",
        "              precision    recall  f1-score   support\n",
        "\n",
        "         0.0       0.82      0.96      0.89       500\n",
        "         1.0       0.96      0.79      0.87       500\n",
        "\n",
        "    accuracy                           0.88      1000\n",
        "   macro avg       0.89      0.88      0.88      1000\n",
        "weighted avg       0.89      0.88      0.88      1000\n",
        "\n",
        "time_saved : 1644285268.444524"
      ],
      "metadata": {
        "id": "2YoYdoz5yJkI"
      }
    },
    {
      "cell_type": "markdown",
      "source": [
        "## Bombus bifarius vs Bombus perplexus ##"
      ],
      "metadata": {
        "id": "IdRdz-Cfyq_x"
      }
    },
    {
      "cell_type": "markdown",
      "source": [
        "[[424  76]\n",
        "\n",
        " [112 388]]\n",
        " shape=(2, 2), dtype=int32)\n",
        " \n",
        "              precision    recall  f1-score   support\n",
        "\n",
        "         0.0       0.79      0.85      0.82       500\n",
        "         1.0       0.84      0.78      0.80       500\n",
        "\n",
        "    accuracy                           0.81      1000\n",
        "   macro avg       0.81      0.81      0.81      1000\n",
        "weighted avg       0.81      0.81      0.81      1000\n",
        "\n",
        "time_saved : 1644238659.4736228"
      ],
      "metadata": {
        "id": "Tj0sPUhw1Jkc"
      }
    },
    {
      "cell_type": "markdown",
      "source": [
        "## Bombus bifarius vs Bombus rufocinctus ##"
      ],
      "metadata": {
        "id": "CJ0WDVn4yw5y"
      }
    },
    {
      "cell_type": "markdown",
      "source": [
        "[[299 201]\n",
        "\n",
        " [149 351]]\n",
        " \n",
        " shape=(2, 2), dtype=int32)\n",
        "\n",
        "              precision    recall  f1-score   support\n",
        "\n",
        "         0.0       0.67      0.60      0.63       500\n",
        "         1.0       0.64      0.70      0.67       500\n",
        "\n",
        "    accuracy                           0.65      1000\n",
        "   macro avg       0.65      0.65      0.65      1000\n",
        "weighted avg       0.65      0.65      0.65      1000\n",
        "\n",
        "time_saved : 1644258798.5912333"
      ],
      "metadata": {
        "id": "zB13ohsv1TNs"
      }
    },
    {
      "cell_type": "markdown",
      "source": [
        "## Bombus bifarius vs Bombus huntii ##"
      ],
      "metadata": {
        "id": "He6ui2f4y1CU"
      }
    },
    {
      "cell_type": "markdown",
      "source": [
        "[[412  88]\n",
        "\n",
        " [145 355]]\n",
        " \n",
        " shape=(2, 2), dtype=int32)\n",
        " \n",
        "              precision    recall  f1-score   support\n",
        "\n",
        "         0.0       0.74      0.82      0.78       500\n",
        "         1.0       0.80      0.71      0.75       500\n",
        "\n",
        "    accuracy                           0.77      1000\n",
        "   macro avg       0.77      0.77      0.77      1000\n",
        "weighted avg       0.77      0.77      0.77      1000\n",
        "\n",
        "time_saved : 1644285084.4995558"
      ],
      "metadata": {
        "id": "QXNZ2tWHx6Im"
      }
    },
    {
      "cell_type": "markdown",
      "source": [
        "## Bombus bifarius vs Bombus ternarius ##"
      ],
      "metadata": {
        "id": "1yYFrtYNy2vY"
      }
    },
    {
      "cell_type": "markdown",
      "source": [
        "[[350 150]\n",
        "\n",
        " [126 374]]\n",
        " \n",
        " shape=(2, 2), dtype=int32)\n",
        " \n",
        "              precision    recall  f1-score   support\n",
        "\n",
        "         0.0       0.74      0.70      0.72       500\n",
        "         1.0       0.71      0.75      0.73       500\n",
        "\n",
        "    accuracy                           0.72      1000\n",
        "   macro avg       0.72      0.72      0.72      1000\n",
        "weighted avg       0.72      0.72      0.72      1000\n",
        "\n",
        "time_saved : 1644289171.5200922"
      ],
      "metadata": {
        "id": "lePfh9YyyTew"
      }
    },
    {
      "cell_type": "markdown",
      "source": [
        "## Bombus bifarius vs Bombus terricola ##"
      ],
      "metadata": {
        "id": "ZwsQ0D2ay53k"
      }
    },
    {
      "cell_type": "markdown",
      "source": [
        "[[471  29]\n",
        "\n",
        " [134 366]]\n",
        " \n",
        " shape=(2, 2), dtype=int32)\n",
        " \n",
        "              precision    recall  f1-score   support\n",
        "\n",
        "         0.0       0.78      0.94      0.85       500\n",
        "         1.0       0.93      0.73      0.82       500\n",
        "\n",
        "    accuracy                           0.84      1000\n",
        "   macro avg       0.85      0.84      0.84      1000\n",
        "weighted avg       0.85      0.84      0.84      1000\n",
        "\n",
        "time_saved : 1644310563.9785588"
      ],
      "metadata": {
        "id": "X72BAFYly06B"
      }
    },
    {
      "cell_type": "markdown",
      "source": [
        "## Bombus bifarius vs Bombus vagans ##"
      ],
      "metadata": {
        "id": "-tThLYZSy8lI"
      }
    },
    {
      "cell_type": "markdown",
      "source": [
        "[[406  94]\n",
        "\n",
        " [125 375]]\n",
        " \n",
        " shape=(2, 2), dtype=int32)\n",
        " \n",
        "              precision    recall  f1-score   support\n",
        "\n",
        "         0.0       0.76      0.81      0.79       500\n",
        "         1.0       0.80      0.75      0.77       500\n",
        "\n",
        "    accuracy                           0.78      1000\n",
        "   macro avg       0.78      0.78      0.78      1000\n",
        "weighted avg       0.78      0.78      0.78      1000\n",
        "\n",
        "time_saved : 1644308486.2905114"
      ],
      "metadata": {
        "id": "DNHbBLIrykeX"
      }
    },
    {
      "cell_type": "markdown",
      "source": [
        "## Bombus bifarius vs Bombus vosnesenskii ##"
      ],
      "metadata": {
        "id": "OY_CrbH_5sER"
      }
    },
    {
      "cell_type": "markdown",
      "source": [
        "[[473  27]\n",
        "\n",
        " [105 395]]\n",
        " \n",
        " shape=(2, 2), dtype=int32)\n",
        " \n",
        "              precision    recall  f1-score   support\n",
        "\n",
        "         0.0       0.82      0.95      0.88       500\n",
        "         1.0       0.94      0.79      0.86       500\n",
        "\n",
        "    accuracy                           0.87      1000\n",
        "   macro avg       0.88      0.87      0.87      1000\n",
        "weighted avg       0.88      0.87      0.87      1000\n",
        "\n",
        "time_saved : 1644411522.0454051"
      ],
      "metadata": {
        "id": "2Omt1MMTJKGV"
      }
    },
    {
      "cell_type": "markdown",
      "source": [
        "## Bombus bifarius vs Bombus auricomus ##"
      ],
      "metadata": {
        "id": "A4iwCDlz54Qb"
      }
    },
    {
      "cell_type": "markdown",
      "source": [
        "[[483  17]\n",
        "\n",
        " [ 44 456]]\n",
        " \n",
        " shape=(2, 2), dtype=int32)\n",
        " \n",
        "              precision    recall  f1-score   support\n",
        "\n",
        "         0.0       0.92      0.97      0.94       500\n",
        "         1.0       0.96      0.91      0.94       500\n",
        "\n",
        "    accuracy                           0.94      1000\n",
        "   macro avg       0.94      0.94      0.94      1000\n",
        "weighted avg       0.94      0.94      0.94      1000\n",
        "\n",
        "time_saved : 1644377052.5348103"
      ],
      "metadata": {
        "id": "Cad-RqcmHjSC"
      }
    },
    {
      "cell_type": "markdown",
      "source": [
        "## Bombus bimaculatus vs Bombus borealis ##"
      ],
      "metadata": {
        "id": "tuOr4fwG59T-"
      }
    },
    {
      "cell_type": "markdown",
      "source": [
        "[[455  45]\n",
        "\n",
        " [ 71 429]]\n",
        " \n",
        " shape=(2, 2), dtype=int32)\n",
        " \n",
        "              precision    recall  f1-score   support\n",
        "\n",
        "         0.0       0.87      0.91      0.89       500\n",
        "         1.0       0.91      0.86      0.88       500\n",
        "\n",
        "    accuracy                           0.88      1000\n",
        "   macro avg       0.89      0.88      0.88      1000\n",
        "weighted avg       0.89      0.88      0.88      1000\n",
        "\n",
        "time_saved : 1644374577.6248674"
      ],
      "metadata": {
        "id": "axW_OrchHXYO"
      }
    },
    {
      "cell_type": "markdown",
      "source": [
        "## Bombus bimaculatus vs Bombus citrinus ##"
      ],
      "metadata": {
        "id": "zrR8HmPB6dKE"
      }
    },
    {
      "cell_type": "markdown",
      "source": [
        "[[145 355]\n",
        "\n",
        "\n",
        " [114 386]]\n",
        " \n",
        " shape=(2, 2), dtype=int32)\n",
        " \n",
        "              precision    recall  f1-score   support\n",
        "\n",
        "         0.0       0.56      0.29      0.38       500\n",
        "         1.0       0.52      0.77      0.62       500\n",
        "\n",
        "    accuracy                           0.53      1000\n",
        "   macro avg       0.54      0.53      0.50      1000\n",
        "weighted avg       0.54      0.53      0.50      1000\n",
        "\n",
        "time_saved : 1644478482.6592588"
      ],
      "metadata": {
        "id": "SxHCmX6yJUA0"
      }
    },
    {
      "cell_type": "markdown",
      "source": [
        "## Bombus bimaculatus vs Bombus centralis ##"
      ],
      "metadata": {
        "id": "ggtzX0LE6gPv"
      }
    },
    {
      "cell_type": "markdown",
      "source": [
        "[[469  31]\n",
        "\n",
        " [107 393]]\n",
        " \n",
        " shape=(2, 2), dtype=int32)\n",
        " \n",
        "              precision    recall  f1-score   support\n",
        "\n",
        "         0.0       0.81      0.94      0.87       500\n",
        "         1.0       0.93      0.79      0.85       500\n",
        "\n",
        "    accuracy                           0.86      1000\n",
        "   macro avg       0.87      0.86      0.86      1000\n",
        "weighted avg       0.87      0.86      0.86      1000\n",
        "\n",
        "time_saved : 1644386144.3184688"
      ],
      "metadata": {
        "id": "elFVpGMQIMnp"
      }
    },
    {
      "cell_type": "markdown",
      "source": [
        "## Bombus bimaculatus vs Bombus flavidus ##"
      ],
      "metadata": {
        "id": "SbF5bvsL6i_3"
      }
    },
    {
      "cell_type": "markdown",
      "source": [
        "[[340  76]\n",
        "\n",
        " [152 264]]\n",
        " \n",
        " shape=(2, 2), dtype=int32)\n",
        " \n",
        "              precision    recall  f1-score   support\n",
        "\n",
        "         0.0       0.69      0.82      0.75       416\n",
        "         1.0       0.78      0.63      0.70       416\n",
        "\n",
        "    accuracy                           0.73       832\n",
        "   macro avg       0.73      0.73      0.72       832\n",
        "weighted avg       0.73      0.73      0.72       832\n",
        "\n",
        "time_saved : 1644395736.0139103"
      ],
      "metadata": {
        "id": "FyBQAkFeI5rZ"
      }
    },
    {
      "cell_type": "markdown",
      "source": [
        "## Bombus bimaculatus vs Bombus flavifrons ##"
      ],
      "metadata": {
        "id": "FleN3_he6uNr"
      }
    },
    {
      "cell_type": "markdown",
      "source": [
        "[[463  37]\n",
        "\n",
        " [112 388]]\n",
        " \n",
        " shape=(2, 2), dtype=int32)\n",
        " \n",
        "              precision    recall  f1-score   support\n",
        "\n",
        "         0.0       0.81      0.93      0.86       500\n",
        "         1.0       0.91      0.78      0.84       500\n",
        "\n",
        "    accuracy                           0.85      1000\n",
        "   macro avg       0.86      0.85      0.85      1000\n",
        "weighted avg       0.86      0.85      0.85      1000\n",
        "\n",
        "time_saved : 1644445302.1825347"
      ],
      "metadata": {
        "id": "s0E3KFYyIYVD"
      }
    },
    {
      "cell_type": "markdown",
      "source": [
        "## Bombus bimaculatus vs Bombus californicus ##"
      ],
      "metadata": {
        "id": "n3Zz8NVI6yO1"
      }
    },
    {
      "cell_type": "markdown",
      "source": [
        "[[422  78]\n",
        "\n",
        " [ 66 434]]\n",
        " \n",
        " shape=(2, 2), dtype=int32)\n",
        " \n",
        "              precision    recall  f1-score   support\n",
        "\n",
        "         0.0       0.86      0.84      0.85       500\n",
        "         1.0       0.85      0.87      0.86       500\n",
        "\n",
        "    accuracy                           0.86      1000\n",
        "   macro avg       0.86      0.86      0.86      1000\n",
        "weighted avg       0.86      0.86      0.86      1000\n",
        "\n",
        "time_saved : 1644468258.2972038"
      ],
      "metadata": {
        "id": "NkS0SWsnI3id"
      }
    },
    {
      "cell_type": "markdown",
      "source": [
        "## Bombus bimaculatus vs Bombus griseocollis ##"
      ],
      "metadata": {
        "id": "CEG2y-1U62Qd"
      }
    },
    {
      "cell_type": "markdown",
      "source": [
        "[[ 92 408]\n",
        "\n",
        " [ 80 420]]\n",
        " \n",
        " shape=(2, 2), dtype=int32)\n",
        " \n",
        "              precision    recall  f1-score   support\n",
        "\n",
        "         0.0       0.53      0.18      0.27       500\n",
        "         1.0       0.51      0.84      0.63       500\n",
        "\n",
        "    accuracy                           0.51      1000\n",
        "   macro avg       0.52      0.51      0.45      1000\n",
        "weighted avg       0.52      0.51      0.45      1000\n",
        "\n",
        "time_saved : 1644421236.4870994"
      ],
      "metadata": {
        "id": "VeU2nwn2JahH"
      }
    },
    {
      "cell_type": "markdown",
      "source": [
        "## Bombus bimaculatus vs Bombus impatiens ##"
      ],
      "metadata": {
        "id": "uN1HTJo765rr"
      }
    },
    {
      "cell_type": "markdown",
      "source": [
        "[[ 88 412]\n",
        "\n",
        " [ 79 421]]\n",
        " \n",
        " shape=(2, 2), dtype=int32)\n",
        " \n",
        "              precision    recall  f1-score   support\n",
        "\n",
        "         0.0       0.53      0.18      0.26       500\n",
        "         1.0       0.51      0.84      0.63       500\n",
        "\n",
        "    accuracy                           0.51      1000\n",
        "   macro avg       0.52      0.51      0.45      1000\n",
        "weighted avg       0.52      0.51      0.45      1000\n",
        "\n",
        "time_saved : 1644457719.8942428"
      ],
      "metadata": {
        "id": "SFTVr9QGIsmL"
      }
    },
    {
      "cell_type": "markdown",
      "source": [
        "## Bombus bimaculatus vs Bombus insularis ##"
      ],
      "metadata": {
        "id": "DEB7Cg4-NaY0"
      }
    },
    {
      "cell_type": "markdown",
      "source": [
        "[[426  68]\n",
        "\n",
        " [181 313]]\n",
        " \n",
        " shape=(2, 2), dtype=int32)\n",
        " \n",
        "              precision    recall  f1-score   support\n",
        "\n",
        "         0.0       0.70      0.86      0.77       494\n",
        "         1.0       0.82      0.63      0.72       494\n",
        "\n",
        "    accuracy                           0.75       988\n",
        "   macro avg       0.76      0.75      0.74       988\n",
        "weighted avg       0.76      0.75      0.74       988\n",
        "\n",
        "time_saved : 1644570349.5509663"
      ],
      "metadata": {
        "id": "7aCykl9vkpvi"
      }
    },
    {
      "cell_type": "markdown",
      "source": [
        "## Bombus bimaculatus vs Bombus melanopygus ##"
      ],
      "metadata": {
        "id": "OdDZolPDNeo-"
      }
    },
    {
      "cell_type": "markdown",
      "source": [
        "[[443  57]\n",
        "\n",
        " [ 80 420]]\n",
        " \n",
        " shape=(2, 2), dtype=int32)\n",
        " \n",
        "              precision    recall  f1-score   support\n",
        "\n",
        "         0.0       0.85      0.89      0.87       500\n",
        "         1.0       0.88      0.84      0.86       500\n",
        "\n",
        "    accuracy                           0.86      1000\n",
        "   macro avg       0.86      0.86      0.86      1000\n",
        "weighted avg       0.86      0.86      0.86      1000\n",
        "\n",
        "time_saved : 1644573865.9179711"
      ],
      "metadata": {
        "id": "0cigD3IFk1mQ"
      }
    },
    {
      "cell_type": "markdown",
      "source": [
        "## Bombus bimaculatus vs Bombus mixtus ##"
      ],
      "metadata": {
        "id": "RP0vqJS2NkgV"
      }
    },
    {
      "cell_type": "markdown",
      "source": [
        "[[463  37]\n",
        "\n",
        " [ 61 439]]\n",
        " \n",
        " shape=(2, 2), dtype=int32)\n",
        " \n",
        "              precision    recall  f1-score   support\n",
        "\n",
        "         0.0       0.88      0.93      0.90       500\n",
        "         1.0       0.92      0.88      0.90       500\n",
        "\n",
        "    accuracy                           0.90      1000\n",
        "   macro avg       0.90      0.90      0.90      1000\n",
        "weighted avg       0.90      0.90      0.90      1000\n",
        "\n",
        "time_saved : 1644602955.8328195"
      ],
      "metadata": {
        "id": "HA_kd7J9lG90"
      }
    },
    {
      "cell_type": "markdown",
      "source": [
        "## Bombus bimaculatus vs Bombus nevadensis ##"
      ],
      "metadata": {
        "id": "S7JCHT0vNmZX"
      }
    },
    {
      "cell_type": "markdown",
      "source": [
        "[[466  34]\n",
        "\n",
        " [112 388]]\n",
        " \n",
        " shape=(2, 2), dtype=int32)\n",
        " \n",
        "              precision    recall  f1-score   support\n",
        "\n",
        "         0.0       0.81      0.93      0.86       500\n",
        "         1.0       0.92      0.78      0.84       500\n",
        "\n",
        "    accuracy                           0.85      1000\n",
        "   macro avg       0.86      0.85      0.85      1000\n",
        "weighted avg       0.86      0.85      0.85      1000\n",
        "\n",
        "time_saved : 1644596909.9268594"
      ],
      "metadata": {
        "id": "7kj2jhHzk_l_"
      }
    },
    {
      "cell_type": "markdown",
      "source": [
        "## Bombus bimaculatus vs Bombus pensylvanicus ##"
      ],
      "metadata": {
        "id": "VDJcfd6NNoy7"
      }
    },
    {
      "cell_type": "markdown",
      "source": [
        "[[481  19]\n",
        "\n",
        " [ 91 409]]\n",
        " \n",
        " shape=(2, 2), dtype=int32)\n",
        " \n",
        "              precision    recall  f1-score   support\n",
        "\n",
        "         0.0       0.84      0.96      0.90       500\n",
        "         1.0       0.96      0.82      0.88       500\n",
        "\n",
        "    accuracy                           0.89      1000\n",
        "   macro avg       0.90      0.89      0.89      1000\n",
        "weighted avg       0.90      0.89      0.89      1000\n",
        "\n",
        "time_saved : 1644626003.7181356"
      ],
      "metadata": {
        "id": "KDIwLpuHlRZG"
      }
    },
    {
      "cell_type": "markdown",
      "source": [
        "## Bombus bimaculatus vs Bombus perplexus ##"
      ],
      "metadata": {
        "id": "sIxSTjJ_Nstc"
      }
    },
    {
      "cell_type": "markdown",
      "source": [
        "[[138 362]\n",
        "\n",
        " [ 83 417]]\n",
        " \n",
        " shape=(2, 2), dtype=int32)\n",
        " \n",
        "              precision    recall  f1-score   support\n",
        "\n",
        "         0.0       0.62      0.28      0.38       500\n",
        "         1.0       0.54      0.83      0.65       500\n",
        "\n",
        "    accuracy                           0.56      1000\n",
        "   macro avg       0.58      0.55      0.52      1000\n",
        "weighted avg       0.58      0.56      0.52      1000\n",
        "\n",
        "time_saved : 1644635586.1538496"
      ],
      "metadata": {
        "id": "mlp3cR1Jl01M"
      }
    },
    {
      "cell_type": "markdown",
      "source": [
        "## Bombus bimaculatus vs Bombus rufocinctus ##"
      ],
      "metadata": {
        "id": "HUrKd4N3NvWY"
      }
    },
    {
      "cell_type": "markdown",
      "source": [
        "[[393 107]\n",
        "\n",
        " [ 86 414]]\n",
        " \n",
        " shape=(2, 2), dtype=int32)\n",
        " \n",
        "              precision    recall  f1-score   support\n",
        "\n",
        "         0.0       0.82      0.79      0.80       500\n",
        "         1.0       0.79      0.83      0.81       500\n",
        "\n",
        "    accuracy                           0.81      1000\n",
        "   macro avg       0.81      0.81      0.81      1000\n",
        "weighted avg       0.81      0.81      0.81      1000\n",
        "\n",
        "time_saved : 1644632935.6530993"
      ],
      "metadata": {
        "id": "7hmApEUnlkY2"
      }
    },
    {
      "cell_type": "markdown",
      "source": [
        "## Bombus bimaculatus vs Bombus huntii ##"
      ],
      "metadata": {
        "id": "O1t3iox7NxYy"
      }
    },
    {
      "cell_type": "markdown",
      "source": [
        "[[479  21]\n",
        "\n",
        " [ 92 408]]\n",
        " \n",
        " shape=(2, 2), dtype=int32)\n",
        " \n",
        "              precision    recall  f1-score   support\n",
        "\n",
        "         0.0       0.84      0.96      0.89       500\n",
        "         1.0       0.95      0.82      0.88       500\n",
        "\n",
        "    accuracy                           0.89      1000\n",
        "   macro avg       0.89      0.89      0.89      1000\n",
        "weighted avg       0.89      0.89      0.89      1000\n",
        "\n",
        "time_saved : 1644632184.1306114"
      ],
      "metadata": {
        "id": "ecyRXCTAlbxo"
      }
    },
    {
      "cell_type": "markdown",
      "source": [
        "## Bombus bimaculatus vs Bombus ternarius ##"
      ],
      "metadata": {
        "id": "M-kpJcKiNzTy"
      }
    },
    {
      "cell_type": "markdown",
      "source": [
        "[[481  19]\n",
        "\n",
        " [100 400]]\n",
        " \n",
        " shape=(2, 2), dtype=int32)\n",
        " \n",
        "              precision    recall  f1-score   support\n",
        "\n",
        "         0.0       0.83      0.96      0.89       500\n",
        "         1.0       0.95      0.80      0.87       500\n",
        "\n",
        "    accuracy                           0.88      1000\n",
        "   macro avg       0.89      0.88      0.88      1000\n",
        "weighted avg       0.89      0.88      0.88      1000\n",
        "\n",
        "time_saved : 1644654186.4827628"
      ],
      "metadata": {
        "id": "BDrXzoN-l8XP"
      }
    },
    {
      "cell_type": "markdown",
      "source": [
        "## Bombus bimaculatus vs Bombus terricola ##"
      ],
      "metadata": {
        "id": "MZSSr4i9N1r6"
      }
    },
    {
      "cell_type": "markdown",
      "source": [
        "[[463  37]\n",
        "\n",
        " [ 95 405]]\n",
        " \n",
        " shape=(2, 2), dtype=int32)\n",
        " \n",
        "              precision    recall  f1-score   support\n",
        "\n",
        "         0.0       0.83      0.93      0.88       500\n",
        "         1.0       0.92      0.81      0.86       500\n",
        "\n",
        "    accuracy                           0.87      1000\n",
        "   macro avg       0.87      0.87      0.87      1000\n",
        "weighted avg       0.87      0.87      0.87      1000\n",
        "\n",
        "time_saved : 1644660833.8366292"
      ],
      "metadata": {
        "id": "hCx52tDqmEyL"
      }
    },
    {
      "cell_type": "markdown",
      "source": [
        "## Bombus bimaculatus vs Bombus vagans ##"
      ],
      "metadata": {
        "id": "vXzpKBxkq5qU"
      }
    },
    {
      "cell_type": "markdown",
      "source": [
        "[[152 348]\n",
        "\n",
        " [ 70 430]]\n",
        " \n",
        " shape=(2, 2), dtype=int32)\n",
        " \n",
        "              precision    recall  f1-score   support\n",
        "\n",
        "         0.0       0.68      0.30      0.42       500\n",
        "         1.0       0.55      0.86      0.67       500\n",
        "\n",
        "    accuracy                           0.58      1000\n",
        "   macro avg       0.62      0.58      0.55      1000\n",
        "weighted avg       0.62      0.58      0.55      1000\n",
        "\n",
        "time_saved : 1644834083.7745576"
      ],
      "metadata": {
        "id": "bSL4YjIEJVUc"
      }
    },
    {
      "cell_type": "markdown",
      "source": [
        "## Bombus bimaculatus vs Bombus vosnesenskii ##"
      ],
      "metadata": {
        "id": "Crb3u779q7qF"
      }
    },
    {
      "cell_type": "markdown",
      "source": [
        "[[475  25]\n",
        "\n",
        " [ 92 408]]\n",
        " \n",
        " shape=(2, 2), dtype=int32)\n",
        " \n",
        "              precision    recall  f1-score   support\n",
        "\n",
        "         0.0       0.84      0.95      0.89       500\n",
        "         1.0       0.94      0.82      0.87       500\n",
        "\n",
        "    accuracy                           0.88      1000\n",
        "   macro avg       0.89      0.88      0.88      1000\n",
        "weighted avg       0.89      0.88      0.88      1000\n",
        "\n",
        "time_saved : 1644872027.4935393"
      ],
      "metadata": {
        "id": "lY2sRpElJeQA"
      }
    },
    {
      "cell_type": "markdown",
      "source": [
        "## Bombus bimaculatus vs Bombus auricomus ##"
      ],
      "metadata": {
        "id": "LEs_4xd4q9_g"
      }
    },
    {
      "cell_type": "markdown",
      "source": [
        "[[478  22]\n",
        "\n",
        " [ 71 429]]\n",
        " \n",
        " shape=(2, 2), dtype=int32)\n",
        " \n",
        "              precision    recall  f1-score   support\n",
        "\n",
        "         0.0       0.87      0.96      0.91       500\n",
        "         1.0       0.95      0.86      0.90       500\n",
        "\n",
        "    accuracy                           0.91      1000\n",
        "   macro avg       0.91      0.91      0.91      1000\n",
        "weighted avg       0.91      0.91      0.91      1000\n",
        "\n",
        "time_saved : 1644904679.3754375"
      ],
      "metadata": {
        "id": "83mDmN3JJpKr"
      }
    },
    {
      "cell_type": "markdown",
      "source": [
        "## Bombus borealis vs Bombus citrinus ##"
      ],
      "metadata": {
        "id": "n2l2cV6-rBEp"
      }
    },
    {
      "cell_type": "markdown",
      "source": [
        "[[456  44]\n",
        "\n",
        " [161 339]]\n",
        " \n",
        " shape=(2, 2), dtype=int32)\n",
        " \n",
        "              precision    recall  f1-score   support\n",
        "\n",
        "         0.0       0.74      0.91      0.82       500\n",
        "         1.0       0.89      0.68      0.77       500\n",
        "\n",
        "    accuracy                           0.80      1000\n",
        "   macro avg       0.81      0.80      0.79      1000\n",
        "weighted avg       0.81      0.80      0.79      1000\n",
        "\n",
        "time_saved : 1644936780.7230012"
      ],
      "metadata": {
        "id": "CqHp-2cnJ59n"
      }
    },
    {
      "cell_type": "markdown",
      "source": [
        "## Bombus borealis vs Bombus centralis ##"
      ],
      "metadata": {
        "id": "mMah9HeirFqP"
      }
    },
    {
      "cell_type": "markdown",
      "source": [
        "[[470  30]\n",
        "\n",
        " [169 331]]\n",
        " \n",
        " shape=(2, 2), dtype=int32)\n",
        " \n",
        "              precision    recall  f1-score   support\n",
        "\n",
        "         0.0       0.74      0.94      0.83       500\n",
        "         1.0       0.92      0.66      0.77       500\n",
        "\n",
        "    accuracy                           0.80      1000\n",
        "   macro avg       0.83      0.80      0.80      1000\n",
        "weighted avg       0.83      0.80      0.80      1000\n",
        "\n",
        "time_saved : 1645141688.5506947"
      ],
      "metadata": {
        "id": "EGZnVfyyGE1D"
      }
    },
    {
      "cell_type": "markdown",
      "source": [
        "## Bombus borealis vs Bombus flavidus ##"
      ],
      "metadata": {
        "id": "tMTXf0F1rH7w"
      }
    },
    {
      "cell_type": "markdown",
      "source": [
        "[[346  70]\n",
        "\n",
        " [141 275]]\n",
        " \n",
        " shape=(2, 2), dtype=int32)\n",
        " \n",
        "              precision    recall  f1-score   support\n",
        "\n",
        "         0.0       0.71      0.83      0.77       416\n",
        "         1.0       0.80      0.66      0.72       416\n",
        "\n",
        "    accuracy                           0.75       832\n",
        "   macro avg       0.75      0.75      0.74       832\n",
        "weighted avg       0.75      0.75      0.74       832\n",
        "\n",
        "time_saved : 1644972904.6249485"
      ],
      "metadata": {
        "id": "CqV9uZnMKKR7"
      }
    },
    {
      "cell_type": "markdown",
      "source": [
        "## Bombus borealis vs Bombus flavifrons ##"
      ],
      "metadata": {
        "id": "OF3_QjSgrKLf"
      }
    },
    {
      "cell_type": "markdown",
      "source": [
        "[[455  45]\n",
        "\n",
        " [144 356]]\n",
        " \n",
        " shape=(2, 2), dtype=int32)\n",
        " \n",
        "              precision    recall  f1-score   support\n",
        "\n",
        "         0.0       0.76      0.91      0.83       500\n",
        "         1.0       0.89      0.71      0.79       500\n",
        "\n",
        "    accuracy                           0.81      1000\n",
        "   macro avg       0.82      0.81      0.81      1000\n",
        "weighted avg       0.82      0.81      0.81      1000\n",
        "\n",
        "time_saved : 1645012268.9865863"
      ],
      "metadata": {
        "id": "6ycN8wLkKYiD"
      }
    },
    {
      "cell_type": "markdown",
      "source": [
        "## Bombus borealis vs Bombus californicus ##"
      ],
      "metadata": {
        "id": "tuXPEfwJrMn6"
      }
    },
    {
      "cell_type": "markdown",
      "source": [
        "[[281 219]\n",
        "\n",
        " [223 277]]\n",
        " \n",
        " shape=(2, 2), dtype=int32)\n",
        " \n",
        "              precision    recall  f1-score   support\n",
        "\n",
        "         0.0       0.56      0.56      0.56       500\n",
        "         1.0       0.56      0.55      0.56       500\n",
        "\n",
        "    accuracy                           0.56      1000\n",
        "   macro avg       0.56      0.56      0.56      1000\n",
        "weighted avg       0.56      0.56      0.56      1000\n",
        "\n",
        "time_saved : 1645045298.0002897"
      ],
      "metadata": {
        "id": "WKN1frUYWkGx"
      }
    },
    {
      "cell_type": "markdown",
      "source": [
        "## Bombus borealis vs Bombus griseocollis ##"
      ],
      "metadata": {
        "id": "YDOBqATlrPpZ"
      }
    },
    {
      "cell_type": "markdown",
      "source": [
        "[[425  75]\n",
        "\n",
        " [115 385]]\n",
        " \n",
        " shape=(2, 2), dtype=int32)\n",
        " \n",
        "              precision    recall  f1-score   support\n",
        "\n",
        "         0.0       0.79      0.85      0.82       500\n",
        "         1.0       0.84      0.77      0.80       500\n",
        "\n",
        "    accuracy                           0.81      1000\n",
        "   macro avg       0.81      0.81      0.81      1000\n",
        "weighted avg       0.81      0.81      0.81      1000\n",
        "\n",
        "time_saved : 1645077603.616429"
      ],
      "metadata": {
        "id": "T_CFUDRaAXz2"
      }
    },
    {
      "cell_type": "markdown",
      "source": [
        "## Bombus borealis vs Bombus impatiens ##"
      ],
      "metadata": {
        "id": "afPINVhzrS_P"
      }
    },
    {
      "cell_type": "markdown",
      "source": [
        "[[459  41]\n",
        "\n",
        " [132 368]]\n",
        " \n",
        " shape=(2, 2), dtype=int32)\n",
        " \n",
        "              precision    recall  f1-score   support\n",
        "\n",
        "         0.0       0.78      0.92      0.84       500\n",
        "         1.0       0.90      0.74      0.81       500\n",
        "\n",
        "    accuracy                           0.83      1000\n",
        "   macro avg       0.84      0.83      0.83      1000\n",
        "weighted avg       0.84      0.83      0.83      1000\n",
        "\n",
        "time_saved : 1645109939.5859332"
      ],
      "metadata": {
        "id": "TUn70rvxAvNz"
      }
    },
    {
      "cell_type": "markdown",
      "source": [
        "## Bombus borealis vs Bombus insularis ##"
      ],
      "metadata": {
        "id": "UxDGmI5NHr8d"
      }
    },
    {
      "cell_type": "markdown",
      "source": [
        "[[394 100]\n",
        "\n",
        " [205 289]]\n",
        " \n",
        " shape=(2, 2), dtype=int32)\n",
        " \n",
        "              precision    recall  f1-score   support\n",
        "\n",
        "         0.0       0.66      0.80      0.72       494\n",
        "         1.0       0.74      0.59      0.65       494\n",
        "\n",
        "    accuracy                           0.69       988\n",
        "   macro avg       0.70      0.69      0.69       988\n",
        "weighted avg       0.70      0.69      0.69       988\n",
        "\n",
        "time_saved : 1645176040.0946374"
      ],
      "metadata": {
        "id": "HeUBPRMHTgPL"
      }
    },
    {
      "cell_type": "markdown",
      "source": [
        "## Bombus borealis vs Bombus melanopygus ##"
      ],
      "metadata": {
        "id": "lwjYJUvoH1JJ"
      }
    },
    {
      "cell_type": "markdown",
      "source": [
        "[[457  43]\n",
        "\n",
        " [149 351]]\n",
        " \n",
        " shape=(2, 2), dtype=int32)\n",
        " \n",
        "              precision    recall  f1-score   support\n",
        "\n",
        "         0.0       0.75      0.91      0.83       500\n",
        "         1.0       0.89      0.70      0.79       500\n",
        "\n",
        "    accuracy                           0.81      1000\n",
        "   macro avg       0.82      0.81      0.81      1000\n",
        "weighted avg       0.82      0.81      0.81      1000\n",
        "\n",
        "time_saved : 1645419754.0028603"
      ],
      "metadata": {
        "id": "J4v-3M7YJsF6"
      }
    },
    {
      "cell_type": "markdown",
      "source": [
        "## Bombus borealis vs Bombus mixtus ##"
      ],
      "metadata": {
        "id": "BOIFaJM_H-t7"
      }
    },
    {
      "cell_type": "markdown",
      "source": [
        "[[457  43]\n",
        "\n",
        " [164 336]]\n",
        " \n",
        " shape=(2, 2), dtype=int32)\n",
        " \n",
        "              precision    recall  f1-score   support\n",
        "\n",
        "         0.0       0.74      0.91      0.82       500\n",
        "         1.0       0.89      0.67      0.76       500\n",
        "\n",
        "    accuracy                           0.79      1000\n",
        "   macro avg       0.81      0.79      0.79      1000\n",
        "weighted avg       0.81      0.79      0.79      1000\n",
        "\n",
        "time_saved : 1645209047.2339306"
      ],
      "metadata": {
        "id": "uXTBfvGnTxxU"
      }
    },
    {
      "cell_type": "markdown",
      "source": [
        "## Bombus borealis vs Bombus nevadensis ##"
      ],
      "metadata": {
        "id": "HcMuOLKLIBlZ"
      }
    },
    {
      "cell_type": "markdown",
      "source": [
        "[[123 377]\n",
        "\n",
        " [126 374]]\n",
        " \n",
        " shape=(2, 2), dtype=int32)\n",
        " \n",
        "              precision    recall  f1-score   support\n",
        "\n",
        "         0.0       0.49      0.25      0.33       500\n",
        "         1.0       0.50      0.75      0.60       500\n",
        "\n",
        "    accuracy                           0.50      1000\n",
        "   macro avg       0.50      0.50      0.46      1000\n",
        "weighted avg       0.50      0.50      0.46      1000\n",
        "\n",
        "time_saved : 1645241567.8213634"
      ],
      "metadata": {
        "id": "simqSOxLIY-6"
      }
    },
    {
      "cell_type": "markdown",
      "source": [
        "## Bombus borealis vs Bombus pensylvanicus ##"
      ],
      "metadata": {
        "id": "wa3qyGskIEK0"
      }
    },
    {
      "cell_type": "markdown",
      "source": [
        "[[ 98 402]\n",
        "\n",
        " [131 369]]\n",
        " \n",
        " shape=(2, 2), dtype=int32)\n",
        " \n",
        "              precision    recall  f1-score   support\n",
        "\n",
        "         0.0       0.43      0.20      0.27       500\n",
        "         1.0       0.48      0.74      0.58       500\n",
        "\n",
        "    accuracy                           0.47      1000\n",
        "   macro avg       0.45      0.47      0.42      1000\n",
        "weighted avg       0.45      0.47      0.42      1000\n",
        "\n",
        "time_saved : 1645420198.040396"
      ],
      "metadata": {
        "id": "5DK8EfSqJ61U"
      }
    },
    {
      "cell_type": "markdown",
      "source": [
        "## Bombus borealis vs Bombus perplexus ##"
      ],
      "metadata": {
        "id": "f7LI-x0aIIcC"
      }
    },
    {
      "cell_type": "markdown",
      "source": [
        "[[456  44]\n",
        "\n",
        " [172 328]]\n",
        " \n",
        " shape=(2, 2), dtype=int32)\n",
        " \n",
        "              precision    recall  f1-score   support\n",
        "\n",
        "         0.0       0.73      0.91      0.81       500\n",
        "         1.0       0.88      0.66      0.75       500\n",
        "\n",
        "    accuracy                           0.78      1000\n",
        "   macro avg       0.80      0.78      0.78      1000\n",
        "weighted avg       0.80      0.78      0.78      1000\n",
        "\n",
        "time_saved : 1645273918.8179774"
      ],
      "metadata": {
        "id": "5isz2NFIImIg"
      }
    },
    {
      "cell_type": "markdown",
      "source": [
        "## Bombus borealis vs Bombus rufocinctus ##"
      ],
      "metadata": {
        "id": "k37b1CKyIOZJ"
      }
    },
    {
      "cell_type": "markdown",
      "source": [
        "[[450  50]\n",
        "\n",
        " [186 314]]\n",
        " \n",
        " shape=(2, 2), dtype=int32)\n",
        " \n",
        "              precision    recall  f1-score   support\n",
        "\n",
        "         0.0       0.71      0.90      0.79       500\n",
        "         1.0       0.86      0.63      0.73       500\n",
        "\n",
        "    accuracy                           0.76      1000\n",
        "   macro avg       0.79      0.76      0.76      1000\n",
        "weighted avg       0.79      0.76      0.76      1000\n",
        "\n",
        "time_saved : 1645305823.3977807"
      ],
      "metadata": {
        "id": "PocYNACvIzUu"
      }
    },
    {
      "cell_type": "markdown",
      "source": [
        "## Bombus borealis vs Bombus huntii ##"
      ],
      "metadata": {
        "id": "8bWw4qgaIRwq"
      }
    },
    {
      "cell_type": "markdown",
      "source": [
        "[[470  30]\n",
        "\n",
        " [159 341]]\n",
        " \n",
        " shape=(2, 2), dtype=int32)\n",
        " \n",
        "              precision    recall  f1-score   support\n",
        "\n",
        "         0.0       0.75      0.94      0.83       500\n",
        "         1.0       0.92      0.68      0.78       500\n",
        "\n",
        "    accuracy                           0.81      1000\n",
        "   macro avg       0.83      0.81      0.81      1000\n",
        "weighted avg       0.83      0.81      0.81      1000\n",
        "\n",
        "time_saved : 1645337925.6753502"
      ],
      "metadata": {
        "id": "b6Mq4fJlI_lg"
      }
    },
    {
      "cell_type": "markdown",
      "source": [
        "## Bombus borealis vs Bombus ternarius ##"
      ],
      "metadata": {
        "id": "Gyui5wPMIYJ_"
      }
    },
    {
      "cell_type": "markdown",
      "source": [
        "[[461  39]\n",
        "\n",
        " [132 368]]\n",
        " \n",
        " shape=(2, 2), dtype=int32)\n",
        " \n",
        "              precision    recall  f1-score   support\n",
        "\n",
        "         0.0       0.78      0.92      0.84       500\n",
        "         1.0       0.90      0.74      0.81       500\n",
        "\n",
        "    accuracy                           0.83      1000\n",
        "   macro avg       0.84      0.83      0.83      1000\n",
        "weighted avg       0.84      0.83      0.83      1000\n",
        "\n",
        "time_saved : 1645371002.1511965"
      ],
      "metadata": {
        "id": "fhUBUJTVJedZ"
      }
    },
    {
      "cell_type": "markdown",
      "source": [
        "## Bombus borealis vs Bombus terricola ##"
      ],
      "metadata": {
        "id": "Vfm0pxeBIceR"
      }
    },
    {
      "cell_type": "markdown",
      "source": [
        "[[163 337]\n",
        "\n",
        " [164 336]]\n",
        " \n",
        " shape=(2, 2), dtype=int32)\n",
        " \n",
        "              precision    recall  f1-score   support\n",
        "\n",
        "         0.0       0.50      0.33      0.39       500\n",
        "         1.0       0.50      0.67      0.57       500\n",
        "\n",
        "    accuracy                           0.50      1000\n",
        "   macro avg       0.50      0.50      0.48      1000\n",
        "weighted avg       0.50      0.50      0.48      1000\n",
        "\n",
        "time_saved : 1645366123.2080023"
      ],
      "metadata": {
        "id": "FzaxdhK-JR5F"
      }
    },
    {
      "cell_type": "markdown",
      "source": [
        "## Bombus borealis vs Bombus vagans ##"
      ],
      "metadata": {
        "id": "4VIoTnCMLb_D"
      }
    },
    {
      "cell_type": "markdown",
      "source": [
        "[[453  47]\n",
        "\n",
        " [186 314]]\n",
        " \n",
        " shape=(2, 2), dtype=int32)\n",
        " \n",
        "              precision    recall  f1-score   support\n",
        "\n",
        "         0.0       0.71      0.91      0.80       500\n",
        "         1.0       0.87      0.63      0.73       500\n",
        "\n",
        "    accuracy                           0.77      1000\n",
        "   macro avg       0.79      0.77      0.76      1000\n",
        "weighted avg       0.79      0.77      0.76      1000\n",
        "\n",
        "time_saved : 1645793048.235762"
      ],
      "metadata": {
        "id": "0n8hlsE6o_Fr"
      }
    },
    {
      "cell_type": "markdown",
      "source": [
        "## Bombus borealis vs Bombus vosnesenskii ##"
      ],
      "metadata": {
        "id": "uHUiofhELddM"
      }
    },
    {
      "cell_type": "markdown",
      "source": [
        "[[153 347]\n",
        "\n",
        " [178 322]]\n",
        " \n",
        " shape=(2, 2), dtype=int32)\n",
        " \n",
        "              precision    recall  f1-score   support\n",
        "\n",
        "         0.0       0.46      0.31      0.37       500\n",
        "         1.0       0.48      0.64      0.55       500\n",
        "\n",
        "    accuracy                           0.48      1000\n",
        "   macro avg       0.47      0.47      0.46      1000\n",
        "weighted avg       0.47      0.47      0.46      1000\n",
        "\n",
        "time_saved : 1645669792.1422951"
      ],
      "metadata": {
        "id": "_0s_JJ0ulD9Z"
      }
    },
    {
      "cell_type": "markdown",
      "source": [
        "## Bombus borealis vs Bombus auricomus ##"
      ],
      "metadata": {
        "id": "VOoTAsUeLuqB"
      }
    },
    {
      "cell_type": "markdown",
      "source": [
        "[[107 393]\n",
        "\n",
        " [ 52 448]]\n",
        " \n",
        " shape=(2, 2), dtype=int32)\n",
        " \n",
        "              precision    recall  f1-score   support\n",
        "\n",
        "         0.0       0.67      0.21      0.32       500\n",
        "         1.0       0.53      0.90      0.67       500\n",
        "\n",
        "    accuracy                           0.56      1000\n",
        "   macro avg       0.60      0.56      0.50      1000\n",
        "weighted avg       0.60      0.56      0.50      1000\n",
        "\n",
        "time_saved : 1645694827.0002694"
      ],
      "metadata": {
        "id": "FfqfbUrMmWza"
      }
    },
    {
      "cell_type": "markdown",
      "source": [
        "## Bombus citrinus vs Bombus centralis ##"
      ],
      "metadata": {
        "id": "6ChICI8LLxnp"
      }
    },
    {
      "cell_type": "markdown",
      "source": [
        "[[456  44]\n",
        "\n",
        " [140 360]]\n",
        " \n",
        " shape=(2, 2), dtype=int32)\n",
        " \n",
        "              precision    recall  f1-score   support\n",
        "\n",
        "         0.0       0.77      0.91      0.83       500\n",
        "         1.0       0.89      0.72      0.80       500\n",
        "\n",
        "    accuracy                           0.82      1000\n",
        "   macro avg       0.83      0.82      0.81      1000\n",
        "weighted avg       0.83      0.82      0.81      1000\n",
        "\n",
        "time_saved : 1645814069.1111248"
      ],
      "metadata": {
        "id": "ozP_0nbPqGS_"
      }
    },
    {
      "cell_type": "markdown",
      "source": [
        "## Bombus citrinus vs Bombus flavidus ##"
      ],
      "metadata": {
        "id": "J4itAMHHL8-t"
      }
    },
    {
      "cell_type": "markdown",
      "source": [
        "[[330  86]\n",
        "\n",
        " [134 282]]\n",
        " \n",
        " shape=(2, 2), dtype=int32)\n",
        " \n",
        "              precision    recall  f1-score   support\n",
        "\n",
        "         0.0       0.71      0.79      0.75       416\n",
        "         1.0       0.77      0.68      0.72       416\n",
        "\n",
        "    accuracy                           0.74       832\n",
        "   macro avg       0.74      0.74      0.73       832\n",
        "weighted avg       0.74      0.74      0.73       832\n",
        "\n",
        "time_saved : 1645813810.8306105"
      ],
      "metadata": {
        "id": "vyeqd4n7pPKH"
      }
    },
    {
      "cell_type": "markdown",
      "source": [
        "## Bombus citrinus vs Bombus flavifrons ##"
      ],
      "metadata": {
        "id": "CzCbH7AlMBr1"
      }
    },
    {
      "cell_type": "markdown",
      "source": [
        "[[450  50]\n",
        "\n",
        " [189 311]]\n",
        " \n",
        " shape=(2, 2), dtype=int32)\n",
        " \n",
        "              precision    recall  f1-score   support\n",
        "\n",
        "         0.0       0.70      0.90      0.79       500\n",
        "         1.0       0.86      0.62      0.72       500\n",
        "\n",
        "    accuracy                           0.76      1000\n",
        "   macro avg       0.78      0.76      0.76      1000\n",
        "weighted avg       0.78      0.76      0.76      1000\n",
        "\n",
        "time_saved : 1645719152.2441974"
      ],
      "metadata": {
        "id": "Vlv89-NgnUaX"
      }
    },
    {
      "cell_type": "markdown",
      "source": [
        "## Bombus citrinus vs Bombus californicus ##"
      ],
      "metadata": {
        "id": "3D7IG1PXMLQt"
      }
    },
    {
      "cell_type": "markdown",
      "source": [
        "[[401  99]\n",
        "\n",
        " [182 318]]\n",
        " \n",
        " shape=(2, 2), dtype=int32)\n",
        " \n",
        "              precision    recall  f1-score   support\n",
        "\n",
        "         0.0       0.69      0.80      0.74       500\n",
        "         1.0       0.76      0.64      0.69       500\n",
        "\n",
        "    accuracy                           0.72      1000\n",
        "   macro avg       0.73      0.72      0.72      1000\n",
        "weighted avg       0.73      0.72      0.72      1000\n",
        "\n",
        "time_saved : 1645744158.7518518"
      ],
      "metadata": {
        "id": "Y4PwbqBbnwjg"
      }
    },
    {
      "cell_type": "markdown",
      "source": [
        "## Bombus citrinus vs Bombus griseocollis ##"
      ],
      "metadata": {
        "id": "03BlCD4aMO0f"
      }
    },
    {
      "cell_type": "markdown",
      "source": [
        "[[154 346]\n",
        "\n",
        " [119 381]]\n",
        " \n",
        " shape=(2, 2), dtype=int32)\n",
        " \n",
        "              precision    recall  f1-score   support\n",
        "\n",
        "         0.0       0.56      0.31      0.40       500\n",
        "         1.0       0.52      0.76      0.62       500\n",
        "\n",
        "    accuracy                           0.54      1000\n",
        "   macro avg       0.54      0.54      0.51      1000\n",
        "weighted avg       0.54      0.54      0.51      1000\n",
        "\n",
        "time_saved : 1645816652.492493"
      ],
      "metadata": {
        "id": "OkSEP_6-qgs2"
      }
    },
    {
      "cell_type": "markdown",
      "source": [
        "## Bombus citrinus vs Bombus impatiens ##"
      ],
      "metadata": {
        "id": "Gcwd-wq5MWgP"
      }
    },
    {
      "cell_type": "markdown",
      "source": [
        "[[176 324]\n",
        "\n",
        " [160 340]]\n",
        " \n",
        " shape=(2, 2), dtype=int32)\n",
        " \n",
        "              precision    recall  f1-score   support\n",
        "\n",
        "         0.0       0.52      0.35      0.42       500\n",
        "         1.0       0.51      0.68      0.58       500\n",
        "\n",
        "    accuracy                           0.52      1000\n",
        "   macro avg       0.52      0.52      0.50      1000\n",
        "weighted avg       0.52      0.52      0.50      1000\n",
        "\n",
        "time_saved : 1645829345.7134316"
      ],
      "metadata": {
        "id": "LZ31-3uMFJCt"
      }
    },
    {
      "cell_type": "markdown",
      "source": [
        "## Bombus citrinus vs Bombus insularis ##"
      ],
      "metadata": {
        "id": "7bgfpYfjMYct"
      }
    },
    {
      "cell_type": "markdown",
      "source": [
        "[[374 120]\n",
        "\n",
        " [216 278]]\n",
        " \n",
        " shape=(2, 2), dtype=int32)\n",
        " \n",
        "              precision    recall  f1-score   support\n",
        "\n",
        "         0.0       0.63      0.76      0.69       494\n",
        "         1.0       0.70      0.56      0.62       494\n",
        "\n",
        "    accuracy                           0.66       988\n",
        "   macro avg       0.67      0.66      0.66       988\n",
        "weighted avg       0.67      0.66      0.66       988\n",
        "\n",
        "time_saved : 1645768635.0592623"
      ],
      "metadata": {
        "id": "DMZqZCdXocK_"
      }
    },
    {
      "cell_type": "markdown",
      "source": [
        "## Bombus citrinus vs Bombus melanopygus ##"
      ],
      "metadata": {
        "id": "FZ53SlP-FyGu"
      }
    },
    {
      "cell_type": "markdown",
      "source": [
        "[[426  74]\n",
        "\n",
        " [217 283]]\n",
        " \n",
        " shape=(2, 2), dtype=int32)\n",
        " \n",
        "              precision    recall  f1-score   support\n",
        "\n",
        "         0.0       0.66      0.85      0.75       500\n",
        "         1.0       0.79      0.57      0.66       500\n",
        "\n",
        "    accuracy                           0.71      1000\n",
        "   macro avg       0.73      0.71      0.70      1000\n",
        "weighted avg       0.73      0.71      0.70      1000\n",
        "\n",
        "time_saved : 1645861395.9377367"
      ],
      "metadata": {
        "id": "PQ2SyvOWMTFZ"
      }
    },
    {
      "cell_type": "markdown",
      "source": [
        "## Bombus citrinus vs Bombus mixtus ##"
      ],
      "metadata": {
        "id": "ysrRBB5gF186"
      }
    },
    {
      "cell_type": "markdown",
      "source": [
        "[[443  57]\n",
        "\n",
        " [121 379]]\n",
        " \n",
        " shape=(2, 2), dtype=int32)\n",
        " \n",
        "              precision    recall  f1-score   support\n",
        "\n",
        "         0.0       0.79      0.89      0.83       500\n",
        "         1.0       0.87      0.76      0.81       500\n",
        "\n",
        "    accuracy                           0.82      1000\n",
        "   macro avg       0.83      0.82      0.82      1000\n",
        "weighted avg       0.83      0.82      0.82      1000\n",
        "\n",
        "time_saved : 1645885701.6470022"
      ],
      "metadata": {
        "id": "c23YypZdMfT4"
      }
    },
    {
      "cell_type": "markdown",
      "source": [
        "## Bombus citrinus vs Bombus nevadensis ##"
      ],
      "metadata": {
        "id": "vYhw3MkgF58o"
      }
    },
    {
      "cell_type": "markdown",
      "source": [
        "[[463  37]\n",
        "\n",
        " [124 376]]\n",
        " \n",
        " shape=(2, 2), dtype=int32)\n",
        " \n",
        "              precision    recall  f1-score   support\n",
        "\n",
        "         0.0       0.79      0.93      0.85       500\n",
        "         1.0       0.91      0.75      0.82       500\n",
        "\n",
        "    accuracy                           0.84      1000\n",
        "   macro avg       0.85      0.84      0.84      1000\n",
        "weighted avg       0.85      0.84      0.84      1000\n",
        "\n",
        "time_saved : 1645909840.1196349"
      ],
      "metadata": {
        "id": "rNPeFH7AM8jl"
      }
    },
    {
      "cell_type": "markdown",
      "source": [
        "## Bombus citrinus vs Bombus pensylvanicus ##"
      ],
      "metadata": {
        "id": "gOsAUD1rGA3J"
      }
    },
    {
      "cell_type": "markdown",
      "source": [
        "[[480  20]\n",
        "\n",
        " [ 97 403]]\n",
        " \n",
        " shape=(2, 2), dtype=int32)\n",
        " \n",
        "              precision    recall  f1-score   support\n",
        "\n",
        "         0.0       0.83      0.96      0.89       500\n",
        "         1.0       0.95      0.81      0.87       500\n",
        "\n",
        "    accuracy                           0.88      1000\n",
        "   macro avg       0.89      0.88      0.88      1000\n",
        "weighted avg       0.89      0.88      0.88      1000\n",
        "\n",
        "time_saved : 1645934423.239706"
      ],
      "metadata": {
        "id": "BNtUrkXDNVrz"
      }
    },
    {
      "cell_type": "markdown",
      "source": [
        "## Bombus citrinus vs Bombus perplexus ##"
      ],
      "metadata": {
        "id": "FZv4E1INGEcs"
      }
    },
    {
      "cell_type": "markdown",
      "source": [
        "[[166 334]\n",
        "\n",
        " [182 318]]\n",
        " \n",
        " shape=(2, 2), dtype=int32)\n",
        " \n",
        "              precision    recall  f1-score   support\n",
        "\n",
        "         0.0       0.48      0.33      0.39       500\n",
        "         1.0       0.49      0.64      0.55       500\n",
        "\n",
        "    accuracy                           0.48      1000\n",
        "   macro avg       0.48      0.48      0.47      1000\n",
        "weighted avg       0.48      0.48      0.47      1000\n",
        "\n",
        "time_saved : 1645958672.7022128"
      ],
      "metadata": {
        "id": "SaT5w_xhOCzr"
      }
    },
    {
      "cell_type": "markdown",
      "source": [
        "## Bombus citrinus vs Bombus rufocinctus ##"
      ],
      "metadata": {
        "id": "3TMTlnKGGK-J"
      }
    },
    {
      "cell_type": "markdown",
      "source": [
        "[[365 135]\n",
        "\n",
        " [246 254]]\n",
        " \n",
        " shape=(2, 2), dtype=int32)\n",
        " \n",
        "              precision    recall  f1-score   support\n",
        "\n",
        "         0.0       0.60      0.73      0.66       500\n",
        "         1.0       0.65      0.51      0.57       500\n",
        "\n",
        "    accuracy                           0.62      1000\n",
        "   macro avg       0.63      0.62      0.61      1000\n",
        "weighted avg       0.63      0.62      0.61      1000\n",
        "\n",
        "time_saved : 1645982717.7406342"
      ],
      "metadata": {
        "id": "UCmn9K_qOg96"
      }
    },
    {
      "cell_type": "markdown",
      "source": [
        "## Bombus citrinus vs Bombus huntii ##"
      ],
      "metadata": {
        "id": "Y8Mn4Pq4GN1c"
      }
    },
    {
      "cell_type": "markdown",
      "source": [
        "[[485  15]\n",
        "\n",
        " [137 363]]\n",
        " \n",
        " shape=(2, 2), dtype=int32)\n",
        " \n",
        "              precision    recall  f1-score   support\n",
        "\n",
        "         0.0       0.78      0.97      0.86       500\n",
        "         1.0       0.96      0.73      0.83       500\n",
        "\n",
        "    accuracy                           0.85      1000\n",
        "   macro avg       0.87      0.85      0.85      1000\n",
        "weighted avg       0.87      0.85      0.85      1000\n",
        "\n",
        "time_saved : 1646007816.9952285"
      ],
      "metadata": {
        "id": "_xa2eufmPE8J"
      }
    },
    {
      "cell_type": "markdown",
      "source": [
        "## Bombus citrinus vs Bombus ternarius ##"
      ],
      "metadata": {
        "id": "oe1fjbIlGUjK"
      }
    },
    {
      "cell_type": "markdown",
      "source": [
        "[[474  26]\n",
        "\n",
        " [159 341]]\n",
        " \n",
        " shape=(2, 2), dtype=int32)\n",
        " \n",
        "              precision    recall  f1-score   support\n",
        "\n",
        "         0.0       0.75      0.95      0.84       500\n",
        "         1.0       0.93      0.68      0.79       500\n",
        "\n",
        "    accuracy                           0.81      1000\n",
        "   macro avg       0.84      0.81      0.81      1000\n",
        "weighted avg       0.84      0.81      0.81      1000\n",
        "\n",
        "time_saved : 1646034572.8169098"
      ],
      "metadata": {
        "id": "644Lnyd8QBEW"
      }
    },
    {
      "cell_type": "markdown",
      "source": [
        "## Bombus citrinus vs Bombus terricola ##"
      ],
      "metadata": {
        "id": "MqCPiqGOGWpy"
      }
    },
    {
      "cell_type": "markdown",
      "source": [
        "[[473  27]\n",
        "\n",
        " [158 342]]\n",
        " \n",
        " shape=(2, 2), dtype=int32)\n",
        " \n",
        "              precision    recall  f1-score   support\n",
        "\n",
        "         0.0       0.75      0.95      0.84       500\n",
        "         1.0       0.93      0.68      0.79       500\n",
        "\n",
        "    accuracy                           0.81      1000\n",
        "   macro avg       0.84      0.81      0.81      1000\n",
        "weighted avg       0.84      0.81      0.81      1000\n",
        "\n",
        "time_saved : 1646058237.9667466"
      ],
      "metadata": {
        "id": "5Ckdv5H_Qi0O"
      }
    },
    {
      "cell_type": "markdown",
      "source": [
        "## Bombus citrinus vs Bombus vagans ##"
      ],
      "metadata": {
        "id": "wYwwuH7YGbHY"
      }
    },
    {
      "cell_type": "markdown",
      "source": [
        "[[158 342]\n",
        "\n",
        " [160 340]]\n",
        " \n",
        " hape=(2, 2), dtype=int32)\n",
        " \n",
        "              precision    recall  f1-score   support\n",
        "\n",
        "         0.0       0.50      0.32      0.39       500\n",
        "         1.0       0.50      0.68      0.58       500\n",
        "\n",
        "    accuracy                           0.50      1000\n",
        "   macro avg       0.50      0.50      0.48      1000\n",
        "weighted avg       0.50      0.50      0.48      1000\n",
        "\n",
        "time_saved : 1646082120.2857177"
      ],
      "metadata": {
        "id": "39AW0iZ7QyYI"
      }
    },
    {
      "cell_type": "markdown",
      "source": [
        "## Bombus citrinus vs Bombus vosnesenskii ##"
      ],
      "metadata": {
        "id": "gJFefEHaSPVz"
      }
    },
    {
      "cell_type": "markdown",
      "source": [
        "[[464  36]\n",
        "\n",
        " [137 363]]\n",
        " \n",
        " shape=(2, 2), dtype=int32)\n",
        " \n",
        "              precision    recall  f1-score   support\n",
        "\n",
        "         0.0       0.77      0.93      0.84       500\n",
        "         1.0       0.91      0.73      0.81       500\n",
        "\n",
        "    accuracy                           0.83      1000\n",
        "   macro avg       0.84      0.83      0.83      1000\n",
        "weighted avg       0.84      0.83      0.83      1000\n",
        "\n",
        "time_saved : 1646122977.0331311"
      ],
      "metadata": {
        "id": "akWVjInyNrNR"
      }
    },
    {
      "cell_type": "markdown",
      "source": [
        "## Bombus citrinus vs Bombus auricomus ##"
      ],
      "metadata": {
        "id": "8o1ChmzMSnB2"
      }
    },
    {
      "cell_type": "markdown",
      "source": [
        "[[481  19]\n",
        "\n",
        " [107 393]]\n",
        " \n",
        " shape=(2, 2), dtype=int32)\n",
        " \n",
        "              precision    recall  f1-score   support\n",
        "\n",
        "         0.0       0.82      0.96      0.88       500\n",
        "         1.0       0.95      0.79      0.86       500\n",
        "\n",
        "    accuracy                           0.87      1000\n",
        "   macro avg       0.89      0.87      0.87      1000\n",
        "weighted avg       0.89      0.87      0.87      1000\n",
        "\n",
        "time_saved : 1646120027.0836108"
      ],
      "metadata": {
        "id": "n1bPboPkN7Uf"
      }
    },
    {
      "cell_type": "markdown",
      "source": [
        "## Bombus centralis vs Bombus flavidus ##"
      ],
      "metadata": {
        "id": "UE1QbC01Srhf"
      }
    },
    {
      "cell_type": "markdown",
      "source": [
        "[[346  70]\n",
        "\n",
        " [163 253]]\n",
        " \n",
        " shape=(2, 2), dtype=int32)\n",
        " \n",
        "              precision    recall  f1-score   support\n",
        "\n",
        "         0.0       0.68      0.83      0.75       416\n",
        "         1.0       0.78      0.61      0.68       416\n",
        "\n",
        "    accuracy                           0.72       832\n",
        "   macro avg       0.73      0.72      0.72       832\n",
        "weighted avg       0.73      0.72      0.72       832\n",
        "\n",
        "time_saved : 1646123646.5613813"
      ],
      "metadata": {
        "id": "_CJFhpHLOUfW"
      }
    },
    {
      "cell_type": "markdown",
      "source": [
        "## Bombus centralis vs Bombus flavifrons ##"
      ],
      "metadata": {
        "id": "hKKlcT6BS_a0"
      }
    },
    {
      "cell_type": "markdown",
      "source": [
        "[[176 324]\n",
        "\n",
        " [140 360]]\n",
        " \n",
        " shape=(2, 2), dtype=int32)\n",
        " \n",
        "              precision    recall  f1-score   support\n",
        "\n",
        "         0.0       0.56      0.35      0.43       500\n",
        "         1.0       0.53      0.72      0.61       500\n",
        "\n",
        "    accuracy                           0.54      1000\n",
        "   macro avg       0.54      0.54      0.52      1000\n",
        "weighted avg       0.54      0.54      0.52      1000\n",
        "\n",
        "time_saved : 1646143573.4183931"
      ],
      "metadata": {
        "id": "HlU3-zu-OthM"
      }
    },
    {
      "cell_type": "markdown",
      "source": [
        "## Bombus centralis vs Bombus californicus ##"
      ],
      "metadata": {
        "id": "ahdvYXniTJN4"
      }
    },
    {
      "cell_type": "markdown",
      "source": [
        "[[458  42]\n",
        "\n",
        " [150 350]]\n",
        " \n",
        " shape=(2, 2), dtype=int32)\n",
        " \n",
        "              precision    recall  f1-score   support\n",
        "\n",
        "         0.0       0.75      0.92      0.83       500\n",
        "         1.0       0.89      0.70      0.78       500\n",
        "\n",
        "    accuracy                           0.81      1000\n",
        "   macro avg       0.82      0.81      0.81      1000\n",
        "weighted avg       0.82      0.81      0.81      1000\n",
        "\n",
        "time_saved : 1646150910.2859063"
      ],
      "metadata": {
        "id": "JA7AkwV2Pxn6"
      }
    },
    {
      "cell_type": "markdown",
      "source": [
        "## Bombus centralis vs Bombus griseocollis ##"
      ],
      "metadata": {
        "id": "BFg1yuT3TOSF"
      }
    },
    {
      "cell_type": "markdown",
      "source": [
        "[[482  18]\n",
        "\n",
        " [105 395]]\n",
        " \n",
        " shape=(2, 2), dtype=int32)\n",
        " \n",
        "              precision    recall  f1-score   support\n",
        "\n",
        "         0.0       0.82      0.96      0.89       500\n",
        "         1.0       0.96      0.79      0.87       500\n",
        "\n",
        "    accuracy                           0.88      1000\n",
        "   macro avg       0.89      0.88      0.88      1000\n",
        "weighted avg       0.89      0.88      0.88      1000\n",
        "\n",
        "time_saved : 1646148066.2518802"
      ],
      "metadata": {
        "id": "WEy6XTX8Qev-"
      }
    },
    {
      "cell_type": "markdown",
      "source": [
        "## Bombus centralis vs Bombus impatiens ##"
      ],
      "metadata": {
        "id": "PDdzkdb9TVYP"
      }
    },
    {
      "cell_type": "markdown",
      "source": [
        "[[475  25]\n",
        "\n",
        " [129 371]]\n",
        " \n",
        " shape=(2, 2), dtype=int32)\n",
        " \n",
        "              precision    recall  f1-score   support\n",
        "\n",
        "         0.0       0.79      0.95      0.86       500\n",
        "         1.0       0.94      0.74      0.83       500\n",
        "\n",
        "    accuracy                           0.85      1000\n",
        "   macro avg       0.86      0.85      0.84      1000\n",
        "weighted avg       0.86      0.85      0.84      1000\n",
        "\n",
        "time_saved : 1646168657.1968713"
      ],
      "metadata": {
        "id": "DXsULRo2QrmD"
      }
    },
    {
      "cell_type": "markdown",
      "source": [
        "## Bombus centralis vs Bombus insularis ##"
      ],
      "metadata": {
        "id": "_BTCNwUYTaFl"
      }
    },
    {
      "cell_type": "markdown",
      "source": [
        "[[412  82]\n",
        "\n",
        " [202 292]]\n",
        " \n",
        " shape=(2, 2), dtype=int32)\n",
        " \n",
        "              precision    recall  f1-score   support\n",
        "\n",
        "         0.0       0.67      0.83      0.74       494\n",
        "         1.0       0.78      0.59      0.67       494\n",
        "\n",
        "    accuracy                           0.71       988\n",
        "   macro avg       0.73      0.71      0.71       988\n",
        "weighted avg       0.73      0.71      0.71       988\n",
        "\n",
        "time_saved : 1646177461.9399364"
      ],
      "metadata": {
        "id": "R4AjsHzsQ_Gz"
      }
    },
    {
      "cell_type": "markdown",
      "source": [
        "## Bombus centralis vs Bombus melanopygus ##"
      ],
      "metadata": {
        "id": "-kWmokv5TdDR"
      }
    },
    {
      "cell_type": "markdown",
      "source": [
        "[[166 334]\n",
        "\n",
        " [151 349]]\n",
        " \n",
        " shape=(2, 2), dtype=int32)\n",
        " \n",
        "              precision    recall  f1-score   support\n",
        "\n",
        "         0.0       0.52      0.33      0.41       500\n",
        "         1.0       0.51      0.70      0.59       500\n",
        "\n",
        "    accuracy                           0.52      1000\n",
        "   macro avg       0.52      0.52      0.50      1000\n",
        "weighted avg       0.52      0.52      0.50      1000\n",
        "\n",
        "time_saved : 1646183449.8418753"
      ],
      "metadata": {
        "id": "x2L2rarGRHS-"
      }
    },
    {
      "cell_type": "markdown",
      "source": [
        "## Bombus centralis vs Bombus mixtus ##"
      ],
      "metadata": {
        "id": "LTpi9IKPTh2g"
      }
    },
    {
      "cell_type": "markdown",
      "source": [
        "[[217 283]\n",
        "\n",
        " [141 359]]\n",
        " \n",
        " shape=(2, 2), dtype=int32)\n",
        " \n",
        "              precision    recall  f1-score   support\n",
        "\n",
        "         0.0       0.61      0.43      0.51       500\n",
        "         1.0       0.56      0.72      0.63       500\n",
        "\n",
        "    accuracy                           0.58      1000\n",
        "   macro avg       0.58      0.58      0.57      1000\n",
        "weighted avg       0.58      0.58      0.57      1000\n",
        "\n",
        "time_saved : 1646192185.931981"
      ],
      "metadata": {
        "id": "JfxQKmC_RmS5"
      }
    },
    {
      "cell_type": "markdown",
      "source": [
        "## Bombus centralis vs Bombus nevadensis ##"
      ],
      "metadata": {
        "id": "rLeeWS6fSoUm"
      }
    },
    {
      "cell_type": "markdown",
      "source": [
        "[[490  10]\n",
        "\n",
        " [115 385]]\n",
        " \n",
        " shape=(2, 2), dtype=int32)\n",
        " \n",
        "              precision    recall  f1-score   support\n",
        "\n",
        "         0.0       0.81      0.98      0.89       500\n",
        "         1.0       0.97      0.77      0.86       500\n",
        "\n",
        "    accuracy                           0.88      1000\n",
        "   macro avg       0.89      0.88      0.87      1000\n",
        "weighted avg       0.89      0.88      0.87      1000\n",
        "\n",
        "time_saved : 1646230736.99874"
      ],
      "metadata": {
        "id": "IB031V2gapkG"
      }
    },
    {
      "cell_type": "markdown",
      "source": [
        "## Bombus centralis vs Bombus pensylvanicus ##"
      ],
      "metadata": {
        "id": "0Fri8QgNSxQD"
      }
    },
    {
      "cell_type": "markdown",
      "source": [
        "[[493   7]\n",
        "\n",
        " [137 363]]\n",
        " \n",
        " shape=(2, 2), dtype=int32)\n",
        " \n",
        "              precision    recall  f1-score   support\n",
        "\n",
        "         0.0       0.78      0.99      0.87       500\n",
        "         1.0       0.98      0.73      0.83       500\n",
        "\n",
        "    accuracy                           0.86      1000\n",
        "   macro avg       0.88      0.86      0.85      1000\n",
        "weighted avg       0.88      0.86      0.85      1000\n",
        "\n",
        "time_saved : 1646226504.7294981"
      ],
      "metadata": {
        "id": "mqieqZoPaygp"
      }
    },
    {
      "cell_type": "markdown",
      "source": [
        "## Bombus centralis vs Bombus perplexus ##"
      ],
      "metadata": {
        "id": "uXDwNn12S4pO"
      }
    },
    {
      "cell_type": "markdown",
      "source": [
        "[[460  40]\n",
        "\n",
        " [156 344]]\n",
        " \n",
        " shape=(2, 2), dtype=int32)\n",
        " \n",
        "              precision    recall  f1-score   support\n",
        "\n",
        "         0.0       0.75      0.92      0.82       500\n",
        "         1.0       0.90      0.69      0.78       500\n",
        "\n",
        "    accuracy                           0.80      1000\n",
        "   macro avg       0.82      0.80      0.80      1000\n",
        "weighted avg       0.82      0.80      0.80      1000\n",
        "\n",
        "time_saved : 1646250549.4530683"
      ],
      "metadata": {
        "id": "JA2zJkgga7Qc"
      }
    },
    {
      "cell_type": "markdown",
      "source": [
        "## Bombus centralis vs Bombus rufocinctus ##"
      ],
      "metadata": {
        "id": "VjLRixgHS6WZ"
      }
    },
    {
      "cell_type": "markdown",
      "source": [
        "[[289 211]\n",
        "\n",
        " [170 330]]\n",
        " \n",
        " shape=(2, 2), dtype=int32)\n",
        " \n",
        "              precision    recall  f1-score   support\n",
        "\n",
        "         0.0       0.63      0.58      0.60       500\n",
        "         1.0       0.61      0.66      0.63       500\n",
        "\n",
        "    accuracy                           0.62      1000\n",
        "   macro avg       0.62      0.62      0.62      1000\n",
        "weighted avg       0.62      0.62      0.62      1000\n",
        "\n",
        "time_saved : 1646258963.747429\n"
      ],
      "metadata": {
        "id": "kf0qYOz9r87B"
      }
    },
    {
      "cell_type": "markdown",
      "source": [
        "## Bombus centralis vs Bombus huntii ##"
      ],
      "metadata": {
        "id": "8UTbGPRtS8G9"
      }
    },
    {
      "cell_type": "markdown",
      "source": [
        "[[286 214]\n",
        "\n",
        " [146 354]]\n",
        " \n",
        " shape=(2, 2), dtype=int32)\n",
        " \n",
        "              precision    recall  f1-score   support\n",
        "\n",
        "         0.0       0.66      0.57      0.61       500\n",
        "         1.0       0.62      0.71      0.66       500\n",
        "\n",
        "    accuracy                           0.64      1000\n",
        "   macro avg       0.64      0.64      0.64      1000\n",
        "weighted avg       0.64      0.64      0.64      1000\n",
        "\n",
        "time_saved : 1646274647.3010848"
      ],
      "metadata": {
        "id": "84vmnfLMAhML"
      }
    },
    {
      "cell_type": "markdown",
      "source": [
        "## Bombus centralis vs Bombus ternarius ##"
      ],
      "metadata": {
        "id": "QGOAVJ0bTBwm"
      }
    },
    {
      "cell_type": "markdown",
      "source": [
        "[[246 254]\n",
        "\n",
        " [129 371]]\n",
        " \n",
        " shape=(2, 2), dtype=int32)\n",
        " \n",
        "              precision    recall  f1-score   support\n",
        "\n",
        "         0.0       0.66      0.49      0.56       500\n",
        "         1.0       0.59      0.74      0.66       500\n",
        "\n",
        "    accuracy                           0.62      1000\n",
        "   macro avg       0.62      0.62      0.61      1000\n",
        "weighted avg       0.62      0.62      0.61      1000\n",
        "\n",
        "time_saved : 1646289777.1264908"
      ],
      "metadata": {
        "id": "7wxVYlceArGR"
      }
    },
    {
      "cell_type": "markdown",
      "source": [
        "## Bombus centralis vs Bombus terricola ##"
      ],
      "metadata": {
        "id": "2kP-EemfTDrC"
      }
    },
    {
      "cell_type": "markdown",
      "source": [
        "[[477  23]\n",
        "\n",
        " [116 384]]\n",
        " \n",
        " shape=(2, 2), dtype=int32)\n",
        " \n",
        "              precision    recall  f1-score   support\n",
        "\n",
        "         0.0       0.80      0.95      0.87       500\n",
        "         1.0       0.94      0.77      0.85       500\n",
        "\n",
        "    accuracy                           0.86      1000\n",
        "   macro avg       0.87      0.86      0.86      1000\n",
        "weighted avg       0.87      0.86      0.86      1000\n",
        "\n",
        "time_saved : 1646298940.37705"
      ],
      "metadata": {
        "id": "0LvrjUltA38f"
      }
    },
    {
      "cell_type": "markdown",
      "source": [
        "## Bombus centralis vs Bombus vagans ##"
      ],
      "metadata": {
        "id": "DlPlD51kTFPU"
      }
    },
    {
      "cell_type": "markdown",
      "source": [
        "[[415  85]\n",
        "\n",
        " [149 351]]\n",
        " \n",
        " shape=(2, 2), dtype=int32)\n",
        " \n",
        "              precision    recall  f1-score   support\n",
        "\n",
        "         0.0       0.74      0.83      0.78       500\n",
        "         1.0       0.81      0.70      0.75       500\n",
        "\n",
        "    accuracy                           0.77      1000\n",
        "   macro avg       0.77      0.77      0.77      1000\n",
        "weighted avg       0.77      0.77      0.77      1000\n",
        "\n",
        "time_saved : 1646321557.064591"
      ],
      "metadata": {
        "id": "raFNxJ5LBLu7"
      }
    },
    {
      "cell_type": "markdown",
      "source": [
        "## Bombus centralis vs Bombus vosnesenskii ##"
      ],
      "metadata": {
        "id": "geoFkIlETNr2"
      }
    },
    {
      "cell_type": "markdown",
      "source": [
        "[[466  34]\n",
        "\n",
        " [ 93 407]]\n",
        " \n",
        " shape=(2, 2), dtype=int32)\n",
        " \n",
        "              precision    recall  f1-score   support\n",
        "\n",
        "         0.0       0.83      0.93      0.88       500\n",
        "         1.0       0.92      0.81      0.87       500\n",
        "\n",
        "    accuracy                           0.87      1000\n",
        "   macro avg       0.88      0.87      0.87      1000\n",
        "weighted avg       0.88      0.87      0.87      1000\n",
        "\n",
        "time_saved : 1646324136.6960614"
      ],
      "metadata": {
        "id": "8E-xZfTeBfkT"
      }
    },
    {
      "cell_type": "markdown",
      "source": [
        "## Bombus centralis vs Bombus auricomus ##"
      ],
      "metadata": {
        "id": "2DsIpZa_TQWs"
      }
    },
    {
      "cell_type": "markdown",
      "source": [
        "[[492   8]\n",
        "\n",
        " [ 68 432]]\n",
        " \n",
        " shape=(2, 2), dtype=int32)\n",
        " \n",
        "              precision    recall  f1-score   support\n",
        "\n",
        "         0.0       0.88      0.98      0.93       500\n",
        "         1.0       0.98      0.86      0.92       500\n",
        "\n",
        "    accuracy                           0.92      1000\n",
        "   macro avg       0.93      0.92      0.92      1000\n",
        "weighted avg       0.93      0.92      0.92      1000\n",
        "\n",
        "time_saved : 1646353046.4961607"
      ],
      "metadata": {
        "id": "tKH3WPdTSzWg"
      }
    },
    {
      "cell_type": "markdown",
      "source": [
        "## Bombus flavidus vs Bombus flavifrons ##"
      ],
      "metadata": {
        "id": "eJnWe7wYZEzh"
      }
    },
    {
      "cell_type": "markdown",
      "source": [
        "[[282 134]\n",
        "\n",
        " [153 263]]\n",
        " \n",
        " shape=(2, 2), dtype=int32)\n",
        " \n",
        "              precision    recall  f1-score   support\n",
        "\n",
        "         0.0       0.65      0.68      0.66       416\n",
        "         1.0       0.66      0.63      0.65       416\n",
        "\n",
        "    accuracy                           0.66       832\n",
        "   macro avg       0.66      0.66      0.65       832\n",
        "weighted avg       0.66      0.66      0.65       832\n",
        "\n",
        "time_saved : 1646388836.7911265"
      ],
      "metadata": {
        "id": "s0YCH9plltBI"
      }
    },
    {
      "cell_type": "markdown",
      "source": [
        "## Bombus flavidus vs Bombus californicus ##"
      ],
      "metadata": {
        "id": "XFwEz52lZNCk"
      }
    },
    {
      "cell_type": "markdown",
      "source": [
        "[[356  60]\n",
        "\n",
        " [179 237]]\n",
        " \n",
        " shape=(2, 2), dtype=int32)\n",
        " \n",
        "              precision    recall  f1-score   support\n",
        "\n",
        "         0.0       0.67      0.86      0.75       416\n",
        "         1.0       0.80      0.57      0.66       416\n",
        "\n",
        "    accuracy                           0.71       832\n",
        "   macro avg       0.73      0.71      0.71       832\n",
        "weighted avg       0.73      0.71      0.71       832\n",
        "\n",
        "time_saved : 1646554570.2816832"
      ],
      "metadata": {
        "id": "NbeeXGbHnKuY"
      }
    },
    {
      "cell_type": "markdown",
      "source": [
        "## Bombus flavidus vs Bombus griseocollis ##"
      ],
      "metadata": {
        "id": "5BCdTzMiZQFv"
      }
    },
    {
      "cell_type": "markdown",
      "source": [
        "[[374  42]\n",
        "\n",
        " [125 291]]\n",
        " \n",
        " shape=(2, 2), dtype=int32)\n",
        " \n",
        "              precision    recall  f1-score   support\n",
        "\n",
        "         0.0       0.75      0.90      0.82       416\n",
        "         1.0       0.87      0.70      0.78       416\n",
        "\n",
        "    accuracy                           0.80       832\n",
        "   macro avg       0.81      0.80      0.80       832\n",
        "weighted avg       0.81      0.80      0.80       832\n",
        "\n",
        "time_saved : 1646423163.891823"
      ],
      "metadata": {
        "id": "GSqALRmml2pU"
      }
    },
    {
      "cell_type": "markdown",
      "source": [
        "## Bombus flavidus vs Bombus impatiens ##"
      ],
      "metadata": {
        "id": "5vvebVywZU5I"
      }
    },
    {
      "cell_type": "markdown",
      "source": [
        "[[366  50]\n",
        "\n",
        " [121 295]]\n",
        " \n",
        " shape=(2, 2), dtype=int32)\n",
        " \n",
        "              precision    recall  f1-score   support\n",
        "\n",
        "         0.0       0.75      0.88      0.81       416\n",
        "         1.0       0.86      0.71      0.78       416\n",
        "\n",
        "    accuracy                           0.79       832\n",
        "   macro avg       0.80      0.79      0.79       832\n",
        "weighted avg       0.80      0.79      0.79       832\n",
        "\n",
        "time_saved : 1646585207.1984148"
      ],
      "metadata": {
        "id": "IZJHY7AqnVvl"
      }
    },
    {
      "cell_type": "markdown",
      "source": [
        "## Bombus flavidus vs Bombus insularis ##"
      ],
      "metadata": {
        "id": "UbzHxULYZWj0"
      }
    },
    {
      "cell_type": "markdown",
      "source": [
        "[[166 250]\n",
        "\n",
        " [183 233]]\n",
        " \n",
        " shape=(2, 2), dtype=int32)\n",
        " \n",
        "              precision    recall  f1-score   support\n",
        "\n",
        "         0.0       0.48      0.40      0.43       416\n",
        "         1.0       0.48      0.56      0.52       416\n",
        "\n",
        "    accuracy                           0.48       832\n",
        "   macro avg       0.48      0.48      0.48       832\n",
        "weighted avg       0.48      0.48      0.48       832\n",
        "\n",
        "time_saved : 1646450094.3785987"
      ],
      "metadata": {
        "id": "AyWArW3ZmIEU"
      }
    },
    {
      "cell_type": "markdown",
      "source": [
        "## Bombus flavidus vs Bombus melanopygus ##"
      ],
      "metadata": {
        "id": "HcNBRtlfZZic"
      }
    },
    {
      "cell_type": "markdown",
      "source": [
        "[[310 106]\n",
        "\n",
        " [159 257]]\n",
        " \n",
        " shape=(2, 2), dtype=int32)\n",
        " \n",
        "              precision    recall  f1-score   support\n",
        "\n",
        "         0.0       0.66      0.75      0.70       416\n",
        "         1.0       0.71      0.62      0.66       416\n",
        "\n",
        "    accuracy                           0.68       832\n",
        "   macro avg       0.68      0.68      0.68       832\n",
        "weighted avg       0.68      0.68      0.68       832\n",
        "\n",
        "time_saved : 1646457145.3452575"
      ],
      "metadata": {
        "id": "zqvjWAjkmStw"
      }
    },
    {
      "cell_type": "markdown",
      "source": [
        "## Bombus flavidus vs Bombus mixtus ##"
      ],
      "metadata": {
        "id": "71XrSamlZdSD"
      }
    },
    {
      "cell_type": "markdown",
      "source": [
        "[[228 188]\n",
        "\n",
        " [116 300]]\n",
        " \n",
        " shape=(2, 2), dtype=int32)\n",
        " \n",
        "              precision    recall  f1-score   support\n",
        "\n",
        "         0.0       0.66      0.55      0.60       416\n",
        "         1.0       0.61      0.72      0.66       416\n",
        "\n",
        "    accuracy                           0.63       832\n",
        "   macro avg       0.64      0.63      0.63       832\n",
        "weighted avg       0.64      0.63      0.63       832\n",
        "\n",
        "time_saved : 1646479153.1204252"
      ],
      "metadata": {
        "id": "DQf7bMzkmlrm"
      }
    },
    {
      "cell_type": "markdown",
      "source": [
        "## Bombus flavidus vs Bombus nevadensis ##"
      ],
      "metadata": {
        "id": "c5yLxLAWZflE"
      }
    },
    {
      "cell_type": "markdown",
      "source": [
        "[[392  24]\n",
        "\n",
        " [140 276]]\n",
        " \n",
        " shape=(2, 2), dtype=int32)\n",
        " \n",
        "              precision    recall  f1-score   support\n",
        "\n",
        "         0.0       0.74      0.94      0.83       416\n",
        "         1.0       0.92      0.66      0.77       416\n",
        "\n",
        "    accuracy                           0.80       832\n",
        "   macro avg       0.83      0.80      0.80       832\n",
        "weighted avg       0.83      0.80      0.80       832\n",
        "\n",
        "time_saved : 1646490974.107465"
      ],
      "metadata": {
        "id": "ZhyzakS7mxuT"
      }
    },
    {
      "cell_type": "markdown",
      "source": [
        "## Bombus flavidus vs Bombus pensylvanicus ##"
      ],
      "metadata": {
        "id": "nzfBzaE0Zhmc"
      }
    },
    {
      "cell_type": "markdown",
      "source": [
        "[[390  26]\n",
        "\n",
        " [ 87 329]]\n",
        " \n",
        " shape=(2, 2), dtype=int32)\n",
        " \n",
        "              precision    recall  f1-score   support\n",
        "\n",
        "         0.0       0.82      0.94      0.87       416\n",
        "         1.0       0.93      0.79      0.85       416\n",
        "\n",
        "    accuracy                           0.86       832\n",
        "   macro avg       0.87      0.86      0.86       832\n",
        "weighted avg       0.87      0.86      0.86       832\n",
        "\n",
        "time_saved : 1646617046.5052216"
      ],
      "metadata": {
        "id": "tierFofWniD5"
      }
    },
    {
      "cell_type": "markdown",
      "source": [
        "## Bombus flavidus vs Bombus perplexus ##"
      ],
      "metadata": {
        "id": "xpW3d8UIZlsq"
      }
    },
    {
      "cell_type": "markdown",
      "source": [
        "[[324  92]\n",
        "\n",
        "[154 262]]\n",
        " \n",
        "shape=(2, 2), dtype=int32)\n",
        "\n",
        "              precision    recall  f1-score   support\n",
        "\n",
        "         0.0       0.68      0.78      0.72       416\n",
        "         1.0       0.74      0.63      0.68       416\n",
        "\n",
        "    accuracy                           0.70       832\n",
        "   macro avg       0.71      0.70      0.70       832\n",
        "weighted avg       0.71      0.70      0.70       832\n",
        "\n",
        "time_saved : 1646524726.9772055"
      ],
      "metadata": {
        "id": "594K__wpm8zv"
      }
    },
    {
      "cell_type": "markdown",
      "source": [
        "## Bombus flavidus vs Bombus rufocinctus ##"
      ],
      "metadata": {
        "id": "2MKEWR6Wn0bs"
      }
    },
    {
      "cell_type": "markdown",
      "source": [
        "[[294 122]\n",
        "\n",
        " [229 187]]\n",
        " \n",
        " shape=(2, 2), dtype=int32)\n",
        " \n",
        "              precision    recall  f1-score   support\n",
        "\n",
        "         0.0       0.56      0.71      0.63       416\n",
        "         1.0       0.61      0.45      0.52       416\n",
        "\n",
        "    accuracy                           0.58       832\n",
        "   macro avg       0.58      0.58      0.57       832\n",
        "weighted avg       0.58      0.58      0.57       832\n",
        "\n",
        "time_saved : 1646659086.2708483"
      ],
      "metadata": {
        "id": "wGvpESewN3ST"
      }
    },
    {
      "cell_type": "markdown",
      "source": [
        "## Bombus flavidus vs Bombus huntii ##"
      ],
      "metadata": {
        "id": "XyI4JJGZn-fJ"
      }
    },
    {
      "cell_type": "markdown",
      "source": [
        "[[392  24]\n",
        "\n",
        " [129 287]]\n",
        " \n",
        " shape=(2, 2), dtype=int32)\n",
        " \n",
        "              precision    recall  f1-score   support\n",
        "\n",
        "         0.0       0.75      0.94      0.84       416\n",
        "         1.0       0.92      0.69      0.79       416\n",
        "\n",
        "    accuracy                           0.82       832\n",
        "   macro avg       0.84      0.82      0.81       832\n",
        "weighted avg       0.84      0.82      0.81       832\n",
        "\n",
        "time_saved : 1646825010.3336806"
      ],
      "metadata": {
        "id": "xfSH5U-DP81Y"
      }
    },
    {
      "cell_type": "markdown",
      "source": [
        "## Bombus flavidus vs Bombus ternarius ##"
      ],
      "metadata": {
        "id": "4DzcnQR6oB3n"
      }
    },
    {
      "cell_type": "markdown",
      "source": [
        "[[394  22]\n",
        "\n",
        " [151 265]]\n",
        " \n",
        " shape=(2, 2), dtype=int32)\n",
        " \n",
        "              precision    recall  f1-score   support\n",
        "\n",
        "         0.0       0.72      0.95      0.82       416\n",
        "         1.0       0.92      0.64      0.75       416\n",
        "\n",
        "    accuracy                           0.79       832\n",
        "   macro avg       0.82      0.79      0.79       832\n",
        "weighted avg       0.82      0.79      0.79       832\n",
        "\n",
        "time_saved : 1646842229.885947"
      ],
      "metadata": {
        "id": "b-HfSll1VEMu"
      }
    },
    {
      "cell_type": "markdown",
      "source": [
        "## Bombus flavidus vs Bombus terricola ##"
      ],
      "metadata": {
        "id": "nLtt1NtvoDhv"
      }
    },
    {
      "cell_type": "markdown",
      "source": [
        "[[378  38]\n",
        "\n",
        " [129 287]]\n",
        " \n",
        " shape=(2, 2), dtype=int32)\n",
        " \n",
        "              precision    recall  f1-score   support\n",
        "\n",
        "         0.0       0.75      0.91      0.82       416\n",
        "         1.0       0.88      0.69      0.77       416\n",
        "\n",
        "    accuracy                           0.80       832\n",
        "   macro avg       0.81      0.80      0.80       832\n",
        "weighted avg       0.81      0.80      0.80       832\n",
        "\n",
        "time_saved : 1646687014.3828497"
      ],
      "metadata": {
        "id": "jEW1LLw1OG3P"
      }
    },
    {
      "cell_type": "markdown",
      "source": [
        "## Bombus flavidus vs Bombus vagans ##"
      ],
      "metadata": {
        "id": "TOOR3CmDoFNR"
      }
    },
    {
      "cell_type": "markdown",
      "source": [
        "[[332  84]\n",
        "\n",
        " [186 230]]\n",
        " \n",
        " shape=(2, 2), dtype=int32)\n",
        " \n",
        "              precision    recall  f1-score   support\n",
        "\n",
        "         0.0       0.64      0.80      0.71       416\n",
        "         1.0       0.73      0.55      0.63       416\n",
        "\n",
        "    accuracy                           0.68       832\n",
        "   macro avg       0.69      0.68      0.67       832\n",
        "weighted avg       0.69      0.68      0.67       832\n",
        "\n",
        "time_saved : 1646746554.6354604"
      ],
      "metadata": {
        "id": "M4bWIw0dPFwf"
      }
    },
    {
      "cell_type": "markdown",
      "source": [
        "## Bombus flavidus vs Bombus vosnesenskii ##"
      ],
      "metadata": {
        "id": "dszODH-yoHjf"
      }
    },
    {
      "cell_type": "markdown",
      "source": [
        "[[372  44]\n",
        "\n",
        " [131 285]]\n",
        " \n",
        " shape=(2, 2), dtype=int32)\n",
        " \n",
        "              precision    recall  f1-score   support\n",
        "\n",
        "         0.0       0.74      0.89      0.81       416\n",
        "         1.0       0.87      0.69      0.77       416\n",
        "\n",
        "    accuracy                           0.79       832\n",
        "   macro avg       0.80      0.79      0.79       832\n",
        "weighted avg       0.80      0.79      0.79       832\n",
        "\n",
        "time_saved : 1646823821.8981762"
      ],
      "metadata": {
        "id": "Rf83ks-QPsgr"
      }
    },
    {
      "cell_type": "markdown",
      "source": [
        "## Bombus flavidus vs Bombus auricomus ##"
      ],
      "metadata": {
        "id": "c0qn2hYooK-f"
      }
    },
    {
      "cell_type": "markdown",
      "source": [
        "[[398  18]\n",
        "\n",
        " [ 89 327]]\n",
        " \n",
        " shape=(2, 2), dtype=int32)\n",
        " \n",
        "              precision    recall  f1-score   support\n",
        "\n",
        "         0.0       0.82      0.96      0.88       416\n",
        "         1.0       0.95      0.79      0.86       416\n",
        "\n",
        "    accuracy                           0.87       832\n",
        "   macro avg       0.88      0.87      0.87       832\n",
        "weighted avg       0.88      0.87      0.87       832\n",
        "\n",
        "time_saved : 1646808612.0339532"
      ],
      "metadata": {
        "id": "50T2S0TdPhgV"
      }
    },
    {
      "cell_type": "markdown",
      "source": [
        "## Bombus flavifrons vs Bombus californicus ##"
      ],
      "metadata": {
        "id": "EqaS2T9ZoM8I"
      }
    },
    {
      "cell_type": "markdown",
      "source": [
        "[[441  59]\n",
        "\n",
        " [204 296]]\n",
        " \n",
        " shape=(2, 2), dtype=int32)\n",
        " \n",
        "              precision    recall  f1-score   support\n",
        "\n",
        "         0.0       0.68      0.88      0.77       500\n",
        "         1.0       0.83      0.59      0.69       500\n",
        "\n",
        "    accuracy                           0.74      1000\n",
        "   macro avg       0.76      0.74      0.73      1000\n",
        "weighted avg       0.76      0.74      0.73      1000\n",
        "\n",
        "time_saved : 1647474163.697706"
      ],
      "metadata": {
        "id": "K7oVpEMMPW-6"
      }
    },
    {
      "cell_type": "markdown",
      "source": [
        "## Bombus flavifrons vs Bombus griseocollis ##"
      ],
      "metadata": {
        "id": "_j3v1csToRhQ"
      }
    },
    {
      "cell_type": "markdown",
      "source": [
        "[[469  31]\n",
        "\n",
        " [ 97 403]]\n",
        " \n",
        " shape=(2, 2), dtype=int32)\n",
        " \n",
        "              precision    recall  f1-score   support\n",
        "\n",
        "         0.0       0.83      0.94      0.88       500\n",
        "         1.0       0.93      0.81      0.86       500\n",
        "\n",
        "    accuracy                           0.87      1000\n",
        "   macro avg       0.88      0.87      0.87      1000\n",
        "weighted avg       0.88      0.87      0.87      1000\n",
        "\n",
        "time_saved : 1647536919.4517066"
      ],
      "metadata": {
        "id": "_D4hsq3QOnY0"
      }
    },
    {
      "cell_type": "markdown",
      "source": [
        "## Bombus flavifrons vs Bombus impatiens ##"
      ],
      "metadata": {
        "id": "PpN_rQ1goTqD"
      }
    },
    {
      "cell_type": "markdown",
      "source": [
        "[[453  47]\n",
        "\n",
        " [149 351]]\n",
        " \n",
        " shape=(2, 2), dtype=int32)\n",
        " \n",
        "              precision    recall  f1-score   support\n",
        "\n",
        "         0.0       0.75      0.91      0.82       500\n",
        "         1.0       0.88      0.70      0.78       500\n",
        "\n",
        "    accuracy                           0.80      1000\n",
        "   macro avg       0.82      0.80      0.80      1000\n",
        "weighted avg       0.82      0.80      0.80      1000\n",
        "\n",
        "time_saved : 1647489478.7914736"
      ],
      "metadata": {
        "id": "kHo74O38O1jN"
      }
    },
    {
      "cell_type": "markdown",
      "source": [
        "## Bombus flavifrons vs Bombus insularis ##"
      ],
      "metadata": {
        "id": "M60ktt0RVLy8"
      }
    },
    {
      "cell_type": "markdown",
      "source": [
        "[[368 126]\n",
        "\n",
        " [188 306]]\n",
        " \n",
        " shape=(2, 2), dtype=int32)\n",
        " \n",
        "              precision    recall  f1-score   support\n",
        "\n",
        "         0.0       0.66      0.74      0.70       494\n",
        "         1.0       0.71      0.62      0.66       494\n",
        "\n",
        "    accuracy                           0.68       988\n",
        "   macro avg       0.69      0.68      0.68       988\n",
        "weighted avg       0.69      0.68      0.68       988\n",
        "\n",
        "time_saved : 1647951531.844574"
      ],
      "metadata": {
        "id": "KBcovgy4EZ2r"
      }
    },
    {
      "cell_type": "markdown",
      "source": [
        "## Bombus flavifrons vs Bombus melanopygus ##"
      ],
      "metadata": {
        "id": "tnKa-i3SVXqm"
      }
    },
    {
      "cell_type": "markdown",
      "source": [
        "[[250 250]\n",
        "\n",
        " [181 319]]\n",
        " \n",
        " shape=(2, 2), dtype=int32)\n",
        " \n",
        "              precision    recall  f1-score   support\n",
        "\n",
        "         0.0       0.58      0.50      0.54       500\n",
        "         1.0       0.56      0.64      0.60       500\n",
        "\n",
        "    accuracy                           0.57      1000\n",
        "   macro avg       0.57      0.57      0.57      1000\n",
        "weighted avg       0.57      0.57      0.57      1000\n",
        "\n",
        "time_saved : 1647431748.5728774"
      ],
      "metadata": {
        "id": "cwMHdTmmukbD"
      }
    },
    {
      "cell_type": "markdown",
      "source": [
        "## Bombus flavifrons vs Bombus mixtus ##"
      ],
      "metadata": {
        "id": "bKJ9JTusVdnO"
      }
    },
    {
      "cell_type": "markdown",
      "source": [
        "[[286 554]\n",
        "\n",
        " [225 615]]\n",
        " \n",
        " shape=(2, 2), dtype=int32)\n",
        " \n",
        "              precision    recall  f1-score   support\n",
        "\n",
        "         0.0       0.56      0.34      0.42       840\n",
        "         1.0       0.53      0.73      0.61       840\n",
        "\n",
        "    accuracy                           0.54      1680\n",
        "   macro avg       0.54      0.54      0.52      1680\n",
        "weighted avg       0.54      0.54      0.52      1680\n",
        "\n",
        "time_saved : 1647016875.8411508"
      ],
      "metadata": {
        "id": "gpIcy-B0lfrk"
      }
    },
    {
      "cell_type": "markdown",
      "source": [
        "## Bombus flavifrons vs Bombus nevadensis ##"
      ],
      "metadata": {
        "id": "d7BAgQ-hVfJh"
      }
    },
    {
      "cell_type": "markdown",
      "source": [
        "[[277  13]\n",
        "\n",
        " [ 22 268]]\n",
        " \n",
        " shape=(2, 2), dtype=int32)\n",
        " \n",
        "              precision    recall  f1-score   support\n",
        "\n",
        "         0.0       0.93      0.96      0.94       290\n",
        "         1.0       0.95      0.92      0.94       290\n",
        "\n",
        "    accuracy                           0.94       580\n",
        "   macro avg       0.94      0.94      0.94       580\n",
        "weighted avg       0.94      0.94      0.94       580\n",
        "\n",
        "time_saved : 1647033425.552463"
      ],
      "metadata": {
        "id": "_e2LyXSBlqsb"
      }
    },
    {
      "cell_type": "markdown",
      "source": [
        "## Bombus flavifrons vs Bombus pensylvanicus ##"
      ],
      "metadata": {
        "id": "fT1rJ6-8VhB-"
      }
    },
    {
      "cell_type": "markdown",
      "source": [
        "[[484  16]\n",
        "\n",
        " [115 385]]\n",
        " \n",
        " shape=(2, 2), dtype=int32)\n",
        " \n",
        "              precision    recall  f1-score   support\n",
        "\n",
        "         0.0       0.81      0.97      0.88       500\n",
        "         1.0       0.96      0.77      0.85       500\n",
        "\n",
        "    accuracy                           0.87      1000\n",
        "   macro avg       0.88      0.87      0.87      1000\n",
        "weighted avg       0.88      0.87      0.87      1000\n",
        "\n",
        "time_saved : 1647439731.3096056"
      ],
      "metadata": {
        "id": "Lmk_ZzeSuvZV"
      }
    },
    {
      "cell_type": "markdown",
      "source": [
        "## Bombus flavifrons vs Bombus perplexus ##"
      ],
      "metadata": {
        "id": "D9Ipk-acVl-7"
      }
    },
    {
      "cell_type": "markdown",
      "source": [
        "[[449  49]\n",
        "\n",
        " [163 335]]\n",
        " \n",
        " shape=(2, 2), dtype=int32)\n",
        " \n",
        "              precision    recall  f1-score   support\n",
        "\n",
        "         0.0       0.73      0.90      0.81       498\n",
        "         1.0       0.87      0.67      0.76       498\n",
        "\n",
        "    accuracy                           0.79       996\n",
        "   macro avg       0.80      0.79      0.78       996\n",
        "weighted avg       0.80      0.79      0.78       996\n",
        "\n",
        "time_saved : 1647067346.6031845"
      ],
      "metadata": {
        "id": "mXCJPug8l6Pd"
      }
    },
    {
      "cell_type": "markdown",
      "source": [
        "## Bombus flavifrons vs Bombus rufocinctus ##"
      ],
      "metadata": {
        "id": "k1plL1GsVn00"
      }
    },
    {
      "cell_type": "markdown",
      "source": [
        "[[291 209]\n",
        "\n",
        " [206 294]]\n",
        " \n",
        " shape=(2, 2), dtype=int32)\n",
        " \n",
        "              precision    recall  f1-score   support\n",
        "\n",
        "         0.0       0.59      0.58      0.58       500\n",
        "         1.0       0.58      0.59      0.59       500\n",
        "\n",
        "    accuracy                           0.58      1000\n",
        "   macro avg       0.59      0.58      0.58      1000\n",
        "weighted avg       0.59      0.58      0.58      1000\n",
        "\n",
        "time_saved : 1647458484.6729147"
      ],
      "metadata": {
        "id": "mlniS1Spu6-Q"
      }
    },
    {
      "cell_type": "markdown",
      "source": [
        "## Bombus flavifrons vs Bombus huntii ##"
      ],
      "metadata": {
        "id": "IveHaWpswYFm"
      }
    },
    {
      "cell_type": "markdown",
      "source": [
        "[[416  84]\n",
        "\n",
        " [ 93 407]]\n",
        " \n",
        " shape=(2, 2), dtype=int32)\n",
        " \n",
        "              precision    recall  f1-score   support\n",
        "\n",
        "         0.0       0.82      0.83      0.82       500\n",
        "         1.0       0.83      0.81      0.82       500\n",
        "\n",
        "    accuracy                           0.82      1000\n",
        "   macro avg       0.82      0.82      0.82      1000\n",
        "weighted avg       0.82      0.82      0.82      1000\n",
        "\n",
        "time_saved : 1647990541.9075356"
      ],
      "metadata": {
        "id": "m8b-7aj9E8K3"
      }
    },
    {
      "cell_type": "markdown",
      "source": [
        "## Bombus flavifrons vs Bombus ternarius ##"
      ],
      "metadata": {
        "id": "F6UUZTwYwZoC"
      }
    },
    {
      "cell_type": "markdown",
      "source": [
        "[[384 116]\n",
        "\n",
        " [114 386]]\n",
        " \n",
        " shape=(2, 2), dtype=int32)\n",
        " \n",
        "              precision    recall  f1-score   support\n",
        "\n",
        "         0.0       0.77      0.77      0.77       500\n",
        "         1.0       0.77      0.77      0.77       500\n",
        "\n",
        "    accuracy                           0.77      1000\n",
        "   macro avg       0.77      0.77      0.77      1000\n",
        "weighted avg       0.77      0.77      0.77      1000\n",
        "\n",
        "time_saved : 1648030280.6122575"
      ],
      "metadata": {
        "id": "DG_ZrcCTFMzT"
      }
    },
    {
      "cell_type": "markdown",
      "source": [
        "## Bombus flavifrons vs Bombus terricola ##"
      ],
      "metadata": {
        "id": "Eka6h23wwbtI"
      }
    },
    {
      "cell_type": "markdown",
      "source": [
        "[[334  22]\n",
        "\n",
        " [101 255]]\n",
        " \n",
        " shape=(2, 2), dtype=int32)\n",
        " \n",
        "              precision    recall  f1-score   support\n",
        "\n",
        "         0.0       0.77      0.94      0.84       356\n",
        "         1.0       0.92      0.72      0.81       356\n",
        "\n",
        "    accuracy                           0.83       712\n",
        "   macro avg       0.84      0.83      0.83       712\n",
        "weighted avg       0.84      0.83      0.83       712\n",
        "\n",
        "time_saved : 1648031361.2142031"
      ],
      "metadata": {
        "id": "6PFuxtl1FcQF"
      }
    },
    {
      "cell_type": "markdown",
      "source": [
        "## Bombus flavifrons vs Bombus vagans ##"
      ],
      "metadata": {
        "id": "M7mw8u2pwdcO"
      }
    },
    {
      "cell_type": "markdown",
      "source": [
        "[[422  78]\n",
        "\n",
        " [154 346]]\n",
        " \n",
        " shape=(2, 2), dtype=int32)\n",
        " \n",
        "              precision    recall  f1-score   support\n",
        "\n",
        "         0.0       0.73      0.84      0.78       500\n",
        "         1.0       0.82      0.69      0.75       500\n",
        "\n",
        "    accuracy                           0.77      1000\n",
        "   macro avg       0.77      0.77      0.77      1000\n",
        "weighted avg       0.77      0.77      0.77      1000\n",
        "\n",
        "time_saved : 1648081737.2124186"
      ],
      "metadata": {
        "id": "fWVZF5zIGByv"
      }
    },
    {
      "cell_type": "markdown",
      "source": [
        "## Bombus flavifrons vs Bombus vosnesenskii ##"
      ],
      "metadata": {
        "id": "uLnEqcswwe50"
      }
    },
    {
      "cell_type": "markdown",
      "source": [
        "[[470  30]\n",
        "\n",
        " [141 359]]\n",
        " \n",
        " shape=(2, 2), dtype=int32)\n",
        " \n",
        "              precision    recall  f1-score   support\n",
        "\n",
        "         0.0       0.77      0.94      0.85       500\n",
        "         1.0       0.92      0.72      0.81       500\n",
        "\n",
        "    accuracy                           0.83      1000\n",
        "   macro avg       0.85      0.83      0.83      1000\n",
        "weighted avg       0.85      0.83      0.83      1000\n",
        "\n",
        "time_saved : 1648072593.9592261"
      ],
      "metadata": {
        "id": "gz47DnJeFzja"
      }
    },
    {
      "cell_type": "markdown",
      "source": [
        "## Bombus flavifrons vs Bombus auricomus ##"
      ],
      "metadata": {
        "id": "Wd71GnHDwhER"
      }
    },
    {
      "cell_type": "markdown",
      "source": [
        "[[373  11]\n",
        "\n",
        " [112 272]]\n",
        " \n",
        " shape=(2, 2), dtype=int32)\n",
        " \n",
        "              precision    recall  f1-score   support\n",
        "\n",
        "         0.0       0.77      0.97      0.86       384\n",
        "         1.0       0.96      0.71      0.82       384\n",
        "\n",
        "    accuracy                           0.84       768\n",
        "   macro avg       0.87      0.84      0.84       768\n",
        "weighted avg       0.87      0.84      0.84       768\n",
        "\n",
        "time_saved : 1648072173.666659"
      ],
      "metadata": {
        "id": "R1Bz_ZIDFpww"
      }
    },
    {
      "cell_type": "markdown",
      "source": [
        "## Bombus californicus vs Bombus griseocollis ##"
      ],
      "metadata": {
        "id": "wCpLAyW3wl4m"
      }
    },
    {
      "cell_type": "markdown",
      "source": [
        "[[401  99]\n",
        "\n",
        " [251 249]]\n",
        " \n",
        " shape=(2, 2), dtype=int32)\n",
        " \n",
        "              precision    recall  f1-score   support\n",
        "\n",
        "         0.0       0.62      0.80      0.70       500\n",
        "         1.0       0.72      0.50      0.59       500\n",
        "\n",
        "    accuracy                           0.65      1000\n",
        "   macro avg       0.67      0.65      0.64      1000\n",
        "weighted avg       0.67      0.65      0.64      1000\n",
        "\n",
        "time_saved : 1648098978.3329985"
      ],
      "metadata": {
        "id": "B6xgyUAOGSKN"
      }
    },
    {
      "cell_type": "markdown",
      "source": [
        "## Bombus californicus vs Bombus impatiens ##"
      ],
      "metadata": {
        "id": "3M5xsGKWwwPi"
      }
    },
    {
      "cell_type": "markdown",
      "source": [
        "[[421  79]\n",
        "\n",
        " [253 247]]\n",
        " \n",
        " shape=(2, 2), dtype=int32)\n",
        " \n",
        "              precision    recall  f1-score   support\n",
        "\n",
        "         0.0       0.62      0.84      0.72       500\n",
        "         1.0       0.76      0.49      0.60       500\n",
        "\n",
        "    accuracy                           0.67      1000\n",
        "   macro avg       0.69      0.67      0.66      1000\n",
        "weighted avg       0.69      0.67      0.66      1000\n",
        "\n",
        "time_saved : 1648099653.8936534"
      ],
      "metadata": {
        "id": "zpE-CeLIGcHX"
      }
    },
    {
      "cell_type": "markdown",
      "source": [
        "## Bombus californicus vs Bombus insularis ##"
      ],
      "metadata": {
        "id": "S1Mdk60Wwxur"
      }
    },
    {
      "cell_type": "markdown",
      "source": [
        "[[410  84]\n",
        "\n",
        " [256 238]]\n",
        " \n",
        " shape=(2, 2), dtype=int32)\n",
        " \n",
        "              precision    recall  f1-score   support\n",
        "\n",
        "         0.0       0.62      0.83      0.71       494\n",
        "         1.0       0.74      0.48      0.58       494\n",
        "\n",
        "    accuracy                           0.66       988\n",
        "   macro avg       0.68      0.66      0.65       988\n",
        "weighted avg       0.68      0.66      0.65       988\n",
        "\n",
        "time_saved : 1648322955.5563097"
      ],
      "metadata": {
        "id": "T5CCvrxS6Far"
      }
    },
    {
      "cell_type": "markdown",
      "source": [
        "## Bombus californicus vs Bombus melanopygus ##"
      ],
      "metadata": {
        "id": "CU-sQd2kH9W3"
      }
    },
    {
      "cell_type": "markdown",
      "source": [
        "[[445  55]\n",
        "\n",
        " [324 176]]\n",
        " \n",
        " shape=(2, 2), dtype=int32)\n",
        " \n",
        "              precision    recall  f1-score   support\n",
        "\n",
        "         0.0       0.58      0.89      0.70       500\n",
        "         1.0       0.76      0.35      0.48       500\n",
        "\n",
        "    accuracy                           0.62      1000\n",
        "   macro avg       0.67      0.62      0.59      1000\n",
        "weighted avg       0.67      0.62      0.59      1000\n",
        "\n",
        "time_saved : 1648203358.4777994"
      ],
      "metadata": {
        "id": "not3uo-m4WUU"
      }
    },
    {
      "cell_type": "markdown",
      "source": [
        "## Bombus californicus vs Bombus mixtus ##"
      ],
      "metadata": {
        "id": "UcO_SfGVICB6"
      }
    },
    {
      "cell_type": "markdown",
      "source": [
        "[[462  38]\n",
        "\n",
        " [144 356]]\n",
        " \n",
        " shape=(2, 2), dtype=int32)\n",
        " \n",
        "              precision    recall  f1-score   support\n",
        "\n",
        "         0.0       0.76      0.92      0.84       500\n",
        "         1.0       0.90      0.71      0.80       500\n",
        "\n",
        "    accuracy                           0.82      1000\n",
        "   macro avg       0.83      0.82      0.82      1000\n",
        "weighted avg       0.83      0.82      0.82      1000\n",
        "\n",
        "time_saved : 1648239666.749369"
      ],
      "metadata": {
        "id": "MZNV9X-w4iWv"
      }
    },
    {
      "cell_type": "markdown",
      "source": [
        "## Bombus californicus vs Bombus nevadensis ##"
      ],
      "metadata": {
        "id": "qlUJpikUIDcc"
      }
    },
    {
      "cell_type": "markdown",
      "source": [
        "[[112 178]\n",
        "\n",
        " [ 37 253]]\n",
        " \n",
        " shape=(2, 2), dtype=int32)\n",
        " \n",
        "              precision    recall  f1-score   support\n",
        "\n",
        "         0.0       0.75      0.39      0.51       290\n",
        "         1.0       0.59      0.87      0.70       290\n",
        "\n",
        "    accuracy                           0.63       580\n",
        "   macro avg       0.67      0.63      0.61       580\n",
        "weighted avg       0.67      0.63      0.61       580\n",
        "\n",
        "time_saved : 1648244673.1454089"
      ],
      "metadata": {
        "id": "5YDFJyO74tp0"
      }
    },
    {
      "cell_type": "markdown",
      "source": [
        "## Bombus californicus vs Bombus pensylvanicus ##"
      ],
      "metadata": {
        "id": "YYRWnTALIFZu"
      }
    },
    {
      "cell_type": "markdown",
      "source": [
        "[[155 345]\n",
        "\n",
        " [235 265]]\n",
        " \n",
        " shape=(2, 2), dtype=int32)\n",
        " \n",
        "              precision    recall  f1-score   support\n",
        "\n",
        "         0.0       0.40      0.31      0.35       500\n",
        "         1.0       0.43      0.53      0.48       500\n",
        "\n",
        "    accuracy                           0.42      1000\n",
        "   macro avg       0.42      0.42      0.41      1000\n",
        "weighted avg       0.42      0.42      0.41      1000\n",
        "\n",
        "time_saved : 1648279327.041902"
      ],
      "metadata": {
        "id": "JwrGnzdI46z_"
      }
    },
    {
      "cell_type": "markdown",
      "source": [
        "## Bombus californicus vs Bombus perplexus ##"
      ],
      "metadata": {
        "id": "PZqvT25HIIXs"
      }
    },
    {
      "cell_type": "markdown",
      "source": [
        "[[411  87]\n",
        "\n",
        " [147 351]]\n",
        " \n",
        " shape=(2, 2), dtype=int32)\n",
        " \n",
        "              precision    recall  f1-score   support\n",
        "\n",
        "         0.0       0.74      0.83      0.78       498\n",
        "         1.0       0.80      0.70      0.75       498\n",
        "\n",
        "    accuracy                           0.77       996\n",
        "   macro avg       0.77      0.77      0.76       996\n",
        "weighted avg       0.77      0.77      0.76       996\n",
        "\n",
        "time_saved : 1648272931.152746"
      ],
      "metadata": {
        "id": "-4LCkb465Glf"
      }
    },
    {
      "cell_type": "markdown",
      "source": [
        "## Bombus californicus vs Bombus rufocinctus ##"
      ],
      "metadata": {
        "id": "qfkOigNFIKsl"
      }
    },
    {
      "cell_type": "markdown",
      "source": [
        "[[433  67]\n",
        "\n",
        " [248 252]]\n",
        " \n",
        " shape=(2, 2), dtype=int32)\n",
        " \n",
        "              precision    recall  f1-score   support\n",
        "\n",
        "         0.0       0.64      0.87      0.73       500\n",
        "         1.0       0.79      0.50      0.62       500\n",
        "\n",
        "    accuracy                           0.69      1000\n",
        "   macro avg       0.71      0.69      0.67      1000\n",
        "weighted avg       0.71      0.69      0.67      1000\n",
        "\n",
        "time_saved : 1648285186.9219186"
      ],
      "metadata": {
        "id": "3Wk9rkQF5R0r"
      }
    },
    {
      "cell_type": "markdown",
      "source": [
        "## Bombus californicus vs Bombus huntii ##"
      ],
      "metadata": {
        "id": "ZNGJQ0FPIMQq"
      }
    },
    {
      "cell_type": "markdown",
      "source": [
        "[[471  29]\n",
        "\n",
        " [200 300]]\n",
        " \n",
        " shape=(2, 2), dtype=int32)\n",
        " \n",
        "              precision    recall  f1-score   support\n",
        "\n",
        "         0.0       0.70      0.94      0.80       500\n",
        "         1.0       0.91      0.60      0.72       500\n",
        "\n",
        "    accuracy                           0.77      1000\n",
        "   macro avg       0.81      0.77      0.76      1000\n",
        "weighted avg       0.81      0.77      0.76      1000\n",
        "\n",
        "time_saved : 1648298488.5637062"
      ],
      "metadata": {
        "id": "w56Lhlsa5cOp"
      }
    },
    {
      "cell_type": "markdown",
      "source": [
        "## Bombus californicus vs Bombus ternarius ##"
      ],
      "metadata": {
        "id": "hJfzsn_1IS1a"
      }
    },
    {
      "cell_type": "markdown",
      "source": [
        "[[460  40]\n",
        "\n",
        " [291 209]]\n",
        " \n",
        " shape=(2, 2), dtype=int32)\n",
        " \n",
        "              precision    recall  f1-score   support\n",
        "\n",
        "         0.0       0.61      0.92      0.74       500\n",
        "         1.0       0.84      0.42      0.56       500\n",
        "\n",
        "    accuracy                           0.67      1000\n",
        "   macro avg       0.73      0.67      0.65      1000\n",
        "weighted avg       0.73      0.67      0.65      1000\n",
        "\n",
        "time_saved : 1648318092.026056"
      ],
      "metadata": {
        "id": "mirGvDnv5mMy"
      }
    },
    {
      "cell_type": "markdown",
      "source": [
        "## Bombus californicus vs Bombus terricola ##"
      ],
      "metadata": {
        "id": "1niGQKW4IWEX"
      }
    },
    {
      "cell_type": "markdown",
      "source": [
        "[[135 221]\n",
        "\n",
        " [ 87 269]]\n",
        " \n",
        " shape=(2, 2), dtype=int32)\n",
        " \n",
        "              precision    recall  f1-score   support\n",
        "\n",
        "         0.0       0.61      0.38      0.47       356\n",
        "         1.0       0.55      0.76      0.64       356\n",
        "\n",
        "    accuracy                           0.57       712\n",
        "   macro avg       0.58      0.57      0.55       712\n",
        "weighted avg       0.58      0.57      0.55       712\n",
        "\n",
        "time_saved : 1648309958.9495506"
      ],
      "metadata": {
        "id": "aC-2rvxR51b1"
      }
    },
    {
      "cell_type": "markdown",
      "source": [
        "## Bombus californicus vs Bombus vagans ##"
      ],
      "metadata": {
        "id": "6VPKddPo7LPg"
      }
    },
    {
      "cell_type": "markdown",
      "source": [
        "[[436  64]\n",
        "\n",
        " [276 224]]\n",
        " \n",
        " shape=(2, 2), dtype=int32)\n",
        " \n",
        "              precision    recall  f1-score   support\n",
        "\n",
        "         0.0       0.61      0.87      0.72       500\n",
        "         1.0       0.78      0.45      0.57       500\n",
        "\n",
        "    accuracy                           0.66      1000\n",
        "   macro avg       0.70      0.66      0.64      1000\n",
        "weighted avg       0.70      0.66      0.64      1000\n",
        "\n",
        "time_saved : 1648370052.9275038"
      ],
      "metadata": {
        "id": "OzPq1NqJ0GbU"
      }
    },
    {
      "cell_type": "markdown",
      "source": [
        "## Bombus californicus vs Bombus vosnesenskii ##"
      ],
      "metadata": {
        "id": "arIgrqzo7M3x"
      }
    },
    {
      "cell_type": "markdown",
      "source": [
        "[[224 276]\n",
        "\n",
        " [247 253]]\n",
        " \n",
        " shape=(2, 2), dtype=int32)\n",
        " \n",
        "              precision    recall  f1-score   support\n",
        "\n",
        "         0.0       0.48      0.45      0.46       500\n",
        "         1.0       0.48      0.51      0.49       500\n",
        "\n",
        "    accuracy                           0.48      1000\n",
        "   macro avg       0.48      0.48      0.48      1000\n",
        "weighted avg       0.48      0.48      0.48      1000\n",
        "\n",
        "time_saved : 1648379510.893376"
      ],
      "metadata": {
        "id": "7CnniYsv0aLs"
      }
    },
    {
      "cell_type": "markdown",
      "source": [
        "## Bombus californicus vs Bombus auricomus ##"
      ],
      "metadata": {
        "id": "Wyk2XpBq7O3F"
      }
    },
    {
      "cell_type": "markdown",
      "source": [
        "[[114 270]\n",
        "\n",
        " [161 223]]\n",
        " \n",
        " shape=(2, 2), dtype=int32)\n",
        " \n",
        "              precision    recall  f1-score   support\n",
        "\n",
        "         0.0       0.41      0.30      0.35       384\n",
        "         1.0       0.45      0.58      0.51       384\n",
        "\n",
        "    accuracy                           0.44       768\n",
        "   macro avg       0.43      0.44      0.43       768\n",
        "weighted avg       0.43      0.44      0.43       768\n",
        "\n",
        "time_saved : 1648377632.180345"
      ],
      "metadata": {
        "id": "2pQ9ldhW0r9n"
      }
    },
    {
      "cell_type": "markdown",
      "source": [
        "## Bombus griseocollis vs Bombus impatiens ##"
      ],
      "metadata": {
        "id": "5S3K70E57RAW"
      }
    },
    {
      "cell_type": "markdown",
      "source": [
        "[[125 375]\n",
        "\n",
        " [125 375]]\n",
        " \n",
        " shape=(2, 2), dtype=int32)\n",
        " \n",
        "              precision    recall  f1-score   support\n",
        "\n",
        "         0.0       0.50      0.25      0.33       500\n",
        "         1.0       0.50      0.75      0.60       500\n",
        "\n",
        "    accuracy                           0.50      1000\n",
        "   macro avg       0.50      0.50      0.47      1000\n",
        "weighted avg       0.50      0.50      0.47      1000\n",
        "\n",
        "time_saved : 1648398362.3692455"
      ],
      "metadata": {
        "id": "Vn7pBpkG08fd"
      }
    },
    {
      "cell_type": "markdown",
      "source": [
        "## Bombus griseocollis vs Bombus insularis ##"
      ],
      "metadata": {
        "id": "YcMT429x7jib"
      }
    },
    {
      "cell_type": "markdown",
      "source": [
        "[[448  46]\n",
        "\n",
        " [228 266]]\n",
        " \n",
        " shape=(2, 2), dtype=int32)\n",
        " \n",
        "              precision    recall  f1-score   support\n",
        "\n",
        "         0.0       0.66      0.91      0.77       494\n",
        "         1.0       0.85      0.54      0.66       494\n",
        "\n",
        "    accuracy                           0.72       988\n",
        "   macro avg       0.76      0.72      0.71       988\n",
        "weighted avg       0.76      0.72      0.71       988\n",
        "\n",
        "time_saved : 1648555365.144857"
      ],
      "metadata": {
        "id": "KiF5EBN2md0X"
      }
    },
    {
      "cell_type": "markdown",
      "source": [
        "## Bombus griseocollis vs Bombus melanopygus ##"
      ],
      "metadata": {
        "id": "so1D8Oph7lCE"
      }
    },
    {
      "cell_type": "markdown",
      "source": [
        "[[464  36]\n",
        "\n",
        " [107 393]]\n",
        " \n",
        " shape=(2, 2), dtype=int32)\n",
        " \n",
        "              precision    recall  f1-score   support\n",
        "\n",
        "         0.0       0.81      0.93      0.87       500\n",
        "         1.0       0.92      0.79      0.85       500\n",
        "\n",
        "    accuracy                           0.86      1000\n",
        "   macro avg       0.86      0.86      0.86      1000\n",
        "weighted avg       0.86      0.86      0.86      1000\n",
        "\n",
        "time_saved : 1648415362.1042576"
      ],
      "metadata": {
        "id": "4htdN-ne1Q8U"
      }
    },
    {
      "cell_type": "markdown",
      "source": [
        "## Bombus griseocollis vs Bombus mixtus ##"
      ],
      "metadata": {
        "id": "XaF1uB6G7na0"
      }
    },
    {
      "cell_type": "markdown",
      "source": [
        "[[491   9]\n",
        "\n",
        " [ 97 403]]\n",
        " \n",
        " shape=(2, 2), dtype=int32)\n",
        " \n",
        "              precision    recall  f1-score   support\n",
        "\n",
        "         0.0       0.84      0.98      0.90       500\n",
        "         1.0       0.98      0.81      0.88       500\n",
        "\n",
        "    accuracy                           0.89      1000\n",
        "   macro avg       0.91      0.89      0.89      1000\n",
        "weighted avg       0.91      0.89      0.89      1000\n",
        "\n",
        "time_saved : 1648424246.3612502"
      ],
      "metadata": {
        "id": "7t4VrI0-1daX"
      }
    },
    {
      "cell_type": "markdown",
      "source": [
        "## Bombus griseocollis vs Bombus nevadensis ##"
      ],
      "metadata": {
        "id": "Kk7hoBik7o-K"
      }
    },
    {
      "cell_type": "markdown",
      "source": [
        "[[263  27]\n",
        "\n",
        " [ 69 221]]\n",
        " \n",
        " shape=(2, 2), dtype=int32)\n",
        " \n",
        "              precision    recall  f1-score   support\n",
        "\n",
        "         0.0       0.79      0.91      0.85       290\n",
        "         1.0       0.89      0.76      0.82       290\n",
        "\n",
        "    accuracy                           0.83       580\n",
        "   macro avg       0.84      0.83      0.83       580\n",
        "weighted avg       0.84      0.83      0.83       580\n",
        "\n",
        "time_saved : 1648425620.5316784"
      ],
      "metadata": {
        "id": "8PlCwG6K1qM2"
      }
    },
    {
      "cell_type": "markdown",
      "source": [
        "## Bombus griseocollis vs Bombus pensylvanicus ##"
      ],
      "metadata": {
        "id": "s9d80z3Q7tq5"
      }
    },
    {
      "cell_type": "markdown",
      "source": [
        "[[411  89]\n",
        "\n",
        " [150 350]]\n",
        " \n",
        " shape=(2, 2), dtype=int32)\n",
        " \n",
        "              precision    recall  f1-score   support\n",
        "\n",
        "         0.0       0.73      0.82      0.77       500\n",
        "         1.0       0.80      0.70      0.75       500\n",
        "\n",
        "    accuracy                           0.76      1000\n",
        "   macro avg       0.76      0.76      0.76      1000\n",
        "weighted avg       0.76      0.76      0.76      1000\n",
        "\n",
        "time_saved : 1648455151.3326473"
      ],
      "metadata": {
        "id": "5hZ_6gSy11C-"
      }
    },
    {
      "cell_type": "markdown",
      "source": [
        "## Bombus griseocollis vs Bombus perplexus ##"
      ],
      "metadata": {
        "id": "haHN8LuA7wB4"
      }
    },
    {
      "cell_type": "markdown",
      "source": [
        "[[171 327]\n",
        "\n",
        " [180 318]]\n",
        " \n",
        " shape=(2, 2), dtype=int32)\n",
        " \n",
        "              precision    recall  f1-score   support\n",
        "\n",
        "         0.0       0.49      0.34      0.40       498\n",
        "         1.0       0.49      0.64      0.56       498\n",
        "\n",
        "    accuracy                           0.49       996\n",
        "   macro avg       0.49      0.49      0.48       996\n",
        "weighted avg       0.49      0.49      0.48       996\n",
        "\n",
        "time_saved : 1648448863.141832"
      ],
      "metadata": {
        "id": "VXalKYFL2AFZ"
      }
    },
    {
      "cell_type": "markdown",
      "source": [
        "## Bombus griseocollis vs Bombus rufocinctus ##"
      ],
      "metadata": {
        "id": "9IHhZK_N3U4K"
      }
    },
    {
      "cell_type": "markdown",
      "source": [
        "[[376 124]\n",
        "\n",
        " [ 94 406]]\n",
        " \n",
        " shape=(2, 2), dtype=int32)\n",
        " \n",
        "              precision    recall  f1-score   support\n",
        "\n",
        "         0.0       0.80      0.75      0.78       500\n",
        "         1.0       0.77      0.81      0.79       500\n",
        "\n",
        "    accuracy                           0.78      1000\n",
        "   macro avg       0.78      0.78      0.78      1000\n",
        "weighted avg       0.78      0.78      0.78      1000\n",
        "\n",
        "time_saved : 1648530278.9139197"
      ],
      "metadata": {
        "id": "JsfYiModlosj"
      }
    },
    {
      "cell_type": "markdown",
      "source": [
        "## Bombus griseocollis vs Bombus huntii ##"
      ],
      "metadata": {
        "id": "vl_gTHlM3aDg"
      }
    },
    {
      "cell_type": "markdown",
      "source": [
        "[[486  14]\n",
        "\n",
        " [113 387]]\n",
        " \n",
        " shape=(2, 2), dtype=int32)\n",
        " \n",
        "              precision    recall  f1-score   support\n",
        "\n",
        "         0.0       0.81      0.97      0.88       500\n",
        "         1.0       0.97      0.77      0.86       500\n",
        "\n",
        "    accuracy                           0.87      1000\n",
        "   macro avg       0.89      0.87      0.87      1000\n",
        "weighted avg       0.89      0.87      0.87      1000\n",
        "\n",
        "time_saved : 1648524413.1135871"
      ],
      "metadata": {
        "id": "scT6Fmnil0_K"
      }
    },
    {
      "cell_type": "markdown",
      "source": [
        "## Bombus griseocollis vs Bombus ternarius ##"
      ],
      "metadata": {
        "id": "gVPe8Vwf3bbl"
      }
    },
    {
      "cell_type": "markdown",
      "source": [
        "[[481  19]\n",
        "\n",
        " [143 357]]\n",
        " \n",
        " shape=(2, 2), dtype=int32)\n",
        " \n",
        "              precision    recall  f1-score   support\n",
        "\n",
        "         0.0       0.77      0.96      0.86       500\n",
        "         1.0       0.95      0.71      0.82       500\n",
        "\n",
        "    accuracy                           0.84      1000\n",
        "   macro avg       0.86      0.84      0.84      1000\n",
        "weighted avg       0.86      0.84      0.84      1000\n",
        "\n",
        "time_saved : 1648527234.4274726"
      ],
      "metadata": {
        "id": "p6hdL-ofmBzY"
      }
    },
    {
      "cell_type": "markdown",
      "source": [
        "## Bombus griseocollis vs Bombus terricola ##"
      ],
      "metadata": {
        "id": "f13DUzJs3dLi"
      }
    },
    {
      "cell_type": "markdown",
      "source": [
        "[[317  39]\n",
        "\n",
        " [ 88 268]]\n",
        " \n",
        " shape=(2, 2), dtype=int32)\n",
        " \n",
        "              precision    recall  f1-score   support\n",
        "\n",
        "         0.0       0.78      0.89      0.83       356\n",
        "         1.0       0.87      0.75      0.81       356\n",
        "\n",
        "    accuracy                           0.82       712\n",
        "   macro avg       0.83      0.82      0.82       712\n",
        "weighted avg       0.83      0.82      0.82       712\n",
        "\n",
        "time_saved : 1648552035.2649057"
      ],
      "metadata": {
        "id": "DoGCX8s2mM5J"
      }
    },
    {
      "cell_type": "markdown",
      "source": [
        "## Bombus griseocollis vs Bombus vagans ##"
      ],
      "metadata": {
        "id": "Gts6f5gg3emv"
      }
    },
    {
      "cell_type": "markdown",
      "source": [
        "[[189 311]\n",
        "\n",
        " [173 327]]\n",
        " \n",
        " shape=(2, 2), dtype=int32)\n",
        " \n",
        "              precision    recall  f1-score   support\n",
        "\n",
        "         0.0       0.52      0.38      0.44       500\n",
        "         1.0       0.51      0.65      0.57       500\n",
        "\n",
        "    accuracy                           0.52      1000\n",
        "   macro avg       0.52      0.52      0.51      1000\n",
        "weighted avg       0.52      0.52      0.51      1000\n",
        "\n",
        "time_saved : 1648568089.823322"
      ],
      "metadata": {
        "id": "d5sYMmA-ms0B"
      }
    },
    {
      "cell_type": "markdown",
      "source": [
        "## Bombus griseocollis vs Bombus vosnesenskii ##"
      ],
      "metadata": {
        "id": "vHGhKmZ_3gKa"
      }
    },
    {
      "cell_type": "markdown",
      "source": [
        "[[447  53]\n",
        "\n",
        " [ 95 405]]\n",
        " \n",
        " shape=(2, 2), dtype=int32)\n",
        " \n",
        "              precision    recall  f1-score   support\n",
        "\n",
        "         0.0       0.82      0.89      0.86       500\n",
        "         1.0       0.88      0.81      0.85       500\n",
        "\n",
        "    accuracy                           0.85      1000\n",
        "   macro avg       0.85      0.85      0.85      1000\n",
        "weighted avg       0.85      0.85      0.85      1000\n",
        "\n",
        "time_saved : 1648582077.0292344"
      ],
      "metadata": {
        "id": "KnS2dNr1m3z6"
      }
    },
    {
      "cell_type": "markdown",
      "source": [
        "## Bombus griseocollis vs Bombus auricomus ##"
      ],
      "metadata": {
        "id": "tkEIE_L73i6V"
      }
    },
    {
      "cell_type": "markdown",
      "source": [
        "[[336  48]\n",
        "\n",
        " [ 78 306]]\n",
        " \n",
        " shape=(2, 2), dtype=int32)\n",
        " \n",
        "              precision    recall  f1-score   support\n",
        "\n",
        "         0.0       0.81      0.88      0.84       384\n",
        "         1.0       0.86      0.80      0.83       384\n",
        "\n",
        "    accuracy                           0.84       768\n",
        "   macro avg       0.84      0.84      0.84       768\n",
        "weighted avg       0.84      0.84      0.84       768\n",
        "\n",
        "time_saved : 1648583814.7914586"
      ],
      "metadata": {
        "id": "vnCKdux4nCP2"
      }
    },
    {
      "cell_type": "markdown",
      "source": [
        "## Bombus impatiens vs Bombus insularis ##"
      ],
      "metadata": {
        "id": "uiHeMFGW3mTJ"
      }
    },
    {
      "cell_type": "markdown",
      "source": [
        "[[440  54]\n",
        "\n",
        " [171 323]]\n",
        " \n",
        " shape=(2, 2), dtype=int32)\n",
        " \n",
        "              precision    recall  f1-score   support\n",
        "\n",
        "         0.0       0.72      0.89      0.80       494\n",
        "         1.0       0.86      0.65      0.74       494\n",
        "\n",
        "    accuracy                           0.77       988\n",
        "   macro avg       0.79      0.77      0.77       988\n",
        "weighted avg       0.79      0.77      0.77       988\n",
        "\n",
        "time_saved : 1648604392.9821615"
      ],
      "metadata": {
        "id": "TnxQwnjdnOcy"
      }
    },
    {
      "cell_type": "markdown",
      "source": [
        "## Bombus impatiens vs Bombus melanopygus ##"
      ],
      "metadata": {
        "id": "1JOx8q6W3rFq"
      }
    },
    {
      "cell_type": "markdown",
      "source": [
        "[[449  51]\n",
        "\n",
        " [ 85 415]]\n",
        " \n",
        " shape=(2, 2), dtype=int32)\n",
        " \n",
        "              precision    recall  f1-score   support\n",
        "\n",
        "         0.0       0.84      0.90      0.87       500\n",
        "         1.0       0.89      0.83      0.86       500\n",
        "\n",
        "    accuracy                           0.86      1000\n",
        "   macro avg       0.87      0.86      0.86      1000\n",
        "weighted avg       0.87      0.86      0.86      1000\n",
        "\n",
        "time_saved : 1648642237.5123193"
      ],
      "metadata": {
        "id": "ieLTJYsInXwL"
      }
    },
    {
      "cell_type": "markdown",
      "source": [
        "## Bombus impatiens vs Bombus mixtus ##"
      ],
      "metadata": {
        "id": "_hj7Pwk1osro"
      }
    },
    {
      "cell_type": "markdown",
      "source": [
        "[[459  41]\n",
        "\n",
        " [ 82 418]]\n",
        " \n",
        " shape=(2, 2), dtype=int32)\n",
        " \n",
        "              precision    recall  f1-score   support\n",
        "\n",
        "         0.0       0.85      0.92      0.88       500\n",
        "         1.0       0.91      0.84      0.87       500\n",
        "\n",
        "    accuracy                           0.88      1000\n",
        "   macro avg       0.88      0.88      0.88      1000\n",
        "weighted avg       0.88      0.88      0.88      1000\n",
        "\n",
        "time_saved : 1648714671.352066"
      ],
      "metadata": {
        "id": "PPjRl8OaDmOT"
      }
    },
    {
      "cell_type": "markdown",
      "source": [
        "## Bombus impatiens vs Bombus nevadensis ##"
      ],
      "metadata": {
        "id": "xaT75G_zovn8"
      }
    },
    {
      "cell_type": "markdown",
      "source": [
        "[[256  34]\n",
        "\n",
        " [ 74 216]]\n",
        " \n",
        " shape=(2, 2), dtype=int32)\n",
        " \n",
        "              precision    recall  f1-score   support\n",
        "\n",
        "         0.0       0.78      0.88      0.83       290\n",
        "         1.0       0.86      0.74      0.80       290\n",
        "\n",
        "    accuracy                           0.81       580\n",
        "   macro avg       0.82      0.81      0.81       580\n",
        "weighted avg       0.82      0.81      0.81       580\n",
        "\n",
        "time_saved : 1648753836.020919"
      ],
      "metadata": {
        "id": "G4GHLzr3Dv04"
      }
    },
    {
      "cell_type": "markdown",
      "source": [
        "## Bombus impatiens vs Bombus pensylvanicus ##"
      ],
      "metadata": {
        "id": "WHT2QJ7iow-h"
      }
    },
    {
      "cell_type": "markdown",
      "source": [
        "[[477  23]\n",
        "\n",
        " [ 58 442]]\n",
        " \n",
        " shape=(2, 2), dtype=int32)\n",
        " \n",
        "              precision    recall  f1-score   support\n",
        "\n",
        "         0.0       0.89      0.95      0.92       500\n",
        "         1.0       0.95      0.88      0.92       500\n",
        "\n",
        "    accuracy                           0.92      1000\n",
        "   macro avg       0.92      0.92      0.92      1000\n",
        "weighted avg       0.92      0.92      0.92      1000\n",
        "\n",
        "time_saved : 1648795026.7325184"
      ],
      "metadata": {
        "id": "vwVChrVlD3ql"
      }
    },
    {
      "cell_type": "markdown",
      "source": [
        "## Bombus impatiens vs Bombus perplexus ##"
      ],
      "metadata": {
        "id": "socQskemo1i1"
      }
    },
    {
      "cell_type": "markdown",
      "source": [
        "[[111 387]\n",
        "\n",
        " [128 370]]\n",
        " \n",
        " shape=(2, 2), dtype=int32)\n",
        " \n",
        "              precision    recall  f1-score   support\n",
        "\n",
        "         0.0       0.46      0.22      0.30       498\n",
        "         1.0       0.49      0.74      0.59       498\n",
        "\n",
        "    accuracy                           0.48       996\n",
        "   macro avg       0.48      0.48      0.45       996\n",
        "weighted avg       0.48      0.48      0.45       996\n",
        "\n",
        "time_saved : 1648830260.0781665"
      ],
      "metadata": {
        "id": "lb3My1QEEGQ-"
      }
    },
    {
      "cell_type": "markdown",
      "source": [
        "## Bombus impatiens vs Bombus rufocinctus ##"
      ],
      "metadata": {
        "id": "0nn2hB80o5sf"
      }
    },
    {
      "cell_type": "markdown",
      "source": [
        "[[386 114]\n",
        "\n",
        " [114 386]]\n",
        " \n",
        " shape=(2, 2), dtype=int32)\n",
        " \n",
        "              precision    recall  f1-score   support\n",
        "\n",
        "         0.0       0.77      0.77      0.77       500\n",
        "         1.0       0.77      0.77      0.77       500\n",
        "\n",
        "    accuracy                           0.77      1000\n",
        "   macro avg       0.77      0.77      0.77      1000\n",
        "weighted avg       0.77      0.77      0.77      1000\n",
        "\n",
        "time_saved : 1649069328.9954314"
      ],
      "metadata": {
        "id": "1dCnV6XnENRl"
      }
    },
    {
      "cell_type": "markdown",
      "source": [
        "## Bombus impatiens vs Bombus huntii ##"
      ],
      "metadata": {
        "id": "ZwMGWnx8o70D"
      }
    },
    {
      "cell_type": "markdown",
      "source": [
        "[[484  16]\n",
        "\n",
        " [116 384]]\n",
        " \n",
        " shape=(2, 2), dtype=int32)\n",
        " \n",
        "              precision    recall  f1-score   support\n",
        "\n",
        "         0.0       0.81      0.97      0.88       500\n",
        "         1.0       0.96      0.77      0.85       500\n",
        "\n",
        "    accuracy                           0.87      1000\n",
        "   macro avg       0.88      0.87      0.87      1000\n",
        "weighted avg       0.88      0.87      0.87      1000\n",
        "\n",
        "time_saved : 1649105524.1689541"
      ],
      "metadata": {
        "id": "-8LhPO1JEXi_"
      }
    },
    {
      "cell_type": "markdown",
      "source": [
        "## Bombus impatiens vs Bombus ternarius ##"
      ],
      "metadata": {
        "id": "hclVSvD2pDCP"
      }
    },
    {
      "cell_type": "markdown",
      "source": [
        "[[470  30]\n",
        "\n",
        " [ 97 403]]\n",
        " \n",
        " shape=(2, 2), dtype=int32)\n",
        " \n",
        "              precision    recall  f1-score   support\n",
        "\n",
        "         0.0       0.83      0.94      0.88       500\n",
        "         1.0       0.93      0.81      0.86       500\n",
        "\n",
        "    accuracy                           0.87      1000\n",
        "   macro avg       0.88      0.87      0.87      1000\n",
        "weighted avg       0.88      0.87      0.87      1000\n",
        "\n",
        "time_saved : 1648874321.8307197"
      ],
      "metadata": {
        "id": "5WLp6bhQEgyW"
      }
    },
    {
      "cell_type": "markdown",
      "source": [
        "## Bombus impatiens vs Bombus terricola ##"
      ],
      "metadata": {
        "id": "v3d28aM8pHcH"
      }
    },
    {
      "cell_type": "markdown",
      "source": [
        "[[327  29]\n",
        "\n",
        " [100 256]]\n",
        " \n",
        " shape=(2, 2), dtype=int32)\n",
        " \n",
        "              precision    recall  f1-score   support\n",
        "\n",
        "         0.0       0.77      0.92      0.84       356\n",
        "         1.0       0.90      0.72      0.80       356\n",
        "\n",
        "    accuracy                           0.82       712\n",
        "   macro avg       0.83      0.82      0.82       712\n",
        "weighted avg       0.83      0.82      0.82       712\n",
        "\n",
        "time_saved : 1648915956.4097083"
      ],
      "metadata": {
        "id": "qog0aTKREqmm"
      }
    },
    {
      "cell_type": "markdown",
      "source": [
        "## Bombus impatiens vs Bombus vagans ##"
      ],
      "metadata": {
        "id": "86MKrvsapIoz"
      }
    },
    {
      "cell_type": "markdown",
      "source": [
        "[[176 324]\n",
        "\n",
        " [154 346]]\n",
        " \n",
        " shape=(2, 2), dtype=int32)\n",
        " \n",
        "              precision    recall  f1-score   support\n",
        "\n",
        "         0.0       0.53      0.35      0.42       500\n",
        "         1.0       0.52      0.69      0.59       500\n",
        "\n",
        "    accuracy                           0.52      1000\n",
        "   macro avg       0.52      0.52      0.51      1000\n",
        "weighted avg       0.52      0.52      0.51      1000\n",
        "\n",
        "time_saved : 1648988656.4126532"
      ],
      "metadata": {
        "id": "whf9LuvBE5mb"
      }
    },
    {
      "cell_type": "markdown",
      "source": [
        "## Bombus impatiens vs Bombus vosnesenskii ##"
      ],
      "metadata": {
        "id": "Hn8a7jCwpJtr"
      }
    },
    {
      "cell_type": "markdown",
      "source": [
        "[[465  35]\n",
        "\n",
        " [ 70 430]]\n",
        " \n",
        " shape=(2, 2), dtype=int32)\n",
        " \n",
        "              precision    recall  f1-score   support\n",
        "\n",
        "         0.0       0.87      0.93      0.90       500\n",
        "         1.0       0.92      0.86      0.89       500\n",
        "\n",
        "    accuracy                           0.90      1000\n",
        "   macro avg       0.90      0.90      0.89      1000\n",
        "weighted avg       0.90      0.90      0.89      1000\n",
        "\n",
        "time_saved : 1649028450.6757052"
      ],
      "metadata": {
        "id": "cx9PnnT1FAFO"
      }
    },
    {
      "cell_type": "markdown",
      "source": [
        "## Bombus impatiens vs Bombus auricomus ##"
      ],
      "metadata": {
        "id": "1128yqxNGxKJ"
      }
    },
    {
      "cell_type": "markdown",
      "source": [
        "[[364  20]\n",
        "\n",
        " [ 64 320]]\n",
        " \n",
        " shape=(2, 2), dtype=int32)\n",
        " \n",
        "              precision    recall  f1-score   support\n",
        "\n",
        "         0.0       0.85      0.95      0.90       384\n",
        "         1.0       0.94      0.83      0.88       384\n",
        "\n",
        "    accuracy                           0.89       768\n",
        "   macro avg       0.90      0.89      0.89       768\n",
        "weighted avg       0.90      0.89      0.89       768\n",
        "\n",
        "time_saved : 1649154885.3622744"
      ],
      "metadata": {
        "id": "RCDKk1KEDIND"
      }
    },
    {
      "cell_type": "markdown",
      "source": [
        "## Bombus insularis vs Bombus melanopygus ##"
      ],
      "metadata": {
        "id": "eEToAVA7G7QE"
      }
    },
    {
      "cell_type": "markdown",
      "source": [
        "[[436  58]\n",
        "\n",
        " [246 248]]\n",
        " \n",
        " shape=(2, 2), dtype=int32)\n",
        " \n",
        "              precision    recall  f1-score   support\n",
        "\n",
        "         0.0       0.64      0.88      0.74       494\n",
        "         1.0       0.81      0.50      0.62       494\n",
        "\n",
        "    accuracy                           0.69       988\n",
        "   macro avg       0.72      0.69      0.68       988\n",
        "weighted avg       0.72      0.69      0.68       988\n",
        "\n",
        "time_saved : 1649192065.2673004"
      ],
      "metadata": {
        "id": "Ke16bG08DiJw"
      }
    },
    {
      "cell_type": "markdown",
      "source": [
        "## Bombus insularis vs Bombus mixtus ##"
      ],
      "metadata": {
        "id": "0GRme1UZG-Zr"
      }
    },
    {
      "cell_type": "markdown",
      "source": [
        "[[404  90]\n",
        "\n",
        " [191 303]]\n",
        " \n",
        " shape=(2, 2), dtype=int32)\n",
        " \n",
        "              precision    recall  f1-score   support\n",
        "\n",
        "         0.0       0.68      0.82      0.74       494\n",
        "         1.0       0.77      0.61      0.68       494\n",
        "\n",
        "    accuracy                           0.72       988\n",
        "   macro avg       0.72      0.72      0.71       988\n",
        "weighted avg       0.72      0.72      0.71       988\n",
        "\n",
        "time_saved : 1649225863.0687957"
      ],
      "metadata": {
        "id": "luUpCkYjDs3g"
      }
    },
    {
      "cell_type": "markdown",
      "source": [
        "## Bombus insularis vs Bombus nevadensis ##"
      ],
      "metadata": {
        "id": "nsbnfug6G_vB"
      }
    },
    {
      "cell_type": "markdown",
      "source": [
        "[[448  46]\n",
        "\n",
        " [184 310]]\n",
        " \n",
        " shape=(2, 2), dtype=int32)\n",
        " \n",
        "              precision    recall  f1-score   support\n",
        "\n",
        "         0.0       0.71      0.91      0.80       494\n",
        "         1.0       0.87      0.63      0.73       494\n",
        "\n",
        "    accuracy                           0.77       988\n",
        "   macro avg       0.79      0.77      0.76       988\n",
        "weighted avg       0.79      0.77      0.76       988\n",
        "\n",
        "time_saved : 1649261520.2498276"
      ],
      "metadata": {
        "id": "J9JMrnRCEAYP"
      }
    },
    {
      "cell_type": "markdown",
      "source": [
        "## Bombus insularis vs Bombus pensylvanicus ##"
      ],
      "metadata": {
        "id": "7ouzciPNHBcJ"
      }
    },
    {
      "cell_type": "markdown",
      "source": [
        "[[434  60]\n",
        "\n",
        " [132 362]]\n",
        " \n",
        " shape=(2, 2), dtype=int32)\n",
        " \n",
        "              precision    recall  f1-score   support\n",
        "\n",
        "         0.0       0.77      0.88      0.82       494\n",
        "         1.0       0.86      0.73      0.79       494\n",
        "\n",
        "    accuracy                           0.81       988\n",
        "   macro avg       0.81      0.81      0.80       988\n",
        "weighted avg       0.81      0.81      0.80       988\n",
        "\n",
        "time_saved : 1649298096.3782966"
      ],
      "metadata": {
        "id": "s_ipkLdREKA2"
      }
    },
    {
      "cell_type": "markdown",
      "source": [
        "## Bombus insularis vs Bombus perplexus ##"
      ],
      "metadata": {
        "id": "a6WHzU0RHD9t"
      }
    },
    {
      "cell_type": "markdown",
      "source": [
        "[[448  46]\n",
        "\n",
        " [187 307]]\n",
        " \n",
        " shape=(2, 2), dtype=int32)\n",
        " \n",
        "              precision    recall  f1-score   support\n",
        "\n",
        "         0.0       0.71      0.91      0.79       494\n",
        "         1.0       0.87      0.62      0.72       494\n",
        "\n",
        "    accuracy                           0.76       988\n",
        "   macro avg       0.79      0.76      0.76       988\n",
        "weighted avg       0.79      0.76      0.76       988\n",
        "\n",
        "time_saved : 1649334733.6719184"
      ],
      "metadata": {
        "id": "2KwRGnR-EYgQ"
      }
    },
    {
      "cell_type": "markdown",
      "source": [
        "## Bombus insularis vs Bombus rufocinctus ##"
      ],
      "metadata": {
        "id": "V8-Y_pjYHFZP"
      }
    },
    {
      "cell_type": "markdown",
      "source": [
        "[[406  88]\n",
        "\n",
        " [284 210]]\n",
        " \n",
        " shape=(2, 2), dtype=int32)\n",
        " \n",
        "              precision    recall  f1-score   support\n",
        "\n",
        "         0.0       0.59      0.82      0.69       494\n",
        "         1.0       0.70      0.43      0.53       494\n",
        "\n",
        "    accuracy                           0.62       988\n",
        "   macro avg       0.65      0.62      0.61       988\n",
        "weighted avg       0.65      0.62      0.61       988\n",
        "\n",
        "time_saved : 1649370177.7455"
      ],
      "metadata": {
        "id": "gX2N3RUgEjow"
      }
    },
    {
      "cell_type": "markdown",
      "source": [
        "## Bombus insularis vs Bombus huntii ##"
      ],
      "metadata": {
        "id": "VLvuXwk4HH-O"
      }
    },
    {
      "cell_type": "markdown",
      "source": [
        "[[482  12]\n",
        "\n",
        " [179 315]]\n",
        " \n",
        " shape=(2, 2), dtype=int32)\n",
        " \n",
        "              precision    recall  f1-score   support\n",
        "\n",
        "         0.0       0.73      0.98      0.83       494\n",
        "         1.0       0.96      0.64      0.77       494\n",
        "\n",
        "    accuracy                           0.81       988\n",
        "   macro avg       0.85      0.81      0.80       988\n",
        "weighted avg       0.85      0.81      0.80       988\n",
        "\n",
        "time_saved : 1649406815.54094"
      ],
      "metadata": {
        "id": "flnVb5t3Esni"
      }
    },
    {
      "cell_type": "markdown",
      "source": [
        "## Bombus insularis vs Bombus ternarius ##"
      ],
      "metadata": {
        "id": "uEsghqcoHJFP"
      }
    },
    {
      "cell_type": "markdown",
      "source": [
        "[[470  24]\n",
        "\n",
        " [182 312]]\n",
        " \n",
        " shape=(2, 2), dtype=int32)\n",
        " \n",
        "              precision    recall  f1-score   support\n",
        "\n",
        "         0.0       0.72      0.95      0.82       494\n",
        "         1.0       0.93      0.63      0.75       494\n",
        "\n",
        "    accuracy                           0.79       988\n",
        "   macro avg       0.82      0.79      0.79       988\n",
        "weighted avg       0.82      0.79      0.79       988\n",
        "\n",
        "time_saved : 1649443327.2238786"
      ],
      "metadata": {
        "id": "4c65_dC0E_Ld"
      }
    },
    {
      "cell_type": "markdown",
      "source": [
        "## Bombus insularis vs Bombus terricola ##"
      ],
      "metadata": {
        "id": "96AL4m9KHQ6Z"
      }
    },
    {
      "cell_type": "markdown",
      "source": [
        "[[424  70]\n",
        "\n",
        " [190 304]]\n",
        " \n",
        " shape=(2, 2), dtype=int32)\n",
        " \n",
        "              precision    recall  f1-score   support\n",
        "\n",
        "         0.0       0.69      0.86      0.77       494\n",
        "         1.0       0.81      0.62      0.70       494\n",
        "\n",
        "    accuracy                           0.74       988\n",
        "   macro avg       0.75      0.74      0.73       988\n",
        "weighted avg       0.75      0.74      0.73       988\n",
        "\n",
        "time_saved : 1649479172.6429863"
      ],
      "metadata": {
        "id": "Ale_wc1-FPsD"
      }
    },
    {
      "cell_type": "markdown",
      "source": [
        "## Bombus insularis vs Bombus vagans ##"
      ],
      "metadata": {
        "id": "ZiI1ZGTEHUcO"
      }
    },
    {
      "cell_type": "markdown",
      "source": [
        "[[434  60]\n",
        "\n",
        " [228 266]]\n",
        " \n",
        " shape=(2, 2), dtype=int32)\n",
        " \n",
        "              precision    recall  f1-score   support\n",
        "\n",
        "         0.0       0.66      0.88      0.75       494\n",
        "         1.0       0.82      0.54      0.65       494\n",
        "\n",
        "    accuracy                           0.71       988\n",
        "   macro avg       0.74      0.71      0.70       988\n",
        "weighted avg       0.74      0.71      0.70       988\n",
        "\n",
        "time_saved : 1649572919.811364"
      ],
      "metadata": {
        "id": "xuwl_JfxGDbu"
      }
    },
    {
      "cell_type": "markdown",
      "source": [
        "## Bombus insularis vs Bombus vosnesenskii ##"
      ],
      "metadata": {
        "id": "wGEmIYrAHWSI"
      }
    },
    {
      "cell_type": "markdown",
      "source": [
        "[[438  56]\n",
        "\n",
        " [182 312]]\n",
        " \n",
        " shape=(2, 2), dtype=int32)\n",
        " \n",
        "              precision    recall  f1-score   support\n",
        "\n",
        "         0.0       0.71      0.89      0.79       494\n",
        "         1.0       0.85      0.63      0.72       494\n",
        "\n",
        "    accuracy                           0.76       988\n",
        "   macro avg       0.78      0.76      0.76       988\n",
        "weighted avg       0.78      0.76      0.76       988\n",
        "\n",
        "time_saved : 1649587780.6436498"
      ],
      "metadata": {
        "id": "VIMk1w67GNGX"
      }
    },
    {
      "cell_type": "markdown",
      "source": [
        "## Bombus insularis vs Bombus auricomus ##"
      ],
      "metadata": {
        "id": "HHpt9n5RHcLO"
      }
    },
    {
      "cell_type": "markdown",
      "source": [
        "[[476  18]\n",
        "\n",
        " [149 345]]\n",
        " \n",
        " shape=(2, 2), dtype=int32)\n",
        " \n",
        "              precision    recall  f1-score   support\n",
        "\n",
        "         0.0       0.76      0.96      0.85       494\n",
        "         1.0       0.95      0.70      0.81       494\n",
        "\n",
        "    accuracy                           0.83       988\n",
        "   macro avg       0.86      0.83      0.83       988\n",
        "weighted avg       0.86      0.83      0.83       988\n",
        "\n",
        "time_saved : 1649606262.0668821"
      ],
      "metadata": {
        "id": "hBQpQabIGUCq"
      }
    },
    {
      "cell_type": "markdown",
      "source": [
        "## Bombus melanopygus vs Bombus mixtus ##"
      ],
      "metadata": {
        "id": "UD1eeltiI_La"
      }
    },
    {
      "cell_type": "markdown",
      "source": [
        "[[215 285]\n",
        "\n",
        " [120 380]]\n",
        " \n",
        " shape=(2, 2), dtype=int32)\n",
        " \n",
        "              precision    recall  f1-score   support\n",
        "\n",
        "         0.0       0.64      0.43      0.51       500\n",
        "         1.0       0.57      0.76      0.65       500\n",
        "\n",
        "    accuracy                           0.59      1000\n",
        "   macro avg       0.61      0.59      0.58      1000\n",
        "weighted avg       0.61      0.59      0.58      1000\n",
        "\n",
        "time_saved : 1649614527.5324314"
      ],
      "metadata": {
        "id": "PhBFWRBaGkoP"
      }
    },
    {
      "cell_type": "markdown",
      "source": [
        "## Bombus melanopygus vs Bombus nevadensis ##"
      ],
      "metadata": {
        "id": "OrEd5bAgJD5A"
      }
    },
    {
      "cell_type": "markdown",
      "source": [
        "[[279  11]\n",
        "\n",
        " [ 58 232]]\n",
        " \n",
        " shape=(2, 2), dtype=int32)\n",
        " \n",
        "              precision    recall  f1-score   support\n",
        "\n",
        "         0.0       0.83      0.96      0.89       290\n",
        "         1.0       0.95      0.80      0.87       290\n",
        "\n",
        "    accuracy                           0.88       580\n",
        "   macro avg       0.89      0.88      0.88       580\n",
        "weighted avg       0.89      0.88      0.88       580\n",
        "\n",
        "time_saved : 1649640077.3296695"
      ],
      "metadata": {
        "id": "Jo7tDNpKGr47"
      }
    },
    {
      "cell_type": "markdown",
      "source": [
        "## Bombus melanopygus vs Bombus pensylvanicus ##"
      ],
      "metadata": {
        "id": "MdFnRXoUJFUF"
      }
    },
    {
      "cell_type": "markdown",
      "source": [
        "[[472  28]\n",
        "\n",
        " [193 307]]\n",
        " \n",
        " shape=(2, 2), dtype=int32)\n",
        " \n",
        "              precision    recall  f1-score   support\n",
        "\n",
        "         0.0       0.71      0.94      0.81       500\n",
        "         1.0       0.92      0.61      0.74       500\n",
        "\n",
        "    accuracy                           0.78      1000\n",
        "   macro avg       0.81      0.78      0.77      1000\n",
        "weighted avg       0.81      0.78      0.77      1000\n",
        "\n",
        "time_saved : 1649642633.3288765"
      ],
      "metadata": {
        "id": "38jyq1WJG0p8"
      }
    },
    {
      "cell_type": "markdown",
      "source": [
        "## Bombus melanopygus vs Bombus perplexus ##"
      ],
      "metadata": {
        "id": "cDJxiofyJHUY"
      }
    },
    {
      "cell_type": "markdown",
      "source": [
        "[[452  46]\n",
        "\n",
        " [145 353]]\n",
        " \n",
        " shape=(2, 2), dtype=int32)\n",
        " \n",
        "              precision    recall  f1-score   support\n",
        "\n",
        "         0.0       0.76      0.91      0.83       498\n",
        "         1.0       0.88      0.71      0.79       498\n",
        "\n",
        "    accuracy                           0.81       996\n",
        "   macro avg       0.82      0.81      0.81       996\n",
        "weighted avg       0.82      0.81      0.81       996\n",
        "\n",
        "time_saved : 1649676721.7953281"
      ],
      "metadata": {
        "id": "lew_dxtEG-MJ"
      }
    },
    {
      "cell_type": "markdown",
      "source": [
        "## Bombus melanopygus vs Bombus rufocinctus ##"
      ],
      "metadata": {
        "id": "D_mBUaz2JI6P"
      }
    },
    {
      "cell_type": "markdown",
      "source": [
        "[[299 201]\n",
        "\n",
        " [223 277]]\n",
        " \n",
        " shape=(2, 2), dtype=int32)\n",
        " \n",
        "              precision    recall  f1-score   support\n",
        "\n",
        "         0.0       0.57      0.60      0.59       500\n",
        "         1.0       0.58      0.55      0.57       500\n",
        "\n",
        "    accuracy                           0.58      1000\n",
        "   macro avg       0.58      0.58      0.58      1000\n",
        "weighted avg       0.58      0.58      0.58      1000\n",
        "\n",
        "time_saved : 1649671098.803563"
      ],
      "metadata": {
        "id": "7LH0QydDHFha"
      }
    },
    {
      "cell_type": "markdown",
      "source": [
        "## Bombus melanopygus vs Bombus huntii ##"
      ],
      "metadata": {
        "id": "HsfsBc2RJLCc"
      }
    },
    {
      "cell_type": "markdown",
      "source": [
        "[[263 237]\n",
        "\n",
        " [185 315]]\n",
        " \n",
        " shape=(2, 2), dtype=int32)\n",
        " \n",
        "              precision    recall  f1-score   support\n",
        "\n",
        "         0.0       0.59      0.53      0.55       500\n",
        "         1.0       0.57      0.63      0.60       500\n",
        "\n",
        "    accuracy                           0.58      1000\n",
        "   macro avg       0.58      0.58      0.58      1000\n",
        "weighted avg       0.58      0.58      0.58      1000\n",
        "\n",
        "time_saved : 1649700138.473557"
      ],
      "metadata": {
        "id": "BRoCm917HS87"
      }
    },
    {
      "cell_type": "markdown",
      "source": [
        "## Bombus melanopygus vs Bombus ternarius ##"
      ],
      "metadata": {
        "id": "rQN0FRXCJNqZ"
      }
    },
    {
      "cell_type": "markdown",
      "source": [
        "[[261 239]\n",
        "\n",
        " [188 312]]\n",
        " \n",
        " shape=(2, 2), dtype=int32)\n",
        " \n",
        "              precision    recall  f1-score   support\n",
        "\n",
        "         0.0       0.58      0.52      0.55       500\n",
        "         1.0       0.57      0.62      0.59       500\n",
        "\n",
        "    accuracy                           0.57      1000\n",
        "   macro avg       0.57      0.57      0.57      1000\n",
        "weighted avg       0.57      0.57      0.57      1000\n",
        "\n",
        "time_saved : 1649715133.3018973"
      ],
      "metadata": {
        "id": "T5xCRYIKHaOy"
      }
    },
    {
      "cell_type": "markdown",
      "source": [
        "## Bombus melanopygus vs Bombus terricola ##"
      ],
      "metadata": {
        "id": "_Boc9L8zJPQt"
      }
    },
    {
      "cell_type": "markdown",
      "source": [
        "[[337  19]\n",
        "\n",
        " [120 236]]\n",
        " \n",
        " shape=(2, 2), dtype=int32)\n",
        " \n",
        "              precision    recall  f1-score   support\n",
        "\n",
        "         0.0       0.74      0.95      0.83       356\n",
        "         1.0       0.93      0.66      0.77       356\n",
        "\n",
        "    accuracy                           0.80       712\n",
        "   macro avg       0.83      0.80      0.80       712\n",
        "weighted avg       0.83      0.80      0.80       712\n",
        "\n",
        "time_saved : 1649752240.74296"
      ],
      "metadata": {
        "id": "FKRts0KRXKRX"
      }
    },
    {
      "cell_type": "markdown",
      "source": [
        "## Bombus melanopygus vs Bombus vagans ##"
      ],
      "metadata": {
        "id": "3CuZXABKJQwH"
      }
    },
    {
      "cell_type": "markdown",
      "source": [
        "[[411  89]\n",
        "\n",
        " [213 287]]\n",
        " \n",
        " shape=(2, 2), dtype=int32)\n",
        " \n",
        "              precision    recall  f1-score   support\n",
        "\n",
        "         0.0       0.66      0.82      0.73       500\n",
        "         1.0       0.76      0.57      0.66       500\n",
        "\n",
        "    accuracy                           0.70      1000\n",
        "   macro avg       0.71      0.70      0.69      1000\n",
        "weighted avg       0.71      0.70      0.69      1000\n",
        "\n",
        "time_saved : 1649761268.8808298"
      ],
      "metadata": {
        "id": "J7vFCkyOXWWp"
      }
    },
    {
      "cell_type": "markdown",
      "source": [
        "## Bombus melanopygus vs Bombus vosnesenskii ##"
      ],
      "metadata": {
        "id": "wEmEjOTjJTJP"
      }
    },
    {
      "cell_type": "markdown",
      "source": [
        "[[473  27]\n",
        "\n",
        " [221 279]]\n",
        " \n",
        " shape=(2, 2), dtype=int32)\n",
        " \n",
        "              precision    recall  f1-score   support\n",
        "\n",
        "         0.0       0.68      0.95      0.79       500\n",
        "         1.0       0.91      0.56      0.69       500\n",
        "\n",
        "    accuracy                           0.75      1000\n",
        "   macro avg       0.80      0.75      0.74      1000\n",
        "weighted avg       0.80      0.75      0.74      1000\n",
        "\n",
        "time_saved : 1649856236.9807053"
      ],
      "metadata": {
        "id": "RjQAohl1XjdQ"
      }
    },
    {
      "cell_type": "markdown",
      "source": [
        "## Bombus melanopygus vs Bombus auricomus ##"
      ],
      "metadata": {
        "id": "G7sbJUkaJVgj"
      }
    },
    {
      "cell_type": "markdown",
      "source": [
        "[[369  15]\n",
        "\n",
        " [164 220]]\n",
        " \n",
        " shape=(2, 2), dtype=int32)\n",
        " \n",
        "              precision    recall  f1-score   support\n",
        "\n",
        "         0.0       0.69      0.96      0.80       384\n",
        "         1.0       0.94      0.57      0.71       384\n",
        "\n",
        "    accuracy                           0.77       768\n",
        "   macro avg       0.81      0.77      0.76       768\n",
        "weighted avg       0.81      0.77      0.76       768\n",
        "\n",
        "time_saved : 1649871507.605678"
      ],
      "metadata": {
        "id": "f9gNKamVXx4i"
      }
    },
    {
      "cell_type": "markdown",
      "source": [
        "## Bombus mixtus vs Bombus nevadensis ##"
      ],
      "metadata": {
        "id": "e0XfW2-hJdi1"
      }
    },
    {
      "cell_type": "markdown",
      "source": [
        "[[282   8]\n",
        "\n",
        " [ 53 237]]\n",
        " \n",
        " shape=(2, 2), dtype=int32)\n",
        " \n",
        "              precision    recall  f1-score   support\n",
        "\n",
        "         0.0       0.84      0.97      0.90       290\n",
        "         1.0       0.97      0.82      0.89       290\n",
        "\n",
        "    accuracy                           0.89       580\n",
        "   macro avg       0.90      0.89      0.89       580\n",
        "weighted avg       0.90      0.89      0.89       580\n",
        "\n",
        "time_saved : 1649779609.3831148"
      ],
      "metadata": {
        "id": "2iYYwckpYMhP"
      }
    },
    {
      "cell_type": "markdown",
      "source": [
        "## Bombus mixtus vs Bombus pensylvanicus ##"
      ],
      "metadata": {
        "id": "FhxA6LSlJhw4"
      }
    },
    {
      "cell_type": "markdown",
      "source": [
        "[[489  11]\n",
        "\n",
        " [ 61 439]]\n",
        " \n",
        " shape=(2, 2), dtype=int32)\n",
        " \n",
        "              precision    recall  f1-score   support\n",
        "\n",
        "         0.0       0.89      0.98      0.93       500\n",
        "         1.0       0.98      0.88      0.92       500\n",
        "\n",
        "    accuracy                           0.93      1000\n",
        "   macro avg       0.93      0.93      0.93      1000\n",
        "weighted avg       0.93      0.93      0.93      1000\n",
        "\n",
        "time_saved : 1649798277.0860994"
      ],
      "metadata": {
        "id": "sPFeCgmgY3P5"
      }
    },
    {
      "cell_type": "markdown",
      "source": [
        "## Bombus mixtus vs Bombus perplexus ##"
      ],
      "metadata": {
        "id": "z0cI2_igJlkI"
      }
    },
    {
      "cell_type": "markdown",
      "source": [
        "[[452  46]\n",
        "\n",
        " [151 347]]\n",
        " \n",
        " shape=(2, 2), dtype=int32)\n",
        " \n",
        "              precision    recall  f1-score   support\n",
        "\n",
        "         0.0       0.75      0.91      0.82       498\n",
        "         1.0       0.88      0.70      0.78       498\n",
        "\n",
        "    accuracy                           0.80       996\n",
        "   macro avg       0.82      0.80      0.80       996\n",
        "weighted avg       0.82      0.80      0.80       996\n",
        "\n",
        "time_saved : 1649807781.3676083"
      ],
      "metadata": {
        "id": "sur6j7vfZHaV"
      }
    },
    {
      "cell_type": "markdown",
      "source": [
        "## Bombus mixtus vs Bombus rufocinctus ##"
      ],
      "metadata": {
        "id": "wzMJBKAtJm9D"
      }
    },
    {
      "cell_type": "markdown",
      "source": [
        "[[372 128]\n",
        "\n",
        " [280 220]]\n",
        " \n",
        " shape=(2, 2), dtype=int32)\n",
        " \n",
        "              precision    recall  f1-score   support\n",
        "\n",
        "         0.0       0.57      0.74      0.65       500\n",
        "         1.0       0.63      0.44      0.52       500\n",
        "\n",
        "    accuracy                           0.59      1000\n",
        "   macro avg       0.60      0.59      0.58      1000\n",
        "weighted avg       0.60      0.59      0.58      1000\n",
        "\n",
        "time_saved : 1649835204.2736664"
      ],
      "metadata": {
        "id": "UpDuFrFZZhbl"
      }
    },
    {
      "cell_type": "markdown",
      "source": [
        "## Bombus mixtus vs Bombus huntii ##"
      ],
      "metadata": {
        "id": "Tx-huFMKJrFh"
      }
    },
    {
      "cell_type": "markdown",
      "source": [
        "[[452  48]\n",
        "\n",
        " [127 373]]\n",
        " \n",
        " shape=(2, 2), dtype=int32)\n",
        " \n",
        "              precision    recall  f1-score   support\n",
        "\n",
        "         0.0       0.78      0.90      0.84       500\n",
        "         1.0       0.89      0.75      0.81       500\n",
        "\n",
        "    accuracy                           0.82      1000\n",
        "   macro avg       0.83      0.82      0.82      1000\n",
        "weighted avg       0.83      0.82      0.82      1000\n",
        "\n",
        "time_saved : 1649854533.4600275"
      ],
      "metadata": {
        "id": "yyv8U1ByZskh"
      }
    },
    {
      "cell_type": "markdown",
      "source": [
        "## Bombus mixtus vs Bombus ternarius ##"
      ],
      "metadata": {
        "id": "ClRI40ZmJsjA"
      }
    },
    {
      "cell_type": "markdown",
      "source": [
        "[[401  99]\n",
        "\n",
        " [159 341]]\n",
        " \n",
        " shape=(2, 2), dtype=int32)\n",
        " \n",
        "              precision    recall  f1-score   support\n",
        "\n",
        "         0.0       0.72      0.80      0.76       500\n",
        "         1.0       0.78      0.68      0.73       500\n",
        "\n",
        "    accuracy                           0.74      1000\n",
        "   macro avg       0.75      0.74      0.74      1000\n",
        "weighted avg       0.75      0.74      0.74      1000\n",
        "\n",
        "time_saved : 1649836991.7147815"
      ],
      "metadata": {
        "id": "aDwY93TSZ7nl"
      }
    },
    {
      "cell_type": "markdown",
      "source": [
        "## Bombus mixtus vs Bombus terricola ##"
      ],
      "metadata": {
        "id": "kWw5qwLaJzxT"
      }
    },
    {
      "cell_type": "markdown",
      "source": [
        "[[336  20]\n",
        "\n",
        " [ 81 275]]\n",
        " \n",
        " shape=(2, 2), dtype=int32)\n",
        " \n",
        "              precision    recall  f1-score   support\n",
        "\n",
        "         0.0       0.81      0.94      0.87       356\n",
        "         1.0       0.93      0.77      0.84       356\n",
        "\n",
        "    accuracy                           0.86       712\n",
        "   macro avg       0.87      0.86      0.86       712\n",
        "weighted avg       0.87      0.86      0.86       712\n",
        "\n",
        "time_saved : 1649917578.5728834"
      ],
      "metadata": {
        "id": "TlbZ02vK_WaL"
      }
    },
    {
      "cell_type": "markdown",
      "source": [
        "## Bombus mixtus vs Bombus vagans ##"
      ],
      "metadata": {
        "id": "6ni5QMfBJ87A"
      }
    },
    {
      "cell_type": "markdown",
      "source": [
        "[[439  61]\n",
        "\n",
        " [154 346]]\n",
        " \n",
        " shape=(2, 2), dtype=int32)\n",
        " \n",
        "              precision    recall  f1-score   support\n",
        "\n",
        "         0.0       0.74      0.88      0.80       500\n",
        "         1.0       0.85      0.69      0.76       500\n",
        "\n",
        "    accuracy                           0.79      1000\n",
        "   macro avg       0.80      0.78      0.78      1000\n",
        "weighted avg       0.80      0.79      0.78      1000\n",
        "\n",
        "time_saved : 1650224517.5244007"
      ],
      "metadata": {
        "id": "kxc3xczd_miD"
      }
    },
    {
      "cell_type": "markdown",
      "source": [
        "## Bombus mixtus vs Bombus vosnesenskii ##"
      ],
      "metadata": {
        "id": "3F4M43y1J_Ar"
      }
    },
    {
      "cell_type": "markdown",
      "source": [
        "[[484  16]\n",
        "\n",
        " [ 92 408]]\n",
        " \n",
        " shape=(2, 2), dtype=int32)\n",
        " \n",
        "              precision    recall  f1-score   support\n",
        "\n",
        "         0.0       0.84      0.97      0.90       500\n",
        "         1.0       0.96      0.82      0.88       500\n",
        "\n",
        "    accuracy                           0.89      1000\n",
        "   macro avg       0.90      0.89      0.89      1000\n",
        "weighted avg       0.90      0.89      0.89      1000\n",
        "\n",
        "time_saved : 1649956244.4107423"
      ],
      "metadata": {
        "id": "D8Z-9r7NDovu"
      }
    },
    {
      "cell_type": "markdown",
      "source": [
        "## Bombus mixtus vs Bombus auricomus ##"
      ],
      "metadata": {
        "id": "p2EArWY4KArX"
      }
    },
    {
      "cell_type": "markdown",
      "source": [
        "[[379   5]\n",
        "\n",
        " [ 67 317]]\n",
        " \n",
        " shape=(2, 2), dtype=int32)\n",
        " \n",
        "              precision    recall  f1-score   support\n",
        "\n",
        "         0.0       0.85      0.99      0.91       384\n",
        "         1.0       0.98      0.83      0.90       384\n",
        "\n",
        "    accuracy                           0.91       768\n",
        "   macro avg       0.92      0.91      0.91       768\n",
        "weighted avg       0.92      0.91      0.91       768\n",
        "\n",
        "time_saved : 1649994144.6938732"
      ],
      "metadata": {
        "id": "-1xtvW0pDwGG"
      }
    },
    {
      "cell_type": "markdown",
      "source": [
        "## Bombus nevadensis vs Bombus pensylvanicus ##"
      ],
      "metadata": {
        "id": "MOlrB6tfbwZI"
      }
    },
    {
      "cell_type": "markdown",
      "source": [
        "[[ 36 254]\n",
        "\n",
        " [ 13 277]]\n",
        " \n",
        " shape=(2, 2), dtype=int32)\n",
        " \n",
        "              precision    recall  f1-score   support\n",
        "\n",
        "         0.0       0.73      0.12      0.21       290\n",
        "         1.0       0.52      0.96      0.67       290\n",
        "\n",
        "    accuracy                           0.54       580\n",
        "   macro avg       0.63      0.54      0.44       580\n",
        "weighted avg       0.63      0.54      0.44       580\n",
        "\n",
        "time_saved : 1650032149.952898"
      ],
      "metadata": {
        "id": "RDoIK5VLD_94"
      }
    },
    {
      "cell_type": "markdown",
      "source": [
        "## Bombus nevadensis vs Bombus perplexus ##"
      ],
      "metadata": {
        "id": "j7Jmre_Sb8Bq"
      }
    },
    {
      "cell_type": "markdown",
      "source": [
        "[[260  30]\n",
        "\n",
        " [ 75 215]]\n",
        " \n",
        " shape=(2, 2), dtype=int32)\n",
        " \n",
        "              precision    recall  f1-score   support\n",
        "\n",
        "         0.0       0.78      0.90      0.83       290\n",
        "         1.0       0.88      0.74      0.80       290\n",
        "\n",
        "    accuracy                           0.82       580\n",
        "   macro avg       0.83      0.82      0.82       580\n",
        "weighted avg       0.83      0.82      0.82       580\n",
        "\n",
        "time_saved : 1650261641.2790422"
      ],
      "metadata": {
        "id": "311qlNJ6EKg_"
      }
    },
    {
      "cell_type": "markdown",
      "source": [
        "## Bombus nevadensis vs Bombus rufocinctus ##"
      ],
      "metadata": {
        "id": "anykRrzZb-_X"
      }
    },
    {
      "cell_type": "markdown",
      "source": [
        "[[267  23]\n",
        "\n",
        " [202  88]]\n",
        " \n",
        " shape=(2, 2), dtype=int32)\n",
        " \n",
        "              precision    recall  f1-score   support\n",
        "\n",
        "         0.0       0.57      0.92      0.70       290\n",
        "         1.0       0.79      0.30      0.44       290\n",
        "\n",
        "    accuracy                           0.61       580\n",
        "   macro avg       0.68      0.61      0.57       580\n",
        "weighted avg       0.68      0.61      0.57       580\n",
        "\n",
        "time_saved : 1650069045.362185"
      ],
      "metadata": {
        "id": "J_8ZsA8-Ec5J"
      }
    },
    {
      "cell_type": "markdown",
      "source": [
        "## Bombus nevadensis vs Bombus huntii ##"
      ],
      "metadata": {
        "id": "j5KR0aoXcAn9"
      }
    },
    {
      "cell_type": "markdown",
      "source": [
        "[[284   6]\n",
        "\n",
        " [ 61 229]]\n",
        " \n",
        " shape=(2, 2), dtype=int32)\n",
        " \n",
        "              precision    recall  f1-score   support\n",
        "\n",
        "         0.0       0.82      0.98      0.89       290\n",
        "         1.0       0.97      0.79      0.87       290\n",
        "\n",
        "    accuracy                           0.88       580\n",
        "   macro avg       0.90      0.88      0.88       580\n",
        "weighted avg       0.90      0.88      0.88       580\n",
        "\n",
        "time_saved : 1650103256.7972603"
      ],
      "metadata": {
        "id": "f83vRl4WEldv"
      }
    },
    {
      "cell_type": "markdown",
      "source": [
        "## Bombus nevadensis vs Bombus ternarius ##"
      ],
      "metadata": {
        "id": "zpTTUHNMcDtL"
      }
    },
    {
      "cell_type": "markdown",
      "source": [
        "[[277  13]\n",
        "\n",
        " [ 88 202]]\n",
        " \n",
        " shape=(2, 2), dtype=int32)\n",
        " \n",
        "              precision    recall  f1-score   support\n",
        "\n",
        "         0.0       0.76      0.96      0.85       290\n",
        "         1.0       0.94      0.70      0.80       290\n",
        "\n",
        "    accuracy                           0.83       580\n",
        "   macro avg       0.85      0.83      0.82       580\n",
        "weighted avg       0.85      0.83      0.82       580\n",
        "\n",
        "time_saved : 1650140717.7914002"
      ],
      "metadata": {
        "id": "rT2lDcjKEvtV"
      }
    },
    {
      "cell_type": "markdown",
      "source": [
        "## Bombus nevadensis vs Bombus terricola ##"
      ],
      "metadata": {
        "id": "QmIc4krscGCL"
      }
    },
    {
      "cell_type": "markdown",
      "source": [
        "[[ 92 198]\n",
        "\n",
        " [ 86 204]]\n",
        " \n",
        " shape=(2, 2), dtype=int32)\n",
        " \n",
        "              precision    recall  f1-score   support\n",
        "\n",
        "         0.0       0.52      0.32      0.39       290\n",
        "         1.0       0.51      0.70      0.59       290\n",
        "\n",
        "    accuracy                           0.51       580\n",
        "   macro avg       0.51      0.51      0.49       580\n",
        "weighted avg       0.51      0.51      0.49       580\n",
        "\n",
        "time_saved : 1650180012.3429847"
      ],
      "metadata": {
        "id": "M-xDOtOlE_7Y"
      }
    },
    {
      "cell_type": "markdown",
      "source": [
        "## Bombus nevadensis vs Bombus vagans ##"
      ],
      "metadata": {
        "id": "aGe16piBcRx_"
      }
    },
    {
      "cell_type": "markdown",
      "source": [
        "[[270  20]\n",
        "\n",
        " [ 95 195]]\n",
        " \n",
        " shape=(2, 2), dtype=int32)\n",
        " \n",
        "              precision    recall  f1-score   support\n",
        "\n",
        "         0.0       0.74      0.93      0.82       290\n",
        "         1.0       0.91      0.67      0.77       290\n",
        "\n",
        "    accuracy                           0.80       580\n",
        "   macro avg       0.82      0.80      0.80       580\n",
        "weighted avg       0.82      0.80      0.80       580\n",
        "\n",
        "time_saved : 1650348472.2844462"
      ],
      "metadata": {
        "id": "xawYUPZBDUmZ"
      }
    },
    {
      "cell_type": "markdown",
      "source": [
        "## Bombus nevadensis vs Bombus vosnesenskii ##"
      ],
      "metadata": {
        "id": "Ri8g--ETcUV3"
      }
    },
    {
      "cell_type": "markdown",
      "source": [
        "[[ 71 219]\n",
        "\n",
        " [ 52 238]]\n",
        " \n",
        " shape=(2, 2), dtype=int32)\n",
        " \n",
        "              precision    recall  f1-score   support\n",
        "\n",
        "         0.0       0.58      0.24      0.34       290\n",
        "         1.0       0.52      0.82      0.64       290\n",
        "\n",
        "    accuracy                           0.53       580\n",
        "   macro avg       0.55      0.53      0.49       580\n",
        "weighted avg       0.55      0.53      0.49       580\n",
        "\n",
        "time_saved : 1650383839.8339407"
      ],
      "metadata": {
        "id": "YzB3xhlJDeoR"
      }
    },
    {
      "cell_type": "markdown",
      "source": [
        "## Bombus nevadensis vs Bombus auricomus ##"
      ],
      "metadata": {
        "id": "WC4qGRPHcYxN"
      }
    },
    {
      "cell_type": "markdown",
      "source": [
        "[[ 50 240]\n",
        "\n",
        " [ 49 241]]\n",
        " \n",
        " shape=(2, 2), dtype=int32)\n",
        " \n",
        "              precision    recall  f1-score   support\n",
        "\n",
        "         0.0       0.51      0.17      0.26       290\n",
        "         1.0       0.50      0.83      0.63       290\n",
        "\n",
        "    accuracy                           0.50       580\n",
        "   macro avg       0.50      0.50      0.44       580\n",
        "weighted avg       0.50      0.50      0.44       580\n",
        "\n",
        "time_saved : 1650429424.3987694"
      ],
      "metadata": {
        "id": "dtUWoULHDvLj"
      }
    },
    {
      "cell_type": "markdown",
      "source": [
        "## Bombus pensylvanicus vs Bombus perplexus ##"
      ],
      "metadata": {
        "id": "fAj_uwyuGztI"
      }
    },
    {
      "cell_type": "markdown",
      "source": [
        "[[461  37]\n",
        "\n",
        " [150 348]]\n",
        " \n",
        " shape=(2, 2), dtype=int32)\n",
        " \n",
        "              precision    recall  f1-score   support\n",
        "\n",
        "         0.0       0.75      0.93      0.83       498\n",
        "         1.0       0.90      0.70      0.79       498\n",
        "\n",
        "    accuracy                           0.81       996\n",
        "   macro avg       0.83      0.81      0.81       996\n",
        "weighted avg       0.83      0.81      0.81       996\n",
        "\n",
        "time_saved : 1650464942.9127707"
      ],
      "metadata": {
        "id": "I5y_vk4vD38P"
      }
    },
    {
      "cell_type": "markdown",
      "source": [
        "## Bombus pensylvanicus vs Bombus rufocinctus ##"
      ],
      "metadata": {
        "id": "yOMDK1bhHApk"
      }
    },
    {
      "cell_type": "markdown",
      "source": [
        "[[471  29]\n",
        "\n",
        " [ 57 443]]\n",
        " \n",
        " shape=(2, 2), dtype=int32)\n",
        " \n",
        "              precision    recall  f1-score   support\n",
        "\n",
        "         0.0       0.89      0.94      0.92       500\n",
        "         1.0       0.94      0.89      0.91       500\n",
        "\n",
        "    accuracy                           0.91      1000\n",
        "   macro avg       0.92      0.91      0.91      1000\n",
        "weighted avg       0.92      0.91      0.91      1000\n",
        "\n",
        "time_saved : 1650493343.2366502"
      ],
      "metadata": {
        "id": "9bmvWJU8EBEn"
      }
    },
    {
      "cell_type": "markdown",
      "source": [
        "## Bombus pensylvanicus vs Bombus huntii ##"
      ],
      "metadata": {
        "id": "nTF4BfJqHDXw"
      }
    },
    {
      "cell_type": "markdown",
      "source": [
        "[[480  20]\n",
        "\n",
        " [ 45 455]]\n",
        " \n",
        " shape=(2, 2), dtype=int32)\n",
        " \n",
        "              precision    recall  f1-score   support\n",
        "\n",
        "         0.0       0.91      0.96      0.94       500\n",
        "         1.0       0.96      0.91      0.93       500\n",
        "\n",
        "    accuracy                           0.94      1000\n",
        "   macro avg       0.94      0.94      0.93      1000\n",
        "weighted avg       0.94      0.94      0.93      1000\n",
        "\n",
        "time_saved : 1650493686.2383347"
      ],
      "metadata": {
        "id": "YYPVuAhpEH49"
      }
    },
    {
      "cell_type": "markdown",
      "source": [
        "## Bombus pensylvanicus vs Bombus ternarius ##"
      ],
      "metadata": {
        "id": "55WXsTd3HFpZ"
      }
    },
    {
      "cell_type": "markdown",
      "source": [
        "[[480  20]\n",
        "\n",
        " [ 38 462]]\n",
        " \n",
        " shape=(2, 2), dtype=int32)\n",
        " \n",
        "              precision    recall  f1-score   support\n",
        "\n",
        "         0.0       0.93      0.96      0.94       500\n",
        "         1.0       0.96      0.92      0.94       500\n",
        "\n",
        "    accuracy                           0.94      1000\n",
        "   macro avg       0.94      0.94      0.94      1000\n",
        "weighted avg       0.94      0.94      0.94      1000\n",
        "\n",
        "time_saved : 1650506326.05371"
      ],
      "metadata": {
        "id": "8PQColLcEPTv"
      }
    },
    {
      "cell_type": "markdown",
      "source": [
        "## Bombus pensylvanicus vs Bombus terricola ##"
      ],
      "metadata": {
        "id": "nfMlRPstHIxH"
      }
    },
    {
      "cell_type": "markdown",
      "source": [
        "[[ 54 302]\n",
        "\n",
        " [ 64 292]]\n",
        " \n",
        " shape=(2, 2), dtype=int32)\n",
        " \n",
        "              precision    recall  f1-score   support\n",
        "\n",
        "         0.0       0.46      0.15      0.23       356\n",
        "         1.0       0.49      0.82      0.61       356\n",
        "\n",
        "    accuracy                           0.49       712\n",
        "   macro avg       0.47      0.49      0.42       712\n",
        "weighted avg       0.47      0.49      0.42       712\n",
        "\n",
        "time_saved : 1650546440.12744"
      ],
      "metadata": {
        "id": "olRagdebEcsu"
      }
    },
    {
      "cell_type": "markdown",
      "source": [
        "## Bombus pensylvanicus vs Bombus vagans ##"
      ],
      "metadata": {
        "id": "tvZZMCTbHLyl"
      }
    },
    {
      "cell_type": "markdown",
      "source": [
        "[[486  14]\n",
        "\n",
        " [120 380]]\n",
        " \n",
        " shape=(2, 2), dtype=int32)\n",
        " \n",
        "              precision    recall  f1-score   support\n",
        "\n",
        "         0.0       0.80      0.97      0.88       500\n",
        "         1.0       0.96      0.76      0.85       500\n",
        "\n",
        "    accuracy                           0.87      1000\n",
        "   macro avg       0.88      0.87      0.86      1000\n",
        "weighted avg       0.88      0.87      0.86      1000\n",
        "\n",
        "time_saved : 1650539268.0847752"
      ],
      "metadata": {
        "id": "_HgUnogxEm2c"
      }
    },
    {
      "cell_type": "markdown",
      "source": [
        "## Bombus pensylvanicus vs Bombus vosnesenskii ##"
      ],
      "metadata": {
        "id": "8HWUf69bHNGt"
      }
    },
    {
      "cell_type": "markdown",
      "source": [
        "[[ 44 456]\n",
        "\n",
        " [ 19 481]]\n",
        " \n",
        " shape=(2, 2), dtype=int32)\n",
        " \n",
        "              precision    recall  f1-score   support\n",
        "\n",
        "         0.0       0.70      0.09      0.16       500\n",
        "         1.0       0.51      0.96      0.67       500\n",
        "\n",
        "    accuracy                           0.53      1000\n",
        "   macro avg       0.61      0.53      0.41      1000\n",
        "weighted avg       0.61      0.53      0.41      1000\n",
        "\n",
        "time_saved : 1650552631.3994918"
      ],
      "metadata": {
        "id": "jahxvaKLEzYU"
      }
    },
    {
      "cell_type": "markdown",
      "source": [
        "## Bombus pensylvanicus vs Bombus auricomus ##"
      ],
      "metadata": {
        "id": "hAZ73YNXHQRZ"
      }
    },
    {
      "cell_type": "markdown",
      "source": [
        "[[ 36 348]\n",
        "\n",
        " [ 28 356]]\n",
        " \n",
        " shape=(2, 2), dtype=int32)\n",
        " \n",
        "              precision    recall  f1-score   support\n",
        "\n",
        "         0.0       0.56      0.09      0.16       384\n",
        "         1.0       0.51      0.93      0.65       384\n",
        "\n",
        "    accuracy                           0.51       768\n",
        "   macro avg       0.53      0.51      0.41       768\n",
        "weighted avg       0.53      0.51      0.41       768\n",
        "\n",
        "time_saved : 1650618202.9656324"
      ],
      "metadata": {
        "id": "PxBvjeB_AN1v"
      }
    },
    {
      "cell_type": "markdown",
      "source": [
        "## Bombus perplexus vs Bombus rufocinctus ##"
      ],
      "metadata": {
        "id": "dBFdub-2HZwp"
      }
    },
    {
      "cell_type": "markdown",
      "source": [
        "[[407  91]\n",
        "\n",
        " [328 170]]\n",
        " \n",
        " shape=(2, 2), dtype=int32)\n",
        " \n",
        "              precision    recall  f1-score   support\n",
        "\n",
        "         0.0       0.55      0.82      0.66       498\n",
        "         1.0       0.65      0.34      0.45       498\n",
        "\n",
        "    accuracy                           0.58       996\n",
        "   macro avg       0.60      0.58      0.55       996\n",
        "weighted avg       0.60      0.58      0.55       996\n",
        "\n",
        "time_saved : 1650655231.5393944"
      ],
      "metadata": {
        "id": "TZMg86TwAdsT"
      }
    },
    {
      "cell_type": "markdown",
      "source": [
        "## Bombus perplexus vs Bombus huntii ##"
      ],
      "metadata": {
        "id": "o_nHX5kaHcwx"
      }
    },
    {
      "cell_type": "markdown",
      "source": [
        "[[483  15]\n",
        "\n",
        " [132 366]]\n",
        " \n",
        " shape=(2, 2), dtype=int32)\n",
        " \n",
        "              precision    recall  f1-score   support\n",
        "\n",
        "         0.0       0.79      0.97      0.87       498\n",
        "         1.0       0.96      0.73      0.83       498\n",
        "\n",
        "    accuracy                           0.85       996\n",
        "   macro avg       0.87      0.85      0.85       996\n",
        "weighted avg       0.87      0.85      0.85       996\n",
        "\n",
        "time_saved : 1650812830.6064496"
      ],
      "metadata": {
        "id": "SPZFgtzaAmy8"
      }
    },
    {
      "cell_type": "markdown",
      "source": [
        "## Bombus perplexus vs Bombus ternarius ##"
      ],
      "metadata": {
        "id": "ZmDmHUlbHeto"
      }
    },
    {
      "cell_type": "markdown",
      "source": [
        "[[473  25]\n",
        "\n",
        " [200 298]]\n",
        " \n",
        " shape=(2, 2), dtype=int32)\n",
        " \n",
        "              precision    recall  f1-score   support\n",
        "\n",
        "         0.0       0.70      0.95      0.81       498\n",
        "         1.0       0.92      0.60      0.73       498\n",
        "\n",
        "    accuracy                           0.77       996\n",
        "   macro avg       0.81      0.77      0.77       996\n",
        "weighted avg       0.81      0.77      0.77       996\n",
        "\n",
        "time_saved : 1650772293.5289183"
      ],
      "metadata": {
        "id": "ll9djJ0pAzde"
      }
    },
    {
      "cell_type": "markdown",
      "source": [
        "## Bombus perplexus vs Bombus terricola ##"
      ],
      "metadata": {
        "id": "VH0ti2B2Hgq2"
      }
    },
    {
      "cell_type": "markdown",
      "source": [
        "[[317  39]\n",
        "\n",
        " [ 55 301]]\n",
        " \n",
        " shape=(2, 2), dtype=int32)\n",
        " \n",
        "              precision    recall  f1-score   support\n",
        "\n",
        "         0.0       0.85      0.89      0.87       356\n",
        "         1.0       0.89      0.85      0.86       356\n",
        "\n",
        "    accuracy                           0.87       712\n",
        "   macro avg       0.87      0.87      0.87       712\n",
        "weighted avg       0.87      0.87      0.87       712\n",
        "\n",
        "time_saved : 1650688845.2281158"
      ],
      "metadata": {
        "id": "WSBEbgkiA7DZ"
      }
    },
    {
      "cell_type": "markdown",
      "source": [
        "## Bombus perplexus vs Bombus vagans ##"
      ],
      "metadata": {
        "id": "I-H5JQhkHiCb"
      }
    },
    {
      "cell_type": "markdown",
      "source": [
        "[[187 311]\n",
        "\n",
        " [242 256]]\n",
        " \n",
        " shape=(2, 2), dtype=int32)\n",
        " \n",
        "              precision    recall  f1-score   support\n",
        "\n",
        "         0.0       0.44      0.38      0.40       498\n",
        "         1.0       0.45      0.51      0.48       498\n",
        "\n",
        "    accuracy                           0.44       996\n",
        "   macro avg       0.44      0.44      0.44       996\n",
        "weighted avg       0.44      0.44      0.44       996\n",
        "\n",
        "time_saved : 1650688405.7668781"
      ],
      "metadata": {
        "id": "sB9soNB-BDug"
      }
    },
    {
      "cell_type": "markdown",
      "source": [
        "## Bombus perplexus vs Bombus vosnesenskii ##"
      ],
      "metadata": {
        "id": "U6PPMHNEHjIt"
      }
    },
    {
      "cell_type": "markdown",
      "source": [
        "[[454  44]\n",
        "\n",
        " [175 323]]\n",
        " \n",
        " shape=(2, 2), dtype=int32)\n",
        " \n",
        "              precision    recall  f1-score   support\n",
        "\n",
        "         0.0       0.72      0.91      0.81       498\n",
        "         1.0       0.88      0.65      0.75       498\n",
        "\n",
        "    accuracy                           0.78       996\n",
        "   macro avg       0.80      0.78      0.78       996\n",
        "weighted avg       0.80      0.78      0.78       996\n",
        "\n",
        "time_saved : 1650689406.5932782"
      ],
      "metadata": {
        "id": "Dc5KmWhZBN4P"
      }
    },
    {
      "cell_type": "markdown",
      "source": [
        "## Bombus perplexus vs Bombus auricomus ##"
      ],
      "metadata": {
        "id": "BElwpkL0Hk4c"
      }
    },
    {
      "cell_type": "markdown",
      "source": [
        "[[363  21]\n",
        "\n",
        " [ 98 286]]\n",
        " \n",
        " shape=(2, 2), dtype=int32)\n",
        " \n",
        "              precision    recall  f1-score   support\n",
        "\n",
        "         0.0       0.79      0.95      0.86       384\n",
        "         1.0       0.93      0.74      0.83       384\n",
        "\n",
        "    accuracy                           0.85       768\n",
        "   macro avg       0.86      0.85      0.84       768\n",
        "weighted avg       0.86      0.85      0.84       768\n",
        "\n",
        "time_saved : 1650807044.0018358"
      ],
      "metadata": {
        "id": "T9pVK1FkBUsD"
      }
    },
    {
      "cell_type": "markdown",
      "source": [
        "## Bombus rufocinctus vs Bombus huntii ##"
      ],
      "metadata": {
        "id": "8x4dm0vsHqb5"
      }
    },
    {
      "cell_type": "markdown",
      "source": [
        "[[351 149]\n",
        "\n",
        " [257 243]]\n",
        " \n",
        " shape=(2, 2), dtype=int32)\n",
        " \n",
        "              precision    recall  f1-score   support\n",
        "\n",
        "         0.0       0.58      0.70      0.63       500\n",
        "         1.0       0.62      0.49      0.54       500\n",
        "\n",
        "    accuracy                           0.59      1000\n",
        "   macro avg       0.60      0.59      0.59      1000\n",
        "weighted avg       0.60      0.59      0.59      1000\n",
        "\n",
        "time_saved : 1650803408.9844408"
      ],
      "metadata": {
        "id": "5yWV0NtVBgjg"
      }
    },
    {
      "cell_type": "markdown",
      "source": [
        "## Bombus rufocinctus vs Bombus ternarius ##"
      ],
      "metadata": {
        "id": "Mr9iPpsPHsv7"
      }
    },
    {
      "cell_type": "markdown",
      "source": [
        "[[302 198]\n",
        "\n",
        " [314 186]]\n",
        " \n",
        " shape=(2, 2), dtype=int32)\n",
        " \n",
        "              precision    recall  f1-score   support\n",
        "\n",
        "         0.0       0.49      0.60      0.54       500\n",
        "         1.0       0.48      0.37      0.42       500\n",
        "\n",
        "    accuracy                           0.49      1000\n",
        "   macro avg       0.49      0.49      0.48      1000\n",
        "weighted avg       0.49      0.49      0.48      1000\n",
        "\n",
        "time_saved : 1650834440.4745128"
      ],
      "metadata": {
        "id": "OXMDs000Br1Q"
      }
    },
    {
      "cell_type": "markdown",
      "source": [
        "## Bombus rufocinctus vs Bombus terricola ##"
      ],
      "metadata": {
        "id": "m7oNJBuyHud1"
      }
    },
    {
      "cell_type": "markdown",
      "source": [
        "[[326  30]\n",
        "\n",
        " [119 237]]\n",
        " \n",
        " shape=(2, 2), dtype=int32)\n",
        " \n",
        "              precision    recall  f1-score   support\n",
        "\n",
        "         0.0       0.73      0.92      0.81       356\n",
        "         1.0       0.89      0.67      0.76       356\n",
        "\n",
        "    accuracy                           0.79       712\n",
        "   macro avg       0.81      0.79      0.79       712\n",
        "weighted avg       0.81      0.79      0.79       712\n",
        "\n",
        "time_saved : 1650887305.612849"
      ],
      "metadata": {
        "id": "qAkhMNDJZpGw"
      }
    },
    {
      "cell_type": "markdown",
      "source": [
        "## Bombus rufocinctus vs Bombus vagans ##"
      ],
      "metadata": {
        "id": "7WiotND5HwZK"
      }
    },
    {
      "cell_type": "markdown",
      "source": [
        "[[364 136]\n",
        "\n",
        " [265 235]]\n",
        " \n",
        " shape=(2, 2), dtype=int32)\n",
        " \n",
        "              precision    recall  f1-score   support\n",
        "\n",
        "         0.0       0.58      0.73      0.64       500\n",
        "         1.0       0.63      0.47      0.54       500\n",
        "\n",
        "    accuracy                           0.60      1000\n",
        "   macro avg       0.61      0.60      0.59      1000\n",
        "weighted avg       0.61      0.60      0.59      1000\n",
        "\n",
        "time_saved : 1650910762.8964636"
      ],
      "metadata": {
        "id": "MbbVjUw8Z09v"
      }
    },
    {
      "cell_type": "markdown",
      "source": [
        "## Bombus rufocinctus vs Bombus vosnesenskii ##"
      ],
      "metadata": {
        "id": "2Q6NGZVTHxl4"
      }
    },
    {
      "cell_type": "markdown",
      "source": [
        "[[462  38]\n",
        "\n",
        " [332 168]]\n",
        " \n",
        " shape=(2, 2), dtype=int32)\n",
        " \n",
        "              precision    recall  f1-score   support\n",
        "\n",
        "         0.0       0.58      0.92      0.71       500\n",
        "         1.0       0.82      0.34      0.48       500\n",
        "\n",
        "    accuracy                           0.63      1000\n",
        "   macro avg       0.70      0.63      0.59      1000\n",
        "weighted avg       0.70      0.63      0.59      1000\n",
        "\n",
        "time_saved : 1650913929.4863813"
      ],
      "metadata": {
        "id": "v43YqzK3bifY"
      }
    },
    {
      "cell_type": "markdown",
      "source": [
        "## Bombus rufocinctus vs Bombus auricomus ##"
      ],
      "metadata": {
        "id": "zQGekadeHz4u"
      }
    },
    {
      "cell_type": "markdown",
      "source": [
        "[[353  31]\n",
        "\n",
        " [284 100]]\n",
        " \n",
        " shape=(2, 2), dtype=int32)\n",
        " \n",
        "              precision    recall  f1-score   support\n",
        "\n",
        "         0.0       0.55      0.92      0.69       384\n",
        "         1.0       0.76      0.26      0.39       384\n",
        "\n",
        "    accuracy                           0.59       768\n",
        "   macro avg       0.66      0.59      0.54       768\n",
        "weighted avg       0.66      0.59      0.54       768\n",
        "\n",
        "time_saved : 1650956394.019039"
      ],
      "metadata": {
        "id": "QLvys5nCcWcv"
      }
    },
    {
      "cell_type": "markdown",
      "source": [
        "## Bombus huntii vs Bombus ternarius ##"
      ],
      "metadata": {
        "id": "4zWh6t5SH5x8"
      }
    },
    {
      "cell_type": "markdown",
      "source": [
        "[[150 350]\n",
        "\n",
        " [151 349]]\n",
        " \n",
        " shape=(2, 2), dtype=int32)\n",
        " \n",
        "              precision    recall  f1-score   support\n",
        "\n",
        "         0.0       0.50      0.30      0.37       500\n",
        "         1.0       0.50      0.70      0.58       500\n",
        "\n",
        "    accuracy                           0.50      1000\n",
        "   macro avg       0.50      0.50      0.48      1000\n",
        "weighted avg       0.50      0.50      0.48      1000\n",
        "\n",
        "time_saved : 1650946451.7066324"
      ],
      "metadata": {
        "id": "Xswr3CsAdhju"
      }
    },
    {
      "cell_type": "markdown",
      "source": [
        "## Bombus huntii vs Bombus terricola ##"
      ],
      "metadata": {
        "id": "BDzDoSvRH8JI"
      }
    },
    {
      "cell_type": "markdown",
      "source": [
        "[[342  14]\n",
        "\n",
        " [102 254]]\n",
        " \n",
        " shape=(2, 2), dtype=int32)\n",
        " \n",
        "              precision    recall  f1-score   support\n",
        "\n",
        "         0.0       0.77      0.96      0.86       356\n",
        "         1.0       0.95      0.71      0.81       356\n",
        "\n",
        "    accuracy                           0.84       712\n",
        "   macro avg       0.86      0.84      0.83       712\n",
        "weighted avg       0.86      0.84      0.83       712\n",
        "\n",
        "time_saved : 1650973205.959161"
      ],
      "metadata": {
        "id": "j1Lvcc2Qegca"
      }
    },
    {
      "cell_type": "markdown",
      "source": [
        "## Bombus huntii vs Bombus vagans ##"
      ],
      "metadata": {
        "id": "brzFkFu_H-SQ"
      }
    },
    {
      "cell_type": "markdown",
      "source": [
        "[[471  29]\n",
        "\n",
        " [175 325]]\n",
        " \n",
        " shape=(2, 2), dtype=int32)\n",
        " \n",
        "              precision    recall  f1-score   support\n",
        "\n",
        "         0.0       0.73      0.94      0.82       500\n",
        "         1.0       0.92      0.65      0.76       500\n",
        "\n",
        "    accuracy                           0.80      1000\n",
        "   macro avg       0.82      0.80      0.79      1000\n",
        "weighted avg       0.82      0.80      0.79      1000\n",
        "\n",
        "time_saved : 1651000496.1374798"
      ],
      "metadata": {
        "id": "_jCJ1dnoe10o"
      }
    },
    {
      "cell_type": "markdown",
      "source": [
        "## Bombus huntii vs Bombus vosnesenskii ##"
      ],
      "metadata": {
        "id": "Lb02EdG3H_nM"
      }
    },
    {
      "cell_type": "markdown",
      "source": [
        "[[486  14]\n",
        "\n",
        " [ 93 407]]\n",
        " \n",
        " shape=(2, 2), dtype=int32)\n",
        " \n",
        "              precision    recall  f1-score   support\n",
        "\n",
        "         0.0       0.84      0.97      0.90       500\n",
        "         1.0       0.97      0.81      0.88       500\n",
        "\n",
        "    accuracy                           0.89      1000\n",
        "   macro avg       0.90      0.89      0.89      1000\n",
        "weighted avg       0.90      0.89      0.89      1000\n",
        "\n",
        "time_saved : 1650999810.0674083"
      ],
      "metadata": {
        "id": "9OuOe0N3fZuy"
      }
    },
    {
      "cell_type": "markdown",
      "source": [
        "## Bombus huntii vs Bombus auricomus ##"
      ],
      "metadata": {
        "id": "4WjoNx9_IBGy"
      }
    },
    {
      "cell_type": "markdown",
      "source": [
        "[[373  11]\n",
        "\n",
        " [105 279]]\n",
        " \n",
        " shape=(2, 2), dtype=int32)\n",
        " \n",
        "              precision    recall  f1-score   support\n",
        "\n",
        "         0.0       0.78      0.97      0.87       384\n",
        "         1.0       0.96      0.73      0.83       384\n",
        "\n",
        "    accuracy                           0.85       768\n",
        "   macro avg       0.87      0.85      0.85       768\n",
        "weighted avg       0.87      0.85      0.85       768\n",
        "\n",
        "time_saved : 1651027642.713106"
      ],
      "metadata": {
        "id": "nw-H5isdgeAh"
      }
    },
    {
      "cell_type": "markdown",
      "source": [
        "## Bombus ternarius vs Bombus terricola ##"
      ],
      "metadata": {
        "id": "p4I07dmHIE7a"
      }
    },
    {
      "cell_type": "markdown",
      "source": [
        "[[335  21]\n",
        "\n",
        " [ 97 259]]\n",
        " \n",
        " shape=(2, 2), dtype=int32)\n",
        " \n",
        "              precision    recall  f1-score   support\n",
        "\n",
        "         0.0       0.78      0.94      0.85       356\n",
        "         1.0       0.93      0.73      0.81       356\n",
        "\n",
        "    accuracy                           0.83       712\n",
        "   macro avg       0.85      0.83      0.83       712\n",
        "weighted avg       0.85      0.83      0.83       712\n",
        "\n",
        "time_saved : 1651037199.733809"
      ],
      "metadata": {
        "id": "AL4ad05Ugk3u"
      }
    },
    {
      "cell_type": "markdown",
      "source": [
        "## Bombus ternarius vs Bombus vagans ##"
      ],
      "metadata": {
        "id": "gkvjNXgLII12"
      }
    },
    {
      "cell_type": "markdown",
      "source": [
        "[[455  45]\n",
        "\n",
        " [203 297]]\n",
        " \n",
        " shape=(2, 2), dtype=int32)\n",
        " \n",
        "              precision    recall  f1-score   support\n",
        "\n",
        "         0.0       0.69      0.91      0.79       500\n",
        "         1.0       0.87      0.59      0.71       500\n",
        "\n",
        "    accuracy                           0.75      1000\n",
        "   macro avg       0.78      0.75      0.75      1000\n",
        "weighted avg       0.78      0.75      0.75      1000\n",
        "\n",
        "time_saved : 1651126866.9857256"
      ],
      "metadata": {
        "id": "zJfzLKQxsRjS"
      }
    },
    {
      "cell_type": "markdown",
      "source": [
        "## Bombus ternarius vs Bombus vosnesenskii ##"
      ],
      "metadata": {
        "id": "1rZzoEglIKkg"
      }
    },
    {
      "cell_type": "markdown",
      "source": [
        "[[471  29]\n",
        "\n",
        " [146 354]]\n",
        " \n",
        " shape=(2, 2), dtype=int32)\n",
        " \n",
        "              precision    recall  f1-score   support\n",
        "\n",
        "         0.0       0.76      0.94      0.84       500\n",
        "         1.0       0.92      0.71      0.80       500\n",
        "\n",
        "    accuracy                           0.82      1000\n",
        "   macro avg       0.84      0.82      0.82      1000\n",
        "weighted avg       0.84      0.82      0.82      1000\n",
        "\n",
        "time_saved : 1651169860.7790759"
      ],
      "metadata": {
        "id": "AhjLS7IPsbOk"
      }
    },
    {
      "cell_type": "markdown",
      "source": [
        "## Bombus ternarius vs Bombus auricomus ##"
      ],
      "metadata": {
        "id": "hEmcLEgIINpJ"
      }
    },
    {
      "cell_type": "markdown",
      "source": [
        "[[367  17]\n",
        "\n",
        " [138 246]]\n",
        " \n",
        " shape=(2, 2), dtype=int32)\n",
        " \n",
        "              precision    recall  f1-score   support\n",
        "\n",
        "         0.0       0.73      0.96      0.83       384\n",
        "         1.0       0.94      0.64      0.76       384\n",
        "\n",
        "    accuracy                           0.80       768\n",
        "   macro avg       0.83      0.80      0.79       768\n",
        "weighted avg       0.83      0.80      0.79       768\n",
        "\n",
        "time_saved : 1651207592.4309652"
      ],
      "metadata": {
        "id": "y98sDpTjslDS"
      }
    },
    {
      "cell_type": "markdown",
      "source": [
        "## Bombus terricola vs Bombus vagans ##"
      ],
      "metadata": {
        "id": "OzJCQ7S_ISFr"
      }
    },
    {
      "cell_type": "markdown",
      "source": [
        "[[333  23]\n",
        "\n",
        " [117 239]]\n",
        " \n",
        " shape=(2, 2), dtype=int32)\n",
        " \n",
        "              precision    recall  f1-score   support\n",
        "\n",
        "         0.0       0.74      0.94      0.83       356\n",
        "         1.0       0.91      0.67      0.77       356\n",
        "\n",
        "    accuracy                           0.80       712\n",
        "   macro avg       0.83      0.80      0.80       712\n",
        "weighted avg       0.83      0.80      0.80       712\n",
        "\n",
        "time_saved : 1651534607.2308123"
      ],
      "metadata": {
        "id": "lF9pK1e9r_5m"
      }
    },
    {
      "cell_type": "markdown",
      "source": [
        "## Bombus terricola vs Bombus vosnesenskii ##"
      ],
      "metadata": {
        "id": "Iz7Id4gZIUp4"
      }
    },
    {
      "cell_type": "markdown",
      "source": [
        "[[ 56 300]\n",
        "\n",
        " [ 36 320]]\n",
        " \n",
        " shape=(2, 2), dtype=int32)\n",
        " \n",
        "              precision    recall  f1-score   support\n",
        "\n",
        "         0.0       0.61      0.16      0.25       356\n",
        "         1.0       0.52      0.90      0.66       356\n",
        "\n",
        "    accuracy                           0.53       712\n",
        "   macro avg       0.56      0.53      0.45       712\n",
        "weighted avg       0.56      0.53      0.45       712\n",
        "\n",
        "time_saved : 1651269512.4410734"
      ],
      "metadata": {
        "id": "27BmIRGKsyJR"
      }
    },
    {
      "cell_type": "markdown",
      "source": [
        "## Bombus terricola vs Bombus auricomus ##"
      ],
      "metadata": {
        "id": "gRTKDGCCIbbn"
      }
    },
    {
      "cell_type": "markdown",
      "source": [
        "[[ 48 308]\n",
        "\n",
        " [ 71 285]]\n",
        " \n",
        " shape=(2, 2), dtype=int32)\n",
        " \n",
        "              precision    recall  f1-score   support\n",
        "\n",
        "         0.0       0.40      0.13      0.20       356\n",
        "         1.0       0.48      0.80      0.60       356\n",
        "\n",
        "    accuracy                           0.47       712\n",
        "   macro avg       0.44      0.47      0.40       712\n",
        "weighted avg       0.44      0.47      0.40       712\n",
        "\n",
        "time_saved : 1651298862.96596"
      ],
      "metadata": {
        "id": "zy2qd8bis6Il"
      }
    },
    {
      "cell_type": "markdown",
      "source": [
        "## Bombus vagans vs Bombus vosnesenskii ##"
      ],
      "metadata": {
        "id": "o1056NJWIeqC"
      }
    },
    {
      "cell_type": "markdown",
      "source": [
        "[[468  32]\n",
        "\n",
        " [142 358]]\n",
        " \n",
        " shape=(2, 2), dtype=int32)\n",
        " \n",
        "              precision    recall  f1-score   support\n",
        "\n",
        "         0.0       0.77      0.94      0.84       500\n",
        "         1.0       0.92      0.72      0.80       500\n",
        "\n",
        "    accuracy                           0.83      1000\n",
        "   macro avg       0.84      0.83      0.82      1000\n",
        "weighted avg       0.84      0.83      0.82      1000\n",
        "\n",
        "time_saved : 1651328389.3828151"
      ],
      "metadata": {
        "id": "4Z0-nfdgtCyy"
      }
    },
    {
      "cell_type": "markdown",
      "source": [
        "## Bombus vagans vs Bombus auricomus ##"
      ],
      "metadata": {
        "id": "reI2LLt4InOL"
      }
    },
    {
      "cell_type": "markdown",
      "source": [
        "[[371  13]\n",
        "\n",
        " [161 223]]\n",
        " \n",
        " shape=(2, 2), dtype=int32)\n",
        " \n",
        "              precision    recall  f1-score   support\n",
        "\n",
        "         0.0       0.70      0.97      0.81       384\n",
        "         1.0       0.94      0.58      0.72       384\n",
        "\n",
        "    accuracy                           0.77       768\n",
        "   macro avg       0.82      0.77      0.76       768\n",
        "weighted avg       0.82      0.77      0.76       768\n",
        "\n",
        "time_saved : 1651357601.4619894"
      ],
      "metadata": {
        "id": "cwoB8E1XtkU2"
      }
    },
    {
      "cell_type": "markdown",
      "source": [
        "## Bombus vosnesenskii vs Bombus auricomus ##"
      ],
      "metadata": {
        "id": "Eu5UvIlTIpn0"
      }
    },
    {
      "cell_type": "markdown",
      "source": [
        "[[ 52 332]\n",
        "\n",
        " [ 65 319]]\n",
        " \n",
        " shape=(2, 2), dtype=int32)\n",
        " \n",
        "              precision    recall  f1-score   support\n",
        "\n",
        "         0.0       0.44      0.14      0.21       384\n",
        "         1.0       0.49      0.83      0.62       384\n",
        "\n",
        "    accuracy                           0.48       768\n",
        "   macro avg       0.47      0.48      0.41       768\n",
        "weighted avg       0.47      0.48      0.41       768\n",
        "\n",
        "time_saved : 1651384907.8683965"
      ],
      "metadata": {
        "id": "lCfcIA6jtd32"
      }
    },
    {
      "cell_type": "markdown",
      "source": [
        "# Left Column #"
      ],
      "metadata": {
        "id": "rv0JWD8Rju41"
      }
    },
    {
      "cell_type": "markdown",
      "source": [
        "## Bombus appositus vs Bombus crotchii ##"
      ],
      "metadata": {
        "id": "V7COU3YZkZVH"
      }
    },
    {
      "cell_type": "markdown",
      "source": [
        "[[265 235]\n",
        "\n",
        " [278 222]]\n",
        " \n",
        " shape=(2, 2), dtype=int32)\n",
        " \n",
        "              precision    recall  f1-score   support\n",
        "\n",
        "         0.0       0.49      0.53      0.51       500\n",
        "         1.0       0.49      0.44      0.46       500\n",
        "\n",
        "    accuracy                           0.49      1000\n",
        "   macro avg       0.49      0.49      0.49      1000\n",
        "weighted avg       0.49      0.49      0.49      1000\n",
        "\n",
        "time_saved : 1651412184.5109098"
      ],
      "metadata": {
        "id": "PIp_BDEdt1Kk"
      }
    },
    {
      "cell_type": "markdown",
      "source": [
        "## Bombus appositus vs Bombus bohemicus ##"
      ],
      "metadata": {
        "id": "q2SBZsOOkjSb"
      }
    },
    {
      "cell_type": "markdown",
      "source": [
        "[[22 18]\n",
        "\n",
        " [29 11]]\n",
        " \n",
        " shape=(2, 2), dtype=int32)\n",
        " \n",
        "              precision    recall  f1-score   support\n",
        "\n",
        "         0.0       0.43      0.55      0.48        40\n",
        "         1.0       0.38      0.28      0.32        40\n",
        "\n",
        "    accuracy                           0.41        80\n",
        "   macro avg       0.41      0.41      0.40        80\n",
        "weighted avg       0.41      0.41      0.40        80\n",
        "\n",
        "time_saved : 1651543702.3033843"
      ],
      "metadata": {
        "id": "nmyT8W4fscEa"
      }
    },
    {
      "cell_type": "markdown",
      "source": [
        "## Bombus appositus vs Bombus caliginosus ##"
      ],
      "metadata": {
        "id": "TqmpTQAWyX_y"
      }
    },
    {
      "cell_type": "markdown",
      "source": [
        "### Pre-recorded ###"
      ],
      "metadata": {
        "id": "MRMfejgtzJnL"
      }
    },
    {
      "cell_type": "markdown",
      "source": [
        "## Bombus appositus vs Bombus franklini ##"
      ],
      "metadata": {
        "id": "5RFvmuCPyaiB"
      }
    },
    {
      "cell_type": "markdown",
      "source": [
        "[[ 8  8]\n",
        "\n",
        " [10  6]]\n",
        " \n",
        " shape=(2, 2), dtype=int32)\n",
        " \n",
        "              precision    recall  f1-score   support\n",
        "\n",
        "         0.0       0.44      0.50      0.47        16\n",
        "         1.0       0.43      0.38      0.40        16\n",
        "\n",
        "    accuracy                           0.44        32\n",
        "   macro avg       0.44      0.44      0.44        32\n",
        "weighted avg       0.44      0.44      0.44        32\n",
        "\n",
        "time_saved : 1651550547.760884"
      ],
      "metadata": {
        "id": "NxRBnUKvyQef"
      }
    },
    {
      "cell_type": "markdown",
      "source": [
        "## Bombus appositus vs Bombus cockerelli ##"
      ],
      "metadata": {
        "id": "a1NeBa7dycoa"
      }
    },
    {
      "cell_type": "markdown",
      "source": [
        "### Pre-recorded ###"
      ],
      "metadata": {
        "id": "suDa0Q4EzQD_"
      }
    },
    {
      "cell_type": "markdown",
      "source": [
        "## Bombus appositus vs Bombus cryptarum ##"
      ],
      "metadata": {
        "id": "zBMwoQcfygDJ"
      }
    },
    {
      "cell_type": "markdown",
      "source": [
        "### Pre-recorded ###"
      ],
      "metadata": {
        "id": "stuL5G1PzQ0a"
      }
    },
    {
      "cell_type": "markdown",
      "source": [
        "## Bombus appositus vs Bombus suckleyi ##"
      ],
      "metadata": {
        "id": "kwNa_xZSyjMf"
      }
    },
    {
      "cell_type": "markdown",
      "source": [
        "[[22  4]\n",
        "\n",
        " [14 12]]\n",
        " \n",
        " shape=(2, 2), dtype=int32)\n",
        " \n",
        "              precision    recall  f1-score   support\n",
        "\n",
        "         0.0       0.61      0.85      0.71        26\n",
        "         1.0       0.75      0.46      0.57        26\n",
        "\n",
        "    accuracy                           0.65        52\n",
        "   macro avg       0.68      0.65      0.64        52\n",
        "weighted avg       0.68      0.65      0.64        52\n",
        "\n",
        "time_saved : 1651550330.5966194"
      ],
      "metadata": {
        "id": "2hp80mbbyfmD"
      }
    },
    {
      "cell_type": "markdown",
      "source": [
        "## Bombus appositus vs Bombus fraternus ##"
      ],
      "metadata": {
        "id": "mVdQg7ZdyonZ"
      }
    },
    {
      "cell_type": "markdown",
      "source": [
        "[[283 217]\n",
        "\n",
        " [267 233]]\n",
        " \n",
        " shape=(2, 2), dtype=int32)\n",
        " \n",
        "              precision    recall  f1-score   support\n",
        "\n",
        "         0.0       0.51      0.57      0.54       500\n",
        "         1.0       0.52      0.47      0.49       500\n",
        "\n",
        "    accuracy                           0.52      1000\n",
        "   macro avg       0.52      0.52      0.51      1000\n",
        "weighted avg       0.52      0.52      0.51      1000\n",
        "\n",
        "time_saved : 1651561114.082769"
      ],
      "metadata": {
        "id": "kByJ4TNLyqbr"
      }
    },
    {
      "cell_type": "markdown",
      "source": [
        "## Bombus appositus vs Bombus frigidus ##"
      ],
      "metadata": {
        "id": "-zM11ev0yqrq"
      }
    },
    {
      "cell_type": "markdown",
      "source": [
        "[[268  88]\n",
        "\n",
        " [212 144]]\n",
        " \n",
        " shape=(2, 2), dtype=int32)\n",
        " \n",
        "              precision    recall  f1-score   support\n",
        "\n",
        "         0.0       0.56      0.75      0.64       356\n",
        "         1.0       0.62      0.40      0.49       356\n",
        "\n",
        "    accuracy                           0.58       712\n",
        "   macro avg       0.59      0.58      0.57       712\n",
        "weighted avg       0.59      0.58      0.57       712\n",
        "\n",
        "time_saved : 1651576680.9386892"
      ],
      "metadata": {
        "id": "Ku3pYV5sy083"
      }
    },
    {
      "cell_type": "markdown",
      "source": [
        "## Bombus appositus vs Bombus variabilis ##"
      ],
      "metadata": {
        "id": "R4sqSg9zyso9"
      }
    },
    {
      "cell_type": "markdown",
      "source": [
        "[[14  8]\n",
        "\n",
        " [15  7]]\n",
        " \n",
        " shape=(2, 2), dtype=int32)\n",
        " \n",
        "              precision    recall  f1-score   support\n",
        "\n",
        "         0.0       0.48      0.64      0.55        22\n",
        "         1.0       0.47      0.32      0.38        22\n",
        "\n",
        "    accuracy                           0.48        44\n",
        "   macro avg       0.47      0.48      0.46        44\n",
        "weighted avg       0.47      0.48      0.46        44\n",
        "\n",
        "time_saved : 1651574901.132592"
      ],
      "metadata": {
        "id": "2o7pjR8fzBE7"
      }
    },
    {
      "cell_type": "markdown",
      "source": [
        "## Bombus appositus vs Bombus jonellus ##"
      ],
      "metadata": {
        "id": "YLiFvYXeyvDz"
      }
    },
    {
      "cell_type": "markdown",
      "source": [
        "[[6 2]\n",
        "\n",
        " [4 4]]\n",
        " \n",
        " shape=(2, 2), dtype=int32)\n",
        " \n",
        "              precision    recall  f1-score   support\n",
        "\n",
        "         0.0       0.60      0.75      0.67         8\n",
        "         1.0       0.67      0.50      0.57         8\n",
        "\n",
        "    accuracy                           0.62        16\n",
        "   macro avg       0.63      0.62      0.62        16\n",
        "weighted avg       0.63      0.62      0.62        16\n",
        "\n",
        "time_saved : 1651575063.3974488"
      ],
      "metadata": {
        "id": "7cMwDyApzJ1Q"
      }
    },
    {
      "cell_type": "markdown",
      "source": [
        "## Bombus appositus vs Bombus kirbiellus ##"
      ],
      "metadata": {
        "id": "3kYoiDshyxFf"
      }
    },
    {
      "cell_type": "markdown",
      "source": [
        "[[116  20]\n",
        "\n",
        " [ 86  50]]\n",
        " \n",
        " shape=(2, 2), dtype=int32)\n",
        " \n",
        "              precision    recall  f1-score   support\n",
        "\n",
        "         0.0       0.57      0.85      0.69       136\n",
        "         1.0       0.71      0.37      0.49       136\n",
        "\n",
        "    accuracy                           0.61       272\n",
        "   macro avg       0.64      0.61      0.59       272\n",
        "weighted avg       0.64      0.61      0.59       272\n",
        "\n",
        "time_saved : 1651583707.2106571"
      ],
      "metadata": {
        "id": "IM9V308czTkM"
      }
    },
    {
      "cell_type": "markdown",
      "source": [
        "## Bombus appositus vs Bombus morrisoni ##"
      ],
      "metadata": {
        "id": "e80uUpzbyzoq"
      }
    },
    {
      "cell_type": "markdown",
      "source": [
        "[[272 228]\n",
        "\n",
        " [219 281]]\n",
        " \n",
        " shape=(2, 2), dtype=int32)\n",
        " \n",
        "              precision    recall  f1-score   support\n",
        "\n",
        "         0.0       0.55      0.54      0.55       500\n",
        "         1.0       0.55      0.56      0.56       500\n",
        "\n",
        "    accuracy                           0.55      1000\n",
        "   macro avg       0.55      0.55      0.55      1000\n",
        "weighted avg       0.55      0.55      0.55      1000\n",
        "\n",
        "time_saved : 1651595243.2510204"
      ],
      "metadata": {
        "id": "zz-e34mbzbbF"
      }
    },
    {
      "cell_type": "markdown",
      "source": [
        "## Bombus appositus vs Bombus natvigi ##"
      ],
      "metadata": {
        "id": "XTOIpdSpy3Pa"
      }
    },
    {
      "cell_type": "markdown",
      "source": [
        "[[2 2]\n",
        "\n",
        " [4 0]]\n",
        " \n",
        " shape=(2, 2), dtype=int32)\n",
        " \n",
        "              precision    recall  f1-score   support\n",
        "\n",
        "         0.0       0.33      0.50      0.40         4\n",
        "         1.0       0.00      0.00      0.00         4\n",
        "\n",
        "    accuracy                           0.25         8\n",
        "   macro avg       0.17      0.25      0.20         8\n",
        "weighted avg       0.17      0.25      0.20         8\n",
        "\n",
        "time_saved : 1651645660.780525"
      ],
      "metadata": {
        "id": "ToFt54V8H81-"
      }
    },
    {
      "cell_type": "markdown",
      "source": [
        "## Bombus appositus vs Bombus occidentalis ##"
      ],
      "metadata": {
        "id": "iGs8l6HJy5OL"
      }
    },
    {
      "cell_type": "markdown",
      "source": [
        "### Pre-recorded ###"
      ],
      "metadata": {
        "id": "YQEJdRbOzS7c"
      }
    },
    {
      "cell_type": "markdown",
      "source": [
        "## Bombus appositus vs Bombus polaris ##"
      ],
      "metadata": {
        "id": "q0dUf6Vuy7hM"
      }
    },
    {
      "cell_type": "markdown",
      "source": [
        "### Pre-recorded ###"
      ],
      "metadata": {
        "id": "ReTl61t4zUC7"
      }
    },
    {
      "cell_type": "markdown",
      "source": [
        "## Bombus appositus vs Bombus sandersoni ##"
      ],
      "metadata": {
        "id": "IbFJ6mo3y9S3"
      }
    },
    {
      "cell_type": "markdown",
      "source": [
        "[[240  84]\n",
        "\n",
        " [195 129]]\n",
        " \n",
        " shape=(2, 2), dtype=int32)\n",
        " \n",
        "              precision    recall  f1-score   support\n",
        "\n",
        "         0.0       0.55      0.74      0.63       324\n",
        "         1.0       0.61      0.40      0.48       324\n",
        "\n",
        "    accuracy                           0.57       648\n",
        "   macro avg       0.58      0.57      0.56       648\n",
        "weighted avg       0.58      0.57      0.56       648\n",
        "\n",
        "time_saved : 1651652683.2233815"
      ],
      "metadata": {
        "id": "P4Kx4GX8IQUQ"
      }
    },
    {
      "cell_type": "markdown",
      "source": [
        "## Bombus appositus vs Bombus sitkensis ##"
      ],
      "metadata": {
        "id": "SFPrmJKVy_dR"
      }
    },
    {
      "cell_type": "markdown",
      "source": [
        "[[389 111]\n",
        "\n",
        " [313 187]]\n",
        " \n",
        " shape=(2, 2), dtype=int32)\n",
        " \n",
        "              precision    recall  f1-score   support\n",
        "\n",
        "         0.0       0.55      0.78      0.65       500\n",
        "         1.0       0.63      0.37      0.47       500\n",
        "\n",
        "    accuracy                           0.58      1000\n",
        "   macro avg       0.59      0.58      0.56      1000\n",
        "weighted avg       0.59      0.58      0.56      1000\n",
        "\n",
        "time_saved : 1651682783.7788582"
      ],
      "metadata": {
        "id": "PIoF0vsKIjyd"
      }
    },
    {
      "cell_type": "markdown",
      "source": [
        "## Bombus appositus vs Bombus sylvicola ##"
      ],
      "metadata": {
        "id": "O4Nn0J43zCPC"
      }
    },
    {
      "cell_type": "markdown",
      "source": [
        "[[391 109]\n",
        "\n",
        " [284 216]]\n",
        " \n",
        " shape=(2, 2), dtype=int32)\n",
        " \n",
        "              precision    recall  f1-score   support\n",
        "\n",
        "         0.0       0.58      0.78      0.67       500\n",
        "         1.0       0.66      0.43      0.52       500\n",
        "\n",
        "    accuracy                           0.61      1000\n",
        "   macro avg       0.62      0.61      0.59      1000\n",
        "weighted avg       0.62      0.61      0.59      1000\n",
        "\n",
        "time_saved : 1651684809.1271086"
      ],
      "metadata": {
        "id": "7bGxkzUKIta9"
      }
    },
    {
      "cell_type": "markdown",
      "source": [
        "## Bombus appositus vs Bombus vandykei ##"
      ],
      "metadata": {
        "id": "BQ4d6Pm7zEyH"
      }
    },
    {
      "cell_type": "markdown",
      "source": [
        "[[341 159]\n",
        "\n",
        " [297 203]]\n",
        " \n",
        " shape=(2, 2), dtype=int32)\n",
        " \n",
        "              precision    recall  f1-score   support\n",
        "\n",
        "         0.0       0.53      0.68      0.60       500\n",
        "         1.0       0.56      0.41      0.47       500\n",
        "\n",
        "    accuracy                           0.54      1000\n",
        "   macro avg       0.55      0.54      0.54      1000\n",
        "weighted avg       0.55      0.54      0.54      1000\n",
        "\n",
        "time_saved : 1651678450.6368923"
      ],
      "metadata": {
        "id": "6uq5_Yx7I5KL"
      }
    },
    {
      "cell_type": "markdown",
      "source": [
        "## Bombus crotchii vs Bombus bohemicus ##"
      ],
      "metadata": {
        "id": "F-G6c9YY1Pbk"
      }
    },
    {
      "cell_type": "markdown",
      "source": [
        "[[20 20]\n",
        "\n",
        " [12 28]]\n",
        " \n",
        " shape=(2, 2), dtype=int32)\n",
        " \n",
        "              precision    recall  f1-score   support\n",
        "\n",
        "         0.0       0.62      0.50      0.56        40\n",
        "         1.0       0.58      0.70      0.64        40\n",
        "\n",
        "    accuracy                           0.60        80\n",
        "   macro avg       0.60      0.60      0.60        80\n",
        "weighted avg       0.60      0.60      0.60        80\n",
        "\n",
        "time_saved : 1651676473.8324053"
      ],
      "metadata": {
        "id": "DJitblI2JBM0"
      }
    },
    {
      "cell_type": "markdown",
      "source": [
        "## Bombus crotchii vs Bombus caliginosus ##"
      ],
      "metadata": {
        "id": "FvUWbOqN1TAG"
      }
    },
    {
      "cell_type": "markdown",
      "source": [
        "[[100 192]\n",
        "\n",
        " [ 74 218]]\n",
        " \n",
        " shape=(2, 2), dtype=int32)\n",
        " \n",
        "              precision    recall  f1-score   support\n",
        "\n",
        "         0.0       0.57      0.34      0.43       292\n",
        "         1.0       0.53      0.75      0.62       292\n",
        "\n",
        "    accuracy                           0.54       584\n",
        "   macro avg       0.55      0.54      0.53       584\n",
        "weighted avg       0.55      0.54      0.53       584\n",
        "\n",
        "time_saved : 1651699940.1941195"
      ],
      "metadata": {
        "id": "uXb603qhJJS0"
      }
    },
    {
      "cell_type": "markdown",
      "source": [
        "## Bombus crotchii vs Bombus franklini ##"
      ],
      "metadata": {
        "id": "mAbLBePU2BbJ"
      }
    },
    {
      "cell_type": "markdown",
      "source": [
        "[[8 8]\n",
        "\n",
        " [9 7]]\n",
        " \n",
        " shape=(2, 2), dtype=int32)\n",
        " \n",
        "              precision    recall  f1-score   support\n",
        "\n",
        "         0.0       0.47      0.50      0.48        16\n",
        "         1.0       0.47      0.44      0.45        16\n",
        "\n",
        "    accuracy                           0.47        32\n",
        "   macro avg       0.47      0.47      0.47        32\n",
        "weighted avg       0.47      0.47      0.47        32\n",
        "\n",
        "time_saved : 1651719762.6772838"
      ],
      "metadata": {
        "id": "ki9-N-nhJSet"
      }
    },
    {
      "cell_type": "markdown",
      "source": [
        "## Bombus crotchii vs Bombus cockerelli ##"
      ],
      "metadata": {
        "id": "t9bnS6GJ2DKF"
      }
    },
    {
      "cell_type": "markdown",
      "source": [
        "[[4 0]\n",
        "\n",
        " [0 4]]\n",
        " \n",
        " shape=(2, 2), dtype=int32)\n",
        " \n",
        "              precision    recall  f1-score   support\n",
        "\n",
        "         0.0       1.00      1.00      1.00         4\n",
        "         1.0       1.00      1.00      1.00         4\n",
        "\n",
        "    accuracy                           1.00         8\n",
        "   macro avg       1.00      1.00      1.00         8\n",
        "weighted avg       1.00      1.00      1.00         8\n",
        "\n",
        "time_saved : 1651719185.316959"
      ],
      "metadata": {
        "id": "3uQwG-FkJa8v"
      }
    },
    {
      "cell_type": "markdown",
      "source": [
        "## Bombus crotchii vs Bombus cryptarum ##"
      ],
      "metadata": {
        "id": "eKCMwgY-2GKy"
      }
    },
    {
      "cell_type": "markdown",
      "source": [
        "[[227 273]\n",
        "\n",
        " [106 394]]\n",
        " \n",
        " shape=(2, 2), dtype=int32)\n",
        " \n",
        "              precision    recall  f1-score   support\n",
        "\n",
        "         0.0       0.68      0.45      0.55       500\n",
        "         1.0       0.59      0.79      0.68       500\n",
        "\n",
        "    accuracy                           0.62      1000\n",
        "   macro avg       0.64      0.62      0.61      1000\n",
        "weighted avg       0.64      0.62      0.61      1000\n",
        "\n",
        "time_saved : 1651707805.8326952"
      ],
      "metadata": {
        "id": "ku9pCEZVJliT"
      }
    },
    {
      "cell_type": "markdown",
      "source": [
        "## Bombus crotchii vs Bombus suckleyi ##"
      ],
      "metadata": {
        "id": "uIJVRSEv2IAx"
      }
    },
    {
      "cell_type": "markdown",
      "source": [
        "[[18  8]\n",
        "\n",
        " [12 14]]\n",
        " \n",
        " shape=(2, 2), dtype=int32)\n",
        " \n",
        "              precision    recall  f1-score   support\n",
        "\n",
        "         0.0       0.60      0.69      0.64        26\n",
        "         1.0       0.64      0.54      0.58        26\n",
        "\n",
        "    accuracy                           0.62        52\n",
        "   macro avg       0.62      0.62      0.61        52\n",
        "weighted avg       0.62      0.62      0.61        52\n",
        "\n",
        "time_saved : 1651813251.2216792"
      ],
      "metadata": {
        "id": "NtuE-27IWTEQ"
      }
    },
    {
      "cell_type": "markdown",
      "source": [
        "## Bombus crotchii vs Bombus fraternus ##"
      ],
      "metadata": {
        "id": "oV2CoJyQ2LZB"
      }
    },
    {
      "cell_type": "markdown",
      "source": [
        "[[142 358]\n",
        "\n",
        " [109 391]]\n",
        " \n",
        " shape=(2, 2), dtype=int32)\n",
        " \n",
        "              precision    recall  f1-score   support\n",
        "\n",
        "         0.0       0.57      0.28      0.38       500\n",
        "         1.0       0.52      0.78      0.63       500\n",
        "\n",
        "    accuracy                           0.53      1000\n",
        "   macro avg       0.54      0.53      0.50      1000\n",
        "weighted avg       0.54      0.53      0.50      1000\n",
        "\n",
        "time_saved : 1651821331.8088806"
      ],
      "metadata": {
        "id": "vrB3_JAXX-uL"
      }
    },
    {
      "cell_type": "markdown",
      "source": [
        "## Bombus crotchii vs Bombus frigidus ##"
      ],
      "metadata": {
        "id": "5J6881k12NXR"
      }
    },
    {
      "cell_type": "markdown",
      "source": [
        "[[324  32]\n",
        "\n",
        " [106 250]]\n",
        " \n",
        " shape=(2, 2), dtype=int32)\n",
        " \n",
        "              precision    recall  f1-score   support\n",
        "\n",
        "         0.0       0.75      0.91      0.82       356\n",
        "         1.0       0.89      0.70      0.78       356\n",
        "\n",
        "    accuracy                           0.81       712\n",
        "   macro avg       0.82      0.81      0.80       712\n",
        "weighted avg       0.82      0.81      0.80       712\n",
        "\n",
        "time_saved : 1651859614.915502"
      ],
      "metadata": {
        "id": "DXOC04v7YGos"
      }
    },
    {
      "cell_type": "markdown",
      "source": [
        "## Bombus crotchii vs Bombus variabilis ##"
      ],
      "metadata": {
        "id": "e8J7rZkx2PD7"
      }
    },
    {
      "cell_type": "markdown",
      "source": [
        "[[22  0]\n",
        "\n",
        " [ 5 17]]\n",
        " \n",
        " shape=(2, 2), dtype=int32)\n",
        " \n",
        "              precision    recall  f1-score   support\n",
        "\n",
        "         0.0       0.81      1.00      0.90        22\n",
        "         1.0       1.00      0.77      0.87        22\n",
        "\n",
        "    accuracy                           0.89        44\n",
        "   macro avg       0.91      0.89      0.88        44\n",
        "weighted avg       0.91      0.89      0.88        44\n",
        "\n",
        "time_saved : 1651883712.5485444"
      ],
      "metadata": {
        "id": "UNqBHZIzY_7W"
      }
    },
    {
      "cell_type": "markdown",
      "source": [
        "## Bombus crotchii vs Bombus jonellus ##"
      ],
      "metadata": {
        "id": "XzM8dpo52SLp"
      }
    },
    {
      "cell_type": "markdown",
      "source": [
        "[[8 0]\n",
        "\n",
        " [6 2]]\n",
        " \n",
        " shape=(2, 2), dtype=int32)\n",
        " \n",
        "              precision    recall  f1-score   support\n",
        "\n",
        "         0.0       0.57      1.00      0.73         8\n",
        "         1.0       1.00      0.25      0.40         8\n",
        "\n",
        "    accuracy                           0.62        16\n",
        "   macro avg       0.79      0.62      0.56        16\n",
        "weighted avg       0.79      0.62      0.56        16\n",
        "\n",
        "time_saved : 1651867545.2472131"
      ],
      "metadata": {
        "id": "FJFreYAFZzS8"
      }
    },
    {
      "cell_type": "markdown",
      "source": [
        "## Bombus crotchii vs Bombus kirbiellus ##"
      ],
      "metadata": {
        "id": "719R5sxM2Tuk"
      }
    },
    {
      "cell_type": "markdown",
      "source": [
        "[[122  14]\n",
        "\n",
        " [ 39  97]]\n",
        " \n",
        " shape=(2, 2), dtype=int32)\n",
        " \n",
        "              precision    recall  f1-score   support\n",
        "\n",
        "         0.0       0.76      0.90      0.82       136\n",
        "         1.0       0.87      0.71      0.79       136\n",
        "\n",
        "    accuracy                           0.81       272\n",
        "   macro avg       0.82      0.81      0.80       272\n",
        "weighted avg       0.82      0.81      0.80       272\n",
        "\n",
        "time_saved : 1651863389.402736"
      ],
      "metadata": {
        "id": "VQad8gl0Z7mw"
      }
    },
    {
      "cell_type": "markdown",
      "source": [
        "## Bombus crotchii vs Bombus morrisoni ##"
      ],
      "metadata": {
        "id": "9Y78EwSf2VpP"
      }
    },
    {
      "cell_type": "markdown",
      "source": [
        "[[224 276]\n",
        "\n",
        " [174 326]]\n",
        " \n",
        " shape=(2, 2), dtype=int32)\n",
        " \n",
        "              precision    recall  f1-score   support\n",
        "\n",
        "         0.0       0.56      0.45      0.50       500\n",
        "         1.0       0.54      0.65      0.59       500\n",
        "\n",
        "    accuracy                           0.55      1000\n",
        "   macro avg       0.55      0.55      0.55      1000\n",
        "weighted avg       0.55      0.55      0.55      1000\n",
        "\n",
        "time_saved : 1651836512.385114"
      ],
      "metadata": {
        "id": "Ikzz9yNzaElC"
      }
    },
    {
      "cell_type": "markdown",
      "source": [
        "## Bombus crotchii vs Bombus natvigi ##"
      ],
      "metadata": {
        "id": "kL30WtdV2Xu3"
      }
    },
    {
      "cell_type": "markdown",
      "source": [
        "[[4 0]\n",
        "\n",
        " [0 4]]\n",
        " \n",
        " shape=(2, 2), dtype=int32)\n",
        " \n",
        "              precision    recall  f1-score   support\n",
        "\n",
        "         0.0       1.00      1.00      1.00         4\n",
        "         1.0       1.00      1.00      1.00         4\n",
        "\n",
        "    accuracy                           1.00         8\n",
        "   macro avg       1.00      1.00      1.00         8\n",
        "weighted avg       1.00      1.00      1.00         8\n",
        "\n",
        "time_saved : 1651838385.4242742"
      ],
      "metadata": {
        "id": "JvQuE8A8aKE5"
      }
    },
    {
      "cell_type": "markdown",
      "source": [
        "## Bombus crotchii vs Bombus occidentalis ##"
      ],
      "metadata": {
        "id": "f17ILOoG2ZwV"
      }
    },
    {
      "cell_type": "markdown",
      "source": [
        "[[271 229]\n",
        "\n",
        " [ 96 404]]\n",
        " \n",
        " shape=(2, 2), dtype=int32)\n",
        " \n",
        "              precision    recall  f1-score   support\n",
        "\n",
        "         0.0       0.74      0.54      0.63       500\n",
        "         1.0       0.64      0.81      0.71       500\n",
        "\n",
        "    accuracy                           0.68      1000\n",
        "   macro avg       0.69      0.68      0.67      1000\n",
        "weighted avg       0.69      0.68      0.67      1000\n",
        "\n",
        "time_saved : 1651834858.4723454"
      ],
      "metadata": {
        "id": "iyQ4-FgzaQy4"
      }
    },
    {
      "cell_type": "markdown",
      "source": [
        "## Bombus crotchii vs Bombus polaris ##"
      ],
      "metadata": {
        "id": "k2o7c4XK2b_z"
      }
    },
    {
      "cell_type": "markdown",
      "source": [
        "[[16  4]\n",
        "\n",
        " [ 7 13]]\n",
        " \n",
        " shape=(2, 2), dtype=int32)\n",
        " \n",
        "              precision    recall  f1-score   support\n",
        "\n",
        "         0.0       0.70      0.80      0.74        20\n",
        "         1.0       0.76      0.65      0.70        20\n",
        "\n",
        "    accuracy                           0.73        40\n",
        "   macro avg       0.73      0.73      0.72        40\n",
        "weighted avg       0.73      0.72      0.72        40\n",
        "\n",
        "time_saved : 1651855175.9919517"
      ],
      "metadata": {
        "id": "Lu21NV2saVte"
      }
    },
    {
      "cell_type": "markdown",
      "source": [
        "## Bombus crotchii vs Bombus sandersoni ##"
      ],
      "metadata": {
        "id": "mbpc5rTw2eCb"
      }
    },
    {
      "cell_type": "markdown",
      "source": [
        "[[310  14]\n",
        "\n",
        " [141 183]]\n",
        " \n",
        " shape=(2, 2), dtype=int32)\n",
        " \n",
        "              precision    recall  f1-score   support\n",
        "\n",
        "         0.0       0.69      0.96      0.80       324\n",
        "         1.0       0.93      0.56      0.70       324\n",
        "\n",
        "    accuracy                           0.76       648\n",
        "   macro avg       0.81      0.76      0.75       648\n",
        "weighted avg       0.81      0.76      0.75       648\n",
        "\n",
        "time_saved : 1651986214.3779733"
      ],
      "metadata": {
        "id": "ljNecqU0EkXD"
      }
    },
    {
      "cell_type": "markdown",
      "source": [
        "## Bombus crotchii vs Bombus sitkensis ##"
      ],
      "metadata": {
        "id": "MkjzZ0Zj2f4J"
      }
    },
    {
      "cell_type": "markdown",
      "source": [
        "[[482  18]\n",
        "\n",
        " [ 92 408]]\n",
        " \n",
        " shape=(2, 2), dtype=int32)\n",
        " \n",
        "              precision    recall  f1-score   support\n",
        "\n",
        "         0.0       0.84      0.96      0.90       500\n",
        "         1.0       0.96      0.82      0.88       500\n",
        "\n",
        "    accuracy                           0.89      1000\n",
        "   macro avg       0.90      0.89      0.89      1000\n",
        "weighted avg       0.90      0.89      0.89      1000\n",
        "\n",
        "time_saved : 1651987499.6137729"
      ],
      "metadata": {
        "id": "7G5hQ-9fEqBJ"
      }
    },
    {
      "cell_type": "markdown",
      "source": [
        "## Bombus crotchii vs Bombus sylvicola ##"
      ],
      "metadata": {
        "id": "X1lST3iY2iY9"
      }
    },
    {
      "cell_type": "markdown",
      "source": [
        "[[493   7]\n",
        "\n",
        " [ 96 404]]\n",
        " \n",
        " shape=(2, 2), dtype=int32)\n",
        " \n",
        "              precision    recall  f1-score   support\n",
        "\n",
        "         0.0       0.84      0.99      0.91       500\n",
        "         1.0       0.98      0.81      0.89       500\n",
        "\n",
        "    accuracy                           0.90      1000\n",
        "   macro avg       0.91      0.90      0.90      1000\n",
        "weighted avg       0.91      0.90      0.90      1000\n",
        "\n",
        "time_saved : 1652011783.197241"
      ],
      "metadata": {
        "id": "od0xUO6fEvy6"
      }
    },
    {
      "cell_type": "markdown",
      "source": [
        "## Bombus crotchii vs Bombus vandykei ##"
      ],
      "metadata": {
        "id": "bfiI-O7H2kzN"
      }
    },
    {
      "cell_type": "markdown",
      "source": [
        "[[362 138]\n",
        "\n",
        " [134 366]]\n",
        " \n",
        " shape=(2, 2), dtype=int32)\n",
        " \n",
        "              precision    recall  f1-score   support\n",
        "\n",
        "         0.0       0.73      0.72      0.73       500\n",
        "         1.0       0.73      0.73      0.73       500\n",
        "\n",
        "    accuracy                           0.73      1000\n",
        "   macro avg       0.73      0.73      0.73      1000\n",
        "weighted avg       0.73      0.73      0.73      1000\n",
        "\n",
        "time_saved : 1652013712.2358391"
      ],
      "metadata": {
        "id": "r9pR1O2dE0p8"
      }
    },
    {
      "cell_type": "markdown",
      "source": [
        "## Bombus bohemicus vs Bombus caliginosus ##"
      ],
      "metadata": {
        "id": "9_0CB13HE53F"
      }
    },
    {
      "cell_type": "markdown",
      "source": [
        "[[26 14]\n",
        "\n",
        " [22 18]]\n",
        " \n",
        " shape=(2, 2), dtype=int32)\n",
        " \n",
        "              precision    recall  f1-score   support\n",
        "\n",
        "         0.0       0.54      0.65      0.59        40\n",
        "         1.0       0.56      0.45      0.50        40\n",
        "\n",
        "    accuracy                           0.55        80\n",
        "   macro avg       0.55      0.55      0.55        80\n",
        "weighted avg       0.55      0.55      0.55        80\n",
        "\n",
        "time_saved : 1652035722.3914464"
      ],
      "metadata": {
        "id": "TEdbxq8cFu1a"
      }
    },
    {
      "cell_type": "markdown",
      "source": [
        "## Bombus bohemicus vs Bombus franklini ##"
      ],
      "metadata": {
        "id": "fVPs7X-6FCmK"
      }
    },
    {
      "cell_type": "markdown",
      "source": [
        "[[10  6]\n",
        "\n",
        " [ 8  8]]\n",
        " \n",
        " shape=(2, 2), dtype=int32)\n",
        " \n",
        "              precision    recall  f1-score   support\n",
        "\n",
        "         0.0       0.56      0.62      0.59        16\n",
        "         1.0       0.57      0.50      0.53        16\n",
        "\n",
        "    accuracy                           0.56        32\n",
        "   macro avg       0.56      0.56      0.56        32\n",
        "weighted avg       0.56      0.56      0.56        32\n",
        "\n",
        "time_saved : 1652037849.2436724"
      ],
      "metadata": {
        "id": "TV8j8qRrUqvd"
      }
    },
    {
      "cell_type": "markdown",
      "source": [
        "## Bombus bohemicus vs Bombus cockerelli ##"
      ],
      "metadata": {
        "id": "BCDfzRtMFGGH"
      }
    },
    {
      "cell_type": "markdown",
      "source": [
        "[[4 0]\n",
        "\n",
        " [4 0]]\n",
        " \n",
        " shape=(2, 2), dtype=int32)\n",
        " \n",
        "              precision    recall  f1-score   support\n",
        "\n",
        "         0.0       0.50      1.00      0.67         4\n",
        "         1.0       0.00      0.00      0.00         4\n",
        "\n",
        "    accuracy                           0.50         8\n",
        "   macro avg       0.25      0.50      0.33         8\n",
        "weighted avg       0.25      0.50      0.33         8\n",
        "\n",
        "time_saved : 1652059718.9170265"
      ],
      "metadata": {
        "id": "a-qsitFdU6Ps"
      }
    },
    {
      "cell_type": "markdown",
      "source": [
        "## Bombus bohemicus vs Bombus cryptarum ##"
      ],
      "metadata": {
        "id": "8npJVqdWFIaj"
      }
    },
    {
      "cell_type": "markdown",
      "source": [
        "[[26 14]\n",
        "\n",
        " [19 21]]\n",
        " \n",
        " shape=(2, 2), dtype=int32)\n",
        " \n",
        "              precision    recall  f1-score   support\n",
        "\n",
        "         0.0       0.58      0.65      0.61        40\n",
        "         1.0       0.60      0.53      0.56        40\n",
        "\n",
        "    accuracy                           0.59        80\n",
        "   macro avg       0.59      0.59      0.59        80\n",
        "weighted avg       0.59      0.59      0.59        80\n",
        "\n",
        "time_saved : 1652062648.4196584"
      ],
      "metadata": {
        "id": "darM6NiPVH1O"
      }
    },
    {
      "cell_type": "markdown",
      "source": [
        "## Bombus bohemicus vs Bombus suckleyi ##"
      ],
      "metadata": {
        "id": "1e8aNVHRFL95"
      }
    },
    {
      "cell_type": "markdown",
      "source": [
        "[[14 12]\n",
        "\n",
        " [20  6]]\n",
        " \n",
        " shape=(2, 2), dtype=int32)\n",
        " \n",
        "              precision    recall  f1-score   support\n",
        "\n",
        "         0.0       0.41      0.54      0.47        26\n",
        "         1.0       0.33      0.23      0.27        26\n",
        "\n",
        "    accuracy                           0.38        52\n",
        "   macro avg       0.37      0.38      0.37        52\n",
        "weighted avg       0.37      0.38      0.37        52\n",
        "\n",
        "time_saved : 1652077824.6555343"
      ],
      "metadata": {
        "id": "kaEWhLDOVQXT"
      }
    },
    {
      "cell_type": "markdown",
      "source": [
        "## Bombus bohemicus vs Bombus fraternus ##"
      ],
      "metadata": {
        "id": "cnuV8BZPFN0R"
      }
    },
    {
      "cell_type": "markdown",
      "source": [
        "[[28 12]\n",
        "\n",
        " [15 25]]\n",
        " \n",
        " shape=(2, 2), dtype=int32)\n",
        " \n",
        "              precision    recall  f1-score   support\n",
        "\n",
        "         0.0       0.65      0.70      0.67        40\n",
        "         1.0       0.68      0.62      0.65        40\n",
        "\n",
        "    accuracy                           0.66        80\n",
        "   macro avg       0.66      0.66      0.66        80\n",
        "weighted avg       0.66      0.66      0.66        80\n",
        "\n",
        "time_saved : 1652079356.6776173"
      ],
      "metadata": {
        "id": "0tY4KaS8VXmS"
      }
    },
    {
      "cell_type": "markdown",
      "source": [
        "## Bombus bohemicus vs Bombus frigidus ##"
      ],
      "metadata": {
        "id": "MdWeFu-QFPv9"
      }
    },
    {
      "cell_type": "markdown",
      "source": [
        "[[36  4]\n",
        "\n",
        " [26 14]]\n",
        " \n",
        " shape=(2, 2), dtype=int32)\n",
        " \n",
        "              precision    recall  f1-score   support\n",
        "\n",
        "         0.0       0.58      0.90      0.71        40\n",
        "         1.0       0.78      0.35      0.48        40\n",
        "\n",
        "    accuracy                           0.62        80\n",
        "   macro avg       0.68      0.62      0.59        80\n",
        "weighted avg       0.68      0.62      0.59        80\n",
        "\n",
        "time_saved : 1652154157.5519102"
      ],
      "metadata": {
        "id": "xuHpiR_3h9jn"
      }
    },
    {
      "cell_type": "markdown",
      "source": [
        "## Bombus bohemicus vs Bombus variabilis ##"
      ],
      "metadata": {
        "id": "6p4CVf4kFRHf"
      }
    },
    {
      "cell_type": "markdown",
      "source": [
        "[[14  8]\n",
        "\n",
        " [13  9]]\n",
        " \n",
        " shape=(2, 2), dtype=int32)\n",
        " \n",
        "              precision    recall  f1-score   support\n",
        "\n",
        "         0.0       0.52      0.64      0.57        22\n",
        "         1.0       0.53      0.41      0.46        22\n",
        "\n",
        "    accuracy                           0.52        44\n",
        "   macro avg       0.52      0.52      0.52        44\n",
        "weighted avg       0.52      0.52      0.52        44\n",
        "\n",
        "time_saved : 1652151640.3260214"
      ],
      "metadata": {
        "id": "m97ZfoDgiIzU"
      }
    },
    {
      "cell_type": "markdown",
      "source": [
        "## Bombus bohemicus vs Bombus jonellus ##"
      ],
      "metadata": {
        "id": "b_pTp7lwFTT-"
      }
    },
    {
      "cell_type": "markdown",
      "source": [
        "[[8 0]\n",
        "\n",
        " [6 2]]\n",
        " \n",
        " shape=(2, 2), dtype=int32)\n",
        " \n",
        "              precision    recall  f1-score   support\n",
        "\n",
        "         0.0       0.57      1.00      0.73         8\n",
        "         1.0       1.00      0.25      0.40         8\n",
        "\n",
        "    accuracy                           0.62        16\n",
        "   macro avg       0.79      0.62      0.56        16\n",
        "weighted avg       0.79      0.62      0.56        16\n",
        "\n",
        "time_saved : 1652175621.3221798"
      ],
      "metadata": {
        "id": "XEXPneAdiUxn"
      }
    },
    {
      "cell_type": "markdown",
      "source": [
        "## Bombus bohemicus vs Bombus kirbiellus ##"
      ],
      "metadata": {
        "id": "2SDsOTkwFVIL"
      }
    },
    {
      "cell_type": "markdown",
      "source": [
        "[[36  4]\n",
        "\n",
        " [26 14]]\n",
        " \n",
        " shape=(2, 2), dtype=int32)\n",
        " \n",
        "              precision    recall  f1-score   support\n",
        "\n",
        "         0.0       0.58      0.90      0.71        40\n",
        "         1.0       0.78      0.35      0.48        40\n",
        "\n",
        "    accuracy                           0.62        80\n",
        "   macro avg       0.68      0.62      0.59        80\n",
        "weighted avg       0.68      0.62      0.59        80\n",
        "\n",
        "time_saved : 1652179251.5830343"
      ],
      "metadata": {
        "id": "2xYKFuzYihvp"
      }
    },
    {
      "cell_type": "markdown",
      "source": [
        "## Bombus bohemicus vs Bombus morrisoni ##"
      ],
      "metadata": {
        "id": "SrqJIDK4FXa3"
      }
    },
    {
      "cell_type": "markdown",
      "source": [
        "[[20 20]\n",
        "\n",
        " [20 20]]\n",
        " \n",
        " shape=(2, 2), dtype=int32)\n",
        " \n",
        "              precision    recall  f1-score   support\n",
        "\n",
        "         0.0       0.50      0.50      0.50        40\n",
        "         1.0       0.50      0.50      0.50        40\n",
        "\n",
        "    accuracy                           0.50        80\n",
        "   macro avg       0.50      0.50      0.50        80\n",
        "weighted avg       0.50      0.50      0.50        80\n",
        "\n",
        "time_saved : 1652201816.4974413"
      ],
      "metadata": {
        "id": "njnOaCvDisaj"
      }
    },
    {
      "cell_type": "markdown",
      "source": [
        "## Bombus bohemicus vs Bombus natvigi ##"
      ],
      "metadata": {
        "id": "ORdfOM3-FY9N"
      }
    },
    {
      "cell_type": "markdown",
      "source": [
        "[[4 0]\n",
        "\n",
        " [2 2]]\n",
        " \n",
        " shape=(2, 2), dtype=int32)\n",
        " \n",
        "              precision    recall  f1-score   support\n",
        "\n",
        "         0.0       0.67      1.00      0.80         4\n",
        "         1.0       1.00      0.50      0.67         4\n",
        "\n",
        "    accuracy                           0.75         8\n",
        "   macro avg       0.83      0.75      0.73         8\n",
        "weighted avg       0.83      0.75      0.73         8\n",
        "\n",
        "time_saved : 1652205560.319184"
      ],
      "metadata": {
        "id": "_WI1AEcji6ZS"
      }
    },
    {
      "cell_type": "markdown",
      "source": [
        "## Bombus bohemicus vs Bombus occidentalis ##"
      ],
      "metadata": {
        "id": "b-Wg9NvwFaW3"
      }
    },
    {
      "cell_type": "markdown",
      "source": [
        "[[24 16]\n",
        "\n",
        " [24 16]]\n",
        " \n",
        " shape=(2, 2), dtype=int32)\n",
        " \n",
        "              precision    recall  f1-score   support\n",
        "\n",
        "         0.0       0.50      0.60      0.55        40\n",
        "         1.0       0.50      0.40      0.44        40\n",
        "\n",
        "    accuracy                           0.50        80\n",
        "   macro avg       0.50      0.50      0.49        80\n",
        "weighted avg       0.50      0.50      0.49        80\n",
        "\n",
        "time_saved : 1652225943.762385"
      ],
      "metadata": {
        "id": "Aqj3YPOljFg4"
      }
    },
    {
      "cell_type": "markdown",
      "source": [
        "## Bombus bohemicus vs Bombus polaris ##"
      ],
      "metadata": {
        "id": "9Te-mBmBFcWe"
      }
    },
    {
      "cell_type": "markdown",
      "source": [
        "[[12  8]\n",
        "\n",
        " [10 10]]\n",
        " \n",
        " shape=(2, 2), dtype=int32)\n",
        " \n",
        "              precision    recall  f1-score   support\n",
        "\n",
        "         0.0       0.55      0.60      0.57        20\n",
        "         1.0       0.56      0.50      0.53        20\n",
        "\n",
        "    accuracy                           0.55        40\n",
        "   macro avg       0.55      0.55      0.55        40\n",
        "weighted avg       0.55      0.55      0.55        40\n",
        "\n",
        "time_saved : 1652231904.462309"
      ],
      "metadata": {
        "id": "q6Qw2qDbjMoa"
      }
    },
    {
      "cell_type": "markdown",
      "source": [
        "## Bombus bohemicus vs Bombus sandersoni ##"
      ],
      "metadata": {
        "id": "dcPPJb0IFd_m"
      }
    },
    {
      "cell_type": "markdown",
      "source": [
        "[[36  4]\n",
        "\n",
        " [25 15]]\n",
        " \n",
        " shape=(2, 2), dtype=int32)\n",
        " \n",
        "              precision    recall  f1-score   support\n",
        "\n",
        "         0.0       0.59      0.90      0.71        40\n",
        "         1.0       0.79      0.38      0.51        40\n",
        "\n",
        "    accuracy                           0.64        80\n",
        "   macro avg       0.69      0.64      0.61        80\n",
        "weighted avg       0.69      0.64      0.61        80\n",
        "\n",
        "time_saved : 1652253324.7165358"
      ],
      "metadata": {
        "id": "yjpvnjzvjT1P"
      }
    },
    {
      "cell_type": "markdown",
      "source": [
        "## Bombus bohemicus vs Bombus sitkensis ##"
      ],
      "metadata": {
        "id": "ZXE_LkRUFfZ-"
      }
    },
    {
      "cell_type": "markdown",
      "source": [
        "[[36  4]\n",
        "\n",
        " [20 20]]\n",
        " \n",
        " shape=(2, 2), dtype=int32)\n",
        " \n",
        "              precision    recall  f1-score   support\n",
        "\n",
        "         0.0       0.64      0.90      0.75        40\n",
        "         1.0       0.83      0.50      0.62        40\n",
        "\n",
        "    accuracy                           0.70        80\n",
        "   macro avg       0.74      0.70      0.69        80\n",
        "weighted avg       0.74      0.70      0.69        80\n",
        "\n",
        "time_saved : 1652262257.1552386"
      ],
      "metadata": {
        "id": "4_s1WlY8jezI"
      }
    },
    {
      "cell_type": "markdown",
      "source": [
        "## Bombus bohemicus vs Bombus sylvicola ##"
      ],
      "metadata": {
        "id": "ZPwhk2ofFg7r"
      }
    },
    {
      "cell_type": "markdown",
      "source": [
        "## Bombus bohemicus vs Bombus vandykei ##"
      ],
      "metadata": {
        "id": "_R_gESu9Fjs6"
      }
    },
    {
      "cell_type": "markdown",
      "source": [
        "## Bombus caliginosus vs Bombus franklini ##"
      ],
      "metadata": {
        "id": "GitRJPvPkSBk"
      }
    },
    {
      "cell_type": "markdown",
      "source": [
        "## Bombus caliginosus vs Bombus cockerelli ##"
      ],
      "metadata": {
        "id": "e5JdRhm1kYRu"
      }
    },
    {
      "cell_type": "markdown",
      "source": [
        "## Bombus caliginosus vs Bombus cryptarum ##"
      ],
      "metadata": {
        "id": "JWkFWUogkkCN"
      }
    },
    {
      "cell_type": "markdown",
      "source": [
        "## Bombus caliginosus vs Bombus fraternus ##"
      ],
      "metadata": {
        "id": "InZqxladkmVV"
      }
    },
    {
      "cell_type": "markdown",
      "source": [
        "### Pre-recorded ###"
      ],
      "metadata": {
        "id": "vHBwjB-vl2ry"
      }
    },
    {
      "cell_type": "markdown",
      "source": [
        "## Bombus caliginosus vs Bombus frigidus ##"
      ],
      "metadata": {
        "id": "xzXulUZslElW"
      }
    },
    {
      "cell_type": "markdown",
      "source": [
        "### Pre-recorded ###"
      ],
      "metadata": {
        "id": "lX9So-F-l3mR"
      }
    },
    {
      "cell_type": "markdown",
      "source": [
        "## Bombus caliginosus vs Bombus variabilis ##"
      ],
      "metadata": {
        "id": "DDCSVFWBlGes"
      }
    },
    {
      "cell_type": "markdown",
      "source": [
        "### Pre-recorded ###"
      ],
      "metadata": {
        "id": "BBwGxiuxl4K4"
      }
    },
    {
      "cell_type": "markdown",
      "source": [
        "## Bombus caliginosus vs Bombus jonellus ##"
      ],
      "metadata": {
        "id": "4JOLzGDalJGk"
      }
    },
    {
      "cell_type": "markdown",
      "source": [
        "## Bombus caliginosus vs Bombus kirbiellus ##"
      ],
      "metadata": {
        "id": "Vw4M3rOOlKtJ"
      }
    },
    {
      "cell_type": "markdown",
      "source": [
        "## Bombus caliginosus vs Bombus morrisoni ##"
      ],
      "metadata": {
        "id": "_jKE_WmulM4w"
      }
    },
    {
      "cell_type": "markdown",
      "source": [
        "## Bombus caliginosus vs Bombus natvigi ##"
      ],
      "metadata": {
        "id": "DyA_rv6FlPRN"
      }
    },
    {
      "cell_type": "markdown",
      "source": [
        "### Pre-recorded ###"
      ],
      "metadata": {
        "id": "d-QLU_GZl5gw"
      }
    },
    {
      "cell_type": "markdown",
      "source": [
        "## Bombus caliginosus vs Bombus occidentalis ##"
      ],
      "metadata": {
        "id": "pTLN5r1glRBk"
      }
    },
    {
      "cell_type": "markdown",
      "source": [
        "## Bombus caliginosus vs Bombus polaris ##"
      ],
      "metadata": {
        "id": "QNsSJ9t5lT96"
      }
    },
    {
      "cell_type": "markdown",
      "source": [
        "## Bombus caliginosus vs Bombus sandersoni ##"
      ],
      "metadata": {
        "id": "i9HDHzV5lVfc"
      }
    },
    {
      "cell_type": "markdown",
      "source": [
        "## Bombus caliginosus vs Bombus sitkensis ##"
      ],
      "metadata": {
        "id": "FzlfeU1ZlXrh"
      }
    },
    {
      "cell_type": "markdown",
      "source": [
        "## Bombus caliginosus vs Bombus sylvicola ##"
      ],
      "metadata": {
        "id": "asJFFncolabq"
      }
    },
    {
      "cell_type": "markdown",
      "source": [
        "## Bombus caliginosus vs Bombus vandykei ##"
      ],
      "metadata": {
        "id": "dt5yqPISlfR4"
      }
    }
  ]
}