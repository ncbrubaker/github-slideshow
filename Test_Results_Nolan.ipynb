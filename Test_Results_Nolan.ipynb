{
  "nbformat": 4,
  "nbformat_minor": 0,
  "metadata": {
    "colab": {
      "name": "Test_Results_Nolan.ipynb",
      "provenance": [],
      "collapsed_sections": [],
      "authorship_tag": "ABX9TyNjQGIZSALRGSTa3LIoHA3v",
      "include_colab_link": true
    },
    "kernelspec": {
      "name": "python3",
      "display_name": "Python 3"
    },
    "language_info": {
      "name": "python"
    }
  },
  "cells": [
    {
      "cell_type": "markdown",
      "metadata": {
        "id": "view-in-github",
        "colab_type": "text"
      },
      "source": [
        "<a href=\"https://colab.research.google.com/github/ncbrubaker/github-slideshow/blob/master/Test_Results_Nolan.ipynb\" target=\"_parent\"><img src=\"https://colab.research.google.com/assets/colab-badge.svg\" alt=\"Open In Colab\"/></a>"
      ]
    },
    {
      "cell_type": "code",
      "execution_count": null,
      "metadata": {
        "id": "sBnQhTJZoaPR"
      },
      "outputs": [],
      "source": [
        ""
      ]
    },
    {
      "cell_type": "markdown",
      "source": [
        "## Bombus affinis vs Bombus bifarius ##\n"
      ],
      "metadata": {
        "id": "k6muAPopocfA"
      }
    },
    {
      "cell_type": "markdown",
      "source": [
        "tf.Tensor(\n",
        "[[682  58]\n",
        " [165 575]], shape=(2, 2), dtype=int32)\n",
        "              \n",
        "              precision    recall  f1-score   support\n",
        "\n",
        "         0.0       0.81      0.92      0.86       740\n",
        "         1.0       0.91      0.78      0.84       740\n",
        "\n",
        "    accuracy                           0.85      1480\n",
        "   macro avg       0.86      0.85      0.85      1480\n",
        "weighted avg       0.86      0.85      0.85      1480\n",
        "\n",
        "time_saved : 1643279043.3600538"
      ],
      "metadata": {
        "id": "GHKN1B5po1vD"
      }
    },
    {
      "cell_type": "markdown",
      "source": [
        "## Bombus affinis vs Bombus bimaculatus ##"
      ],
      "metadata": {
        "id": "_C5mcG1f-vK5"
      }
    },
    {
      "cell_type": "markdown",
      "source": [
        "tf.Tensor(\n",
        "[[228 512]\n",
        " [218 522]], shape=(2, 2), dtype=int32)\n",
        "              \n",
        "              precision    recall  f1-score   support\n",
        "\n",
        "         0.0       0.51      0.31      0.38       740\n",
        "         1.0       0.50      0.71      0.59       740\n",
        "\n",
        "    accuracy                           0.51      1480\n",
        "   macro avg       0.51      0.51      0.49      1480\n",
        "weighted avg       0.51      0.51      0.49      1480\n",
        "\n",
        "time_saved : 1643363688.8370047\n"
      ],
      "metadata": {
        "id": "_lpjuHgcdhU7"
      }
    },
    {
      "cell_type": "markdown",
      "source": [
        "## Bombus affinis vs Bombus borealis ##"
      ],
      "metadata": {
        "id": "ZyBbvfJJ_LRv"
      }
    },
    {
      "cell_type": "markdown",
      "source": [
        "tf.Tensor(\n",
        "[[636 104]\n",
        " [202 538]], shape=(2, 2), dtype=int32)\n",
        " \n",
        "              precision    recall  f1-score   support\n",
        "\n",
        "         0.0       0.76      0.86      0.81       740\n",
        "         1.0       0.84      0.73      0.78       740\n",
        "\n",
        "    accuracy                           0.79      1480\n",
        "   macro avg       0.80      0.79      0.79      1480\n",
        "weighted avg       0.80      0.79      0.79      1480\n",
        "\n",
        "time_saved : 1643454003.076377"
      ],
      "metadata": {
        "id": "_5aWFESRtTom"
      }
    },
    {
      "cell_type": "markdown",
      "source": [
        "## Bombus affinis vs Bombus citrinus ##"
      ],
      "metadata": {
        "id": "B1vhCIMp-7wW"
      }
    },
    {
      "cell_type": "markdown",
      "source": [
        "tf.Tensor(\n",
        "[[230 346]\n",
        " [179 397]], shape=(2, 2), dtype=int32)\n",
        " \n",
        "              precision    recall  f1-score   support\n",
        "\n",
        "         0.0       0.56      0.40      0.47       576\n",
        "         1.0       0.53      0.69      0.60       576\n",
        "\n",
        "    accuracy                           0.54      1152\n",
        "   macro avg       0.55      0.54      0.53      1152\n",
        "weighted avg       0.55      0.54      0.53      1152\n",
        "\n",
        "time_saved : 1643438637.679892"
      ],
      "metadata": {
        "id": "GrUJYYMRtIhn"
      }
    },
    {
      "cell_type": "markdown",
      "source": [
        "## Bombus affinis vs Bombus centralis ##"
      ],
      "metadata": {
        "id": "ccgW_Xls_eD0"
      }
    },
    {
      "cell_type": "markdown",
      "source": [
        "tf.Tensor(\n",
        "[[660  40]\n",
        " [159 541]], shape=(2, 2), dtype=int32)\n",
        "              \n",
        "              precision    recall  f1-score   support\n",
        "\n",
        "         0.0       0.81      0.94      0.87       700\n",
        "         1.0       0.93      0.77      0.84       700\n",
        "\n",
        "    accuracy                           0.86      1400\n",
        "   macro avg       0.87      0.86      0.86      1400\n",
        "weighted avg       0.87      0.86      0.86      1400\n",
        "\n",
        "time_saved : 1643395479.7903736\n"
      ],
      "metadata": {
        "id": "SaHON70Od5vh"
      }
    },
    {
      "cell_type": "markdown",
      "source": [
        "## Bombus affinis vs Bombus fernaldae flavidus ##"
      ],
      "metadata": {
        "id": "nnLHauq9_z_A"
      }
    },
    {
      "cell_type": "markdown",
      "source": [
        "tf.Tensor(\n",
        "[[320  96]\n",
        " [129 287]], shape=(2, 2), dtype=int32)\n",
        " \n",
        "              precision    recall  f1-score   support\n",
        "\n",
        "         0.0       0.71      0.77      0.74       416\n",
        "         1.0       0.75      0.69      0.72       416\n",
        "\n",
        "    accuracy                           0.73       832\n",
        "   macro avg       0.73      0.73      0.73       832\n",
        "weighted avg       0.73      0.73      0.73       832\n",
        "\n",
        "time_saved : 1643412979.7458477"
      ],
      "metadata": {
        "id": "0wUB1bbzsOBw"
      }
    },
    {
      "cell_type": "markdown",
      "source": [
        "## Bombus affinis vs Bombus flavifrons ##"
      ],
      "metadata": {
        "id": "ScyIe2dvAXk0"
      }
    },
    {
      "cell_type": "markdown",
      "source": [
        "tf.Tensor(\n",
        "[[656  84]\n",
        " [227 513]], shape=(2, 2), dtype=int32)\n",
        " \n",
        "              precision    recall  f1-score   support\n",
        "\n",
        "         0.0       0.74      0.89      0.81       740\n",
        "         1.0       0.86      0.69      0.77       740\n",
        "\n",
        "    accuracy                           0.79      1480\n",
        "   macro avg       0.80      0.79      0.79      1480\n",
        "weighted avg       0.80      0.79      0.79      1480\n",
        "\n",
        "time_saved : 1643414136.7685068"
      ],
      "metadata": {
        "id": "cNvQp8F_sd0c"
      }
    },
    {
      "cell_type": "markdown",
      "source": [
        "## Bombus affinis vs Bombus fervidus californicus ##"
      ],
      "metadata": {
        "id": "FGtsy14gAb3k"
      }
    },
    {
      "cell_type": "markdown",
      "source": [
        "tf.Tensor(\n",
        "[[596 144]\n",
        " [295 445]], shape=(2, 2), dtype=int32)\n",
        " \n",
        "              precision    recall  f1-score   support\n",
        "\n",
        "         0.0       0.67      0.81      0.73       740\n",
        "         1.0       0.76      0.60      0.67       740\n",
        "\n",
        "    accuracy                           0.70      1480\n",
        "   macro avg       0.71      0.70      0.70      1480\n",
        "weighted avg       0.71      0.70      0.70      1480\n",
        "\n",
        "time_saved : 1643465463.099939"
      ],
      "metadata": {
        "id": "xyMm9KKOtuIF"
      }
    },
    {
      "cell_type": "markdown",
      "source": [
        "## Bombus affinis vs Bombus griseocollis ##"
      ],
      "metadata": {
        "id": "OWFi-JKe_4lt"
      }
    },
    {
      "cell_type": "markdown",
      "source": [
        "tf.Tensor(\n",
        "[[170 570]\n",
        " [179 561]], shape=(2, 2), dtype=int32)\n",
        " \n",
        "              precision    recall  f1-score   support\n",
        "\n",
        "         0.0       0.49      0.23      0.31       740\n",
        "         1.0       0.50      0.76      0.60       740\n",
        "\n",
        "    accuracy                           0.49      1480\n",
        "   macro avg       0.49      0.49      0.46      1480\n",
        "weighted avg       0.49      0.49      0.46      1480\n",
        "\n",
        "time_saved : 1643465576.4054132"
      ],
      "metadata": {
        "id": "ZMeO0cnHtwEM"
      }
    },
    {
      "cell_type": "markdown",
      "source": [
        "## Bombus affinis vs Bombus impatiens ##"
      ],
      "metadata": {
        "id": "qGBvvBtPAFsl"
      }
    },
    {
      "cell_type": "markdown",
      "source": [
        "tf.Tensor(\n",
        "[[156 584]\n",
        " [144 596]], shape=(2, 2), dtype=int32)\n",
        " \n",
        "              precision    recall  f1-score   support\n",
        "\n",
        "         0.0       0.52      0.21      0.30       740\n",
        "         1.0       0.51      0.81      0.62       740\n",
        "\n",
        "    accuracy                           0.51      1480\n",
        "   macro avg       0.51      0.51      0.46      1480\n",
        "weighted avg       0.51      0.51      0.46      1480\n",
        "\n",
        "time_saved : 1643424974.8233218"
      ],
      "metadata": {
        "id": "EXDt-Un2sq1q"
      }
    },
    {
      "cell_type": "markdown",
      "source": [
        "## Bombus affinis vs Bombus insularis ##"
      ],
      "metadata": {
        "id": "mvpDi8v-AK6h"
      }
    },
    {
      "cell_type": "markdown",
      "source": [
        "tf.Tensor(\n",
        "[[402  92]\n",
        " [217 277]], shape=(2, 2), dtype=int32)\n",
        " \n",
        "              precision    recall  f1-score   support\n",
        "\n",
        "         0.0       0.65      0.81      0.72       494\n",
        "         1.0       0.75      0.56      0.64       494\n",
        "\n",
        "    accuracy                           0.69       988\n",
        "   macro avg       0.70      0.69      0.68       988\n",
        "weighted avg       0.70      0.69      0.68       988\n",
        "\n",
        "time_saved : 1643438508.018142"
      ],
      "metadata": {
        "id": "kSzUrsy-s2zN"
      }
    },
    {
      "cell_type": "markdown",
      "source": [
        "## Bombus affinis vs Bombus melanopygus ##"
      ],
      "metadata": {
        "id": "DyAefxC1uULN"
      }
    },
    {
      "cell_type": "markdown",
      "source": [
        "tf.Tensor(\n",
        "[[664  76]\n",
        " [217 523]], shape=(2, 2), dtype=int32)\n",
        " \n",
        "              precision    recall  f1-score   support\n",
        "\n",
        "         0.0       0.75      0.90      0.82       740\n",
        "         1.0       0.87      0.71      0.78       740\n",
        "\n",
        "    accuracy                           0.80      1480\n",
        "   macro avg       0.81      0.80      0.80      1480\n",
        "weighted avg       0.81      0.80      0.80      1480\n",
        "\n",
        "time_saved : 1643521338.5460365"
      ],
      "metadata": {
        "id": "9bm3Idmj7qet"
      }
    },
    {
      "cell_type": "markdown",
      "source": [
        "## Bombus affinis vs Bombus mixtus ##"
      ],
      "metadata": {
        "id": "wjq8agfUuYjH"
      }
    },
    {
      "cell_type": "markdown",
      "source": [
        "tf.Tensor(\n",
        "[[688  52]\n",
        " [146 594]], shape=(2, 2), dtype=int32)\n",
        " \n",
        "              precision    recall  f1-score   support\n",
        "\n",
        "         0.0       0.82      0.93      0.87       740\n",
        "         1.0       0.92      0.80      0.86       740\n",
        "\n",
        "    accuracy                           0.87      1480\n",
        "   macro avg       0.87      0.87      0.87      1480\n",
        "weighted avg       0.87      0.87      0.87      1480\n",
        "\n",
        "time_saved : 1643526580.34485"
      ],
      "metadata": {
        "id": "Ji1QErzx7yg2"
      }
    },
    {
      "cell_type": "markdown",
      "source": [
        "## Bombus affinis vs Bombus nevadensis ##"
      ],
      "metadata": {
        "id": "pK_5DhETubWQ"
      }
    },
    {
      "cell_type": "markdown",
      "source": [
        "tf.Tensor(\n",
        "[[616 124]\n",
        " [164 576]], shape=(2, 2), dtype=int32)\n",
        " \n",
        "              precision    recall  f1-score   support\n",
        "\n",
        "         0.0       0.79      0.83      0.81       740\n",
        "         1.0       0.82      0.78      0.80       740\n",
        "\n",
        "    accuracy                           0.81      1480\n",
        "   macro avg       0.81      0.81      0.81      1480\n",
        "weighted avg       0.81      0.81      0.81      1480\n",
        "\n",
        "time_saved : 1643550113.8700035"
      ],
      "metadata": {
        "id": "Vcd4QoZw7-9Z"
      }
    },
    {
      "cell_type": "markdown",
      "source": [
        "## Bombus affinis vs Bombus pensylvanicus sonorus ##"
      ],
      "metadata": {
        "id": "rw52QuAQufXA"
      }
    },
    {
      "cell_type": "markdown",
      "source": [
        "## Bombus affinis vs Bombus perplexus ##"
      ],
      "metadata": {
        "id": "K4IR_ksruovh"
      }
    },
    {
      "cell_type": "markdown",
      "source": [
        "tf.Tensor(\n",
        "[[228 512]\n",
        " [201 539]], shape=(2, 2), dtype=int32)\n",
        " \n",
        "              precision    recall  f1-score   support\n",
        "\n",
        "         0.0       0.53      0.31      0.39       740\n",
        "         1.0       0.51      0.73      0.60       740\n",
        "\n",
        "    accuracy                           0.52      1480\n",
        "   macro avg       0.52      0.52      0.50      1480\n",
        "weighted avg       0.52      0.52      0.50      1480\n",
        "\n",
        "time_saved : 1643579463.9641628"
      ],
      "metadata": {
        "id": "u4-1Rs7o8LO6"
      }
    },
    {
      "cell_type": "markdown",
      "source": [
        "## Bombus affinis vs Bombus rufocinctus ##"
      ],
      "metadata": {
        "id": "WxrVi4qtuspa"
      }
    },
    {
      "cell_type": "markdown",
      "source": [
        "tf.Tensor(\n",
        "[[538 202]\n",
        " [321 419]], shape=(2, 2), dtype=int32)\n",
        " \n",
        "              precision    recall  f1-score   support\n",
        "\n",
        "         0.0       0.63      0.73      0.67       740\n",
        "         1.0       0.67      0.57      0.62       740\n",
        "\n",
        "    accuracy                           0.65      1480\n",
        "   macro avg       0.65      0.65      0.64      1480\n",
        "weighted avg       0.65      0.65      0.64      1480\n",
        "\n",
        "time_saved : 1643614847.4801285"
      ],
      "metadata": {
        "id": "smPQI3UZ8gKG"
      }
    },
    {
      "cell_type": "markdown",
      "source": [
        "## Bombus affinis vs Bombus huntii ##"
      ],
      "metadata": {
        "id": "pqSIaKdBuxAk"
      }
    },
    {
      "cell_type": "markdown",
      "source": [
        "tf.Tensor(\n",
        "[[686  54]\n",
        " [208 532]], shape=(2, 2), dtype=int32)\n",
        " \n",
        "              precision    recall  f1-score   support\n",
        "\n",
        "         0.0       0.77      0.93      0.84       740\n",
        "         1.0       0.91      0.72      0.80       740\n",
        "\n",
        "    accuracy                           0.82      1480\n",
        "   macro avg       0.84      0.82      0.82      1480\n",
        "weighted avg       0.84      0.82      0.82      1480\n",
        "\n",
        "time_saved : 1643646830.9093943"
      ],
      "metadata": {
        "id": "tbXchHEP8ppr"
      }
    },
    {
      "cell_type": "markdown",
      "source": [
        "## Bombus affinis vs Bombus ternarius ##"
      ],
      "metadata": {
        "id": "Ookmd8DQuzmr"
      }
    },
    {
      "cell_type": "markdown",
      "source": [
        "## Bombus affinis vs Bombus terricola ##"
      ],
      "metadata": {
        "id": "Q7Yiaarlu2hw"
      }
    },
    {
      "cell_type": "markdown",
      "source": [
        "## Bombus affinis vs Bombus vagans ##"
      ],
      "metadata": {
        "id": "aGFSJhUxu5KY"
      }
    }
  ]
}