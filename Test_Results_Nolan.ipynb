{
  "nbformat": 4,
  "nbformat_minor": 0,
  "metadata": {
    "colab": {
      "name": "Test_Results_Nolan.ipynb",
      "provenance": [],
      "collapsed_sections": [],
      "authorship_tag": "ABX9TyPELbDJywUYsdV+Mm0OgZBg",
      "include_colab_link": true
    },
    "kernelspec": {
      "name": "python3",
      "display_name": "Python 3"
    },
    "language_info": {
      "name": "python"
    }
  },
  "cells": [
    {
      "cell_type": "markdown",
      "metadata": {
        "id": "view-in-github",
        "colab_type": "text"
      },
      "source": [
        "<a href=\"https://colab.research.google.com/github/ncbrubaker/github-slideshow/blob/master/Test_Results_Nolan.ipynb\" target=\"_parent\"><img src=\"https://colab.research.google.com/assets/colab-badge.svg\" alt=\"Open In Colab\"/></a>"
      ]
    },
    {
      "cell_type": "code",
      "execution_count": null,
      "metadata": {
        "id": "sBnQhTJZoaPR"
      },
      "outputs": [],
      "source": [
        ""
      ]
    },
    {
      "cell_type": "markdown",
      "source": [
        "## Bombus affinis vs Bombus bifarius ##\n"
      ],
      "metadata": {
        "id": "k6muAPopocfA"
      }
    },
    {
      "cell_type": "markdown",
      "source": [
        "\n",
        "[[682  58]\n",
        "\n",
        " [165 575]]\n",
        " \n",
        " shape=(2, 2), dtype=int32)\n",
        "              \n",
        "              precision    recall  f1-score   support\n",
        "\n",
        "         0.0       0.81      0.92      0.86       740\n",
        "         1.0       0.91      0.78      0.84       740\n",
        "\n",
        "    accuracy                           0.85      1480\n",
        "\n",
        "   macro avg       0.86      0.85      0.85      1480\n",
        "   \n",
        "weighted avg       0.86      0.85      0.85      1480\n",
        "\n",
        "time_saved : 1643279043.3600538"
      ],
      "metadata": {
        "id": "GHKN1B5po1vD"
      }
    },
    {
      "cell_type": "markdown",
      "source": [
        "## Bombus affinis vs Bombus bimaculatus ##"
      ],
      "metadata": {
        "id": "_C5mcG1f-vK5"
      }
    },
    {
      "cell_type": "markdown",
      "source": [
        "[[228 512]\n",
        "\n",
        " [218 522]]\n",
        " \n",
        " shape=(2, 2), dtype=int32)\n",
        "              \n",
        "              precision    recall  f1-score   support\n",
        "\n",
        "         0.0       0.51      0.31      0.38       740\n",
        "         1.0       0.50      0.71      0.59       740\n",
        "\n",
        "    accuracy                           0.51      1480\n",
        "   macro avg       0.51      0.51      0.49      1480\n",
        "weighted avg       0.51      0.51      0.49      1480\n",
        "\n",
        "time_saved : 1643363688.8370047\n"
      ],
      "metadata": {
        "id": "_lpjuHgcdhU7"
      }
    },
    {
      "cell_type": "markdown",
      "source": [
        "## Bombus affinis vs Bombus borealis ##"
      ],
      "metadata": {
        "id": "ZyBbvfJJ_LRv"
      }
    },
    {
      "cell_type": "markdown",
      "source": [
        "[[636 104]\n",
        "\n",
        " [202 538]]\n",
        " \n",
        " shape=(2, 2), dtype=int32)\n",
        " \n",
        "              precision    recall  f1-score   support\n",
        "\n",
        "         0.0       0.76      0.86      0.81       740\n",
        "         1.0       0.84      0.73      0.78       740\n",
        "\n",
        "    accuracy                           0.79      1480\n",
        "   macro avg       0.80      0.79      0.79      1480\n",
        "weighted avg       0.80      0.79      0.79      1480\n",
        "\n",
        "time_saved : 1643454003.076377"
      ],
      "metadata": {
        "id": "_5aWFESRtTom"
      }
    },
    {
      "cell_type": "markdown",
      "source": [
        "## Bombus affinis vs Bombus citrinus ##"
      ],
      "metadata": {
        "id": "B1vhCIMp-7wW"
      }
    },
    {
      "cell_type": "markdown",
      "source": [
        "[[230 346]\n",
        "\n",
        " [179 397]]\n",
        " \n",
        " shape=(2, 2), dtype=int32)\n",
        " \n",
        "              precision    recall  f1-score   support\n",
        "\n",
        "         0.0       0.56      0.40      0.47       576\n",
        "         1.0       0.53      0.69      0.60       576\n",
        "\n",
        "    accuracy                           0.54      1152\n",
        "   macro avg       0.55      0.54      0.53      1152\n",
        "weighted avg       0.55      0.54      0.53      1152\n",
        "\n",
        "time_saved : 1643438637.679892"
      ],
      "metadata": {
        "id": "GrUJYYMRtIhn"
      }
    },
    {
      "cell_type": "markdown",
      "source": [
        "## Bombus affinis vs Bombus centralis ##"
      ],
      "metadata": {
        "id": "ccgW_Xls_eD0"
      }
    },
    {
      "cell_type": "markdown",
      "source": [
        "[[660  40]\n",
        "\n",
        " [159 541]]\n",
        " \n",
        " shape=(2, 2), dtype=int32)\n",
        "              \n",
        "              precision    recall  f1-score   support\n",
        "\n",
        "         0.0       0.81      0.94      0.87       700\n",
        "         1.0       0.93      0.77      0.84       700\n",
        "\n",
        "    accuracy                           0.86      1400\n",
        "   macro avg       0.87      0.86      0.86      1400\n",
        "weighted avg       0.87      0.86      0.86      1400\n",
        "\n",
        "time_saved : 1643395479.7903736\n"
      ],
      "metadata": {
        "id": "SaHON70Od5vh"
      }
    },
    {
      "cell_type": "markdown",
      "source": [
        "## Bombus affinis vs Bombus flavidus ##"
      ],
      "metadata": {
        "id": "nnLHauq9_z_A"
      }
    },
    {
      "cell_type": "markdown",
      "source": [
        "[[320  96]\n",
        "\n",
        " [129 287]]\n",
        " \n",
        " shape=(2, 2), dtype=int32)\n",
        " \n",
        "              precision    recall  f1-score   support\n",
        "\n",
        "         0.0       0.71      0.77      0.74       416\n",
        "         1.0       0.75      0.69      0.72       416\n",
        "\n",
        "    accuracy                           0.73       832\n",
        "   macro avg       0.73      0.73      0.73       832\n",
        "weighted avg       0.73      0.73      0.73       832\n",
        "\n",
        "time_saved : 1643412979.7458477"
      ],
      "metadata": {
        "id": "0wUB1bbzsOBw"
      }
    },
    {
      "cell_type": "markdown",
      "source": [
        "## Bombus affinis vs Bombus flavifrons ##"
      ],
      "metadata": {
        "id": "ScyIe2dvAXk0"
      }
    },
    {
      "cell_type": "markdown",
      "source": [
        "[[656  84]\n",
        "\n",
        " [227 513]]\n",
        " \n",
        " shape=(2, 2), dtype=int32)\n",
        " \n",
        "              precision    recall  f1-score   support\n",
        "\n",
        "         0.0       0.74      0.89      0.81       740\n",
        "         1.0       0.86      0.69      0.77       740\n",
        "\n",
        "    accuracy                           0.79      1480\n",
        "   macro avg       0.80      0.79      0.79      1480\n",
        "weighted avg       0.80      0.79      0.79      1480\n",
        "\n",
        "time_saved : 1643414136.7685068"
      ],
      "metadata": {
        "id": "cNvQp8F_sd0c"
      }
    },
    {
      "cell_type": "markdown",
      "source": [
        "## Bombus affinis vs Bombus californicus ##"
      ],
      "metadata": {
        "id": "FGtsy14gAb3k"
      }
    },
    {
      "cell_type": "markdown",
      "source": [
        "[[596 144]\n",
        "\n",
        " [295 445]]\n",
        " \n",
        " shape=(2, 2), dtype=int32)\n",
        " \n",
        "              precision    recall  f1-score   support\n",
        "\n",
        "         0.0       0.67      0.81      0.73       740\n",
        "         1.0       0.76      0.60      0.67       740\n",
        "\n",
        "    accuracy                           0.70      1480\n",
        "   macro avg       0.71      0.70      0.70      1480\n",
        "weighted avg       0.71      0.70      0.70      1480\n",
        "\n",
        "time_saved : 1643465463.099939"
      ],
      "metadata": {
        "id": "xyMm9KKOtuIF"
      }
    },
    {
      "cell_type": "markdown",
      "source": [
        "## Bombus affinis vs Bombus griseocollis ##"
      ],
      "metadata": {
        "id": "OWFi-JKe_4lt"
      }
    },
    {
      "cell_type": "markdown",
      "source": [
        "[[170 570]\n",
        "\n",
        " [179 561]]\n",
        " \n",
        " shape=(2, 2), dtype=int32)\n",
        " \n",
        "              precision    recall  f1-score   support\n",
        "\n",
        "         0.0       0.49      0.23      0.31       740\n",
        "         1.0       0.50      0.76      0.60       740\n",
        "\n",
        "    accuracy                           0.49      1480\n",
        "   macro avg       0.49      0.49      0.46      1480\n",
        "weighted avg       0.49      0.49      0.46      1480\n",
        "\n",
        "time_saved : 1643465576.4054132"
      ],
      "metadata": {
        "id": "ZMeO0cnHtwEM"
      }
    },
    {
      "cell_type": "markdown",
      "source": [
        "## Bombus affinis vs Bombus impatiens ##"
      ],
      "metadata": {
        "id": "qGBvvBtPAFsl"
      }
    },
    {
      "cell_type": "markdown",
      "source": [
        "[[156 584]\n",
        "\n",
        " [144 596]]\n",
        " \n",
        " shape=(2, 2), dtype=int32)\n",
        " \n",
        "              precision    recall  f1-score   support\n",
        "\n",
        "         0.0       0.52      0.21      0.30       740\n",
        "         1.0       0.51      0.81      0.62       740\n",
        "\n",
        "    accuracy                           0.51      1480\n",
        "   macro avg       0.51      0.51      0.46      1480\n",
        "weighted avg       0.51      0.51      0.46      1480\n",
        "\n",
        "time_saved : 1643424974.8233218"
      ],
      "metadata": {
        "id": "EXDt-Un2sq1q"
      }
    },
    {
      "cell_type": "markdown",
      "source": [
        "## Bombus affinis vs Bombus insularis ##"
      ],
      "metadata": {
        "id": "mvpDi8v-AK6h"
      }
    },
    {
      "cell_type": "markdown",
      "source": [
        "[[402  92]\n",
        "\n",
        " [217 277]]\n",
        " \n",
        " shape=(2, 2), dtype=int32)\n",
        " \n",
        "              precision    recall  f1-score   support\n",
        "\n",
        "         0.0       0.65      0.81      0.72       494\n",
        "         1.0       0.75      0.56      0.64       494\n",
        "\n",
        "    accuracy                           0.69       988\n",
        "   macro avg       0.70      0.69      0.68       988\n",
        "weighted avg       0.70      0.69      0.68       988\n",
        "\n",
        "time_saved : 1643438508.018142"
      ],
      "metadata": {
        "id": "kSzUrsy-s2zN"
      }
    },
    {
      "cell_type": "markdown",
      "source": [
        "## Bombus affinis vs Bombus melanopygus ##"
      ],
      "metadata": {
        "id": "DyAefxC1uULN"
      }
    },
    {
      "cell_type": "markdown",
      "source": [
        "[[664  76]\n",
        "\n",
        " [217 523]]\n",
        " \n",
        " shape=(2, 2), dtype=int32)\n",
        " \n",
        "              precision    recall  f1-score   support\n",
        "\n",
        "         0.0       0.75      0.90      0.82       740\n",
        "         1.0       0.87      0.71      0.78       740\n",
        "\n",
        "    accuracy                           0.80      1480\n",
        "   macro avg       0.81      0.80      0.80      1480\n",
        "weighted avg       0.81      0.80      0.80      1480\n",
        "\n",
        "time_saved : 1643521338.5460365"
      ],
      "metadata": {
        "id": "9bm3Idmj7qet"
      }
    },
    {
      "cell_type": "markdown",
      "source": [
        "## Bombus affinis vs Bombus mixtus ##"
      ],
      "metadata": {
        "id": "wjq8agfUuYjH"
      }
    },
    {
      "cell_type": "markdown",
      "source": [
        "[[688  52]\n",
        "\n",
        " [146 594]]\n",
        " \n",
        " shape=(2, 2), dtype=int32)\n",
        " \n",
        "              precision    recall  f1-score   support\n",
        "\n",
        "         0.0       0.82      0.93      0.87       740\n",
        "         1.0       0.92      0.80      0.86       740\n",
        "\n",
        "    accuracy                           0.87      1480\n",
        "   macro avg       0.87      0.87      0.87      1480\n",
        "weighted avg       0.87      0.87      0.87      1480\n",
        "\n",
        "time_saved : 1643526580.34485"
      ],
      "metadata": {
        "id": "Ji1QErzx7yg2"
      }
    },
    {
      "cell_type": "markdown",
      "source": [
        "## Bombus affinis vs Bombus nevadensis ##"
      ],
      "metadata": {
        "id": "pK_5DhETubWQ"
      }
    },
    {
      "cell_type": "markdown",
      "source": [
        "[[616 124]\n",
        "\n",
        " [164 576]]\n",
        " \n",
        " shape=(2, 2), dtype=int32)\n",
        " \n",
        "              precision    recall  f1-score   support\n",
        "\n",
        "         0.0       0.79      0.83      0.81       740\n",
        "         1.0       0.82      0.78      0.80       740\n",
        "\n",
        "    accuracy                           0.81      1480\n",
        "   macro avg       0.81      0.81      0.81      1480\n",
        "weighted avg       0.81      0.81      0.81      1480\n",
        "\n",
        "time_saved : 1643550113.8700035"
      ],
      "metadata": {
        "id": "Vcd4QoZw7-9Z"
      }
    },
    {
      "cell_type": "markdown",
      "source": [
        "## Bombus affinis vs Bombus pensylvanicus ##"
      ],
      "metadata": {
        "id": "rw52QuAQufXA"
      }
    },
    {
      "cell_type": "markdown",
      "source": [
        "[[640 100]\n",
        "\n",
        " [145 595]]\n",
        " \n",
        " shape=(2, 2), dtype=int32)\n",
        "\n",
        "              precision    recall  f1-score   support\n",
        "\n",
        "         0.0       0.82      0.86      0.84       740\n",
        "         1.0       0.86      0.80      0.83       740\n",
        "\n",
        "    accuracy                           0.83      1480\n",
        "   macro avg       0.84      0.83      0.83      1480\n",
        "weighted avg       0.84      0.83      0.83      1480\n",
        "\n",
        "time_saved : 1643786951.8440948"
      ],
      "metadata": {
        "id": "U1AS6uR7iP_H"
      }
    },
    {
      "cell_type": "markdown",
      "source": [
        "## Bombus affinis vs Bombus perplexus ##"
      ],
      "metadata": {
        "id": "K4IR_ksruovh"
      }
    },
    {
      "cell_type": "markdown",
      "source": [
        "[[228 512]\n",
        "\n",
        " [201 539]]\n",
        " \n",
        " shape=(2, 2), dtype=int32)\n",
        " \n",
        "              precision    recall  f1-score   support\n",
        "\n",
        "         0.0       0.53      0.31      0.39       740\n",
        "         1.0       0.51      0.73      0.60       740\n",
        "\n",
        "    accuracy                           0.52      1480\n",
        "   macro avg       0.52      0.52      0.50      1480\n",
        "weighted avg       0.52      0.52      0.50      1480\n",
        "\n",
        "time_saved : 1643579463.9641628"
      ],
      "metadata": {
        "id": "u4-1Rs7o8LO6"
      }
    },
    {
      "cell_type": "markdown",
      "source": [
        "## Bombus affinis vs Bombus rufocinctus ##"
      ],
      "metadata": {
        "id": "WxrVi4qtuspa"
      }
    },
    {
      "cell_type": "markdown",
      "source": [
        "[[538 202]\n",
        "\n",
        " [321 419]]\n",
        " \n",
        " shape=(2, 2), dtype=int32)\n",
        " \n",
        "              precision    recall  f1-score   support\n",
        "\n",
        "         0.0       0.63      0.73      0.67       740\n",
        "         1.0       0.67      0.57      0.62       740\n",
        "\n",
        "    accuracy                           0.65      1480\n",
        "   macro avg       0.65      0.65      0.64      1480\n",
        "weighted avg       0.65      0.65      0.64      1480\n",
        "\n",
        "time_saved : 1643614847.4801285"
      ],
      "metadata": {
        "id": "smPQI3UZ8gKG"
      }
    },
    {
      "cell_type": "markdown",
      "source": [
        "## Bombus affinis vs Bombus huntii ##"
      ],
      "metadata": {
        "id": "pqSIaKdBuxAk"
      }
    },
    {
      "cell_type": "markdown",
      "source": [
        "[[686  54]\n",
        "\n",
        " [208 532]]\n",
        " \n",
        " shape=(2, 2), dtype=int32)\n",
        " \n",
        "              precision    recall  f1-score   support\n",
        "\n",
        "         0.0       0.77      0.93      0.84       740\n",
        "         1.0       0.91      0.72      0.80       740\n",
        "\n",
        "    accuracy                           0.82      1480\n",
        "   macro avg       0.84      0.82      0.82      1480\n",
        "weighted avg       0.84      0.82      0.82      1480\n",
        "\n",
        "time_saved : 1643646830.9093943"
      ],
      "metadata": {
        "id": "tbXchHEP8ppr"
      }
    },
    {
      "cell_type": "markdown",
      "source": [
        "## Bombus affinis vs Bombus ternarius ##"
      ],
      "metadata": {
        "id": "Ookmd8DQuzmr"
      }
    },
    {
      "cell_type": "markdown",
      "source": [
        "[[698  42]\n",
        "\n",
        " [253 487]]\n",
        " \n",
        " shape=(2, 2), dtype=int32)\n",
        "\n",
        "              precision    recall  f1-score   support\n",
        "\n",
        "         0.0       0.73      0.94      0.83       740\n",
        "         1.0       0.92      0.66      0.77       740\n",
        "\n",
        "    accuracy                           0.80      1480\n",
        "   macro avg       0.83      0.80      0.80      1480\n",
        "weighted avg       0.83      0.80      0.80      1480\n",
        "\n",
        "time_saved : 1643682094.5426586"
      ],
      "metadata": {
        "id": "EoGDK8rKhJVq"
      }
    },
    {
      "cell_type": "markdown",
      "source": [
        "## Bombus affinis vs Bombus terricola ##"
      ],
      "metadata": {
        "id": "Q7Yiaarlu2hw"
      }
    },
    {
      "cell_type": "markdown",
      "source": [
        "[[608 132]\n",
        "\n",
        " [198 542]]\n",
        " \n",
        " shape=(2, 2), dtype=int32)\n",
        "\n",
        "              precision    recall  f1-score   support\n",
        "\n",
        "         0.0       0.75      0.82      0.79       740\n",
        "         1.0       0.80      0.73      0.77       740\n",
        "\n",
        "    accuracy                           0.78      1480\n",
        "   macro avg       0.78      0.78      0.78      1480\n",
        "weighted avg       0.78      0.78      0.78      1480\n",
        "\n",
        "time_saved : 1643716775.360242"
      ],
      "metadata": {
        "id": "E4_dvy8Ahcgx"
      }
    },
    {
      "cell_type": "markdown",
      "source": [
        "## Bombus affinis vs Bombus vagans ##"
      ],
      "metadata": {
        "id": "aGFSJhUxu5KY"
      }
    },
    {
      "cell_type": "markdown",
      "source": [
        "[[260 480]\n",
        "\n",
        " [228 512]]\n",
        " \n",
        " shape=(2, 2), dtype=int32)\n",
        "\n",
        "              precision    recall  f1-score   support\n",
        "\n",
        "         0.0       0.53      0.35      0.42       740\n",
        "         1.0       0.52      0.69      0.59       740\n",
        "\n",
        "    accuracy                           0.52      1480\n",
        "   macro avg       0.52      0.52      0.51      1480\n",
        "weighted avg       0.52      0.52      0.51      1480\n",
        "\n",
        "time_saved : 1643751964.9655414"
      ],
      "metadata": {
        "id": "ZUbwVHS4iAF1"
      }
    },
    {
      "cell_type": "markdown",
      "source": [
        "## Bombus affinis vs Bombus vosnesenskii ##"
      ],
      "metadata": {
        "id": "SZzRpz3-mObf"
      }
    },
    {
      "cell_type": "markdown",
      "source": [
        "[[602 138]\n",
        "\n",
        " [224 516]]\n",
        " \n",
        " shape=(2, 2), dtype=int32)\n",
        " \n",
        "              precision    recall  f1-score   support\n",
        "\n",
        "         0.0       0.73      0.81      0.77       740\n",
        "         1.0       0.79      0.70      0.74       740\n",
        "\n",
        "    accuracy                           0.76      1480\n",
        "   macro avg       0.76      0.76      0.75      1480\n",
        "weighted avg       0.76      0.76      0.75      1480\n",
        "\n",
        "time_saved : 1643854724.4814346"
      ],
      "metadata": {
        "id": "VqGziDhAyHcc"
      }
    },
    {
      "cell_type": "markdown",
      "source": [
        "## Bombus affinis vs Bombus auricomus ##"
      ],
      "metadata": {
        "id": "SU7ug9iYmUrf"
      }
    },
    {
      "cell_type": "markdown",
      "source": [
        "[[662  78]\n",
        "\n",
        " [129 611]]\n",
        " \n",
        " shape=(2, 2), dtype=int32)\n",
        " \n",
        "              precision    recall  f1-score   support\n",
        "\n",
        "         0.0       0.84      0.89      0.86       740\n",
        "         1.0       0.89      0.83      0.86       740\n",
        "\n",
        "    accuracy                           0.86      1480\n",
        "   macro avg       0.86      0.86      0.86      1480\n",
        "weighted avg       0.86      0.86      0.86      1480\n",
        "\n",
        "time_saved : 1643851896.5095768"
      ],
      "metadata": {
        "id": "kXh7pqeLxOqn"
      }
    },
    {
      "cell_type": "markdown",
      "source": [
        "## Bombus bifarius vs Bombus bimaculatus ##"
      ],
      "metadata": {
        "id": "3yJjOQKzmbxp"
      }
    },
    {
      "cell_type": "markdown",
      "source": [
        "[[472  28]\n",
        "\n",
        " [105 395]]\n",
        " \n",
        " shape=(2, 2), dtype=int32)\n",
        " \n",
        "              precision    recall  f1-score   support\n",
        "\n",
        "         0.0       0.82      0.94      0.88       500\n",
        "         1.0       0.93      0.79      0.86       500\n",
        "\n",
        "    accuracy                           0.87      1000\n",
        "   macro avg       0.88      0.87      0.87      1000\n",
        "weighted avg       0.88      0.87      0.87      1000\n",
        "\n",
        "time_saved : 1643994295.2155664"
      ],
      "metadata": {
        "id": "YnxOKvCPLT3L"
      }
    },
    {
      "cell_type": "markdown",
      "source": [
        "## Bombus bifarius vs Bombus borealis ##"
      ],
      "metadata": {
        "id": "KNKIfFrUmpQk"
      }
    },
    {
      "cell_type": "markdown",
      "source": [
        "[[832  68]\n",
        "\n",
        " [247 653]]\n",
        " \n",
        " shape=(2, 2), dtype=int32)\n",
        " \n",
        "              precision    recall  f1-score   support\n",
        "\n",
        "         0.0       0.77      0.92      0.84       900\n",
        "         1.0       0.91      0.73      0.81       900\n",
        "\n",
        "    accuracy                           0.82      1800\n",
        "   macro avg       0.84      0.82      0.82      1800\n",
        "weighted avg       0.84      0.82      0.82      1800\n",
        "\n",
        "time_saved : 1643882692.536194"
      ],
      "metadata": {
        "id": "r5GsU-BmyxLO"
      }
    },
    {
      "cell_type": "markdown",
      "source": [
        "## Bombus bifarius vs Bombus citrinus ##"
      ],
      "metadata": {
        "id": "8AvquVRtmsw6"
      }
    },
    {
      "cell_type": "markdown",
      "source": [
        "[[492  84]\n",
        "\n",
        " [148 428]]\n",
        " \n",
        " shape=(2, 2), dtype=int32)\n",
        " \n",
        "              precision    recall  f1-score   support\n",
        "\n",
        "         0.0       0.77      0.85      0.81       576\n",
        "         1.0       0.84      0.74      0.79       576\n",
        "\n",
        "    accuracy                           0.80      1152\n",
        "   macro avg       0.80      0.80      0.80      1152\n",
        "weighted avg       0.80      0.80      0.80      1152\n",
        "\n",
        "time_saved : 1643883091.8704782"
      ],
      "metadata": {
        "id": "eCk0KhyKy-8_"
      }
    },
    {
      "cell_type": "markdown",
      "source": [
        "## Bombus bifarius vs Bombus centralis ##"
      ],
      "metadata": {
        "id": "5H4WLUlAmwtn"
      }
    },
    {
      "cell_type": "markdown",
      "source": [
        "[[260 440]\n",
        "\n",
        " [213 487]]\n",
        " \n",
        " shape=(2, 2), dtype=int32)\n",
        " \n",
        "              precision    recall  f1-score   support\n",
        "\n",
        "         0.0       0.55      0.37      0.44       700\n",
        "         1.0       0.53      0.70      0.60       700\n",
        "\n",
        "    accuracy                           0.53      1400\n",
        "   macro avg       0.54      0.53      0.52      1400\n",
        "weighted avg       0.54      0.53      0.52      1400\n",
        "\n",
        "time_saved : 1643881666.5279863"
      ],
      "metadata": {
        "id": "Zb_EaCeRyjij"
      }
    },
    {
      "cell_type": "markdown",
      "source": [
        "## Bombus bifarius vs Bombus flavidus ##"
      ],
      "metadata": {
        "id": "lealBsRkm05X"
      }
    },
    {
      "cell_type": "markdown",
      "source": [
        "[[172 244]\n",
        "\n",
        " [144 272]]\n",
        " \n",
        " shape=(2, 2), dtype=int32)\n",
        " \n",
        "              precision    recall  f1-score   support\n",
        "\n",
        "         0.0       0.54      0.41      0.47       416\n",
        "         1.0       0.53      0.65      0.58       416\n",
        "\n",
        "    accuracy                           0.53       832\n",
        "   macro avg       0.54      0.53      0.53       832\n",
        "weighted avg       0.54      0.53      0.53       832\n",
        "\n",
        "time_saved : 1643903472.8318114"
      ],
      "metadata": {
        "id": "o93CGx_WzUef"
      }
    },
    {
      "cell_type": "markdown",
      "source": [
        "## Bombus bifarius vs Bombus flavifrons ##"
      ],
      "metadata": {
        "id": "tNzPSEyPm7Wi"
      }
    },
    {
      "cell_type": "markdown",
      "source": [
        "[[149 351]\n",
        "\n",
        " [144 356]]\n",
        " \n",
        " shape=(2, 2), dtype=int32)\n",
        " \n",
        "              precision    recall  f1-score   support\n",
        "\n",
        "         0.0       0.51      0.30      0.38       500\n",
        "         1.0       0.50      0.71      0.59       500\n",
        "\n",
        "    accuracy                           0.51      1000\n",
        "   macro avg       0.51      0.51      0.48      1000\n",
        "weighted avg       0.51      0.51      0.48      1000\n",
        "\n",
        "time_saved : 1644060108.5631673"
      ],
      "metadata": {
        "id": "yobBCFDMuDQf"
      }
    },
    {
      "cell_type": "markdown",
      "source": [
        "## Bombus bifarius vs Bombus californicus ##"
      ],
      "metadata": {
        "id": "sbreJEITnBGA"
      }
    },
    {
      "cell_type": "markdown",
      "source": [
        "[[442  58]\n",
        "\n",
        " [117 383]]\n",
        " \n",
        " shape=(2, 2), dtype=int32)\n",
        " \n",
        "              precision    recall  f1-score   support\n",
        "\n",
        "         0.0       0.79      0.88      0.83       500\n",
        "         1.0       0.87      0.77      0.81       500\n",
        "\n",
        "    accuracy                           0.82      1000\n",
        "   macro avg       0.83      0.82      0.82      1000\n",
        "weighted avg       0.83      0.82      0.82      1000\n",
        "\n",
        "time_saved : 1644033032.1528587"
      ],
      "metadata": {
        "id": "L4nF0N8gqit5"
      }
    },
    {
      "cell_type": "markdown",
      "source": [
        "## Bombus bifarius vs Bombus griseocollis ##"
      ],
      "metadata": {
        "id": "iCercTYznFX2"
      }
    },
    {
      "cell_type": "markdown",
      "source": [
        "[[479  21]\n",
        "\n",
        " [141 359]]\n",
        " \n",
        " shape=(2, 2), dtype=int32)\n",
        " \n",
        "              precision    recall  f1-score   support\n",
        "\n",
        "         0.0       0.77      0.96      0.86       500\n",
        "         1.0       0.94      0.72      0.82       500\n",
        "\n",
        "    accuracy                           0.84      1000\n",
        "   macro avg       0.86      0.84      0.84      1000\n",
        "weighted avg       0.86      0.84      0.84      1000\n",
        "\n",
        "time_saved : 1644045616.7464955"
      ],
      "metadata": {
        "id": "yCiI5zkHttkZ"
      }
    },
    {
      "cell_type": "markdown",
      "source": [
        "## Bombus bifarius vs Bombus impatiens ##"
      ],
      "metadata": {
        "id": "HczZ-eIJ1Md-"
      }
    },
    {
      "cell_type": "markdown",
      "source": [
        "[[463  37]\n",
        "\n",
        " [ 87 413]]\n",
        " shape=(2, 2), dtype=int32)\n",
        " \n",
        "              precision    recall  f1-score   support\n",
        "\n",
        "         0.0       0.84      0.93      0.88       500\n",
        "         1.0       0.92      0.83      0.87       500\n",
        "\n",
        "    accuracy                           0.88      1000\n",
        "   macro avg       0.88      0.88      0.88      1000\n",
        "weighted avg       0.88      0.88      0.88      1000\n",
        "\n",
        "time_saved : 1644231801.9899921"
      ],
      "metadata": {
        "id": "aKOccg2h0-dM"
      }
    },
    {
      "cell_type": "markdown",
      "source": [
        "## Bombus bifarius vs Bombus insularis ##"
      ],
      "metadata": {
        "id": "oCS8TYvA1Pyv"
      }
    },
    {
      "cell_type": "markdown",
      "source": [
        "[[298 196]\n",
        "\n",
        " [219 275]]\n",
        " \n",
        " shape=(2, 2), dtype=int32)\n",
        " \n",
        "              precision    recall  f1-score   support\n",
        "\n",
        "         0.0       0.58      0.60      0.59       494\n",
        "         1.0       0.58      0.56      0.57       494\n",
        "\n",
        "    accuracy                           0.58       988\n",
        "   macro avg       0.58      0.58      0.58       988\n",
        "weighted avg       0.58      0.58      0.58       988\n",
        "\n",
        "time_saved : 1643966317.6683166"
      ],
      "metadata": {
        "id": "cCwJ8u-PLDoz"
      }
    },
    {
      "cell_type": "markdown",
      "source": [
        "## Bombus bifarius vs Bombus melanopygus ##"
      ],
      "metadata": {
        "id": "ppTXFUAj1WHN"
      }
    },
    {
      "cell_type": "markdown",
      "source": [
        "[[235 265]\n",
        "\n",
        " [158 342]]\n",
        " \n",
        " shape=(2, 2), dtype=int32)\n",
        " \n",
        "              precision    recall  f1-score   support\n",
        "\n",
        "         0.0       0.60      0.47      0.53       500\n",
        "         1.0       0.56      0.68      0.62       500\n",
        "\n",
        "    accuracy                           0.58      1000\n",
        "   macro avg       0.58      0.58      0.57      1000\n",
        "weighted avg       0.58      0.58      0.57      1000\n",
        "\n",
        "time_saved : 1644264540.3182316"
      ],
      "metadata": {
        "id": "c1SZLqic11ef"
      }
    },
    {
      "cell_type": "markdown",
      "source": [
        "## Bombus bifarius vs Bombus mixtus ##"
      ],
      "metadata": {
        "id": "i4hbHz4a1eQM"
      }
    },
    {
      "cell_type": "markdown",
      "source": [
        "[[ 82 418]\n",
        "\n",
        " [105 395]]\n",
        " \n",
        " shape=(2, 2), dtype=int32)\n",
        " \n",
        "              precision    recall  f1-score   support\n",
        "\n",
        "         0.0       0.44      0.16      0.24       500\n",
        "         1.0       0.49      0.79      0.60       500\n",
        "\n",
        "    accuracy                           0.48      1000\n",
        "   macro avg       0.46      0.48      0.42      1000\n",
        "weighted avg       0.46      0.48      0.42      1000\n",
        "\n",
        "time_saved : 1644261490.896626"
      ],
      "metadata": {
        "id": "9BibX2pQ1jIQ"
      }
    },
    {
      "cell_type": "markdown",
      "source": [
        "## Bombus bifarius vs Bombus nevadinsis ##"
      ],
      "metadata": {
        "id": "ZsqBRsOp1hjX"
      }
    },
    {
      "cell_type": "markdown",
      "source": [
        "[[764  26]\n",
        "\n",
        " [149 641]]\n",
        " \n",
        " shape=(2, 2), dtype=int32)\n",
        " \n",
        "              precision    recall  f1-score   support\n",
        "\n",
        "         0.0       0.84      0.97      0.90       790\n",
        "         1.0       0.96      0.81      0.88       790\n",
        "\n",
        "    accuracy                           0.89      1580\n",
        "   macro avg       0.90      0.89      0.89      1580\n",
        "weighted avg       0.90      0.89      0.89      1580\n",
        "\n",
        "time_saved : 1644022107.5035634"
      ],
      "metadata": {
        "id": "ygge7KibqM81"
      }
    },
    {
      "cell_type": "markdown",
      "source": [
        "## Bombus bifarius vs Bombus pensylvanicus ##"
      ],
      "metadata": {
        "id": "EUOjOU5m1ud3"
      }
    },
    {
      "cell_type": "markdown",
      "source": [
        "[[482  18]\n",
        "\n",
        " [103 397]]\n",
        " \n",
        " shape=(2, 2), dtype=int32)\n",
        " \n",
        "              precision    recall  f1-score   support\n",
        "\n",
        "         0.0       0.82      0.96      0.89       500\n",
        "         1.0       0.96      0.79      0.87       500\n",
        "\n",
        "    accuracy                           0.88      1000\n",
        "   macro avg       0.89      0.88      0.88      1000\n",
        "weighted avg       0.89      0.88      0.88      1000\n",
        "\n",
        "time_saved : 1644285268.444524"
      ],
      "metadata": {
        "id": "2YoYdoz5yJkI"
      }
    },
    {
      "cell_type": "markdown",
      "source": [
        "## Bombus bifarius vs Bombus perplexus ##"
      ],
      "metadata": {
        "id": "IdRdz-Cfyq_x"
      }
    },
    {
      "cell_type": "markdown",
      "source": [
        "[[424  76]\n",
        "\n",
        " [112 388]]\n",
        " shape=(2, 2), dtype=int32)\n",
        " \n",
        "              precision    recall  f1-score   support\n",
        "\n",
        "         0.0       0.79      0.85      0.82       500\n",
        "         1.0       0.84      0.78      0.80       500\n",
        "\n",
        "    accuracy                           0.81      1000\n",
        "   macro avg       0.81      0.81      0.81      1000\n",
        "weighted avg       0.81      0.81      0.81      1000\n",
        "\n",
        "time_saved : 1644238659.4736228"
      ],
      "metadata": {
        "id": "Tj0sPUhw1Jkc"
      }
    },
    {
      "cell_type": "markdown",
      "source": [
        "## Bombus bifarius vs Bombus rufocinctus ##"
      ],
      "metadata": {
        "id": "CJ0WDVn4yw5y"
      }
    },
    {
      "cell_type": "markdown",
      "source": [
        "[[299 201]\n",
        "\n",
        " [149 351]]\n",
        " \n",
        " shape=(2, 2), dtype=int32)\n",
        "\n",
        "              precision    recall  f1-score   support\n",
        "\n",
        "         0.0       0.67      0.60      0.63       500\n",
        "         1.0       0.64      0.70      0.67       500\n",
        "\n",
        "    accuracy                           0.65      1000\n",
        "   macro avg       0.65      0.65      0.65      1000\n",
        "weighted avg       0.65      0.65      0.65      1000\n",
        "\n",
        "time_saved : 1644258798.5912333"
      ],
      "metadata": {
        "id": "zB13ohsv1TNs"
      }
    },
    {
      "cell_type": "markdown",
      "source": [
        "## Bombus bifarius vs Bombus huntii ##"
      ],
      "metadata": {
        "id": "He6ui2f4y1CU"
      }
    },
    {
      "cell_type": "markdown",
      "source": [
        "[[412  88]\n",
        "\n",
        " [145 355]]\n",
        " \n",
        " shape=(2, 2), dtype=int32)\n",
        " \n",
        "              precision    recall  f1-score   support\n",
        "\n",
        "         0.0       0.74      0.82      0.78       500\n",
        "         1.0       0.80      0.71      0.75       500\n",
        "\n",
        "    accuracy                           0.77      1000\n",
        "   macro avg       0.77      0.77      0.77      1000\n",
        "weighted avg       0.77      0.77      0.77      1000\n",
        "\n",
        "time_saved : 1644285084.4995558"
      ],
      "metadata": {
        "id": "QXNZ2tWHx6Im"
      }
    },
    {
      "cell_type": "markdown",
      "source": [
        "## Bombus bifarius vs Bombus ternarius ##"
      ],
      "metadata": {
        "id": "1yYFrtYNy2vY"
      }
    },
    {
      "cell_type": "markdown",
      "source": [
        "[[350 150]\n",
        "\n",
        " [126 374]]\n",
        " \n",
        " shape=(2, 2), dtype=int32)\n",
        " \n",
        "              precision    recall  f1-score   support\n",
        "\n",
        "         0.0       0.74      0.70      0.72       500\n",
        "         1.0       0.71      0.75      0.73       500\n",
        "\n",
        "    accuracy                           0.72      1000\n",
        "   macro avg       0.72      0.72      0.72      1000\n",
        "weighted avg       0.72      0.72      0.72      1000\n",
        "\n",
        "time_saved : 1644289171.5200922"
      ],
      "metadata": {
        "id": "lePfh9YyyTew"
      }
    },
    {
      "cell_type": "markdown",
      "source": [
        "## Bombus bifarius vs Bombus terricola ##"
      ],
      "metadata": {
        "id": "ZwsQ0D2ay53k"
      }
    },
    {
      "cell_type": "markdown",
      "source": [
        "[[471  29]\n",
        "\n",
        " [134 366]]\n",
        " \n",
        " shape=(2, 2), dtype=int32)\n",
        " \n",
        "              precision    recall  f1-score   support\n",
        "\n",
        "         0.0       0.78      0.94      0.85       500\n",
        "         1.0       0.93      0.73      0.82       500\n",
        "\n",
        "    accuracy                           0.84      1000\n",
        "   macro avg       0.85      0.84      0.84      1000\n",
        "weighted avg       0.85      0.84      0.84      1000\n",
        "\n",
        "time_saved : 1644310563.9785588"
      ],
      "metadata": {
        "id": "X72BAFYly06B"
      }
    },
    {
      "cell_type": "markdown",
      "source": [
        "## Bombus bifarius vs Bombus vagans ##"
      ],
      "metadata": {
        "id": "-tThLYZSy8lI"
      }
    },
    {
      "cell_type": "markdown",
      "source": [
        "[[406  94]\n",
        "\n",
        " [125 375]]\n",
        " \n",
        " shape=(2, 2), dtype=int32)\n",
        " \n",
        "              precision    recall  f1-score   support\n",
        "\n",
        "         0.0       0.76      0.81      0.79       500\n",
        "         1.0       0.80      0.75      0.77       500\n",
        "\n",
        "    accuracy                           0.78      1000\n",
        "   macro avg       0.78      0.78      0.78      1000\n",
        "weighted avg       0.78      0.78      0.78      1000\n",
        "\n",
        "time_saved : 1644308486.2905114"
      ],
      "metadata": {
        "id": "DNHbBLIrykeX"
      }
    },
    {
      "cell_type": "markdown",
      "source": [
        "## Bombus bifarius vs Bombus vosnesenskii ##"
      ],
      "metadata": {
        "id": "OY_CrbH_5sER"
      }
    },
    {
      "cell_type": "markdown",
      "source": [
        "[[473  27]\n",
        "\n",
        " [105 395]]\n",
        " \n",
        " shape=(2, 2), dtype=int32)\n",
        " \n",
        "              precision    recall  f1-score   support\n",
        "\n",
        "         0.0       0.82      0.95      0.88       500\n",
        "         1.0       0.94      0.79      0.86       500\n",
        "\n",
        "    accuracy                           0.87      1000\n",
        "   macro avg       0.88      0.87      0.87      1000\n",
        "weighted avg       0.88      0.87      0.87      1000\n",
        "\n",
        "time_saved : 1644411522.0454051"
      ],
      "metadata": {
        "id": "2Omt1MMTJKGV"
      }
    },
    {
      "cell_type": "markdown",
      "source": [
        "## Bombus bifarius vs Bombus auricomus ##"
      ],
      "metadata": {
        "id": "A4iwCDlz54Qb"
      }
    },
    {
      "cell_type": "markdown",
      "source": [
        "[[483  17]\n",
        "\n",
        " [ 44 456]]\n",
        " \n",
        " shape=(2, 2), dtype=int32)\n",
        " \n",
        "              precision    recall  f1-score   support\n",
        "\n",
        "         0.0       0.92      0.97      0.94       500\n",
        "         1.0       0.96      0.91      0.94       500\n",
        "\n",
        "    accuracy                           0.94      1000\n",
        "   macro avg       0.94      0.94      0.94      1000\n",
        "weighted avg       0.94      0.94      0.94      1000\n",
        "\n",
        "time_saved : 1644377052.5348103"
      ],
      "metadata": {
        "id": "Cad-RqcmHjSC"
      }
    },
    {
      "cell_type": "markdown",
      "source": [
        "## Bombus bimaculatus vs Bombus borealis ##"
      ],
      "metadata": {
        "id": "tuOr4fwG59T-"
      }
    },
    {
      "cell_type": "markdown",
      "source": [
        "[[455  45]\n",
        "\n",
        " [ 71 429]]\n",
        " \n",
        " shape=(2, 2), dtype=int32)\n",
        " \n",
        "              precision    recall  f1-score   support\n",
        "\n",
        "         0.0       0.87      0.91      0.89       500\n",
        "         1.0       0.91      0.86      0.88       500\n",
        "\n",
        "    accuracy                           0.88      1000\n",
        "   macro avg       0.89      0.88      0.88      1000\n",
        "weighted avg       0.89      0.88      0.88      1000\n",
        "\n",
        "time_saved : 1644374577.6248674"
      ],
      "metadata": {
        "id": "axW_OrchHXYO"
      }
    },
    {
      "cell_type": "markdown",
      "source": [
        "## Bombus bimaculatus vs Bombus citrinus ##"
      ],
      "metadata": {
        "id": "zrR8HmPB6dKE"
      }
    },
    {
      "cell_type": "markdown",
      "source": [
        "[[145 355]\n",
        "\n",
        "\n",
        " [114 386]]\n",
        " \n",
        " shape=(2, 2), dtype=int32)\n",
        " \n",
        "              precision    recall  f1-score   support\n",
        "\n",
        "         0.0       0.56      0.29      0.38       500\n",
        "         1.0       0.52      0.77      0.62       500\n",
        "\n",
        "    accuracy                           0.53      1000\n",
        "   macro avg       0.54      0.53      0.50      1000\n",
        "weighted avg       0.54      0.53      0.50      1000\n",
        "\n",
        "time_saved : 1644478482.6592588"
      ],
      "metadata": {
        "id": "SxHCmX6yJUA0"
      }
    },
    {
      "cell_type": "markdown",
      "source": [
        "## Bombus bimaculatus vs Bombus centralis ##"
      ],
      "metadata": {
        "id": "ggtzX0LE6gPv"
      }
    },
    {
      "cell_type": "markdown",
      "source": [
        "[[469  31]\n",
        "\n",
        " [107 393]]\n",
        " \n",
        " shape=(2, 2), dtype=int32)\n",
        " \n",
        "              precision    recall  f1-score   support\n",
        "\n",
        "         0.0       0.81      0.94      0.87       500\n",
        "         1.0       0.93      0.79      0.85       500\n",
        "\n",
        "    accuracy                           0.86      1000\n",
        "   macro avg       0.87      0.86      0.86      1000\n",
        "weighted avg       0.87      0.86      0.86      1000\n",
        "\n",
        "time_saved : 1644386144.3184688"
      ],
      "metadata": {
        "id": "elFVpGMQIMnp"
      }
    },
    {
      "cell_type": "markdown",
      "source": [
        "## Bombus bimaculatus vs Bombus flavidus ##"
      ],
      "metadata": {
        "id": "SbF5bvsL6i_3"
      }
    },
    {
      "cell_type": "markdown",
      "source": [
        "[[340  76]\n",
        "\n",
        " [152 264]]\n",
        " \n",
        " shape=(2, 2), dtype=int32)\n",
        " \n",
        "              precision    recall  f1-score   support\n",
        "\n",
        "         0.0       0.69      0.82      0.75       416\n",
        "         1.0       0.78      0.63      0.70       416\n",
        "\n",
        "    accuracy                           0.73       832\n",
        "   macro avg       0.73      0.73      0.72       832\n",
        "weighted avg       0.73      0.73      0.72       832\n",
        "\n",
        "time_saved : 1644395736.0139103"
      ],
      "metadata": {
        "id": "FyBQAkFeI5rZ"
      }
    },
    {
      "cell_type": "markdown",
      "source": [
        "## Bombus bimaculatus vs Bombus flavifrons ##"
      ],
      "metadata": {
        "id": "FleN3_he6uNr"
      }
    },
    {
      "cell_type": "markdown",
      "source": [
        "[[463  37]\n",
        "\n",
        " [112 388]]\n",
        " \n",
        " shape=(2, 2), dtype=int32)\n",
        " \n",
        "              precision    recall  f1-score   support\n",
        "\n",
        "         0.0       0.81      0.93      0.86       500\n",
        "         1.0       0.91      0.78      0.84       500\n",
        "\n",
        "    accuracy                           0.85      1000\n",
        "   macro avg       0.86      0.85      0.85      1000\n",
        "weighted avg       0.86      0.85      0.85      1000\n",
        "\n",
        "time_saved : 1644445302.1825347"
      ],
      "metadata": {
        "id": "s0E3KFYyIYVD"
      }
    },
    {
      "cell_type": "markdown",
      "source": [
        "## Bombus bimaculatus vs Bombus californicus ##"
      ],
      "metadata": {
        "id": "n3Zz8NVI6yO1"
      }
    },
    {
      "cell_type": "markdown",
      "source": [
        "[[422  78]\n",
        "\n",
        " [ 66 434]]\n",
        " \n",
        " shape=(2, 2), dtype=int32)\n",
        " \n",
        "              precision    recall  f1-score   support\n",
        "\n",
        "         0.0       0.86      0.84      0.85       500\n",
        "         1.0       0.85      0.87      0.86       500\n",
        "\n",
        "    accuracy                           0.86      1000\n",
        "   macro avg       0.86      0.86      0.86      1000\n",
        "weighted avg       0.86      0.86      0.86      1000\n",
        "\n",
        "time_saved : 1644468258.2972038"
      ],
      "metadata": {
        "id": "NkS0SWsnI3id"
      }
    },
    {
      "cell_type": "markdown",
      "source": [
        "## Bombus bimaculatus vs Bombus griseocollis ##"
      ],
      "metadata": {
        "id": "CEG2y-1U62Qd"
      }
    },
    {
      "cell_type": "markdown",
      "source": [
        "[[ 92 408]\n",
        "\n",
        " [ 80 420]]\n",
        " \n",
        " shape=(2, 2), dtype=int32)\n",
        " \n",
        "              precision    recall  f1-score   support\n",
        "\n",
        "         0.0       0.53      0.18      0.27       500\n",
        "         1.0       0.51      0.84      0.63       500\n",
        "\n",
        "    accuracy                           0.51      1000\n",
        "   macro avg       0.52      0.51      0.45      1000\n",
        "weighted avg       0.52      0.51      0.45      1000\n",
        "\n",
        "time_saved : 1644421236.4870994"
      ],
      "metadata": {
        "id": "VeU2nwn2JahH"
      }
    },
    {
      "cell_type": "markdown",
      "source": [
        "## Bombus bimaculatus vs Bombus impatiens ##"
      ],
      "metadata": {
        "id": "uN1HTJo765rr"
      }
    },
    {
      "cell_type": "markdown",
      "source": [
        "[[ 88 412]\n",
        "\n",
        " [ 79 421]]\n",
        " \n",
        " shape=(2, 2), dtype=int32)\n",
        " \n",
        "              precision    recall  f1-score   support\n",
        "\n",
        "         0.0       0.53      0.18      0.26       500\n",
        "         1.0       0.51      0.84      0.63       500\n",
        "\n",
        "    accuracy                           0.51      1000\n",
        "   macro avg       0.52      0.51      0.45      1000\n",
        "weighted avg       0.52      0.51      0.45      1000\n",
        "\n",
        "time_saved : 1644457719.8942428"
      ],
      "metadata": {
        "id": "SFTVr9QGIsmL"
      }
    },
    {
      "cell_type": "markdown",
      "source": [
        "## Bombus bimaculatus vs Bombus insularis ##"
      ],
      "metadata": {
        "id": "DEB7Cg4-NaY0"
      }
    },
    {
      "cell_type": "markdown",
      "source": [
        "[[426  68]\n",
        "\n",
        " [181 313]]\n",
        " \n",
        " shape=(2, 2), dtype=int32)\n",
        " \n",
        "              precision    recall  f1-score   support\n",
        "\n",
        "         0.0       0.70      0.86      0.77       494\n",
        "         1.0       0.82      0.63      0.72       494\n",
        "\n",
        "    accuracy                           0.75       988\n",
        "   macro avg       0.76      0.75      0.74       988\n",
        "weighted avg       0.76      0.75      0.74       988\n",
        "\n",
        "time_saved : 1644570349.5509663"
      ],
      "metadata": {
        "id": "7aCykl9vkpvi"
      }
    },
    {
      "cell_type": "markdown",
      "source": [
        "## Bombus bimaculatus vs Bombus melanopygus ##"
      ],
      "metadata": {
        "id": "OdDZolPDNeo-"
      }
    },
    {
      "cell_type": "markdown",
      "source": [
        "[[443  57]\n",
        "\n",
        " [ 80 420]]\n",
        " \n",
        " shape=(2, 2), dtype=int32)\n",
        " \n",
        "              precision    recall  f1-score   support\n",
        "\n",
        "         0.0       0.85      0.89      0.87       500\n",
        "         1.0       0.88      0.84      0.86       500\n",
        "\n",
        "    accuracy                           0.86      1000\n",
        "   macro avg       0.86      0.86      0.86      1000\n",
        "weighted avg       0.86      0.86      0.86      1000\n",
        "\n",
        "time_saved : 1644573865.9179711"
      ],
      "metadata": {
        "id": "0cigD3IFk1mQ"
      }
    },
    {
      "cell_type": "markdown",
      "source": [
        "## Bombus bimaculatus vs Bombus mixtus ##"
      ],
      "metadata": {
        "id": "RP0vqJS2NkgV"
      }
    },
    {
      "cell_type": "markdown",
      "source": [
        "[[463  37]\n",
        "\n",
        " [ 61 439]]\n",
        " \n",
        " shape=(2, 2), dtype=int32)\n",
        " \n",
        "              precision    recall  f1-score   support\n",
        "\n",
        "         0.0       0.88      0.93      0.90       500\n",
        "         1.0       0.92      0.88      0.90       500\n",
        "\n",
        "    accuracy                           0.90      1000\n",
        "   macro avg       0.90      0.90      0.90      1000\n",
        "weighted avg       0.90      0.90      0.90      1000\n",
        "\n",
        "time_saved : 1644602955.8328195"
      ],
      "metadata": {
        "id": "HA_kd7J9lG90"
      }
    },
    {
      "cell_type": "markdown",
      "source": [
        "## Bombus bimaculatus vs Bombus nevadensis ##"
      ],
      "metadata": {
        "id": "S7JCHT0vNmZX"
      }
    },
    {
      "cell_type": "markdown",
      "source": [
        "[[466  34]\n",
        "\n",
        " [112 388]]\n",
        " \n",
        " shape=(2, 2), dtype=int32)\n",
        " \n",
        "              precision    recall  f1-score   support\n",
        "\n",
        "         0.0       0.81      0.93      0.86       500\n",
        "         1.0       0.92      0.78      0.84       500\n",
        "\n",
        "    accuracy                           0.85      1000\n",
        "   macro avg       0.86      0.85      0.85      1000\n",
        "weighted avg       0.86      0.85      0.85      1000\n",
        "\n",
        "time_saved : 1644596909.9268594"
      ],
      "metadata": {
        "id": "7kj2jhHzk_l_"
      }
    },
    {
      "cell_type": "markdown",
      "source": [
        "## Bombus bimaculatus vs Bombus pensylvanicus ##"
      ],
      "metadata": {
        "id": "VDJcfd6NNoy7"
      }
    },
    {
      "cell_type": "markdown",
      "source": [
        "[[481  19]\n",
        "\n",
        " [ 91 409]]\n",
        " \n",
        " shape=(2, 2), dtype=int32)\n",
        " \n",
        "              precision    recall  f1-score   support\n",
        "\n",
        "         0.0       0.84      0.96      0.90       500\n",
        "         1.0       0.96      0.82      0.88       500\n",
        "\n",
        "    accuracy                           0.89      1000\n",
        "   macro avg       0.90      0.89      0.89      1000\n",
        "weighted avg       0.90      0.89      0.89      1000\n",
        "\n",
        "time_saved : 1644626003.7181356"
      ],
      "metadata": {
        "id": "KDIwLpuHlRZG"
      }
    },
    {
      "cell_type": "markdown",
      "source": [
        "## Bombus bimaculatus vs Bombus perplexus ##"
      ],
      "metadata": {
        "id": "sIxSTjJ_Nstc"
      }
    },
    {
      "cell_type": "markdown",
      "source": [
        "[[138 362]\n",
        "\n",
        " [ 83 417]]\n",
        " \n",
        " shape=(2, 2), dtype=int32)\n",
        " \n",
        "              precision    recall  f1-score   support\n",
        "\n",
        "         0.0       0.62      0.28      0.38       500\n",
        "         1.0       0.54      0.83      0.65       500\n",
        "\n",
        "    accuracy                           0.56      1000\n",
        "   macro avg       0.58      0.55      0.52      1000\n",
        "weighted avg       0.58      0.56      0.52      1000\n",
        "\n",
        "time_saved : 1644635586.1538496"
      ],
      "metadata": {
        "id": "mlp3cR1Jl01M"
      }
    },
    {
      "cell_type": "markdown",
      "source": [
        "## Bombus bimaculatus vs Bombus rufocinctus ##"
      ],
      "metadata": {
        "id": "HUrKd4N3NvWY"
      }
    },
    {
      "cell_type": "markdown",
      "source": [
        "[[393 107]\n",
        "\n",
        " [ 86 414]]\n",
        " \n",
        " shape=(2, 2), dtype=int32)\n",
        " \n",
        "              precision    recall  f1-score   support\n",
        "\n",
        "         0.0       0.82      0.79      0.80       500\n",
        "         1.0       0.79      0.83      0.81       500\n",
        "\n",
        "    accuracy                           0.81      1000\n",
        "   macro avg       0.81      0.81      0.81      1000\n",
        "weighted avg       0.81      0.81      0.81      1000\n",
        "\n",
        "time_saved : 1644632935.6530993"
      ],
      "metadata": {
        "id": "7hmApEUnlkY2"
      }
    },
    {
      "cell_type": "markdown",
      "source": [
        "## Bombus bimaculatus vs Bombus huntii ##"
      ],
      "metadata": {
        "id": "O1t3iox7NxYy"
      }
    },
    {
      "cell_type": "markdown",
      "source": [
        "[[479  21]\n",
        "\n",
        " [ 92 408]]\n",
        " \n",
        " shape=(2, 2), dtype=int32)\n",
        " \n",
        "              precision    recall  f1-score   support\n",
        "\n",
        "         0.0       0.84      0.96      0.89       500\n",
        "         1.0       0.95      0.82      0.88       500\n",
        "\n",
        "    accuracy                           0.89      1000\n",
        "   macro avg       0.89      0.89      0.89      1000\n",
        "weighted avg       0.89      0.89      0.89      1000\n",
        "\n",
        "time_saved : 1644632184.1306114"
      ],
      "metadata": {
        "id": "ecyRXCTAlbxo"
      }
    },
    {
      "cell_type": "markdown",
      "source": [
        "## Bombus bimaculatus vs Bombus ternarius ##"
      ],
      "metadata": {
        "id": "M-kpJcKiNzTy"
      }
    },
    {
      "cell_type": "markdown",
      "source": [
        "[[481  19]\n",
        "\n",
        " [100 400]]\n",
        " \n",
        " shape=(2, 2), dtype=int32)\n",
        " \n",
        "              precision    recall  f1-score   support\n",
        "\n",
        "         0.0       0.83      0.96      0.89       500\n",
        "         1.0       0.95      0.80      0.87       500\n",
        "\n",
        "    accuracy                           0.88      1000\n",
        "   macro avg       0.89      0.88      0.88      1000\n",
        "weighted avg       0.89      0.88      0.88      1000\n",
        "\n",
        "time_saved : 1644654186.4827628"
      ],
      "metadata": {
        "id": "BDrXzoN-l8XP"
      }
    },
    {
      "cell_type": "markdown",
      "source": [
        "## Bombus bimaculatus vs Bombus terricola ##"
      ],
      "metadata": {
        "id": "MZSSr4i9N1r6"
      }
    },
    {
      "cell_type": "markdown",
      "source": [
        "[[463  37]\n",
        "\n",
        " [ 95 405]]\n",
        " \n",
        " shape=(2, 2), dtype=int32)\n",
        " \n",
        "              precision    recall  f1-score   support\n",
        "\n",
        "         0.0       0.83      0.93      0.88       500\n",
        "         1.0       0.92      0.81      0.86       500\n",
        "\n",
        "    accuracy                           0.87      1000\n",
        "   macro avg       0.87      0.87      0.87      1000\n",
        "weighted avg       0.87      0.87      0.87      1000\n",
        "\n",
        "time_saved : 1644660833.8366292"
      ],
      "metadata": {
        "id": "hCx52tDqmEyL"
      }
    },
    {
      "cell_type": "markdown",
      "source": [
        "## Bombus bimaculatus vs Bombus vagans ##"
      ],
      "metadata": {
        "id": "vXzpKBxkq5qU"
      }
    },
    {
      "cell_type": "markdown",
      "source": [
        "[[152 348]\n",
        "\n",
        " [ 70 430]]\n",
        " \n",
        " shape=(2, 2), dtype=int32)\n",
        " \n",
        "              precision    recall  f1-score   support\n",
        "\n",
        "         0.0       0.68      0.30      0.42       500\n",
        "         1.0       0.55      0.86      0.67       500\n",
        "\n",
        "    accuracy                           0.58      1000\n",
        "   macro avg       0.62      0.58      0.55      1000\n",
        "weighted avg       0.62      0.58      0.55      1000\n",
        "\n",
        "time_saved : 1644834083.7745576"
      ],
      "metadata": {
        "id": "bSL4YjIEJVUc"
      }
    },
    {
      "cell_type": "markdown",
      "source": [
        "## Bombus bimaculatus vs Bombus vosnesenskii ##"
      ],
      "metadata": {
        "id": "Crb3u779q7qF"
      }
    },
    {
      "cell_type": "markdown",
      "source": [
        "[[475  25]\n",
        "\n",
        " [ 92 408]]\n",
        " \n",
        " shape=(2, 2), dtype=int32)\n",
        " \n",
        "              precision    recall  f1-score   support\n",
        "\n",
        "         0.0       0.84      0.95      0.89       500\n",
        "         1.0       0.94      0.82      0.87       500\n",
        "\n",
        "    accuracy                           0.88      1000\n",
        "   macro avg       0.89      0.88      0.88      1000\n",
        "weighted avg       0.89      0.88      0.88      1000\n",
        "\n",
        "time_saved : 1644872027.4935393"
      ],
      "metadata": {
        "id": "lY2sRpElJeQA"
      }
    },
    {
      "cell_type": "markdown",
      "source": [
        "## Bombus bimaculatus vs Bombus auricomus ##"
      ],
      "metadata": {
        "id": "LEs_4xd4q9_g"
      }
    },
    {
      "cell_type": "markdown",
      "source": [
        "[[478  22]\n",
        "\n",
        " [ 71 429]]\n",
        " \n",
        " shape=(2, 2), dtype=int32)\n",
        " \n",
        "              precision    recall  f1-score   support\n",
        "\n",
        "         0.0       0.87      0.96      0.91       500\n",
        "         1.0       0.95      0.86      0.90       500\n",
        "\n",
        "    accuracy                           0.91      1000\n",
        "   macro avg       0.91      0.91      0.91      1000\n",
        "weighted avg       0.91      0.91      0.91      1000\n",
        "\n",
        "time_saved : 1644904679.3754375"
      ],
      "metadata": {
        "id": "83mDmN3JJpKr"
      }
    },
    {
      "cell_type": "markdown",
      "source": [
        "## Bombus borealis vs Bombus citrinus ##"
      ],
      "metadata": {
        "id": "n2l2cV6-rBEp"
      }
    },
    {
      "cell_type": "markdown",
      "source": [
        "[[456  44]\n",
        "\n",
        " [161 339]]\n",
        " \n",
        " shape=(2, 2), dtype=int32)\n",
        " \n",
        "              precision    recall  f1-score   support\n",
        "\n",
        "         0.0       0.74      0.91      0.82       500\n",
        "         1.0       0.89      0.68      0.77       500\n",
        "\n",
        "    accuracy                           0.80      1000\n",
        "   macro avg       0.81      0.80      0.79      1000\n",
        "weighted avg       0.81      0.80      0.79      1000\n",
        "\n",
        "time_saved : 1644936780.7230012"
      ],
      "metadata": {
        "id": "CqHp-2cnJ59n"
      }
    },
    {
      "cell_type": "markdown",
      "source": [
        "## Bombus borealis vs Bombus centralis ##"
      ],
      "metadata": {
        "id": "mMah9HeirFqP"
      }
    },
    {
      "cell_type": "markdown",
      "source": [
        "[[470  30]\n",
        "\n",
        " [169 331]]\n",
        " \n",
        " shape=(2, 2), dtype=int32)\n",
        " \n",
        "              precision    recall  f1-score   support\n",
        "\n",
        "         0.0       0.74      0.94      0.83       500\n",
        "         1.0       0.92      0.66      0.77       500\n",
        "\n",
        "    accuracy                           0.80      1000\n",
        "   macro avg       0.83      0.80      0.80      1000\n",
        "weighted avg       0.83      0.80      0.80      1000\n",
        "\n",
        "time_saved : 1645141688.5506947"
      ],
      "metadata": {
        "id": "EGZnVfyyGE1D"
      }
    },
    {
      "cell_type": "markdown",
      "source": [
        "## Bombus borealis vs Bombus flavidus ##"
      ],
      "metadata": {
        "id": "tMTXf0F1rH7w"
      }
    },
    {
      "cell_type": "markdown",
      "source": [
        "[[346  70]\n",
        "\n",
        " [141 275]]\n",
        " \n",
        " shape=(2, 2), dtype=int32)\n",
        " \n",
        "              precision    recall  f1-score   support\n",
        "\n",
        "         0.0       0.71      0.83      0.77       416\n",
        "         1.0       0.80      0.66      0.72       416\n",
        "\n",
        "    accuracy                           0.75       832\n",
        "   macro avg       0.75      0.75      0.74       832\n",
        "weighted avg       0.75      0.75      0.74       832\n",
        "\n",
        "time_saved : 1644972904.6249485"
      ],
      "metadata": {
        "id": "CqV9uZnMKKR7"
      }
    },
    {
      "cell_type": "markdown",
      "source": [
        "## Bombus borealis vs Bombus flavifrons ##"
      ],
      "metadata": {
        "id": "OF3_QjSgrKLf"
      }
    },
    {
      "cell_type": "markdown",
      "source": [
        "[[455  45]\n",
        "\n",
        " [144 356]]\n",
        " \n",
        " shape=(2, 2), dtype=int32)\n",
        " \n",
        "              precision    recall  f1-score   support\n",
        "\n",
        "         0.0       0.76      0.91      0.83       500\n",
        "         1.0       0.89      0.71      0.79       500\n",
        "\n",
        "    accuracy                           0.81      1000\n",
        "   macro avg       0.82      0.81      0.81      1000\n",
        "weighted avg       0.82      0.81      0.81      1000\n",
        "\n",
        "time_saved : 1645012268.9865863"
      ],
      "metadata": {
        "id": "6ycN8wLkKYiD"
      }
    },
    {
      "cell_type": "markdown",
      "source": [
        "## Bombus borealis vs Bombus californicus ##"
      ],
      "metadata": {
        "id": "tuXPEfwJrMn6"
      }
    },
    {
      "cell_type": "markdown",
      "source": [
        "[[281 219]\n",
        "\n",
        " [223 277]]\n",
        " \n",
        " shape=(2, 2), dtype=int32)\n",
        " \n",
        "              precision    recall  f1-score   support\n",
        "\n",
        "         0.0       0.56      0.56      0.56       500\n",
        "         1.0       0.56      0.55      0.56       500\n",
        "\n",
        "    accuracy                           0.56      1000\n",
        "   macro avg       0.56      0.56      0.56      1000\n",
        "weighted avg       0.56      0.56      0.56      1000\n",
        "\n",
        "time_saved : 1645045298.0002897"
      ],
      "metadata": {
        "id": "WKN1frUYWkGx"
      }
    },
    {
      "cell_type": "markdown",
      "source": [
        "## Bombus borealis vs Bombus griseocollis ##"
      ],
      "metadata": {
        "id": "YDOBqATlrPpZ"
      }
    },
    {
      "cell_type": "markdown",
      "source": [
        "[[425  75]\n",
        "\n",
        " [115 385]]\n",
        " \n",
        " shape=(2, 2), dtype=int32)\n",
        " \n",
        "              precision    recall  f1-score   support\n",
        "\n",
        "         0.0       0.79      0.85      0.82       500\n",
        "         1.0       0.84      0.77      0.80       500\n",
        "\n",
        "    accuracy                           0.81      1000\n",
        "   macro avg       0.81      0.81      0.81      1000\n",
        "weighted avg       0.81      0.81      0.81      1000\n",
        "\n",
        "time_saved : 1645077603.616429"
      ],
      "metadata": {
        "id": "T_CFUDRaAXz2"
      }
    },
    {
      "cell_type": "markdown",
      "source": [
        "## Bombus borealis vs Bombus impatiens ##"
      ],
      "metadata": {
        "id": "afPINVhzrS_P"
      }
    },
    {
      "cell_type": "markdown",
      "source": [
        "[[459  41]\n",
        "\n",
        " [132 368]]\n",
        " \n",
        " shape=(2, 2), dtype=int32)\n",
        " \n",
        "              precision    recall  f1-score   support\n",
        "\n",
        "         0.0       0.78      0.92      0.84       500\n",
        "         1.0       0.90      0.74      0.81       500\n",
        "\n",
        "    accuracy                           0.83      1000\n",
        "   macro avg       0.84      0.83      0.83      1000\n",
        "weighted avg       0.84      0.83      0.83      1000\n",
        "\n",
        "time_saved : 1645109939.5859332"
      ],
      "metadata": {
        "id": "TUn70rvxAvNz"
      }
    },
    {
      "cell_type": "markdown",
      "source": [
        "## Bombus borealis vs Bombus insularis ##"
      ],
      "metadata": {
        "id": "UxDGmI5NHr8d"
      }
    },
    {
      "cell_type": "markdown",
      "source": [
        "[[394 100]\n",
        "\n",
        " [205 289]]\n",
        " \n",
        " shape=(2, 2), dtype=int32)\n",
        " \n",
        "              precision    recall  f1-score   support\n",
        "\n",
        "         0.0       0.66      0.80      0.72       494\n",
        "         1.0       0.74      0.59      0.65       494\n",
        "\n",
        "    accuracy                           0.69       988\n",
        "   macro avg       0.70      0.69      0.69       988\n",
        "weighted avg       0.70      0.69      0.69       988\n",
        "\n",
        "time_saved : 1645176040.0946374"
      ],
      "metadata": {
        "id": "HeUBPRMHTgPL"
      }
    },
    {
      "cell_type": "markdown",
      "source": [
        "## Bombus borealis vs Bombus melanopygus ##"
      ],
      "metadata": {
        "id": "lwjYJUvoH1JJ"
      }
    },
    {
      "cell_type": "markdown",
      "source": [
        "[[457  43]\n",
        "\n",
        " [149 351]]\n",
        " \n",
        " shape=(2, 2), dtype=int32)\n",
        " \n",
        "              precision    recall  f1-score   support\n",
        "\n",
        "         0.0       0.75      0.91      0.83       500\n",
        "         1.0       0.89      0.70      0.79       500\n",
        "\n",
        "    accuracy                           0.81      1000\n",
        "   macro avg       0.82      0.81      0.81      1000\n",
        "weighted avg       0.82      0.81      0.81      1000\n",
        "\n",
        "time_saved : 1645419754.0028603"
      ],
      "metadata": {
        "id": "J4v-3M7YJsF6"
      }
    },
    {
      "cell_type": "markdown",
      "source": [
        "## Bombus borealis vs Bombus mixtus ##"
      ],
      "metadata": {
        "id": "BOIFaJM_H-t7"
      }
    },
    {
      "cell_type": "markdown",
      "source": [
        "[[457  43]\n",
        "\n",
        " [164 336]]\n",
        " \n",
        " shape=(2, 2), dtype=int32)\n",
        " \n",
        "              precision    recall  f1-score   support\n",
        "\n",
        "         0.0       0.74      0.91      0.82       500\n",
        "         1.0       0.89      0.67      0.76       500\n",
        "\n",
        "    accuracy                           0.79      1000\n",
        "   macro avg       0.81      0.79      0.79      1000\n",
        "weighted avg       0.81      0.79      0.79      1000\n",
        "\n",
        "time_saved : 1645209047.2339306"
      ],
      "metadata": {
        "id": "uXTBfvGnTxxU"
      }
    },
    {
      "cell_type": "markdown",
      "source": [
        "## Bombus borealis vs Bombus nevadensis ##"
      ],
      "metadata": {
        "id": "HcMuOLKLIBlZ"
      }
    },
    {
      "cell_type": "markdown",
      "source": [
        "[[123 377]\n",
        "\n",
        " [126 374]]\n",
        " \n",
        " shape=(2, 2), dtype=int32)\n",
        " \n",
        "              precision    recall  f1-score   support\n",
        "\n",
        "         0.0       0.49      0.25      0.33       500\n",
        "         1.0       0.50      0.75      0.60       500\n",
        "\n",
        "    accuracy                           0.50      1000\n",
        "   macro avg       0.50      0.50      0.46      1000\n",
        "weighted avg       0.50      0.50      0.46      1000\n",
        "\n",
        "time_saved : 1645241567.8213634"
      ],
      "metadata": {
        "id": "simqSOxLIY-6"
      }
    },
    {
      "cell_type": "markdown",
      "source": [
        "## Bombus borealis vs Bombus pensylvanicus ##"
      ],
      "metadata": {
        "id": "wa3qyGskIEK0"
      }
    },
    {
      "cell_type": "markdown",
      "source": [
        "[[ 98 402]\n",
        "\n",
        " [131 369]]\n",
        " \n",
        " shape=(2, 2), dtype=int32)\n",
        " \n",
        "              precision    recall  f1-score   support\n",
        "\n",
        "         0.0       0.43      0.20      0.27       500\n",
        "         1.0       0.48      0.74      0.58       500\n",
        "\n",
        "    accuracy                           0.47      1000\n",
        "   macro avg       0.45      0.47      0.42      1000\n",
        "weighted avg       0.45      0.47      0.42      1000\n",
        "\n",
        "time_saved : 1645420198.040396"
      ],
      "metadata": {
        "id": "5DK8EfSqJ61U"
      }
    },
    {
      "cell_type": "markdown",
      "source": [
        "## Bombus borealis vs Bombus perplexus ##"
      ],
      "metadata": {
        "id": "f7LI-x0aIIcC"
      }
    },
    {
      "cell_type": "markdown",
      "source": [
        "[[456  44]\n",
        "\n",
        " [172 328]]\n",
        " \n",
        " shape=(2, 2), dtype=int32)\n",
        " \n",
        "              precision    recall  f1-score   support\n",
        "\n",
        "         0.0       0.73      0.91      0.81       500\n",
        "         1.0       0.88      0.66      0.75       500\n",
        "\n",
        "    accuracy                           0.78      1000\n",
        "   macro avg       0.80      0.78      0.78      1000\n",
        "weighted avg       0.80      0.78      0.78      1000\n",
        "\n",
        "time_saved : 1645273918.8179774"
      ],
      "metadata": {
        "id": "5isz2NFIImIg"
      }
    },
    {
      "cell_type": "markdown",
      "source": [
        "## Bombus borealis vs Bombus rufocinctus ##"
      ],
      "metadata": {
        "id": "k37b1CKyIOZJ"
      }
    },
    {
      "cell_type": "markdown",
      "source": [
        "[[450  50]\n",
        "\n",
        " [186 314]]\n",
        " \n",
        " shape=(2, 2), dtype=int32)\n",
        " \n",
        "              precision    recall  f1-score   support\n",
        "\n",
        "         0.0       0.71      0.90      0.79       500\n",
        "         1.0       0.86      0.63      0.73       500\n",
        "\n",
        "    accuracy                           0.76      1000\n",
        "   macro avg       0.79      0.76      0.76      1000\n",
        "weighted avg       0.79      0.76      0.76      1000\n",
        "\n",
        "time_saved : 1645305823.3977807"
      ],
      "metadata": {
        "id": "PocYNACvIzUu"
      }
    },
    {
      "cell_type": "markdown",
      "source": [
        "## Bombus borealis vs Bombus huntii ##"
      ],
      "metadata": {
        "id": "8bWw4qgaIRwq"
      }
    },
    {
      "cell_type": "markdown",
      "source": [
        "[[470  30]\n",
        "\n",
        " [159 341]]\n",
        " \n",
        " shape=(2, 2), dtype=int32)\n",
        " \n",
        "              precision    recall  f1-score   support\n",
        "\n",
        "         0.0       0.75      0.94      0.83       500\n",
        "         1.0       0.92      0.68      0.78       500\n",
        "\n",
        "    accuracy                           0.81      1000\n",
        "   macro avg       0.83      0.81      0.81      1000\n",
        "weighted avg       0.83      0.81      0.81      1000\n",
        "\n",
        "time_saved : 1645337925.6753502"
      ],
      "metadata": {
        "id": "b6Mq4fJlI_lg"
      }
    },
    {
      "cell_type": "markdown",
      "source": [
        "## Bombus borealis vs Bombus ternarius ##"
      ],
      "metadata": {
        "id": "Gyui5wPMIYJ_"
      }
    },
    {
      "cell_type": "markdown",
      "source": [
        "[[461  39]\n",
        "\n",
        " [132 368]]\n",
        " \n",
        " shape=(2, 2), dtype=int32)\n",
        " \n",
        "              precision    recall  f1-score   support\n",
        "\n",
        "         0.0       0.78      0.92      0.84       500\n",
        "         1.0       0.90      0.74      0.81       500\n",
        "\n",
        "    accuracy                           0.83      1000\n",
        "   macro avg       0.84      0.83      0.83      1000\n",
        "weighted avg       0.84      0.83      0.83      1000\n",
        "\n",
        "time_saved : 1645371002.1511965"
      ],
      "metadata": {
        "id": "fhUBUJTVJedZ"
      }
    },
    {
      "cell_type": "markdown",
      "source": [
        "## Bombus borealis vs Bombus terricola ##"
      ],
      "metadata": {
        "id": "Vfm0pxeBIceR"
      }
    },
    {
      "cell_type": "markdown",
      "source": [
        "[[163 337]\n",
        "\n",
        " [164 336]]\n",
        " \n",
        " shape=(2, 2), dtype=int32)\n",
        " \n",
        "              precision    recall  f1-score   support\n",
        "\n",
        "         0.0       0.50      0.33      0.39       500\n",
        "         1.0       0.50      0.67      0.57       500\n",
        "\n",
        "    accuracy                           0.50      1000\n",
        "   macro avg       0.50      0.50      0.48      1000\n",
        "weighted avg       0.50      0.50      0.48      1000\n",
        "\n",
        "time_saved : 1645366123.2080023"
      ],
      "metadata": {
        "id": "FzaxdhK-JR5F"
      }
    },
    {
      "cell_type": "markdown",
      "source": [
        "## Bombus borealis vs Bombus vagans ##"
      ],
      "metadata": {
        "id": "4VIoTnCMLb_D"
      }
    },
    {
      "cell_type": "markdown",
      "source": [
        "[[453  47]\n",
        "\n",
        " [186 314]]\n",
        " \n",
        " shape=(2, 2), dtype=int32)\n",
        " \n",
        "              precision    recall  f1-score   support\n",
        "\n",
        "         0.0       0.71      0.91      0.80       500\n",
        "         1.0       0.87      0.63      0.73       500\n",
        "\n",
        "    accuracy                           0.77      1000\n",
        "   macro avg       0.79      0.77      0.76      1000\n",
        "weighted avg       0.79      0.77      0.76      1000\n",
        "\n",
        "time_saved : 1645793048.235762"
      ],
      "metadata": {
        "id": "0n8hlsE6o_Fr"
      }
    },
    {
      "cell_type": "markdown",
      "source": [
        "## Bombus borealis vs Bombus vosnesenskii ##"
      ],
      "metadata": {
        "id": "uHUiofhELddM"
      }
    },
    {
      "cell_type": "markdown",
      "source": [
        "[[153 347]\n",
        "\n",
        " [178 322]]\n",
        " \n",
        " shape=(2, 2), dtype=int32)\n",
        " \n",
        "              precision    recall  f1-score   support\n",
        "\n",
        "         0.0       0.46      0.31      0.37       500\n",
        "         1.0       0.48      0.64      0.55       500\n",
        "\n",
        "    accuracy                           0.48      1000\n",
        "   macro avg       0.47      0.47      0.46      1000\n",
        "weighted avg       0.47      0.47      0.46      1000\n",
        "\n",
        "time_saved : 1645669792.1422951"
      ],
      "metadata": {
        "id": "_0s_JJ0ulD9Z"
      }
    },
    {
      "cell_type": "markdown",
      "source": [
        "## Bombus borealis vs Bombus auricomus ##"
      ],
      "metadata": {
        "id": "VOoTAsUeLuqB"
      }
    },
    {
      "cell_type": "markdown",
      "source": [
        "[[107 393]\n",
        "\n",
        " [ 52 448]]\n",
        " \n",
        " shape=(2, 2), dtype=int32)\n",
        " \n",
        "              precision    recall  f1-score   support\n",
        "\n",
        "         0.0       0.67      0.21      0.32       500\n",
        "         1.0       0.53      0.90      0.67       500\n",
        "\n",
        "    accuracy                           0.56      1000\n",
        "   macro avg       0.60      0.56      0.50      1000\n",
        "weighted avg       0.60      0.56      0.50      1000\n",
        "\n",
        "time_saved : 1645694827.0002694"
      ],
      "metadata": {
        "id": "FfqfbUrMmWza"
      }
    },
    {
      "cell_type": "markdown",
      "source": [
        "## Bombus citrinus vs Bombus centralis ##"
      ],
      "metadata": {
        "id": "6ChICI8LLxnp"
      }
    },
    {
      "cell_type": "markdown",
      "source": [
        "[[456  44]\n",
        "\n",
        " [140 360]]\n",
        " \n",
        " shape=(2, 2), dtype=int32)\n",
        " \n",
        "              precision    recall  f1-score   support\n",
        "\n",
        "         0.0       0.77      0.91      0.83       500\n",
        "         1.0       0.89      0.72      0.80       500\n",
        "\n",
        "    accuracy                           0.82      1000\n",
        "   macro avg       0.83      0.82      0.81      1000\n",
        "weighted avg       0.83      0.82      0.81      1000\n",
        "\n",
        "time_saved : 1645814069.1111248"
      ],
      "metadata": {
        "id": "ozP_0nbPqGS_"
      }
    },
    {
      "cell_type": "markdown",
      "source": [
        "## Bombus citrinus vs Bombus flavidus ##"
      ],
      "metadata": {
        "id": "J4itAMHHL8-t"
      }
    },
    {
      "cell_type": "markdown",
      "source": [
        "[[330  86]\n",
        "\n",
        " [134 282]]\n",
        " \n",
        " shape=(2, 2), dtype=int32)\n",
        " \n",
        "              precision    recall  f1-score   support\n",
        "\n",
        "         0.0       0.71      0.79      0.75       416\n",
        "         1.0       0.77      0.68      0.72       416\n",
        "\n",
        "    accuracy                           0.74       832\n",
        "   macro avg       0.74      0.74      0.73       832\n",
        "weighted avg       0.74      0.74      0.73       832\n",
        "\n",
        "time_saved : 1645813810.8306105"
      ],
      "metadata": {
        "id": "vyeqd4n7pPKH"
      }
    },
    {
      "cell_type": "markdown",
      "source": [
        "## Bombus citrinus vs Bombus flavifrons ##"
      ],
      "metadata": {
        "id": "CzCbH7AlMBr1"
      }
    },
    {
      "cell_type": "markdown",
      "source": [
        "[[450  50]\n",
        "\n",
        " [189 311]]\n",
        " \n",
        " shape=(2, 2), dtype=int32)\n",
        " \n",
        "              precision    recall  f1-score   support\n",
        "\n",
        "         0.0       0.70      0.90      0.79       500\n",
        "         1.0       0.86      0.62      0.72       500\n",
        "\n",
        "    accuracy                           0.76      1000\n",
        "   macro avg       0.78      0.76      0.76      1000\n",
        "weighted avg       0.78      0.76      0.76      1000\n",
        "\n",
        "time_saved : 1645719152.2441974"
      ],
      "metadata": {
        "id": "Vlv89-NgnUaX"
      }
    },
    {
      "cell_type": "markdown",
      "source": [
        "## Bombus citrinus vs Bombus californicus ##"
      ],
      "metadata": {
        "id": "3D7IG1PXMLQt"
      }
    },
    {
      "cell_type": "markdown",
      "source": [
        "[[401  99]\n",
        "\n",
        " [182 318]]\n",
        " \n",
        " shape=(2, 2), dtype=int32)\n",
        " \n",
        "              precision    recall  f1-score   support\n",
        "\n",
        "         0.0       0.69      0.80      0.74       500\n",
        "         1.0       0.76      0.64      0.69       500\n",
        "\n",
        "    accuracy                           0.72      1000\n",
        "   macro avg       0.73      0.72      0.72      1000\n",
        "weighted avg       0.73      0.72      0.72      1000\n",
        "\n",
        "time_saved : 1645744158.7518518"
      ],
      "metadata": {
        "id": "Y4PwbqBbnwjg"
      }
    },
    {
      "cell_type": "markdown",
      "source": [
        "## Bombus citrinus vs Bombus griseocollis ##"
      ],
      "metadata": {
        "id": "03BlCD4aMO0f"
      }
    },
    {
      "cell_type": "markdown",
      "source": [
        "[[154 346]\n",
        "\n",
        " [119 381]]\n",
        " \n",
        " shape=(2, 2), dtype=int32)\n",
        " \n",
        "              precision    recall  f1-score   support\n",
        "\n",
        "         0.0       0.56      0.31      0.40       500\n",
        "         1.0       0.52      0.76      0.62       500\n",
        "\n",
        "    accuracy                           0.54      1000\n",
        "   macro avg       0.54      0.54      0.51      1000\n",
        "weighted avg       0.54      0.54      0.51      1000\n",
        "\n",
        "time_saved : 1645816652.492493"
      ],
      "metadata": {
        "id": "OkSEP_6-qgs2"
      }
    },
    {
      "cell_type": "markdown",
      "source": [
        "## Bombus citrinus vs Bombus impatiens ##"
      ],
      "metadata": {
        "id": "Gcwd-wq5MWgP"
      }
    },
    {
      "cell_type": "markdown",
      "source": [
        "[[176 324]\n",
        "\n",
        " [160 340]]\n",
        " \n",
        " shape=(2, 2), dtype=int32)\n",
        " \n",
        "              precision    recall  f1-score   support\n",
        "\n",
        "         0.0       0.52      0.35      0.42       500\n",
        "         1.0       0.51      0.68      0.58       500\n",
        "\n",
        "    accuracy                           0.52      1000\n",
        "   macro avg       0.52      0.52      0.50      1000\n",
        "weighted avg       0.52      0.52      0.50      1000\n",
        "\n",
        "time_saved : 1645829345.7134316"
      ],
      "metadata": {
        "id": "LZ31-3uMFJCt"
      }
    },
    {
      "cell_type": "markdown",
      "source": [
        "## Bombus citrinus vs Bombus insularis ##"
      ],
      "metadata": {
        "id": "7bgfpYfjMYct"
      }
    },
    {
      "cell_type": "markdown",
      "source": [
        "[[374 120]\n",
        "\n",
        " [216 278]]\n",
        " \n",
        " shape=(2, 2), dtype=int32)\n",
        " \n",
        "              precision    recall  f1-score   support\n",
        "\n",
        "         0.0       0.63      0.76      0.69       494\n",
        "         1.0       0.70      0.56      0.62       494\n",
        "\n",
        "    accuracy                           0.66       988\n",
        "   macro avg       0.67      0.66      0.66       988\n",
        "weighted avg       0.67      0.66      0.66       988\n",
        "\n",
        "time_saved : 1645768635.0592623"
      ],
      "metadata": {
        "id": "DMZqZCdXocK_"
      }
    },
    {
      "cell_type": "markdown",
      "source": [
        "## Bombus citrinus vs Bombus melanopygus ##"
      ],
      "metadata": {
        "id": "FZ53SlP-FyGu"
      }
    },
    {
      "cell_type": "markdown",
      "source": [
        "[[426  74]\n",
        "\n",
        " [217 283]]\n",
        " \n",
        " shape=(2, 2), dtype=int32)\n",
        " \n",
        "              precision    recall  f1-score   support\n",
        "\n",
        "         0.0       0.66      0.85      0.75       500\n",
        "         1.0       0.79      0.57      0.66       500\n",
        "\n",
        "    accuracy                           0.71      1000\n",
        "   macro avg       0.73      0.71      0.70      1000\n",
        "weighted avg       0.73      0.71      0.70      1000\n",
        "\n",
        "time_saved : 1645861395.9377367"
      ],
      "metadata": {
        "id": "PQ2SyvOWMTFZ"
      }
    },
    {
      "cell_type": "markdown",
      "source": [
        "## Bombus citrinus vs Bombus mixtus ##"
      ],
      "metadata": {
        "id": "ysrRBB5gF186"
      }
    },
    {
      "cell_type": "markdown",
      "source": [
        "[[443  57]\n",
        "\n",
        " [121 379]]\n",
        " \n",
        " shape=(2, 2), dtype=int32)\n",
        " \n",
        "              precision    recall  f1-score   support\n",
        "\n",
        "         0.0       0.79      0.89      0.83       500\n",
        "         1.0       0.87      0.76      0.81       500\n",
        "\n",
        "    accuracy                           0.82      1000\n",
        "   macro avg       0.83      0.82      0.82      1000\n",
        "weighted avg       0.83      0.82      0.82      1000\n",
        "\n",
        "time_saved : 1645885701.6470022"
      ],
      "metadata": {
        "id": "c23YypZdMfT4"
      }
    },
    {
      "cell_type": "markdown",
      "source": [
        "## Bombus citrinus vs Bombus nevadensis ##"
      ],
      "metadata": {
        "id": "vYhw3MkgF58o"
      }
    },
    {
      "cell_type": "markdown",
      "source": [
        "[[463  37]\n",
        "\n",
        " [124 376]]\n",
        " \n",
        " shape=(2, 2), dtype=int32)\n",
        " \n",
        "              precision    recall  f1-score   support\n",
        "\n",
        "         0.0       0.79      0.93      0.85       500\n",
        "         1.0       0.91      0.75      0.82       500\n",
        "\n",
        "    accuracy                           0.84      1000\n",
        "   macro avg       0.85      0.84      0.84      1000\n",
        "weighted avg       0.85      0.84      0.84      1000\n",
        "\n",
        "time_saved : 1645909840.1196349"
      ],
      "metadata": {
        "id": "rNPeFH7AM8jl"
      }
    },
    {
      "cell_type": "markdown",
      "source": [
        "## Bombus citrinus vs Bombus pensylvanicus ##"
      ],
      "metadata": {
        "id": "gOsAUD1rGA3J"
      }
    },
    {
      "cell_type": "markdown",
      "source": [
        "[[480  20]\n",
        "\n",
        " [ 97 403]]\n",
        " \n",
        " shape=(2, 2), dtype=int32)\n",
        " \n",
        "              precision    recall  f1-score   support\n",
        "\n",
        "         0.0       0.83      0.96      0.89       500\n",
        "         1.0       0.95      0.81      0.87       500\n",
        "\n",
        "    accuracy                           0.88      1000\n",
        "   macro avg       0.89      0.88      0.88      1000\n",
        "weighted avg       0.89      0.88      0.88      1000\n",
        "\n",
        "time_saved : 1645934423.239706"
      ],
      "metadata": {
        "id": "BNtUrkXDNVrz"
      }
    },
    {
      "cell_type": "markdown",
      "source": [
        "## Bombus citrinus vs Bombus perplexus ##"
      ],
      "metadata": {
        "id": "FZv4E1INGEcs"
      }
    },
    {
      "cell_type": "markdown",
      "source": [
        "[[166 334]\n",
        "\n",
        " [182 318]]\n",
        " \n",
        " shape=(2, 2), dtype=int32)\n",
        " \n",
        "              precision    recall  f1-score   support\n",
        "\n",
        "         0.0       0.48      0.33      0.39       500\n",
        "         1.0       0.49      0.64      0.55       500\n",
        "\n",
        "    accuracy                           0.48      1000\n",
        "   macro avg       0.48      0.48      0.47      1000\n",
        "weighted avg       0.48      0.48      0.47      1000\n",
        "\n",
        "time_saved : 1645958672.7022128"
      ],
      "metadata": {
        "id": "SaT5w_xhOCzr"
      }
    },
    {
      "cell_type": "markdown",
      "source": [
        "## Bombus citrinus vs Bombus rufocinctus ##"
      ],
      "metadata": {
        "id": "3TMTlnKGGK-J"
      }
    },
    {
      "cell_type": "markdown",
      "source": [
        "[[365 135]\n",
        "\n",
        " [246 254]]\n",
        " \n",
        " shape=(2, 2), dtype=int32)\n",
        " \n",
        "              precision    recall  f1-score   support\n",
        "\n",
        "         0.0       0.60      0.73      0.66       500\n",
        "         1.0       0.65      0.51      0.57       500\n",
        "\n",
        "    accuracy                           0.62      1000\n",
        "   macro avg       0.63      0.62      0.61      1000\n",
        "weighted avg       0.63      0.62      0.61      1000\n",
        "\n",
        "time_saved : 1645982717.7406342"
      ],
      "metadata": {
        "id": "UCmn9K_qOg96"
      }
    },
    {
      "cell_type": "markdown",
      "source": [
        "## Bombus citrinus vs Bombus huntii ##"
      ],
      "metadata": {
        "id": "Y8Mn4Pq4GN1c"
      }
    },
    {
      "cell_type": "markdown",
      "source": [
        "[[485  15]\n",
        "\n",
        " [137 363]]\n",
        " \n",
        " shape=(2, 2), dtype=int32)\n",
        " \n",
        "              precision    recall  f1-score   support\n",
        "\n",
        "         0.0       0.78      0.97      0.86       500\n",
        "         1.0       0.96      0.73      0.83       500\n",
        "\n",
        "    accuracy                           0.85      1000\n",
        "   macro avg       0.87      0.85      0.85      1000\n",
        "weighted avg       0.87      0.85      0.85      1000\n",
        "\n",
        "time_saved : 1646007816.9952285"
      ],
      "metadata": {
        "id": "_xa2eufmPE8J"
      }
    },
    {
      "cell_type": "markdown",
      "source": [
        "## Bombus citrinus vs Bombus ternarius ##"
      ],
      "metadata": {
        "id": "oe1fjbIlGUjK"
      }
    },
    {
      "cell_type": "markdown",
      "source": [
        "[[474  26]\n",
        "\n",
        " [159 341]]\n",
        " \n",
        " shape=(2, 2), dtype=int32)\n",
        " \n",
        "              precision    recall  f1-score   support\n",
        "\n",
        "         0.0       0.75      0.95      0.84       500\n",
        "         1.0       0.93      0.68      0.79       500\n",
        "\n",
        "    accuracy                           0.81      1000\n",
        "   macro avg       0.84      0.81      0.81      1000\n",
        "weighted avg       0.84      0.81      0.81      1000\n",
        "\n",
        "time_saved : 1646034572.8169098"
      ],
      "metadata": {
        "id": "644Lnyd8QBEW"
      }
    },
    {
      "cell_type": "markdown",
      "source": [
        "## Bombus citrinus vs Bombus terricola ##"
      ],
      "metadata": {
        "id": "MqCPiqGOGWpy"
      }
    },
    {
      "cell_type": "markdown",
      "source": [
        "[[473  27]\n",
        "\n",
        " [158 342]]\n",
        " \n",
        " shape=(2, 2), dtype=int32)\n",
        " \n",
        "              precision    recall  f1-score   support\n",
        "\n",
        "         0.0       0.75      0.95      0.84       500\n",
        "         1.0       0.93      0.68      0.79       500\n",
        "\n",
        "    accuracy                           0.81      1000\n",
        "   macro avg       0.84      0.81      0.81      1000\n",
        "weighted avg       0.84      0.81      0.81      1000\n",
        "\n",
        "time_saved : 1646058237.9667466"
      ],
      "metadata": {
        "id": "5Ckdv5H_Qi0O"
      }
    },
    {
      "cell_type": "markdown",
      "source": [
        "## Bombus citrinus vs Bombus vagans ##"
      ],
      "metadata": {
        "id": "wYwwuH7YGbHY"
      }
    },
    {
      "cell_type": "markdown",
      "source": [
        "[[158 342]\n",
        "\n",
        " [160 340]]\n",
        " \n",
        " hape=(2, 2), dtype=int32)\n",
        " \n",
        "              precision    recall  f1-score   support\n",
        "\n",
        "         0.0       0.50      0.32      0.39       500\n",
        "         1.0       0.50      0.68      0.58       500\n",
        "\n",
        "    accuracy                           0.50      1000\n",
        "   macro avg       0.50      0.50      0.48      1000\n",
        "weighted avg       0.50      0.50      0.48      1000\n",
        "\n",
        "time_saved : 1646082120.2857177"
      ],
      "metadata": {
        "id": "39AW0iZ7QyYI"
      }
    },
    {
      "cell_type": "markdown",
      "source": [
        "## Bombus citrinus vs Bombus vosnesenskii ##"
      ],
      "metadata": {
        "id": "gJFefEHaSPVz"
      }
    },
    {
      "cell_type": "markdown",
      "source": [
        "[[464  36]\n",
        "\n",
        " [137 363]]\n",
        " \n",
        " shape=(2, 2), dtype=int32)\n",
        " \n",
        "              precision    recall  f1-score   support\n",
        "\n",
        "         0.0       0.77      0.93      0.84       500\n",
        "         1.0       0.91      0.73      0.81       500\n",
        "\n",
        "    accuracy                           0.83      1000\n",
        "   macro avg       0.84      0.83      0.83      1000\n",
        "weighted avg       0.84      0.83      0.83      1000\n",
        "\n",
        "time_saved : 1646122977.0331311"
      ],
      "metadata": {
        "id": "akWVjInyNrNR"
      }
    },
    {
      "cell_type": "markdown",
      "source": [
        "## Bombus citrinus vs Bombus auricomus ##"
      ],
      "metadata": {
        "id": "8o1ChmzMSnB2"
      }
    },
    {
      "cell_type": "markdown",
      "source": [
        "[[481  19]\n",
        "\n",
        " [107 393]]\n",
        " \n",
        " shape=(2, 2), dtype=int32)\n",
        " \n",
        "              precision    recall  f1-score   support\n",
        "\n",
        "         0.0       0.82      0.96      0.88       500\n",
        "         1.0       0.95      0.79      0.86       500\n",
        "\n",
        "    accuracy                           0.87      1000\n",
        "   macro avg       0.89      0.87      0.87      1000\n",
        "weighted avg       0.89      0.87      0.87      1000\n",
        "\n",
        "time_saved : 1646120027.0836108"
      ],
      "metadata": {
        "id": "n1bPboPkN7Uf"
      }
    },
    {
      "cell_type": "markdown",
      "source": [
        "## Bombus centralis vs Bombus flavidus ##"
      ],
      "metadata": {
        "id": "UE1QbC01Srhf"
      }
    },
    {
      "cell_type": "markdown",
      "source": [
        "[[346  70]\n",
        "\n",
        " [163 253]]\n",
        " \n",
        " shape=(2, 2), dtype=int32)\n",
        " \n",
        "              precision    recall  f1-score   support\n",
        "\n",
        "         0.0       0.68      0.83      0.75       416\n",
        "         1.0       0.78      0.61      0.68       416\n",
        "\n",
        "    accuracy                           0.72       832\n",
        "   macro avg       0.73      0.72      0.72       832\n",
        "weighted avg       0.73      0.72      0.72       832\n",
        "\n",
        "time_saved : 1646123646.5613813"
      ],
      "metadata": {
        "id": "_CJFhpHLOUfW"
      }
    },
    {
      "cell_type": "markdown",
      "source": [
        "## Bombus centralis vs Bombus flavifrons ##"
      ],
      "metadata": {
        "id": "hKKlcT6BS_a0"
      }
    },
    {
      "cell_type": "markdown",
      "source": [
        "[[176 324]\n",
        "\n",
        " [140 360]]\n",
        " \n",
        " shape=(2, 2), dtype=int32)\n",
        " \n",
        "              precision    recall  f1-score   support\n",
        "\n",
        "         0.0       0.56      0.35      0.43       500\n",
        "         1.0       0.53      0.72      0.61       500\n",
        "\n",
        "    accuracy                           0.54      1000\n",
        "   macro avg       0.54      0.54      0.52      1000\n",
        "weighted avg       0.54      0.54      0.52      1000\n",
        "\n",
        "time_saved : 1646143573.4183931"
      ],
      "metadata": {
        "id": "HlU3-zu-OthM"
      }
    },
    {
      "cell_type": "markdown",
      "source": [
        "## Bombus centralis vs Bombus californicus ##"
      ],
      "metadata": {
        "id": "ahdvYXniTJN4"
      }
    },
    {
      "cell_type": "markdown",
      "source": [
        "[[458  42]\n",
        "\n",
        " [150 350]]\n",
        " \n",
        " shape=(2, 2), dtype=int32)\n",
        " \n",
        "              precision    recall  f1-score   support\n",
        "\n",
        "         0.0       0.75      0.92      0.83       500\n",
        "         1.0       0.89      0.70      0.78       500\n",
        "\n",
        "    accuracy                           0.81      1000\n",
        "   macro avg       0.82      0.81      0.81      1000\n",
        "weighted avg       0.82      0.81      0.81      1000\n",
        "\n",
        "time_saved : 1646150910.2859063"
      ],
      "metadata": {
        "id": "JA7AkwV2Pxn6"
      }
    },
    {
      "cell_type": "markdown",
      "source": [
        "## Bombus centralis vs Bombus griseocollis ##"
      ],
      "metadata": {
        "id": "BFg1yuT3TOSF"
      }
    },
    {
      "cell_type": "markdown",
      "source": [
        "[[482  18]\n",
        "\n",
        " [105 395]]\n",
        " \n",
        " shape=(2, 2), dtype=int32)\n",
        " \n",
        "              precision    recall  f1-score   support\n",
        "\n",
        "         0.0       0.82      0.96      0.89       500\n",
        "         1.0       0.96      0.79      0.87       500\n",
        "\n",
        "    accuracy                           0.88      1000\n",
        "   macro avg       0.89      0.88      0.88      1000\n",
        "weighted avg       0.89      0.88      0.88      1000\n",
        "\n",
        "time_saved : 1646148066.2518802"
      ],
      "metadata": {
        "id": "WEy6XTX8Qev-"
      }
    },
    {
      "cell_type": "markdown",
      "source": [
        "## Bombus centralis vs Bombus impatiens ##"
      ],
      "metadata": {
        "id": "PDdzkdb9TVYP"
      }
    },
    {
      "cell_type": "markdown",
      "source": [
        "[[475  25]\n",
        "\n",
        " [129 371]]\n",
        " \n",
        " shape=(2, 2), dtype=int32)\n",
        " \n",
        "              precision    recall  f1-score   support\n",
        "\n",
        "         0.0       0.79      0.95      0.86       500\n",
        "         1.0       0.94      0.74      0.83       500\n",
        "\n",
        "    accuracy                           0.85      1000\n",
        "   macro avg       0.86      0.85      0.84      1000\n",
        "weighted avg       0.86      0.85      0.84      1000\n",
        "\n",
        "time_saved : 1646168657.1968713"
      ],
      "metadata": {
        "id": "DXsULRo2QrmD"
      }
    },
    {
      "cell_type": "markdown",
      "source": [
        "## Bombus centralis vs Bombus insularis ##"
      ],
      "metadata": {
        "id": "_BTCNwUYTaFl"
      }
    },
    {
      "cell_type": "markdown",
      "source": [
        "[[412  82]\n",
        "\n",
        " [202 292]]\n",
        " \n",
        " shape=(2, 2), dtype=int32)\n",
        " \n",
        "              precision    recall  f1-score   support\n",
        "\n",
        "         0.0       0.67      0.83      0.74       494\n",
        "         1.0       0.78      0.59      0.67       494\n",
        "\n",
        "    accuracy                           0.71       988\n",
        "   macro avg       0.73      0.71      0.71       988\n",
        "weighted avg       0.73      0.71      0.71       988\n",
        "\n",
        "time_saved : 1646177461.9399364"
      ],
      "metadata": {
        "id": "R4AjsHzsQ_Gz"
      }
    },
    {
      "cell_type": "markdown",
      "source": [
        "## Bombus centralis vs Bombus melanopygus ##"
      ],
      "metadata": {
        "id": "-kWmokv5TdDR"
      }
    },
    {
      "cell_type": "markdown",
      "source": [
        "[[166 334]\n",
        "\n",
        " [151 349]]\n",
        " \n",
        " shape=(2, 2), dtype=int32)\n",
        " \n",
        "              precision    recall  f1-score   support\n",
        "\n",
        "         0.0       0.52      0.33      0.41       500\n",
        "         1.0       0.51      0.70      0.59       500\n",
        "\n",
        "    accuracy                           0.52      1000\n",
        "   macro avg       0.52      0.52      0.50      1000\n",
        "weighted avg       0.52      0.52      0.50      1000\n",
        "\n",
        "time_saved : 1646183449.8418753"
      ],
      "metadata": {
        "id": "x2L2rarGRHS-"
      }
    },
    {
      "cell_type": "markdown",
      "source": [
        "## Bombus centralis vs Bombus mixtus ##"
      ],
      "metadata": {
        "id": "LTpi9IKPTh2g"
      }
    },
    {
      "cell_type": "markdown",
      "source": [
        "[[217 283]\n",
        "\n",
        " [141 359]]\n",
        " \n",
        " shape=(2, 2), dtype=int32)\n",
        " \n",
        "              precision    recall  f1-score   support\n",
        "\n",
        "         0.0       0.61      0.43      0.51       500\n",
        "         1.0       0.56      0.72      0.63       500\n",
        "\n",
        "    accuracy                           0.58      1000\n",
        "   macro avg       0.58      0.58      0.57      1000\n",
        "weighted avg       0.58      0.58      0.57      1000\n",
        "\n",
        "time_saved : 1646192185.931981"
      ],
      "metadata": {
        "id": "JfxQKmC_RmS5"
      }
    },
    {
      "cell_type": "markdown",
      "source": [
        "## Bombus centralis vs Bombus nevadensis ##"
      ],
      "metadata": {
        "id": "rLeeWS6fSoUm"
      }
    },
    {
      "cell_type": "markdown",
      "source": [
        "[[490  10]\n",
        "\n",
        " [115 385]]\n",
        " \n",
        " shape=(2, 2), dtype=int32)\n",
        " \n",
        "              precision    recall  f1-score   support\n",
        "\n",
        "         0.0       0.81      0.98      0.89       500\n",
        "         1.0       0.97      0.77      0.86       500\n",
        "\n",
        "    accuracy                           0.88      1000\n",
        "   macro avg       0.89      0.88      0.87      1000\n",
        "weighted avg       0.89      0.88      0.87      1000\n",
        "\n",
        "time_saved : 1646230736.99874"
      ],
      "metadata": {
        "id": "IB031V2gapkG"
      }
    },
    {
      "cell_type": "markdown",
      "source": [
        "## Bombus centralis vs Bombus pensylvanicus ##"
      ],
      "metadata": {
        "id": "0Fri8QgNSxQD"
      }
    },
    {
      "cell_type": "markdown",
      "source": [
        "[[493   7]\n",
        "\n",
        " [137 363]]\n",
        " \n",
        " shape=(2, 2), dtype=int32)\n",
        " \n",
        "              precision    recall  f1-score   support\n",
        "\n",
        "         0.0       0.78      0.99      0.87       500\n",
        "         1.0       0.98      0.73      0.83       500\n",
        "\n",
        "    accuracy                           0.86      1000\n",
        "   macro avg       0.88      0.86      0.85      1000\n",
        "weighted avg       0.88      0.86      0.85      1000\n",
        "\n",
        "time_saved : 1646226504.7294981"
      ],
      "metadata": {
        "id": "mqieqZoPaygp"
      }
    },
    {
      "cell_type": "markdown",
      "source": [
        "## Bombus centralis vs Bombus perplexus ##"
      ],
      "metadata": {
        "id": "uXDwNn12S4pO"
      }
    },
    {
      "cell_type": "markdown",
      "source": [
        "[[460  40]\n",
        "\n",
        " [156 344]]\n",
        " \n",
        " shape=(2, 2), dtype=int32)\n",
        " \n",
        "              precision    recall  f1-score   support\n",
        "\n",
        "         0.0       0.75      0.92      0.82       500\n",
        "         1.0       0.90      0.69      0.78       500\n",
        "\n",
        "    accuracy                           0.80      1000\n",
        "   macro avg       0.82      0.80      0.80      1000\n",
        "weighted avg       0.82      0.80      0.80      1000\n",
        "\n",
        "time_saved : 1646250549.4530683"
      ],
      "metadata": {
        "id": "JA2zJkgga7Qc"
      }
    },
    {
      "cell_type": "markdown",
      "source": [
        "## Bombus centralis vs Bombus rufocinctus ##"
      ],
      "metadata": {
        "id": "VjLRixgHS6WZ"
      }
    },
    {
      "cell_type": "markdown",
      "source": [
        "[[289 211]\n",
        "\n",
        " [170 330]]\n",
        " \n",
        " shape=(2, 2), dtype=int32)\n",
        " \n",
        "              precision    recall  f1-score   support\n",
        "\n",
        "         0.0       0.63      0.58      0.60       500\n",
        "         1.0       0.61      0.66      0.63       500\n",
        "\n",
        "    accuracy                           0.62      1000\n",
        "   macro avg       0.62      0.62      0.62      1000\n",
        "weighted avg       0.62      0.62      0.62      1000\n",
        "\n",
        "time_saved : 1646258963.747429\n"
      ],
      "metadata": {
        "id": "kf0qYOz9r87B"
      }
    },
    {
      "cell_type": "markdown",
      "source": [
        "## Bombus centralis vs Bombus huntii ##"
      ],
      "metadata": {
        "id": "8UTbGPRtS8G9"
      }
    },
    {
      "cell_type": "markdown",
      "source": [
        "[[286 214]\n",
        "\n",
        " [146 354]]\n",
        " \n",
        " shape=(2, 2), dtype=int32)\n",
        " \n",
        "              precision    recall  f1-score   support\n",
        "\n",
        "         0.0       0.66      0.57      0.61       500\n",
        "         1.0       0.62      0.71      0.66       500\n",
        "\n",
        "    accuracy                           0.64      1000\n",
        "   macro avg       0.64      0.64      0.64      1000\n",
        "weighted avg       0.64      0.64      0.64      1000\n",
        "\n",
        "time_saved : 1646274647.3010848"
      ],
      "metadata": {
        "id": "84vmnfLMAhML"
      }
    },
    {
      "cell_type": "markdown",
      "source": [
        "## Bombus centralis vs Bombus ternarius ##"
      ],
      "metadata": {
        "id": "QGOAVJ0bTBwm"
      }
    },
    {
      "cell_type": "markdown",
      "source": [
        "[[246 254]\n",
        "\n",
        " [129 371]]\n",
        " \n",
        " shape=(2, 2), dtype=int32)\n",
        " \n",
        "              precision    recall  f1-score   support\n",
        "\n",
        "         0.0       0.66      0.49      0.56       500\n",
        "         1.0       0.59      0.74      0.66       500\n",
        "\n",
        "    accuracy                           0.62      1000\n",
        "   macro avg       0.62      0.62      0.61      1000\n",
        "weighted avg       0.62      0.62      0.61      1000\n",
        "\n",
        "time_saved : 1646289777.1264908"
      ],
      "metadata": {
        "id": "7wxVYlceArGR"
      }
    },
    {
      "cell_type": "markdown",
      "source": [
        "## Bombus centralis vs Bombus terricola ##"
      ],
      "metadata": {
        "id": "2kP-EemfTDrC"
      }
    },
    {
      "cell_type": "markdown",
      "source": [
        "[[477  23]\n",
        "\n",
        " [116 384]]\n",
        " \n",
        " shape=(2, 2), dtype=int32)\n",
        " \n",
        "              precision    recall  f1-score   support\n",
        "\n",
        "         0.0       0.80      0.95      0.87       500\n",
        "         1.0       0.94      0.77      0.85       500\n",
        "\n",
        "    accuracy                           0.86      1000\n",
        "   macro avg       0.87      0.86      0.86      1000\n",
        "weighted avg       0.87      0.86      0.86      1000\n",
        "\n",
        "time_saved : 1646298940.37705"
      ],
      "metadata": {
        "id": "0LvrjUltA38f"
      }
    },
    {
      "cell_type": "markdown",
      "source": [
        "## Bombus centralis vs Bombus vagans ##"
      ],
      "metadata": {
        "id": "DlPlD51kTFPU"
      }
    },
    {
      "cell_type": "markdown",
      "source": [
        "[[415  85]\n",
        "\n",
        " [149 351]]\n",
        " \n",
        " shape=(2, 2), dtype=int32)\n",
        " \n",
        "              precision    recall  f1-score   support\n",
        "\n",
        "         0.0       0.74      0.83      0.78       500\n",
        "         1.0       0.81      0.70      0.75       500\n",
        "\n",
        "    accuracy                           0.77      1000\n",
        "   macro avg       0.77      0.77      0.77      1000\n",
        "weighted avg       0.77      0.77      0.77      1000\n",
        "\n",
        "time_saved : 1646321557.064591"
      ],
      "metadata": {
        "id": "raFNxJ5LBLu7"
      }
    },
    {
      "cell_type": "markdown",
      "source": [
        "## Bombus centralis vs Bombus vosnesenskii ##"
      ],
      "metadata": {
        "id": "geoFkIlETNr2"
      }
    },
    {
      "cell_type": "markdown",
      "source": [
        "[[466  34]\n",
        "\n",
        " [ 93 407]]\n",
        " \n",
        " shape=(2, 2), dtype=int32)\n",
        " \n",
        "              precision    recall  f1-score   support\n",
        "\n",
        "         0.0       0.83      0.93      0.88       500\n",
        "         1.0       0.92      0.81      0.87       500\n",
        "\n",
        "    accuracy                           0.87      1000\n",
        "   macro avg       0.88      0.87      0.87      1000\n",
        "weighted avg       0.88      0.87      0.87      1000\n",
        "\n",
        "time_saved : 1646324136.6960614"
      ],
      "metadata": {
        "id": "8E-xZfTeBfkT"
      }
    },
    {
      "cell_type": "markdown",
      "source": [
        "## Bombus centralis vs Bombus auricomus ##"
      ],
      "metadata": {
        "id": "2DsIpZa_TQWs"
      }
    },
    {
      "cell_type": "markdown",
      "source": [
        "[[492   8]\n",
        "\n",
        " [ 68 432]]\n",
        " \n",
        " shape=(2, 2), dtype=int32)\n",
        " \n",
        "              precision    recall  f1-score   support\n",
        "\n",
        "         0.0       0.88      0.98      0.93       500\n",
        "         1.0       0.98      0.86      0.92       500\n",
        "\n",
        "    accuracy                           0.92      1000\n",
        "   macro avg       0.93      0.92      0.92      1000\n",
        "weighted avg       0.93      0.92      0.92      1000\n",
        "\n",
        "time_saved : 1646353046.4961607"
      ],
      "metadata": {
        "id": "tKH3WPdTSzWg"
      }
    },
    {
      "cell_type": "markdown",
      "source": [
        "## Bombus flavidus vs Bombus flavifrons ##"
      ],
      "metadata": {
        "id": "eJnWe7wYZEzh"
      }
    },
    {
      "cell_type": "markdown",
      "source": [
        "[[282 134]\n",
        "\n",
        " [153 263]]\n",
        " \n",
        " shape=(2, 2), dtype=int32)\n",
        " \n",
        "              precision    recall  f1-score   support\n",
        "\n",
        "         0.0       0.65      0.68      0.66       416\n",
        "         1.0       0.66      0.63      0.65       416\n",
        "\n",
        "    accuracy                           0.66       832\n",
        "   macro avg       0.66      0.66      0.65       832\n",
        "weighted avg       0.66      0.66      0.65       832\n",
        "\n",
        "time_saved : 1646388836.7911265"
      ],
      "metadata": {
        "id": "s0YCH9plltBI"
      }
    },
    {
      "cell_type": "markdown",
      "source": [
        "## Bombus flavidus vs Bombus californicus ##"
      ],
      "metadata": {
        "id": "XFwEz52lZNCk"
      }
    },
    {
      "cell_type": "markdown",
      "source": [
        "[[356  60]\n",
        "\n",
        " [179 237]]\n",
        " \n",
        " shape=(2, 2), dtype=int32)\n",
        " \n",
        "              precision    recall  f1-score   support\n",
        "\n",
        "         0.0       0.67      0.86      0.75       416\n",
        "         1.0       0.80      0.57      0.66       416\n",
        "\n",
        "    accuracy                           0.71       832\n",
        "   macro avg       0.73      0.71      0.71       832\n",
        "weighted avg       0.73      0.71      0.71       832\n",
        "\n",
        "time_saved : 1646554570.2816832"
      ],
      "metadata": {
        "id": "NbeeXGbHnKuY"
      }
    },
    {
      "cell_type": "markdown",
      "source": [
        "## Bombus flavidus vs Bombus griseocollis ##"
      ],
      "metadata": {
        "id": "5BCdTzMiZQFv"
      }
    },
    {
      "cell_type": "markdown",
      "source": [
        "[[374  42]\n",
        "\n",
        " [125 291]]\n",
        " \n",
        " shape=(2, 2), dtype=int32)\n",
        " \n",
        "              precision    recall  f1-score   support\n",
        "\n",
        "         0.0       0.75      0.90      0.82       416\n",
        "         1.0       0.87      0.70      0.78       416\n",
        "\n",
        "    accuracy                           0.80       832\n",
        "   macro avg       0.81      0.80      0.80       832\n",
        "weighted avg       0.81      0.80      0.80       832\n",
        "\n",
        "time_saved : 1646423163.891823"
      ],
      "metadata": {
        "id": "GSqALRmml2pU"
      }
    },
    {
      "cell_type": "markdown",
      "source": [
        "## Bombus flavidus vs Bombus impatiens ##"
      ],
      "metadata": {
        "id": "5vvebVywZU5I"
      }
    },
    {
      "cell_type": "markdown",
      "source": [
        "[[366  50]\n",
        "\n",
        " [121 295]]\n",
        " \n",
        " shape=(2, 2), dtype=int32)\n",
        " \n",
        "              precision    recall  f1-score   support\n",
        "\n",
        "         0.0       0.75      0.88      0.81       416\n",
        "         1.0       0.86      0.71      0.78       416\n",
        "\n",
        "    accuracy                           0.79       832\n",
        "   macro avg       0.80      0.79      0.79       832\n",
        "weighted avg       0.80      0.79      0.79       832\n",
        "\n",
        "time_saved : 1646585207.1984148"
      ],
      "metadata": {
        "id": "IZJHY7AqnVvl"
      }
    },
    {
      "cell_type": "markdown",
      "source": [
        "## Bombus flavidus vs Bombus insularis ##"
      ],
      "metadata": {
        "id": "UbzHxULYZWj0"
      }
    },
    {
      "cell_type": "markdown",
      "source": [
        "[[166 250]\n",
        "\n",
        " [183 233]]\n",
        " \n",
        " shape=(2, 2), dtype=int32)\n",
        " \n",
        "              precision    recall  f1-score   support\n",
        "\n",
        "         0.0       0.48      0.40      0.43       416\n",
        "         1.0       0.48      0.56      0.52       416\n",
        "\n",
        "    accuracy                           0.48       832\n",
        "   macro avg       0.48      0.48      0.48       832\n",
        "weighted avg       0.48      0.48      0.48       832\n",
        "\n",
        "time_saved : 1646450094.3785987"
      ],
      "metadata": {
        "id": "AyWArW3ZmIEU"
      }
    },
    {
      "cell_type": "markdown",
      "source": [
        "## Bombus flavidus vs Bombus melanopygus ##"
      ],
      "metadata": {
        "id": "HcNBRtlfZZic"
      }
    },
    {
      "cell_type": "markdown",
      "source": [
        "[[310 106]\n",
        "\n",
        " [159 257]]\n",
        " \n",
        " shape=(2, 2), dtype=int32)\n",
        " \n",
        "              precision    recall  f1-score   support\n",
        "\n",
        "         0.0       0.66      0.75      0.70       416\n",
        "         1.0       0.71      0.62      0.66       416\n",
        "\n",
        "    accuracy                           0.68       832\n",
        "   macro avg       0.68      0.68      0.68       832\n",
        "weighted avg       0.68      0.68      0.68       832\n",
        "\n",
        "time_saved : 1646457145.3452575"
      ],
      "metadata": {
        "id": "zqvjWAjkmStw"
      }
    },
    {
      "cell_type": "markdown",
      "source": [
        "## Bombus flavidus vs Bombus mixtus ##"
      ],
      "metadata": {
        "id": "71XrSamlZdSD"
      }
    },
    {
      "cell_type": "markdown",
      "source": [
        "[[228 188]\n",
        "\n",
        " [116 300]]\n",
        " \n",
        " shape=(2, 2), dtype=int32)\n",
        " \n",
        "              precision    recall  f1-score   support\n",
        "\n",
        "         0.0       0.66      0.55      0.60       416\n",
        "         1.0       0.61      0.72      0.66       416\n",
        "\n",
        "    accuracy                           0.63       832\n",
        "   macro avg       0.64      0.63      0.63       832\n",
        "weighted avg       0.64      0.63      0.63       832\n",
        "\n",
        "time_saved : 1646479153.1204252"
      ],
      "metadata": {
        "id": "DQf7bMzkmlrm"
      }
    },
    {
      "cell_type": "markdown",
      "source": [
        "## Bombus flavidus vs Bombus nevadensis ##"
      ],
      "metadata": {
        "id": "c5yLxLAWZflE"
      }
    },
    {
      "cell_type": "markdown",
      "source": [
        "[[392  24]\n",
        "\n",
        " [140 276]]\n",
        " \n",
        " shape=(2, 2), dtype=int32)\n",
        " \n",
        "              precision    recall  f1-score   support\n",
        "\n",
        "         0.0       0.74      0.94      0.83       416\n",
        "         1.0       0.92      0.66      0.77       416\n",
        "\n",
        "    accuracy                           0.80       832\n",
        "   macro avg       0.83      0.80      0.80       832\n",
        "weighted avg       0.83      0.80      0.80       832\n",
        "\n",
        "time_saved : 1646490974.107465"
      ],
      "metadata": {
        "id": "ZhyzakS7mxuT"
      }
    },
    {
      "cell_type": "markdown",
      "source": [
        "## Bombus flavidus vs Bombus pensylvanicus ##"
      ],
      "metadata": {
        "id": "nzfBzaE0Zhmc"
      }
    },
    {
      "cell_type": "markdown",
      "source": [
        "[[390  26]\n",
        "\n",
        " [ 87 329]]\n",
        " \n",
        " shape=(2, 2), dtype=int32)\n",
        " \n",
        "              precision    recall  f1-score   support\n",
        "\n",
        "         0.0       0.82      0.94      0.87       416\n",
        "         1.0       0.93      0.79      0.85       416\n",
        "\n",
        "    accuracy                           0.86       832\n",
        "   macro avg       0.87      0.86      0.86       832\n",
        "weighted avg       0.87      0.86      0.86       832\n",
        "\n",
        "time_saved : 1646617046.5052216"
      ],
      "metadata": {
        "id": "tierFofWniD5"
      }
    },
    {
      "cell_type": "markdown",
      "source": [
        "## Bombus flavidus vs Bombus perplexus ##"
      ],
      "metadata": {
        "id": "xpW3d8UIZlsq"
      }
    },
    {
      "cell_type": "markdown",
      "source": [
        "[[324  92]\n",
        "\n",
        "[154 262]]\n",
        " \n",
        "shape=(2, 2), dtype=int32)\n",
        "\n",
        "              precision    recall  f1-score   support\n",
        "\n",
        "         0.0       0.68      0.78      0.72       416\n",
        "         1.0       0.74      0.63      0.68       416\n",
        "\n",
        "    accuracy                           0.70       832\n",
        "   macro avg       0.71      0.70      0.70       832\n",
        "weighted avg       0.71      0.70      0.70       832\n",
        "\n",
        "time_saved : 1646524726.9772055"
      ],
      "metadata": {
        "id": "594K__wpm8zv"
      }
    },
    {
      "cell_type": "markdown",
      "source": [
        "## Bombus flavidus vs Bombus rufocinctus ##"
      ],
      "metadata": {
        "id": "2MKEWR6Wn0bs"
      }
    },
    {
      "cell_type": "markdown",
      "source": [
        "[[294 122]\n",
        "\n",
        " [229 187]]\n",
        " \n",
        " shape=(2, 2), dtype=int32)\n",
        " \n",
        "              precision    recall  f1-score   support\n",
        "\n",
        "         0.0       0.56      0.71      0.63       416\n",
        "         1.0       0.61      0.45      0.52       416\n",
        "\n",
        "    accuracy                           0.58       832\n",
        "   macro avg       0.58      0.58      0.57       832\n",
        "weighted avg       0.58      0.58      0.57       832\n",
        "\n",
        "time_saved : 1646659086.2708483"
      ],
      "metadata": {
        "id": "wGvpESewN3ST"
      }
    },
    {
      "cell_type": "markdown",
      "source": [
        "## Bombus flavidus vs Bombus huntii ##"
      ],
      "metadata": {
        "id": "XyI4JJGZn-fJ"
      }
    },
    {
      "cell_type": "markdown",
      "source": [
        "[[392  24]\n",
        "\n",
        " [129 287]]\n",
        " \n",
        " shape=(2, 2), dtype=int32)\n",
        " \n",
        "              precision    recall  f1-score   support\n",
        "\n",
        "         0.0       0.75      0.94      0.84       416\n",
        "         1.0       0.92      0.69      0.79       416\n",
        "\n",
        "    accuracy                           0.82       832\n",
        "   macro avg       0.84      0.82      0.81       832\n",
        "weighted avg       0.84      0.82      0.81       832\n",
        "\n",
        "time_saved : 1646825010.3336806"
      ],
      "metadata": {
        "id": "xfSH5U-DP81Y"
      }
    },
    {
      "cell_type": "markdown",
      "source": [
        "## Bombus flavidus vs Bombus ternarius ##"
      ],
      "metadata": {
        "id": "4DzcnQR6oB3n"
      }
    },
    {
      "cell_type": "markdown",
      "source": [
        "[[394  22]\n",
        "\n",
        " [151 265]]\n",
        " \n",
        " shape=(2, 2), dtype=int32)\n",
        " \n",
        "              precision    recall  f1-score   support\n",
        "\n",
        "         0.0       0.72      0.95      0.82       416\n",
        "         1.0       0.92      0.64      0.75       416\n",
        "\n",
        "    accuracy                           0.79       832\n",
        "   macro avg       0.82      0.79      0.79       832\n",
        "weighted avg       0.82      0.79      0.79       832\n",
        "\n",
        "time_saved : 1646842229.885947"
      ],
      "metadata": {
        "id": "b-HfSll1VEMu"
      }
    },
    {
      "cell_type": "markdown",
      "source": [
        "## Bombus flavidus vs Bombus terricola ##"
      ],
      "metadata": {
        "id": "nLtt1NtvoDhv"
      }
    },
    {
      "cell_type": "markdown",
      "source": [
        "[[378  38]\n",
        "\n",
        " [129 287]]\n",
        " \n",
        " shape=(2, 2), dtype=int32)\n",
        " \n",
        "              precision    recall  f1-score   support\n",
        "\n",
        "         0.0       0.75      0.91      0.82       416\n",
        "         1.0       0.88      0.69      0.77       416\n",
        "\n",
        "    accuracy                           0.80       832\n",
        "   macro avg       0.81      0.80      0.80       832\n",
        "weighted avg       0.81      0.80      0.80       832\n",
        "\n",
        "time_saved : 1646687014.3828497"
      ],
      "metadata": {
        "id": "jEW1LLw1OG3P"
      }
    },
    {
      "cell_type": "markdown",
      "source": [
        "## Bombus flavidus vs Bombus vagans ##"
      ],
      "metadata": {
        "id": "TOOR3CmDoFNR"
      }
    },
    {
      "cell_type": "markdown",
      "source": [
        "[[332  84]\n",
        "\n",
        " [186 230]]\n",
        " \n",
        " shape=(2, 2), dtype=int32)\n",
        " \n",
        "              precision    recall  f1-score   support\n",
        "\n",
        "         0.0       0.64      0.80      0.71       416\n",
        "         1.0       0.73      0.55      0.63       416\n",
        "\n",
        "    accuracy                           0.68       832\n",
        "   macro avg       0.69      0.68      0.67       832\n",
        "weighted avg       0.69      0.68      0.67       832\n",
        "\n",
        "time_saved : 1646746554.6354604"
      ],
      "metadata": {
        "id": "M4bWIw0dPFwf"
      }
    },
    {
      "cell_type": "markdown",
      "source": [
        "## Bombus flavidus vs Bombus vosnesenskii ##"
      ],
      "metadata": {
        "id": "dszODH-yoHjf"
      }
    },
    {
      "cell_type": "markdown",
      "source": [
        "[[372  44]\n",
        "\n",
        " [131 285]]\n",
        " \n",
        " shape=(2, 2), dtype=int32)\n",
        " \n",
        "              precision    recall  f1-score   support\n",
        "\n",
        "         0.0       0.74      0.89      0.81       416\n",
        "         1.0       0.87      0.69      0.77       416\n",
        "\n",
        "    accuracy                           0.79       832\n",
        "   macro avg       0.80      0.79      0.79       832\n",
        "weighted avg       0.80      0.79      0.79       832\n",
        "\n",
        "time_saved : 1646823821.8981762"
      ],
      "metadata": {
        "id": "Rf83ks-QPsgr"
      }
    },
    {
      "cell_type": "markdown",
      "source": [
        "## Bombus flavidus vs Bombus auricomus ##"
      ],
      "metadata": {
        "id": "c0qn2hYooK-f"
      }
    },
    {
      "cell_type": "markdown",
      "source": [
        "[[398  18]\n",
        "\n",
        " [ 89 327]]\n",
        " \n",
        " shape=(2, 2), dtype=int32)\n",
        " \n",
        "              precision    recall  f1-score   support\n",
        "\n",
        "         0.0       0.82      0.96      0.88       416\n",
        "         1.0       0.95      0.79      0.86       416\n",
        "\n",
        "    accuracy                           0.87       832\n",
        "   macro avg       0.88      0.87      0.87       832\n",
        "weighted avg       0.88      0.87      0.87       832\n",
        "\n",
        "time_saved : 1646808612.0339532"
      ],
      "metadata": {
        "id": "50T2S0TdPhgV"
      }
    },
    {
      "cell_type": "markdown",
      "source": [
        "## Bombus flavifrons vs Bombus californicus ##"
      ],
      "metadata": {
        "id": "EqaS2T9ZoM8I"
      }
    },
    {
      "cell_type": "markdown",
      "source": [
        "[[430  70]\n",
        "\n",
        " [254 246]]\n",
        " \n",
        " shape=(2, 2), dtype=int32)\n",
        " \n",
        "              precision    recall  f1-score   support\n",
        "\n",
        "         0.0       0.63      0.86      0.73       500\n",
        "         1.0       0.78      0.49      0.60       500\n",
        "\n",
        "    accuracy                           0.68      1000\n",
        "   macro avg       0.70      0.68      0.66      1000\n",
        "weighted avg       0.70      0.68      0.66      1000\n",
        "\n",
        "time_saved : 1646778469.3441846"
      ],
      "metadata": {
        "id": "K7oVpEMMPW-6"
      }
    },
    {
      "cell_type": "markdown",
      "source": [
        "## Bombus flavifrons vs Bombus griseocollis ##"
      ],
      "metadata": {
        "id": "_j3v1csToRhQ"
      }
    },
    {
      "cell_type": "markdown",
      "source": [
        "[[476  24]\n",
        "\n",
        " [117 383]]\n",
        " \n",
        " shape=(2, 2), dtype=int32)\n",
        " \n",
        "              precision    recall  f1-score   support\n",
        "\n",
        "         0.0       0.80      0.95      0.87       500\n",
        "         1.0       0.94      0.77      0.84       500\n",
        "\n",
        "    accuracy                           0.86      1000\n",
        "   macro avg       0.87      0.86      0.86      1000\n",
        "weighted avg       0.87      0.86      0.86      1000\n",
        "\n",
        "time_saved : 1646716731.5271611"
      ],
      "metadata": {
        "id": "_D4hsq3QOnY0"
      }
    },
    {
      "cell_type": "markdown",
      "source": [
        "## Bombus flavifrons vs Bombus impatiens ##"
      ],
      "metadata": {
        "id": "PpN_rQ1goTqD"
      }
    },
    {
      "cell_type": "markdown",
      "source": [
        "[[458  42]\n",
        "\n",
        " [168 332]]\n",
        " \n",
        " shape=(2, 2), dtype=int32)\n",
        " \n",
        "              precision    recall  f1-score   support\n",
        "\n",
        "         0.0       0.73      0.92      0.81       500\n",
        "         1.0       0.89      0.66      0.76       500\n",
        "\n",
        "    accuracy                           0.79      1000\n",
        "   macro avg       0.81      0.79      0.79      1000\n",
        "weighted avg       0.81      0.79      0.79      1000\n",
        "\n",
        "time_saved : 1646740172.1830325"
      ],
      "metadata": {
        "id": "kHo74O38O1jN"
      }
    },
    {
      "cell_type": "markdown",
      "source": [
        "## Bombus flavifrons vs Bombus insularis ##"
      ],
      "metadata": {
        "id": "M60ktt0RVLy8"
      }
    },
    {
      "cell_type": "markdown",
      "source": [
        "## Bombus flavifrons vs Bombus melanopygus ##"
      ],
      "metadata": {
        "id": "tnKa-i3SVXqm"
      }
    },
    {
      "cell_type": "markdown",
      "source": [
        "## Bombus flavifrons vs Bombus mixtus ##"
      ],
      "metadata": {
        "id": "bKJ9JTusVdnO"
      }
    },
    {
      "cell_type": "markdown",
      "source": [
        "[[286 554]\n",
        "\n",
        " [225 615]]\n",
        " \n",
        " shape=(2, 2), dtype=int32)\n",
        " \n",
        "              precision    recall  f1-score   support\n",
        "\n",
        "         0.0       0.56      0.34      0.42       840\n",
        "         1.0       0.53      0.73      0.61       840\n",
        "\n",
        "    accuracy                           0.54      1680\n",
        "   macro avg       0.54      0.54      0.52      1680\n",
        "weighted avg       0.54      0.54      0.52      1680\n",
        "\n",
        "time_saved : 1647016875.8411508"
      ],
      "metadata": {
        "id": "gpIcy-B0lfrk"
      }
    },
    {
      "cell_type": "markdown",
      "source": [
        "## Bombus flavifrons vs Bombus nevadensis ##"
      ],
      "metadata": {
        "id": "d7BAgQ-hVfJh"
      }
    },
    {
      "cell_type": "markdown",
      "source": [
        "[[277  13]\n",
        "\n",
        " [ 22 268]]\n",
        " \n",
        " shape=(2, 2), dtype=int32)\n",
        " \n",
        "              precision    recall  f1-score   support\n",
        "\n",
        "         0.0       0.93      0.96      0.94       290\n",
        "         1.0       0.95      0.92      0.94       290\n",
        "\n",
        "    accuracy                           0.94       580\n",
        "   macro avg       0.94      0.94      0.94       580\n",
        "weighted avg       0.94      0.94      0.94       580\n",
        "\n",
        "time_saved : 1647033425.552463"
      ],
      "metadata": {
        "id": "_e2LyXSBlqsb"
      }
    },
    {
      "cell_type": "markdown",
      "source": [
        "## Bombus flavifrons vs Bombus pensylvanicus ##"
      ],
      "metadata": {
        "id": "fT1rJ6-8VhB-"
      }
    },
    {
      "cell_type": "markdown",
      "source": [
        "## Bombus flavifrons vs Bombus perplexus ##"
      ],
      "metadata": {
        "id": "D9Ipk-acVl-7"
      }
    },
    {
      "cell_type": "markdown",
      "source": [
        "[[449  49]\n",
        "\n",
        " [163 335]]\n",
        " \n",
        " shape=(2, 2), dtype=int32)\n",
        " \n",
        "              precision    recall  f1-score   support\n",
        "\n",
        "         0.0       0.73      0.90      0.81       498\n",
        "         1.0       0.87      0.67      0.76       498\n",
        "\n",
        "    accuracy                           0.79       996\n",
        "   macro avg       0.80      0.79      0.78       996\n",
        "weighted avg       0.80      0.79      0.78       996\n",
        "\n",
        "time_saved : 1647067346.6031845"
      ],
      "metadata": {
        "id": "mXCJPug8l6Pd"
      }
    },
    {
      "cell_type": "markdown",
      "source": [
        "## Bombus flavifrons vs Bombus rufocinctus ##"
      ],
      "metadata": {
        "id": "k1plL1GsVn00"
      }
    }
  ]
}